{
  "cells": [
    {
      "cell_type": "code",
      "execution_count": null,
      "id": "0873c690",
      "metadata": {
        "scrolled": true,
        "id": "0873c690",
        "outputId": "fc424dfe-d5d1-4ce4-9f39-6f123edc41f4"
      },
      "outputs": [
        {
          "name": "stdout",
          "output_type": "stream",
          "text": [
            "Defaulting to user installation because normal site-packages is not writeable\n",
            "Requirement already satisfied: mlflow in c:\\users\\sys\\appdata\\roaming\\python\\python39\\site-packages (1.26.1)\n",
            "Requirement already satisfied: prometheus-flask-exporter in c:\\users\\sys\\appdata\\roaming\\python\\python39\\site-packages (from mlflow) (0.20.2)\n",
            "Requirement already satisfied: pandas in c:\\programdata\\anaconda3\\lib\\site-packages (from mlflow) (1.4.2)\n",
            "Requirement already satisfied: databricks-cli>=0.8.7 in c:\\users\\sys\\appdata\\roaming\\python\\python39\\site-packages (from mlflow) (0.16.6)\n",
            "Requirement already satisfied: pyyaml>=5.1 in c:\\programdata\\anaconda3\\lib\\site-packages (from mlflow) (6.0)\n",
            "Requirement already satisfied: requests>=2.17.3 in c:\\programdata\\anaconda3\\lib\\site-packages (from mlflow) (2.27.1)\n",
            "Requirement already satisfied: waitress in c:\\users\\sys\\appdata\\roaming\\python\\python39\\site-packages (from mlflow) (2.1.2)\n",
            "Requirement already satisfied: querystring-parser in c:\\users\\sys\\appdata\\roaming\\python\\python39\\site-packages (from mlflow) (1.2.4)\n",
            "Requirement already satisfied: entrypoints in c:\\programdata\\anaconda3\\lib\\site-packages (from mlflow) (0.4)\n",
            "Requirement already satisfied: cloudpickle in c:\\programdata\\anaconda3\\lib\\site-packages (from mlflow) (2.0.0)\n",
            "Requirement already satisfied: sqlalchemy in c:\\programdata\\anaconda3\\lib\\site-packages (from mlflow) (1.4.32)\n",
            "Requirement already satisfied: numpy in c:\\programdata\\anaconda3\\lib\\site-packages (from mlflow) (1.21.5)\n",
            "Requirement already satisfied: Flask in c:\\programdata\\anaconda3\\lib\\site-packages (from mlflow) (1.1.2)\n",
            "Requirement already satisfied: scipy in c:\\programdata\\anaconda3\\lib\\site-packages (from mlflow) (1.7.3)\n",
            "Requirement already satisfied: pytz in c:\\programdata\\anaconda3\\lib\\site-packages (from mlflow) (2021.3)\n",
            "Requirement already satisfied: alembic in c:\\users\\sys\\appdata\\roaming\\python\\python39\\site-packages (from mlflow) (1.8.0)\n",
            "Requirement already satisfied: protobuf>=3.12.0 in c:\\programdata\\anaconda3\\lib\\site-packages (from mlflow) (3.19.1)\n",
            "Requirement already satisfied: packaging in c:\\programdata\\anaconda3\\lib\\site-packages (from mlflow) (21.3)\n",
            "Requirement already satisfied: sqlparse>=0.3.1 in c:\\users\\sys\\appdata\\roaming\\python\\python39\\site-packages (from mlflow) (0.4.2)\n",
            "Requirement already satisfied: importlib-metadata!=4.7.0,>=3.7.0 in c:\\programdata\\anaconda3\\lib\\site-packages (from mlflow) (4.11.3)\n",
            "Requirement already satisfied: docker>=4.0.0 in c:\\users\\sys\\appdata\\roaming\\python\\python39\\site-packages (from mlflow) (5.0.3)\n",
            "Requirement already satisfied: gitpython>=2.1.0 in c:\\users\\sys\\appdata\\roaming\\python\\python39\\site-packages (from mlflow) (3.1.27)\n",
            "Requirement already satisfied: click>=7.0 in c:\\programdata\\anaconda3\\lib\\site-packages (from mlflow) (8.0.4)\n",
            "Requirement already satisfied: colorama in c:\\programdata\\anaconda3\\lib\\site-packages (from click>=7.0->mlflow) (0.4.4)\n",
            "Requirement already satisfied: tabulate>=0.7.7 in c:\\programdata\\anaconda3\\lib\\site-packages (from databricks-cli>=0.8.7->mlflow) (0.8.9)\n",
            "Requirement already satisfied: six>=1.10.0 in c:\\programdata\\anaconda3\\lib\\site-packages (from databricks-cli>=0.8.7->mlflow) (1.16.0)\n",
            "Requirement already satisfied: pyjwt>=1.7.0 in c:\\programdata\\anaconda3\\lib\\site-packages (from databricks-cli>=0.8.7->mlflow) (2.1.0)\n",
            "Requirement already satisfied: oauthlib>=3.1.0 in c:\\users\\sys\\appdata\\roaming\\python\\python39\\site-packages (from databricks-cli>=0.8.7->mlflow) (3.2.0)\n",
            "Requirement already satisfied: pywin32==227 in c:\\users\\sys\\appdata\\roaming\\python\\python39\\site-packages (from docker>=4.0.0->mlflow) (227)\n",
            "Requirement already satisfied: websocket-client>=0.32.0 in c:\\programdata\\anaconda3\\lib\\site-packages (from docker>=4.0.0->mlflow) (0.58.0)\n",
            "Requirement already satisfied: gitdb<5,>=4.0.1 in c:\\users\\sys\\appdata\\roaming\\python\\python39\\site-packages (from gitpython>=2.1.0->mlflow) (4.0.9)\n",
            "Requirement already satisfied: smmap<6,>=3.0.1 in c:\\users\\sys\\appdata\\roaming\\python\\python39\\site-packages (from gitdb<5,>=4.0.1->gitpython>=2.1.0->mlflow) (5.0.0)\n",
            "Requirement already satisfied: zipp>=0.5 in c:\\programdata\\anaconda3\\lib\\site-packages (from importlib-metadata!=4.7.0,>=3.7.0->mlflow) (3.7.0)\n",
            "Requirement already satisfied: charset-normalizer~=2.0.0 in c:\\programdata\\anaconda3\\lib\\site-packages (from requests>=2.17.3->mlflow) (2.0.4)\n",
            "Requirement already satisfied: urllib3<1.27,>=1.21.1 in c:\\programdata\\anaconda3\\lib\\site-packages (from requests>=2.17.3->mlflow) (1.26.9)\n",
            "Requirement already satisfied: certifi>=2017.4.17 in c:\\programdata\\anaconda3\\lib\\site-packages (from requests>=2.17.3->mlflow) (2021.10.8)\n",
            "Requirement already satisfied: idna<4,>=2.5 in c:\\programdata\\anaconda3\\lib\\site-packages (from requests>=2.17.3->mlflow) (3.3)\n",
            "Requirement already satisfied: Mako in c:\\users\\sys\\appdata\\roaming\\python\\python39\\site-packages (from alembic->mlflow) (1.2.0)\n",
            "Requirement already satisfied: greenlet!=0.4.17 in c:\\programdata\\anaconda3\\lib\\site-packages (from sqlalchemy->mlflow) (1.1.1)\n",
            "Requirement already satisfied: Werkzeug>=0.15 in c:\\programdata\\anaconda3\\lib\\site-packages (from Flask->mlflow) (2.0.3)\n",
            "Requirement already satisfied: itsdangerous>=0.24 in c:\\programdata\\anaconda3\\lib\\site-packages (from Flask->mlflow) (2.0.1)\n",
            "Requirement already satisfied: Jinja2>=2.10.1 in c:\\programdata\\anaconda3\\lib\\site-packages (from Flask->mlflow) (2.11.3)\n",
            "Requirement already satisfied: MarkupSafe>=0.23 in c:\\programdata\\anaconda3\\lib\\site-packages (from Jinja2>=2.10.1->Flask->mlflow) (2.0.1)\n",
            "Requirement already satisfied: pyparsing!=3.0.5,>=2.0.2 in c:\\programdata\\anaconda3\\lib\\site-packages (from packaging->mlflow) (3.0.4)\n",
            "Requirement already satisfied: python-dateutil>=2.8.1 in c:\\programdata\\anaconda3\\lib\\site-packages (from pandas->mlflow) (2.8.2)\n",
            "Requirement already satisfied: prometheus-client in c:\\programdata\\anaconda3\\lib\\site-packages (from prometheus-flask-exporter->mlflow) (0.13.1)\n"
          ]
        }
      ],
      "source": [
        "!pip install mlflow "
      ]
    },
    {
      "cell_type": "code",
      "execution_count": null,
      "id": "925c470d",
      "metadata": {
        "id": "925c470d"
      },
      "outputs": [],
      "source": [
        "import mlflow\n",
        "import mlflow.sklearn\n",
        "from mlflow import log_metric, log_param, log_artifacts\n"
      ]
    },
    {
      "cell_type": "code",
      "execution_count": null,
      "id": "6cfa6382",
      "metadata": {
        "id": "6cfa6382",
        "outputId": "3504e93b-df91-4652-a853-4215d5a9a5af"
      },
      "outputs": [
        {
          "name": "stderr",
          "output_type": "stream",
          "text": [
            "2022/06/12 17:02:13 INFO mlflow.tracking.fluent: Autologging successfully enabled for sklearn.\n",
            "2022/06/12 17:02:13 INFO mlflow.tracking.fluent: Autologging successfully enabled for statsmodels.\n"
          ]
        }
      ],
      "source": [
        "mlflow.autolog()"
      ]
    },
    {
      "cell_type": "markdown",
      "id": "eb227684",
      "metadata": {
        "id": "eb227684"
      },
      "source": [
        "LOADING AND PERFORMING BASIC EDA"
      ]
    },
    {
      "cell_type": "code",
      "execution_count": null,
      "id": "e43930cb",
      "metadata": {
        "scrolled": true,
        "id": "e43930cb"
      },
      "outputs": [],
      "source": [
        "import numpy as np\n",
        "import pandas as pd\n",
        "import matplotlib.pyplot as plt\n",
        "import seaborn as sns\n",
        "import sklearn\n",
        "from sklearn.preprocessing import LabelEncoder, MinMaxScaler, StandardScaler\n",
        "from sklearn.model_selection import train_test_split\n",
        "from sklearn.linear_model import LogisticRegression\n",
        "from sklearn.tree import DecisionTreeClassifier\n"
      ]
    },
    {
      "cell_type": "markdown",
      "id": "552f74d4",
      "metadata": {
        "id": "552f74d4"
      },
      "source": [
        "IMPORTING DATA"
      ]
    },
    {
      "cell_type": "code",
      "execution_count": null,
      "id": "fdc2cc47",
      "metadata": {
        "id": "fdc2cc47"
      },
      "outputs": [],
      "source": [
        "titanicdata=pd.read_csv('TitanicDataSet.csv')"
      ]
    },
    {
      "cell_type": "code",
      "execution_count": null,
      "id": "1ed77c02",
      "metadata": {
        "id": "1ed77c02",
        "outputId": "671accf3-6ba7-4469-b72d-8b97cfc35de9"
      },
      "outputs": [
        {
          "name": "stdout",
          "output_type": "stream",
          "text": [
            "<class 'pandas.core.frame.DataFrame'>\n",
            "RangeIndex: 891 entries, 0 to 890\n",
            "Data columns (total 12 columns):\n",
            " #   Column       Non-Null Count  Dtype  \n",
            "---  ------       --------------  -----  \n",
            " 0   PassengerId  891 non-null    int64  \n",
            " 1   Survived     891 non-null    int64  \n",
            " 2   Pclass       891 non-null    int64  \n",
            " 3   Name         891 non-null    object \n",
            " 4   Sex          891 non-null    object \n",
            " 5   Age          714 non-null    float64\n",
            " 6   SibSp        891 non-null    int64  \n",
            " 7   Parch        891 non-null    int64  \n",
            " 8   Ticket       891 non-null    object \n",
            " 9   Fare         891 non-null    float64\n",
            " 10  Cabin        204 non-null    object \n",
            " 11  Embarked     889 non-null    object \n",
            "dtypes: float64(2), int64(5), object(5)\n",
            "memory usage: 83.7+ KB\n"
          ]
        }
      ],
      "source": [
        "titanicdata.info()"
      ]
    },
    {
      "cell_type": "code",
      "execution_count": null,
      "id": "88036f69",
      "metadata": {
        "id": "88036f69",
        "outputId": "ed646b46-4f69-46b9-ae11-44699453ab2e"
      },
      "outputs": [
        {
          "data": {
            "text/html": [
              "<div>\n",
              "<style scoped>\n",
              "    .dataframe tbody tr th:only-of-type {\n",
              "        vertical-align: middle;\n",
              "    }\n",
              "\n",
              "    .dataframe tbody tr th {\n",
              "        vertical-align: top;\n",
              "    }\n",
              "\n",
              "    .dataframe thead th {\n",
              "        text-align: right;\n",
              "    }\n",
              "</style>\n",
              "<table border=\"1\" class=\"dataframe\">\n",
              "  <thead>\n",
              "    <tr style=\"text-align: right;\">\n",
              "      <th></th>\n",
              "      <th>PassengerId</th>\n",
              "      <th>Survived</th>\n",
              "      <th>Pclass</th>\n",
              "      <th>Name</th>\n",
              "      <th>Sex</th>\n",
              "      <th>Age</th>\n",
              "      <th>SibSp</th>\n",
              "      <th>Parch</th>\n",
              "      <th>Ticket</th>\n",
              "      <th>Fare</th>\n",
              "      <th>Cabin</th>\n",
              "      <th>Embarked</th>\n",
              "    </tr>\n",
              "  </thead>\n",
              "  <tbody>\n",
              "    <tr>\n",
              "      <th>0</th>\n",
              "      <td>1</td>\n",
              "      <td>0</td>\n",
              "      <td>3</td>\n",
              "      <td>Braund, Mr. Owen Harris</td>\n",
              "      <td>male</td>\n",
              "      <td>22.0</td>\n",
              "      <td>1</td>\n",
              "      <td>0</td>\n",
              "      <td>A/5 21171</td>\n",
              "      <td>7.2500</td>\n",
              "      <td>NaN</td>\n",
              "      <td>S</td>\n",
              "    </tr>\n",
              "    <tr>\n",
              "      <th>1</th>\n",
              "      <td>2</td>\n",
              "      <td>1</td>\n",
              "      <td>1</td>\n",
              "      <td>Cumings, Mrs. John Bradley (Florence Briggs Th...</td>\n",
              "      <td>female</td>\n",
              "      <td>38.0</td>\n",
              "      <td>1</td>\n",
              "      <td>0</td>\n",
              "      <td>PC 17599</td>\n",
              "      <td>71.2833</td>\n",
              "      <td>C85</td>\n",
              "      <td>C</td>\n",
              "    </tr>\n",
              "    <tr>\n",
              "      <th>2</th>\n",
              "      <td>3</td>\n",
              "      <td>1</td>\n",
              "      <td>3</td>\n",
              "      <td>Heikkinen, Miss. Laina</td>\n",
              "      <td>female</td>\n",
              "      <td>26.0</td>\n",
              "      <td>0</td>\n",
              "      <td>0</td>\n",
              "      <td>STON/O2. 3101282</td>\n",
              "      <td>7.9250</td>\n",
              "      <td>NaN</td>\n",
              "      <td>S</td>\n",
              "    </tr>\n",
              "    <tr>\n",
              "      <th>3</th>\n",
              "      <td>4</td>\n",
              "      <td>1</td>\n",
              "      <td>1</td>\n",
              "      <td>Futrelle, Mrs. Jacques Heath (Lily May Peel)</td>\n",
              "      <td>female</td>\n",
              "      <td>35.0</td>\n",
              "      <td>1</td>\n",
              "      <td>0</td>\n",
              "      <td>113803</td>\n",
              "      <td>53.1000</td>\n",
              "      <td>C123</td>\n",
              "      <td>S</td>\n",
              "    </tr>\n",
              "    <tr>\n",
              "      <th>4</th>\n",
              "      <td>5</td>\n",
              "      <td>0</td>\n",
              "      <td>3</td>\n",
              "      <td>Allen, Mr. William Henry</td>\n",
              "      <td>male</td>\n",
              "      <td>35.0</td>\n",
              "      <td>0</td>\n",
              "      <td>0</td>\n",
              "      <td>373450</td>\n",
              "      <td>8.0500</td>\n",
              "      <td>NaN</td>\n",
              "      <td>S</td>\n",
              "    </tr>\n",
              "  </tbody>\n",
              "</table>\n",
              "</div>"
            ],
            "text/plain": [
              "   PassengerId  Survived  Pclass  \\\n",
              "0            1         0       3   \n",
              "1            2         1       1   \n",
              "2            3         1       3   \n",
              "3            4         1       1   \n",
              "4            5         0       3   \n",
              "\n",
              "                                                Name     Sex   Age  SibSp  \\\n",
              "0                            Braund, Mr. Owen Harris    male  22.0      1   \n",
              "1  Cumings, Mrs. John Bradley (Florence Briggs Th...  female  38.0      1   \n",
              "2                             Heikkinen, Miss. Laina  female  26.0      0   \n",
              "3       Futrelle, Mrs. Jacques Heath (Lily May Peel)  female  35.0      1   \n",
              "4                           Allen, Mr. William Henry    male  35.0      0   \n",
              "\n",
              "   Parch            Ticket     Fare Cabin Embarked  \n",
              "0      0         A/5 21171   7.2500   NaN        S  \n",
              "1      0          PC 17599  71.2833   C85        C  \n",
              "2      0  STON/O2. 3101282   7.9250   NaN        S  \n",
              "3      0            113803  53.1000  C123        S  \n",
              "4      0            373450   8.0500   NaN        S  "
            ]
          },
          "execution_count": 75,
          "metadata": {},
          "output_type": "execute_result"
        }
      ],
      "source": [
        "titanicdata.head()"
      ]
    },
    {
      "cell_type": "code",
      "execution_count": null,
      "id": "c65a29ca",
      "metadata": {
        "id": "c65a29ca",
        "outputId": "39046a72-bba6-4146-c32b-89ea4d5c941d"
      },
      "outputs": [
        {
          "data": {
            "text/plain": [
              "PassengerId      0\n",
              "Survived         0\n",
              "Pclass           0\n",
              "Name             0\n",
              "Sex              0\n",
              "Age            177\n",
              "SibSp            0\n",
              "Parch            0\n",
              "Ticket           0\n",
              "Fare             0\n",
              "Cabin          687\n",
              "Embarked         2\n",
              "dtype: int64"
            ]
          },
          "execution_count": 76,
          "metadata": {},
          "output_type": "execute_result"
        }
      ],
      "source": [
        "titanicdata.isna().sum()"
      ]
    },
    {
      "cell_type": "code",
      "execution_count": null,
      "id": "e2295905",
      "metadata": {
        "id": "e2295905",
        "outputId": "754a8a8a-b27a-47ec-9d75-715e6bd58c77"
      },
      "outputs": [
        {
          "data": {
            "text/plain": [
              "PassengerId   -0.005007\n",
              "Survived       1.000000\n",
              "Pclass        -0.338481\n",
              "Age           -0.077221\n",
              "SibSp         -0.035322\n",
              "Parch          0.081629\n",
              "Fare           0.257307\n",
              "Name: Survived, dtype: float64"
            ]
          },
          "execution_count": 77,
          "metadata": {},
          "output_type": "execute_result"
        }
      ],
      "source": [
        "titanicdata.corr()['Survived']"
      ]
    },
    {
      "cell_type": "markdown",
      "id": "46e588af",
      "metadata": {
        "id": "46e588af"
      },
      "source": [
        "MORE THAN 70 % OF CABIN VALUES ARE MISSING, REDUNDANT DATA DELETED "
      ]
    },
    {
      "cell_type": "code",
      "execution_count": null,
      "id": "81ea201c",
      "metadata": {
        "id": "81ea201c"
      },
      "outputs": [],
      "source": [
        "titanic=titanicdata.drop(columns=['Cabin','PassengerId','Name','Ticket'],axis=1)"
      ]
    },
    {
      "cell_type": "code",
      "execution_count": null,
      "id": "c98372c1",
      "metadata": {
        "id": "c98372c1",
        "outputId": "7c402de9-dbdd-4d5f-89c3-8fec01284b58"
      },
      "outputs": [
        {
          "data": {
            "text/html": [
              "<div>\n",
              "<style scoped>\n",
              "    .dataframe tbody tr th:only-of-type {\n",
              "        vertical-align: middle;\n",
              "    }\n",
              "\n",
              "    .dataframe tbody tr th {\n",
              "        vertical-align: top;\n",
              "    }\n",
              "\n",
              "    .dataframe thead th {\n",
              "        text-align: right;\n",
              "    }\n",
              "</style>\n",
              "<table border=\"1\" class=\"dataframe\">\n",
              "  <thead>\n",
              "    <tr style=\"text-align: right;\">\n",
              "      <th></th>\n",
              "      <th>Survived</th>\n",
              "      <th>Pclass</th>\n",
              "      <th>Sex</th>\n",
              "      <th>Age</th>\n",
              "      <th>SibSp</th>\n",
              "      <th>Parch</th>\n",
              "      <th>Fare</th>\n",
              "      <th>Embarked</th>\n",
              "    </tr>\n",
              "  </thead>\n",
              "  <tbody>\n",
              "    <tr>\n",
              "      <th>0</th>\n",
              "      <td>0</td>\n",
              "      <td>3</td>\n",
              "      <td>male</td>\n",
              "      <td>22.0</td>\n",
              "      <td>1</td>\n",
              "      <td>0</td>\n",
              "      <td>7.2500</td>\n",
              "      <td>S</td>\n",
              "    </tr>\n",
              "    <tr>\n",
              "      <th>1</th>\n",
              "      <td>1</td>\n",
              "      <td>1</td>\n",
              "      <td>female</td>\n",
              "      <td>38.0</td>\n",
              "      <td>1</td>\n",
              "      <td>0</td>\n",
              "      <td>71.2833</td>\n",
              "      <td>C</td>\n",
              "    </tr>\n",
              "    <tr>\n",
              "      <th>2</th>\n",
              "      <td>1</td>\n",
              "      <td>3</td>\n",
              "      <td>female</td>\n",
              "      <td>26.0</td>\n",
              "      <td>0</td>\n",
              "      <td>0</td>\n",
              "      <td>7.9250</td>\n",
              "      <td>S</td>\n",
              "    </tr>\n",
              "    <tr>\n",
              "      <th>3</th>\n",
              "      <td>1</td>\n",
              "      <td>1</td>\n",
              "      <td>female</td>\n",
              "      <td>35.0</td>\n",
              "      <td>1</td>\n",
              "      <td>0</td>\n",
              "      <td>53.1000</td>\n",
              "      <td>S</td>\n",
              "    </tr>\n",
              "    <tr>\n",
              "      <th>4</th>\n",
              "      <td>0</td>\n",
              "      <td>3</td>\n",
              "      <td>male</td>\n",
              "      <td>35.0</td>\n",
              "      <td>0</td>\n",
              "      <td>0</td>\n",
              "      <td>8.0500</td>\n",
              "      <td>S</td>\n",
              "    </tr>\n",
              "  </tbody>\n",
              "</table>\n",
              "</div>"
            ],
            "text/plain": [
              "   Survived  Pclass     Sex   Age  SibSp  Parch     Fare Embarked\n",
              "0         0       3    male  22.0      1      0   7.2500        S\n",
              "1         1       1  female  38.0      1      0  71.2833        C\n",
              "2         1       3  female  26.0      0      0   7.9250        S\n",
              "3         1       1  female  35.0      1      0  53.1000        S\n",
              "4         0       3    male  35.0      0      0   8.0500        S"
            ]
          },
          "execution_count": 79,
          "metadata": {},
          "output_type": "execute_result"
        }
      ],
      "source": [
        "titanic.head()"
      ]
    },
    {
      "cell_type": "code",
      "execution_count": null,
      "id": "20b7d1da",
      "metadata": {
        "id": "20b7d1da",
        "outputId": "c8de5087-33d3-4de9-c881-083984ceb16d"
      },
      "outputs": [
        {
          "name": "stdout",
          "output_type": "stream",
          "text": [
            "<class 'pandas.core.frame.DataFrame'>\n",
            "RangeIndex: 891 entries, 0 to 890\n",
            "Data columns (total 8 columns):\n",
            " #   Column    Non-Null Count  Dtype  \n",
            "---  ------    --------------  -----  \n",
            " 0   Survived  891 non-null    int64  \n",
            " 1   Pclass    891 non-null    int64  \n",
            " 2   Sex       891 non-null    object \n",
            " 3   Age       714 non-null    float64\n",
            " 4   SibSp     891 non-null    int64  \n",
            " 5   Parch     891 non-null    int64  \n",
            " 6   Fare      891 non-null    float64\n",
            " 7   Embarked  889 non-null    object \n",
            "dtypes: float64(2), int64(4), object(2)\n",
            "memory usage: 55.8+ KB\n"
          ]
        }
      ],
      "source": [
        "titanic.info()"
      ]
    },
    {
      "cell_type": "code",
      "execution_count": null,
      "id": "210179c4",
      "metadata": {
        "id": "210179c4",
        "outputId": "9c8322d7-6335-441d-d6a1-e3233c58343d"
      },
      "outputs": [
        {
          "data": {
            "text/plain": [
              "Survived      0\n",
              "Pclass        0\n",
              "Sex           0\n",
              "Age         177\n",
              "SibSp         0\n",
              "Parch         0\n",
              "Fare          0\n",
              "Embarked      2\n",
              "dtype: int64"
            ]
          },
          "execution_count": 81,
          "metadata": {},
          "output_type": "execute_result"
        }
      ],
      "source": [
        "titanic.isna().sum()"
      ]
    },
    {
      "cell_type": "markdown",
      "id": "f7c1226a",
      "metadata": {
        "id": "f7c1226a"
      },
      "source": [
        "MODE VALUE OF EMBARKED IS REPLACED WITH MISSING VALUES"
      ]
    },
    {
      "cell_type": "code",
      "execution_count": null,
      "id": "5274bfdb",
      "metadata": {
        "id": "5274bfdb",
        "outputId": "9dab8729-eba1-4f53-cf51-84a12b6089bb"
      },
      "outputs": [
        {
          "data": {
            "text/plain": [
              "array(['S', 'C', 'Q', nan], dtype=object)"
            ]
          },
          "execution_count": 82,
          "metadata": {},
          "output_type": "execute_result"
        }
      ],
      "source": [
        "titanic['Embarked'].unique()"
      ]
    },
    {
      "cell_type": "code",
      "execution_count": null,
      "id": "a4263566",
      "metadata": {
        "id": "a4263566",
        "outputId": "0d87150f-2490-4ccc-afff-b29e4e22cd85"
      },
      "outputs": [
        {
          "data": {
            "text/plain": [
              "S    644\n",
              "C    168\n",
              "Q     77\n",
              "Name: Embarked, dtype: int64"
            ]
          },
          "execution_count": 83,
          "metadata": {},
          "output_type": "execute_result"
        }
      ],
      "source": [
        "titanic['Embarked'].value_counts()"
      ]
    },
    {
      "cell_type": "code",
      "execution_count": null,
      "id": "1df3efc0",
      "metadata": {
        "id": "1df3efc0"
      },
      "outputs": [],
      "source": [
        "titanic['Embarked'].replace(to_replace=np.nan, value='S', inplace=True)"
      ]
    },
    {
      "cell_type": "code",
      "execution_count": null,
      "id": "251c4f85",
      "metadata": {
        "id": "251c4f85",
        "outputId": "fb092098-a5c9-4dd7-b3a3-ef6eb6aae5f7"
      },
      "outputs": [
        {
          "data": {
            "text/plain": [
              "S    646\n",
              "C    168\n",
              "Q     77\n",
              "Name: Embarked, dtype: int64"
            ]
          },
          "execution_count": 85,
          "metadata": {},
          "output_type": "execute_result"
        }
      ],
      "source": [
        "titanic['Embarked'].value_counts()"
      ]
    },
    {
      "cell_type": "code",
      "execution_count": null,
      "id": "3a360a31",
      "metadata": {
        "id": "3a360a31",
        "outputId": "fe3564de-97d0-4821-8234-0a3dd23e8388"
      },
      "outputs": [
        {
          "data": {
            "text/plain": [
              "Survived      0\n",
              "Pclass        0\n",
              "Sex           0\n",
              "Age         177\n",
              "SibSp         0\n",
              "Parch         0\n",
              "Fare          0\n",
              "Embarked      0\n",
              "dtype: int64"
            ]
          },
          "execution_count": 86,
          "metadata": {},
          "output_type": "execute_result"
        }
      ],
      "source": [
        "titanic.isna().sum()"
      ]
    },
    {
      "cell_type": "code",
      "execution_count": null,
      "id": "dccc7ccb",
      "metadata": {
        "id": "dccc7ccb",
        "outputId": "37fa8ed3-902f-490b-bacd-6564a58c47e9"
      },
      "outputs": [
        {
          "name": "stdout",
          "output_type": "stream",
          "text": [
            "<class 'pandas.core.frame.DataFrame'>\n",
            "RangeIndex: 891 entries, 0 to 890\n",
            "Data columns (total 8 columns):\n",
            " #   Column    Non-Null Count  Dtype  \n",
            "---  ------    --------------  -----  \n",
            " 0   Survived  891 non-null    int64  \n",
            " 1   Pclass    891 non-null    int64  \n",
            " 2   Sex       891 non-null    object \n",
            " 3   Age       714 non-null    float64\n",
            " 4   SibSp     891 non-null    int64  \n",
            " 5   Parch     891 non-null    int64  \n",
            " 6   Fare      891 non-null    float64\n",
            " 7   Embarked  891 non-null    object \n",
            "dtypes: float64(2), int64(4), object(2)\n",
            "memory usage: 55.8+ KB\n"
          ]
        }
      ],
      "source": [
        "titanic.info()"
      ]
    },
    {
      "cell_type": "code",
      "execution_count": null,
      "id": "893cb2df",
      "metadata": {
        "id": "893cb2df",
        "outputId": "82dae4f4-3497-4c2f-f7b1-6f56d06bef0d"
      },
      "outputs": [
        {
          "data": {
            "text/plain": [
              "Index(['Survived', 'Pclass', 'Age', 'SibSp', 'Parch', 'Fare', 'Sex_female',\n",
              "       'Sex_male', 'Embarked_C', 'Embarked_Q', 'Embarked_S'],\n",
              "      dtype='object')"
            ]
          },
          "execution_count": 88,
          "metadata": {},
          "output_type": "execute_result"
        }
      ],
      "source": [
        "titanic1=pd.get_dummies(titanic)\n",
        "titanic1.columns"
      ]
    },
    {
      "cell_type": "code",
      "execution_count": null,
      "id": "52c3b4d2",
      "metadata": {
        "id": "52c3b4d2",
        "outputId": "6b3da389-413a-443e-e5b1-85d60ae3a7ec"
      },
      "outputs": [
        {
          "data": {
            "text/html": [
              "<div>\n",
              "<style scoped>\n",
              "    .dataframe tbody tr th:only-of-type {\n",
              "        vertical-align: middle;\n",
              "    }\n",
              "\n",
              "    .dataframe tbody tr th {\n",
              "        vertical-align: top;\n",
              "    }\n",
              "\n",
              "    .dataframe thead th {\n",
              "        text-align: right;\n",
              "    }\n",
              "</style>\n",
              "<table border=\"1\" class=\"dataframe\">\n",
              "  <thead>\n",
              "    <tr style=\"text-align: right;\">\n",
              "      <th></th>\n",
              "      <th>Survived</th>\n",
              "      <th>Pclass</th>\n",
              "      <th>Age</th>\n",
              "      <th>SibSp</th>\n",
              "      <th>Parch</th>\n",
              "      <th>Fare</th>\n",
              "      <th>Sex_female</th>\n",
              "      <th>Sex_male</th>\n",
              "      <th>Embarked_C</th>\n",
              "      <th>Embarked_Q</th>\n",
              "      <th>Embarked_S</th>\n",
              "    </tr>\n",
              "  </thead>\n",
              "  <tbody>\n",
              "    <tr>\n",
              "      <th>0</th>\n",
              "      <td>0</td>\n",
              "      <td>3</td>\n",
              "      <td>22.0</td>\n",
              "      <td>1</td>\n",
              "      <td>0</td>\n",
              "      <td>7.2500</td>\n",
              "      <td>0</td>\n",
              "      <td>1</td>\n",
              "      <td>0</td>\n",
              "      <td>0</td>\n",
              "      <td>1</td>\n",
              "    </tr>\n",
              "    <tr>\n",
              "      <th>1</th>\n",
              "      <td>1</td>\n",
              "      <td>1</td>\n",
              "      <td>38.0</td>\n",
              "      <td>1</td>\n",
              "      <td>0</td>\n",
              "      <td>71.2833</td>\n",
              "      <td>1</td>\n",
              "      <td>0</td>\n",
              "      <td>1</td>\n",
              "      <td>0</td>\n",
              "      <td>0</td>\n",
              "    </tr>\n",
              "    <tr>\n",
              "      <th>2</th>\n",
              "      <td>1</td>\n",
              "      <td>3</td>\n",
              "      <td>26.0</td>\n",
              "      <td>0</td>\n",
              "      <td>0</td>\n",
              "      <td>7.9250</td>\n",
              "      <td>1</td>\n",
              "      <td>0</td>\n",
              "      <td>0</td>\n",
              "      <td>0</td>\n",
              "      <td>1</td>\n",
              "    </tr>\n",
              "    <tr>\n",
              "      <th>3</th>\n",
              "      <td>1</td>\n",
              "      <td>1</td>\n",
              "      <td>35.0</td>\n",
              "      <td>1</td>\n",
              "      <td>0</td>\n",
              "      <td>53.1000</td>\n",
              "      <td>1</td>\n",
              "      <td>0</td>\n",
              "      <td>0</td>\n",
              "      <td>0</td>\n",
              "      <td>1</td>\n",
              "    </tr>\n",
              "    <tr>\n",
              "      <th>4</th>\n",
              "      <td>0</td>\n",
              "      <td>3</td>\n",
              "      <td>35.0</td>\n",
              "      <td>0</td>\n",
              "      <td>0</td>\n",
              "      <td>8.0500</td>\n",
              "      <td>0</td>\n",
              "      <td>1</td>\n",
              "      <td>0</td>\n",
              "      <td>0</td>\n",
              "      <td>1</td>\n",
              "    </tr>\n",
              "  </tbody>\n",
              "</table>\n",
              "</div>"
            ],
            "text/plain": [
              "   Survived  Pclass   Age  SibSp  Parch     Fare  Sex_female  Sex_male  \\\n",
              "0         0       3  22.0      1      0   7.2500           0         1   \n",
              "1         1       1  38.0      1      0  71.2833           1         0   \n",
              "2         1       3  26.0      0      0   7.9250           1         0   \n",
              "3         1       1  35.0      1      0  53.1000           1         0   \n",
              "4         0       3  35.0      0      0   8.0500           0         1   \n",
              "\n",
              "   Embarked_C  Embarked_Q  Embarked_S  \n",
              "0           0           0           1  \n",
              "1           1           0           0  \n",
              "2           0           0           1  \n",
              "3           0           0           1  \n",
              "4           0           0           1  "
            ]
          },
          "execution_count": 89,
          "metadata": {},
          "output_type": "execute_result"
        }
      ],
      "source": [
        "titanic1.head()"
      ]
    },
    {
      "cell_type": "code",
      "execution_count": null,
      "id": "7b3cc109",
      "metadata": {
        "id": "7b3cc109",
        "outputId": "1dc84d56-bc7b-4fdc-c360-9e664ec92e26"
      },
      "outputs": [
        {
          "name": "stdout",
          "output_type": "stream",
          "text": [
            "<class 'pandas.core.frame.DataFrame'>\n",
            "RangeIndex: 891 entries, 0 to 890\n",
            "Data columns (total 11 columns):\n",
            " #   Column      Non-Null Count  Dtype  \n",
            "---  ------      --------------  -----  \n",
            " 0   Survived    891 non-null    int64  \n",
            " 1   Pclass      891 non-null    int64  \n",
            " 2   Age         714 non-null    float64\n",
            " 3   SibSp       891 non-null    int64  \n",
            " 4   Parch       891 non-null    int64  \n",
            " 5   Fare        891 non-null    float64\n",
            " 6   Sex_female  891 non-null    uint8  \n",
            " 7   Sex_male    891 non-null    uint8  \n",
            " 8   Embarked_C  891 non-null    uint8  \n",
            " 9   Embarked_Q  891 non-null    uint8  \n",
            " 10  Embarked_S  891 non-null    uint8  \n",
            "dtypes: float64(2), int64(4), uint8(5)\n",
            "memory usage: 46.2 KB\n"
          ]
        }
      ],
      "source": [
        "titanic1.info()"
      ]
    },
    {
      "cell_type": "code",
      "execution_count": null,
      "id": "5974a460",
      "metadata": {
        "id": "5974a460"
      },
      "outputs": [],
      "source": [
        "titanic1.Age.fillna(int(titanic1['Age'].median()), inplace = True)"
      ]
    },
    {
      "cell_type": "code",
      "execution_count": null,
      "id": "4f2c0953",
      "metadata": {
        "id": "4f2c0953",
        "outputId": "5270e99b-9ce0-4f03-d7d4-3bebe4ed873d"
      },
      "outputs": [
        {
          "name": "stdout",
          "output_type": "stream",
          "text": [
            "<class 'pandas.core.frame.DataFrame'>\n",
            "RangeIndex: 891 entries, 0 to 890\n",
            "Data columns (total 11 columns):\n",
            " #   Column      Non-Null Count  Dtype  \n",
            "---  ------      --------------  -----  \n",
            " 0   Survived    891 non-null    int64  \n",
            " 1   Pclass      891 non-null    int64  \n",
            " 2   Age         891 non-null    float64\n",
            " 3   SibSp       891 non-null    int64  \n",
            " 4   Parch       891 non-null    int64  \n",
            " 5   Fare        891 non-null    float64\n",
            " 6   Sex_female  891 non-null    uint8  \n",
            " 7   Sex_male    891 non-null    uint8  \n",
            " 8   Embarked_C  891 non-null    uint8  \n",
            " 9   Embarked_Q  891 non-null    uint8  \n",
            " 10  Embarked_S  891 non-null    uint8  \n",
            "dtypes: float64(2), int64(4), uint8(5)\n",
            "memory usage: 46.2 KB\n"
          ]
        }
      ],
      "source": [
        "titanic1.info()"
      ]
    },
    {
      "cell_type": "code",
      "execution_count": null,
      "id": "25f8bd1b",
      "metadata": {
        "id": "25f8bd1b",
        "outputId": "ae9d11b7-6408-41cd-bc26-1745eba39293"
      },
      "outputs": [
        {
          "data": {
            "text/plain": [
              "Survived      1.000000\n",
              "Pclass       -0.338481\n",
              "Age          -0.064910\n",
              "SibSp        -0.035322\n",
              "Parch         0.081629\n",
              "Fare          0.257307\n",
              "Sex_female    0.543351\n",
              "Sex_male     -0.543351\n",
              "Embarked_C    0.168240\n",
              "Embarked_Q    0.003650\n",
              "Embarked_S   -0.149683\n",
              "Name: Survived, dtype: float64"
            ]
          },
          "execution_count": 93,
          "metadata": {},
          "output_type": "execute_result"
        }
      ],
      "source": [
        "titanic1.corr()['Survived']"
      ]
    },
    {
      "cell_type": "code",
      "execution_count": null,
      "id": "734c63d5",
      "metadata": {
        "id": "734c63d5",
        "outputId": "b3e006f0-3c46-4d98-9b11-213d0927fee8"
      },
      "outputs": [
        {
          "data": {
            "text/plain": [
              "<AxesSubplot:>"
            ]
          },
          "execution_count": 94,
          "metadata": {},
          "output_type": "execute_result"
        },
        {
          "data": {
            "image/png": "[encoded data removed]",
            "text/plain": [
              "<Figure size 792x792 with 2 Axes>"
            ]
          },
          "metadata": {
            "needs_background": "light"
          },
          "output_type": "display_data"
        }
      ],
      "source": [
        "fig,ax=plt.subplots(figsize=(11,11))\n",
        "sns.heatmap(titanic1.corr(),annot=True,linewidths=.5,ax=ax,cmap='Reds',vmax=1, vmin=-1)"
      ]
    },
    {
      "cell_type": "markdown",
      "id": "f4d6f747",
      "metadata": {
        "id": "f4d6f747"
      },
      "source": [
        "SPLITTING"
      ]
    },
    {
      "cell_type": "code",
      "execution_count": null,
      "id": "2967fd5e",
      "metadata": {
        "id": "2967fd5e"
      },
      "outputs": [],
      "source": [
        "titanic2=titanic1.drop(columns=['Survived'])\n",
        "X=titanic2.values\n",
        "y=titanic1['Survived'].values"
      ]
    },
    {
      "cell_type": "code",
      "execution_count": null,
      "id": "607585e7",
      "metadata": {
        "id": "607585e7"
      },
      "outputs": [],
      "source": [
        "X_train,X_test,y_train,y_test=train_test_split(X,y,test_size=0.2,random_state=9)"
      ]
    },
    {
      "cell_type": "code",
      "execution_count": null,
      "id": "5ee07b89",
      "metadata": {
        "id": "5ee07b89",
        "outputId": "fce4e9f8-6836-4043-e730-b1e6dc49b3d0"
      },
      "outputs": [
        {
          "data": {
            "text/plain": [
              "((712, 10), (179, 10))"
            ]
          },
          "execution_count": 97,
          "metadata": {},
          "output_type": "execute_result"
        }
      ],
      "source": [
        "X_train.shape,X_test.shape"
      ]
    },
    {
      "cell_type": "code",
      "execution_count": null,
      "id": "f49f69ad",
      "metadata": {
        "id": "f49f69ad"
      },
      "outputs": [],
      "source": [
        "from sklearn.preprocessing import StandardScaler\n",
        "scaler=StandardScaler()\n",
        "X_train_scale=scaler.fit_transform(X_train)\n",
        "X_test_scale=scaler.transform(X_test)"
      ]
    },
    {
      "cell_type": "code",
      "execution_count": null,
      "id": "7a4525de",
      "metadata": {
        "id": "7a4525de"
      },
      "outputs": [],
      "source": [
        "from sklearn.metrics import accuracy_score, f1_score, recall_score, precision_score, confusion_matrix\n",
        "import mlflow\n",
        "import mlflow.sklearn\n",
        "from mlflow import log_metric, log_param, log_artifacts"
      ]
    },
    {
      "cell_type": "code",
      "execution_count": null,
      "id": "2907cb53",
      "metadata": {
        "id": "2907cb53"
      },
      "outputs": [],
      "source": [
        "mlflow.set_tracking_uri(\"http://127.0.0.1:5000\")"
      ]
    },
    {
      "cell_type": "markdown",
      "id": "49b77d6a",
      "metadata": {
        "id": "49b77d6a"
      },
      "source": [
        "RANDOM FOREST CLASSIFIER WITH criterion='entropy',n_estimators = 100,max_depth=29,random_state=30"
      ]
    },
    {
      "cell_type": "code",
      "execution_count": null,
      "id": "6a0d7e4d",
      "metadata": {
        "id": "6a0d7e4d",
        "outputId": "1c772bf3-b277-4a1a-ae52-bbef78dd8b56"
      },
      "outputs": [
        {
          "name": "stderr",
          "output_type": "stream",
          "text": [
            "2022/06/12 17:17:05 INFO mlflow.tracking.fluent: Autologging successfully enabled for sklearn.\n",
            "2022/06/12 17:17:05 INFO mlflow.tracking.fluent: Autologging successfully enabled for statsmodels.\n",
            "2022/06/12 17:17:05 INFO mlflow.utils.autologging_utils: Created MLflow autologging run with ID '9c3737f6eb7b4d14b26b45dab49c31c1', which will track hyperparameters, performance metrics, model artifacts, and lineage information for the current sklearn workflow\n"
          ]
        }
      ],
      "source": [
        "from sklearn.ensemble import RandomForestClassifier\n",
        "rf=RandomForestClassifier(criterion='entropy',n_estimators = 100,max_depth=29,random_state=30)\n",
        "mlflow.set_experiment(experiment_name='HC_Titanic MLFLOW')\n",
        "mlflow.autolog()\n",
        "rf.fit(X_train_scale,y_train)\n",
        "train_accuracy=rf.score(X_train_scale,y_train)\n",
        "test_accuracy=rf.score(X_test_scale,y_test)\n"
      ]
    },
    {
      "cell_type": "code",
      "execution_count": null,
      "id": "2403eef8",
      "metadata": {
        "id": "2403eef8",
        "outputId": "c7d3623c-edd7-4b1d-de1c-3dad192b1813"
      },
      "outputs": [
        {
          "data": {
            "text/html": [
              "<div>\n",
              "<style scoped>\n",
              "    .dataframe tbody tr th:only-of-type {\n",
              "        vertical-align: middle;\n",
              "    }\n",
              "\n",
              "    .dataframe tbody tr th {\n",
              "        vertical-align: top;\n",
              "    }\n",
              "\n",
              "    .dataframe thead th {\n",
              "        text-align: right;\n",
              "    }\n",
              "</style>\n",
              "<table border=\"1\" class=\"dataframe\">\n",
              "  <thead>\n",
              "    <tr style=\"text-align: right;\">\n",
              "      <th></th>\n",
              "      <th>Actual</th>\n",
              "      <th>Predicted</th>\n",
              "    </tr>\n",
              "  </thead>\n",
              "  <tbody>\n",
              "    <tr>\n",
              "      <th>0</th>\n",
              "      <td>0</td>\n",
              "      <td>1</td>\n",
              "    </tr>\n",
              "    <tr>\n",
              "      <th>1</th>\n",
              "      <td>0</td>\n",
              "      <td>0</td>\n",
              "    </tr>\n",
              "    <tr>\n",
              "      <th>2</th>\n",
              "      <td>0</td>\n",
              "      <td>0</td>\n",
              "    </tr>\n",
              "  </tbody>\n",
              "</table>\n",
              "</div>"
            ],
            "text/plain": [
              "   Actual  Predicted\n",
              "0       0          1\n",
              "1       0          0\n",
              "2       0          0"
            ]
          },
          "execution_count": 112,
          "metadata": {},
          "output_type": "execute_result"
        }
      ],
      "source": [
        "rf_pred=rf.predict(X_test_scale)\n",
        "df=pd.DataFrame({'Actual':y_test,'Predicted':rf_pred})\n",
        "df.head(3)"
      ]
    },
    {
      "cell_type": "markdown",
      "id": "5e58f642",
      "metadata": {
        "id": "5e58f642"
      },
      "source": [
        "AFTER CHANGING HYPERPARAMETERS FOR RANDOMFOREST CLASSIFIER"
      ]
    },
    {
      "cell_type": "code",
      "execution_count": null,
      "id": "7b8d10ca",
      "metadata": {
        "id": "7b8d10ca",
        "outputId": "6ee5b73a-45be-423b-cd64-78b45f3ae97f"
      },
      "outputs": [
        {
          "name": "stderr",
          "output_type": "stream",
          "text": [
            "2022/06/12 17:18:49 INFO mlflow.tracking.fluent: Autologging successfully enabled for sklearn.\n",
            "2022/06/12 17:18:49 INFO mlflow.tracking.fluent: Autologging successfully enabled for statsmodels.\n",
            "2022/06/12 17:18:49 INFO mlflow.utils.autologging_utils: Created MLflow autologging run with ID 'dda8892a177142828ef71d5413959695', which will track hyperparameters, performance metrics, model artifacts, and lineage information for the current sklearn workflow\n"
          ]
        }
      ],
      "source": [
        "\n",
        "rf=RandomForestClassifier(criterion='gini',n_estimators = 150,max_depth=11,random_state=21)\n",
        "mlflow.set_experiment(experiment_name='HC_Titanic MLFLOW')\n",
        "mlflow.autolog()\n",
        "rf.fit(X_train_scale,y_train)\n",
        "train_accuracy=rf.score(X_train_scale,y_train)\n",
        "test_accuracy=rf.score(X_test_scale,y_test)\n"
      ]
    },
    {
      "cell_type": "markdown",
      "id": "a6a4e370",
      "metadata": {
        "id": "a6a4e370"
      },
      "source": [
        "DECISION TREE CLASSIFIER WITH criterion=\"entropy\",max_depth=10, min_samples_leaf=3"
      ]
    },
    {
      "cell_type": "code",
      "execution_count": null,
      "id": "86162f4f",
      "metadata": {
        "id": "86162f4f",
        "outputId": "8894ecf3-d712-4ac5-f222-fd91d0561713"
      },
      "outputs": [
        {
          "name": "stderr",
          "output_type": "stream",
          "text": [
            "2022/06/12 17:20:16 INFO mlflow.tracking.fluent: Autologging successfully enabled for sklearn.\n",
            "2022/06/12 17:20:16 INFO mlflow.tracking.fluent: Autologging successfully enabled for statsmodels.\n",
            "2022/06/12 17:20:17 INFO mlflow.utils.autologging_utils: Created MLflow autologging run with ID '1fdebb876cfd400992e267f422cc866e', which will track hyperparameters, performance metrics, model artifacts, and lineage information for the current sklearn workflow\n"
          ]
        }
      ],
      "source": [
        "dt=DecisionTreeClassifier(criterion=\"entropy\",max_depth=10, min_samples_leaf=3)\n",
        "mlflow.set_experiment(experiment_name='HC_Titanic MLFLOW')\n",
        "mlflow.autolog()\n",
        "dt.fit(X_train_scale,y_train)\n",
        "train_accuracy=dt.score(X_train_scale,y_train)\n",
        "test_accuracy=dt.score(X_test_scale,y_test)"
      ]
    },
    {
      "cell_type": "markdown",
      "id": "2bc98278",
      "metadata": {
        "id": "2bc98278"
      },
      "source": [
        "DECISION TREE CLASSIFIER AFTER CHANGING HYPERPARAMETERS"
      ]
    },
    {
      "cell_type": "code",
      "execution_count": null,
      "id": "ce0612d5",
      "metadata": {
        "id": "ce0612d5",
        "outputId": "0aa61d37-0a84-478c-f504-b5ef662f16fc"
      },
      "outputs": [
        {
          "name": "stderr",
          "output_type": "stream",
          "text": [
            "2022/06/12 17:21:36 INFO mlflow.tracking.fluent: Autologging successfully enabled for sklearn.\n",
            "2022/06/12 17:21:36 INFO mlflow.tracking.fluent: Autologging successfully enabled for statsmodels.\n",
            "2022/06/12 17:21:36 INFO mlflow.utils.autologging_utils: Created MLflow autologging run with ID '4b4b24fdea2f4fa1ac05c7a9108ba18f', which will track hyperparameters, performance metrics, model artifacts, and lineage information for the current sklearn workflow\n"
          ]
        }
      ],
      "source": [
        "dt=DecisionTreeClassifier(criterion=\"gini\",max_depth=15, min_samples_leaf=5)\n",
        "mlflow.set_experiment(experiment_name='HC_Titanic MLFLOW')\n",
        "mlflow.autolog()\n",
        "dt.fit(X_train_scale,y_train)\n",
        "train_accuracy=dt.score(X_train_scale,y_train)\n",
        "test_accuracy=dt.score(X_test_scale,y_test)"
      ]
    }
  ],
  "metadata": {
    "kernelspec": {
      "display_name": "Python 3 (ipykernel)",
      "language": "python",
      "name": "python3"
    },
    "language_info": {
      "codemirror_mode": {
        "name": "ipython",
        "version": 3
      },
      "file_extension": ".py",
      "mimetype": "text/x-python",
      "name": "python",
      "nbconvert_exporter": "python",
      "pygments_lexer": "ipython3",
      "version": "3.9.12"
    },
    "colab": {
      "name": "HariChandana_MLFlow1 (1).ipynb",
      "provenance": [],
      "toc_visible": true
    }
  },
  "nbformat": 4,
  "nbformat_minor": 5
}