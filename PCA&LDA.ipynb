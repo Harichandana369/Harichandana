{
  "nbformat": 4,
  "nbformat_minor": 0,
  "metadata": {
    "colab": {
      "name": "PCA&LDA.ipynb",
      "provenance": [],
      "collapsed_sections": []
    },
    "kernelspec": {
      "name": "python3",
      "display_name": "Python 3"
    },
    "language_info": {
      "name": "python"
    }
  },
  "cells": [
    {
      "cell_type": "markdown",
      "source": [
        "# **Data Loading and Exploration.**"
      ],
      "metadata": {
        "id": "D6o9Uz7eg35r"
      }
    },
    {
      "cell_type": "markdown",
      "source": [
        "**1. Import necessary libraries.**"
      ],
      "metadata": {
        "id": "73kMYf7Ug2NU"
      }
    },
    {
      "cell_type": "code",
      "execution_count": null,
      "metadata": {
        "id": "38bX-nDKV3cJ"
      },
      "outputs": [],
      "source": [
        "import pandas as pd\n",
        "import numpy as np\n",
        "from sklearn.decomposition import PCA\n",
        "import matplotlib.pyplot as plt \n",
        "import seaborn as sns\n",
        "from sklearn.model_selection import train_test_split\n",
        "from sklearn.tree import DecisionTreeClassifier\n",
        "from sklearn.ensemble import RandomForestClassifier\n",
        "from sklearn.discriminant_analysis import LinearDiscriminantAnalysis as LDA"
      ]
    },
    {
      "cell_type": "code",
      "source": [
        "sales=pd.read_csv(\"sales_data.csv\",encoding='latin1')"
      ],
      "metadata": {
        "id": "_1piuKoiYLk3"
      },
      "execution_count": null,
      "outputs": []
    },
    {
      "cell_type": "markdown",
      "source": [
        "**2. Display a sample of five rows of the data frame.**"
      ],
      "metadata": {
        "id": "MvcreKLPgtV8"
      }
    },
    {
      "cell_type": "code",
      "source": [
        "sales.head()"
      ],
      "metadata": {
        "colab": {
          "base_uri": "https://localhost:8080/",
          "height": 404
        },
        "id": "3iwX5MMfx5V3",
        "outputId": "e635713c-0317-4056-f463-5e98f19b6c69"
      },
      "execution_count": null,
      "outputs": [
        {
          "output_type": "execute_result",
          "data": {
            "text/plain": [
              "   ORDERNUMBER  QUANTITYORDERED  PRICEEACH  ORDERLINENUMBER    SALES  \\\n",
              "0        10107               30      95.70                2  2871.00   \n",
              "1        10121               34      81.35                5  2765.90   \n",
              "2        10134               41      94.74                2  3884.34   \n",
              "3        10145               45      83.26                6  3746.70   \n",
              "4        10159               49     100.00               14  5205.27   \n",
              "\n",
              "         ORDERDATE   STATUS  QTR_ID  MONTH_ID  YEAR_ID  ...  \\\n",
              "0   2/24/2003 0:00  Shipped       1         2     2003  ...   \n",
              "1    5/7/2003 0:00  Shipped       2         5     2003  ...   \n",
              "2    7/1/2003 0:00  Shipped       3         7     2003  ...   \n",
              "3   8/25/2003 0:00  Shipped       3         8     2003  ...   \n",
              "4  10/10/2003 0:00  Shipped       4        10     2003  ...   \n",
              "\n",
              "                    ADDRESSLINE1  ADDRESSLINE2           CITY STATE  \\\n",
              "0        897 Long Airport Avenue           NaN            NYC    NY   \n",
              "1             59 rue de l'Abbaye           NaN          Reims   NaN   \n",
              "2  27 rue du Colonel Pierre Avia           NaN          Paris   NaN   \n",
              "3             78934 Hillside Dr.           NaN       Pasadena    CA   \n",
              "4                7734 Strong St.           NaN  San Francisco    CA   \n",
              "\n",
              "  POSTALCODE COUNTRY TERRITORY CONTACTLASTNAME CONTACTFIRSTNAME DEALSIZE  \n",
              "0      10022     USA       NaN              Yu             Kwai    Small  \n",
              "1      51100  France      EMEA         Henriot             Paul    Small  \n",
              "2      75508  France      EMEA        Da Cunha           Daniel   Medium  \n",
              "3      90003     USA       NaN           Young            Julie   Medium  \n",
              "4        NaN     USA       NaN           Brown            Julie   Medium  \n",
              "\n",
              "[5 rows x 25 columns]"
            ],
            "text/html": [
              "\n",
              "  <div id=\"df-a074f9d8-7727-4856-bc63-043b8291977d\">\n",
              "    <div class=\"colab-df-container\">\n",
              "      <div>\n",
              "<style scoped>\n",
              "    .dataframe tbody tr th:only-of-type {\n",
              "        vertical-align: middle;\n",
              "    }\n",
              "\n",
              "    .dataframe tbody tr th {\n",
              "        vertical-align: top;\n",
              "    }\n",
              "\n",
              "    .dataframe thead th {\n",
              "        text-align: right;\n",
              "    }\n",
              "</style>\n",
              "<table border=\"1\" class=\"dataframe\">\n",
              "  <thead>\n",
              "    <tr style=\"text-align: right;\">\n",
              "      <th></th>\n",
              "      <th>ORDERNUMBER</th>\n",
              "      <th>QUANTITYORDERED</th>\n",
              "      <th>PRICEEACH</th>\n",
              "      <th>ORDERLINENUMBER</th>\n",
              "      <th>SALES</th>\n",
              "      <th>ORDERDATE</th>\n",
              "      <th>STATUS</th>\n",
              "      <th>QTR_ID</th>\n",
              "      <th>MONTH_ID</th>\n",
              "      <th>YEAR_ID</th>\n",
              "      <th>...</th>\n",
              "      <th>ADDRESSLINE1</th>\n",
              "      <th>ADDRESSLINE2</th>\n",
              "      <th>CITY</th>\n",
              "      <th>STATE</th>\n",
              "      <th>POSTALCODE</th>\n",
              "      <th>COUNTRY</th>\n",
              "      <th>TERRITORY</th>\n",
              "      <th>CONTACTLASTNAME</th>\n",
              "      <th>CONTACTFIRSTNAME</th>\n",
              "      <th>DEALSIZE</th>\n",
              "    </tr>\n",
              "  </thead>\n",
              "  <tbody>\n",
              "    <tr>\n",
              "      <th>0</th>\n",
              "      <td>10107</td>\n",
              "      <td>30</td>\n",
              "      <td>95.70</td>\n",
              "      <td>2</td>\n",
              "      <td>2871.00</td>\n",
              "      <td>2/24/2003 0:00</td>\n",
              "      <td>Shipped</td>\n",
              "      <td>1</td>\n",
              "      <td>2</td>\n",
              "      <td>2003</td>\n",
              "      <td>...</td>\n",
              "      <td>897 Long Airport Avenue</td>\n",
              "      <td>NaN</td>\n",
              "      <td>NYC</td>\n",
              "      <td>NY</td>\n",
              "      <td>10022</td>\n",
              "      <td>USA</td>\n",
              "      <td>NaN</td>\n",
              "      <td>Yu</td>\n",
              "      <td>Kwai</td>\n",
              "      <td>Small</td>\n",
              "    </tr>\n",
              "    <tr>\n",
              "      <th>1</th>\n",
              "      <td>10121</td>\n",
              "      <td>34</td>\n",
              "      <td>81.35</td>\n",
              "      <td>5</td>\n",
              "      <td>2765.90</td>\n",
              "      <td>5/7/2003 0:00</td>\n",
              "      <td>Shipped</td>\n",
              "      <td>2</td>\n",
              "      <td>5</td>\n",
              "      <td>2003</td>\n",
              "      <td>...</td>\n",
              "      <td>59 rue de l'Abbaye</td>\n",
              "      <td>NaN</td>\n",
              "      <td>Reims</td>\n",
              "      <td>NaN</td>\n",
              "      <td>51100</td>\n",
              "      <td>France</td>\n",
              "      <td>EMEA</td>\n",
              "      <td>Henriot</td>\n",
              "      <td>Paul</td>\n",
              "      <td>Small</td>\n",
              "    </tr>\n",
              "    <tr>\n",
              "      <th>2</th>\n",
              "      <td>10134</td>\n",
              "      <td>41</td>\n",
              "      <td>94.74</td>\n",
              "      <td>2</td>\n",
              "      <td>3884.34</td>\n",
              "      <td>7/1/2003 0:00</td>\n",
              "      <td>Shipped</td>\n",
              "      <td>3</td>\n",
              "      <td>7</td>\n",
              "      <td>2003</td>\n",
              "      <td>...</td>\n",
              "      <td>27 rue du Colonel Pierre Avia</td>\n",
              "      <td>NaN</td>\n",
              "      <td>Paris</td>\n",
              "      <td>NaN</td>\n",
              "      <td>75508</td>\n",
              "      <td>France</td>\n",
              "      <td>EMEA</td>\n",
              "      <td>Da Cunha</td>\n",
              "      <td>Daniel</td>\n",
              "      <td>Medium</td>\n",
              "    </tr>\n",
              "    <tr>\n",
              "      <th>3</th>\n",
              "      <td>10145</td>\n",
              "      <td>45</td>\n",
              "      <td>83.26</td>\n",
              "      <td>6</td>\n",
              "      <td>3746.70</td>\n",
              "      <td>8/25/2003 0:00</td>\n",
              "      <td>Shipped</td>\n",
              "      <td>3</td>\n",
              "      <td>8</td>\n",
              "      <td>2003</td>\n",
              "      <td>...</td>\n",
              "      <td>78934 Hillside Dr.</td>\n",
              "      <td>NaN</td>\n",
              "      <td>Pasadena</td>\n",
              "      <td>CA</td>\n",
              "      <td>90003</td>\n",
              "      <td>USA</td>\n",
              "      <td>NaN</td>\n",
              "      <td>Young</td>\n",
              "      <td>Julie</td>\n",
              "      <td>Medium</td>\n",
              "    </tr>\n",
              "    <tr>\n",
              "      <th>4</th>\n",
              "      <td>10159</td>\n",
              "      <td>49</td>\n",
              "      <td>100.00</td>\n",
              "      <td>14</td>\n",
              "      <td>5205.27</td>\n",
              "      <td>10/10/2003 0:00</td>\n",
              "      <td>Shipped</td>\n",
              "      <td>4</td>\n",
              "      <td>10</td>\n",
              "      <td>2003</td>\n",
              "      <td>...</td>\n",
              "      <td>7734 Strong St.</td>\n",
              "      <td>NaN</td>\n",
              "      <td>San Francisco</td>\n",
              "      <td>CA</td>\n",
              "      <td>NaN</td>\n",
              "      <td>USA</td>\n",
              "      <td>NaN</td>\n",
              "      <td>Brown</td>\n",
              "      <td>Julie</td>\n",
              "      <td>Medium</td>\n",
              "    </tr>\n",
              "  </tbody>\n",
              "</table>\n",
              "<p>5 rows × 25 columns</p>\n",
              "</div>\n",
              "      <button class=\"colab-df-convert\" onclick=\"convertToInteractive('df-a074f9d8-7727-4856-bc63-043b8291977d')\"\n",
              "              title=\"Convert this dataframe to an interactive table.\"\n",
              "              style=\"display:none;\">\n",
              "        \n",
              "  <svg xmlns=\"http://www.w3.org/2000/svg\" height=\"24px\"viewBox=\"0 0 24 24\"\n",
              "       width=\"24px\">\n",
              "    <path d=\"M0 0h24v24H0V0z\" fill=\"none\"/>\n",
              "    <path d=\"M18.56 5.44l.94 2.06.94-2.06 2.06-.94-2.06-.94-.94-2.06-.94 2.06-2.06.94zm-11 1L8.5 8.5l.94-2.06 2.06-.94-2.06-.94L8.5 2.5l-.94 2.06-2.06.94zm10 10l.94 2.06.94-2.06 2.06-.94-2.06-.94-.94-2.06-.94 2.06-2.06.94z\"/><path d=\"M17.41 7.96l-1.37-1.37c-.4-.4-.92-.59-1.43-.59-.52 0-1.04.2-1.43.59L10.3 9.45l-7.72 7.72c-.78.78-.78 2.05 0 2.83L4 21.41c.39.39.9.59 1.41.59.51 0 1.02-.2 1.41-.59l7.78-7.78 2.81-2.81c.8-.78.8-2.07 0-2.86zM5.41 20L4 18.59l7.72-7.72 1.47 1.35L5.41 20z\"/>\n",
              "  </svg>\n",
              "      </button>\n",
              "      \n",
              "  <style>\n",
              "    .colab-df-container {\n",
              "      display:flex;\n",
              "      flex-wrap:wrap;\n",
              "      gap: 12px;\n",
              "    }\n",
              "\n",
              "    .colab-df-convert {\n",
              "      background-color: #E8F0FE;\n",
              "      border: none;\n",
              "      border-radius: 50%;\n",
              "      cursor: pointer;\n",
              "      display: none;\n",
              "      fill: #1967D2;\n",
              "      height: 32px;\n",
              "      padding: 0 0 0 0;\n",
              "      width: 32px;\n",
              "    }\n",
              "\n",
              "    .colab-df-convert:hover {\n",
              "      background-color: #E2EBFA;\n",
              "      box-shadow: 0px 1px 2px rgba(60, 64, 67, 0.3), 0px 1px 3px 1px rgba(60, 64, 67, 0.15);\n",
              "      fill: #174EA6;\n",
              "    }\n",
              "\n",
              "    [theme=dark] .colab-df-convert {\n",
              "      background-color: #3B4455;\n",
              "      fill: #D2E3FC;\n",
              "    }\n",
              "\n",
              "    [theme=dark] .colab-df-convert:hover {\n",
              "      background-color: #434B5C;\n",
              "      box-shadow: 0px 1px 3px 1px rgba(0, 0, 0, 0.15);\n",
              "      filter: drop-shadow(0px 1px 2px rgba(0, 0, 0, 0.3));\n",
              "      fill: #FFFFFF;\n",
              "    }\n",
              "  </style>\n",
              "\n",
              "      <script>\n",
              "        const buttonEl =\n",
              "          document.querySelector('#df-a074f9d8-7727-4856-bc63-043b8291977d button.colab-df-convert');\n",
              "        buttonEl.style.display =\n",
              "          google.colab.kernel.accessAllowed ? 'block' : 'none';\n",
              "\n",
              "        async function convertToInteractive(key) {\n",
              "          const element = document.querySelector('#df-a074f9d8-7727-4856-bc63-043b8291977d');\n",
              "          const dataTable =\n",
              "            await google.colab.kernel.invokeFunction('convertToInteractive',\n",
              "                                                     [key], {});\n",
              "          if (!dataTable) return;\n",
              "\n",
              "          const docLinkHtml = 'Like what you see? Visit the ' +\n",
              "            '<a target=\"_blank\" href=https://colab.research.google.com/notebooks/data_table.ipynb>data table notebook</a>'\n",
              "            + ' to learn more about interactive tables.';\n",
              "          element.innerHTML = '';\n",
              "          dataTable['output_type'] = 'display_data';\n",
              "          await google.colab.output.renderOutput(dataTable, element);\n",
              "          const docLink = document.createElement('div');\n",
              "          docLink.innerHTML = docLinkHtml;\n",
              "          element.appendChild(docLink);\n",
              "        }\n",
              "      </script>\n",
              "    </div>\n",
              "  </div>\n",
              "  "
            ]
          },
          "metadata": {},
          "execution_count": 324
        }
      ]
    },
    {
      "cell_type": "markdown",
      "source": [
        "**3. Check the shape of the data (number of rows and columns). Check the\n",
        "general information about the dataframe using the .info() method.**"
      ],
      "metadata": {
        "id": "djRPpVHygla7"
      }
    },
    {
      "cell_type": "code",
      "source": [
        "sales.shape"
      ],
      "metadata": {
        "id": "0zBcP4FSyW3N",
        "colab": {
          "base_uri": "https://localhost:8080/"
        },
        "outputId": "4bf31cc5-fea8-41fc-8f3b-e0d2d298eda0"
      },
      "execution_count": null,
      "outputs": [
        {
          "output_type": "execute_result",
          "data": {
            "text/plain": [
              "(2823, 25)"
            ]
          },
          "metadata": {},
          "execution_count": 325
        }
      ]
    },
    {
      "cell_type": "code",
      "source": [
        "sales.info()"
      ],
      "metadata": {
        "colab": {
          "base_uri": "https://localhost:8080/"
        },
        "id": "jqYmTE-eGrCt",
        "outputId": "93398c93-9d63-4ef1-97b2-61af7105c61f"
      },
      "execution_count": null,
      "outputs": [
        {
          "output_type": "stream",
          "name": "stdout",
          "text": [
            "<class 'pandas.core.frame.DataFrame'>\n",
            "RangeIndex: 2823 entries, 0 to 2822\n",
            "Data columns (total 25 columns):\n",
            " #   Column            Non-Null Count  Dtype  \n",
            "---  ------            --------------  -----  \n",
            " 0   ORDERNUMBER       2823 non-null   int64  \n",
            " 1   QUANTITYORDERED   2823 non-null   int64  \n",
            " 2   PRICEEACH         2823 non-null   float64\n",
            " 3   ORDERLINENUMBER   2823 non-null   int64  \n",
            " 4   SALES             2823 non-null   float64\n",
            " 5   ORDERDATE         2823 non-null   object \n",
            " 6   STATUS            2823 non-null   object \n",
            " 7   QTR_ID            2823 non-null   int64  \n",
            " 8   MONTH_ID          2823 non-null   int64  \n",
            " 9   YEAR_ID           2823 non-null   int64  \n",
            " 10  PRODUCTLINE       2823 non-null   object \n",
            " 11  MSRP              2823 non-null   int64  \n",
            " 12  PRODUCTCODE       2823 non-null   object \n",
            " 13  CUSTOMERNAME      2823 non-null   object \n",
            " 14  PHONE             2823 non-null   object \n",
            " 15  ADDRESSLINE1      2823 non-null   object \n",
            " 16  ADDRESSLINE2      302 non-null    object \n",
            " 17  CITY              2823 non-null   object \n",
            " 18  STATE             1337 non-null   object \n",
            " 19  POSTALCODE        2747 non-null   object \n",
            " 20  COUNTRY           2823 non-null   object \n",
            " 21  TERRITORY         1749 non-null   object \n",
            " 22  CONTACTLASTNAME   2823 non-null   object \n",
            " 23  CONTACTFIRSTNAME  2823 non-null   object \n",
            " 24  DEALSIZE          2823 non-null   object \n",
            "dtypes: float64(2), int64(7), object(16)\n",
            "memory usage: 551.5+ KB\n"
          ]
        }
      ]
    },
    {
      "cell_type": "markdown",
      "source": [
        "**4. Check the percentage of missing values in each column of the data\n",
        "frame. Drop the missing values if there are any.**"
      ],
      "metadata": {
        "id": "XwNX3dgJgXRW"
      }
    },
    {
      "cell_type": "code",
      "source": [
        "percent=(sales.isnull().sum()*100/sales.isnull().count()).sort_values(ascending=False)\n",
        "percent"
      ],
      "metadata": {
        "colab": {
          "base_uri": "https://localhost:8080/"
        },
        "id": "xeHepIpIGxUt",
        "outputId": "37011622-a4b1-4d8e-f9bc-2690ce0363c3"
      },
      "execution_count": null,
      "outputs": [
        {
          "output_type": "execute_result",
          "data": {
            "text/plain": [
              "ADDRESSLINE2        89.302161\n",
              "STATE               52.639036\n",
              "TERRITORY           38.044633\n",
              "POSTALCODE           2.692171\n",
              "ORDERNUMBER          0.000000\n",
              "CUSTOMERNAME         0.000000\n",
              "CONTACTFIRSTNAME     0.000000\n",
              "CONTACTLASTNAME      0.000000\n",
              "COUNTRY              0.000000\n",
              "CITY                 0.000000\n",
              "ADDRESSLINE1         0.000000\n",
              "PHONE                0.000000\n",
              "PRODUCTCODE          0.000000\n",
              "QUANTITYORDERED      0.000000\n",
              "MSRP                 0.000000\n",
              "PRODUCTLINE          0.000000\n",
              "YEAR_ID              0.000000\n",
              "MONTH_ID             0.000000\n",
              "QTR_ID               0.000000\n",
              "STATUS               0.000000\n",
              "ORDERDATE            0.000000\n",
              "SALES                0.000000\n",
              "ORDERLINENUMBER      0.000000\n",
              "PRICEEACH            0.000000\n",
              "DEALSIZE             0.000000\n",
              "dtype: float64"
            ]
          },
          "metadata": {},
          "execution_count": 327
        }
      ]
    },
    {
      "cell_type": "markdown",
      "source": [
        "**5. Check if there are any duplicate rows.**"
      ],
      "metadata": {
        "id": "qatrHYVlgPMB"
      }
    },
    {
      "cell_type": "code",
      "source": [
        "sales.duplicated().sum()"
      ],
      "metadata": {
        "colab": {
          "base_uri": "https://localhost:8080/"
        },
        "id": "m05ubZu8JCnd",
        "outputId": "7693e4b6-a254-471a-9fb9-4dd63789cd40"
      },
      "execution_count": null,
      "outputs": [
        {
          "output_type": "execute_result",
          "data": {
            "text/plain": [
              "0"
            ]
          },
          "metadata": {},
          "execution_count": 328
        }
      ]
    },
    {
      "cell_type": "markdown",
      "source": [
        "**6. Write a function that will impute missing values of the columns “STATE”,\n",
        "“POSTALCODE”,“TERRITORY” with its most occurring label.**"
      ],
      "metadata": {
        "id": "WIE0rbR4gB9l"
      }
    },
    {
      "cell_type": "code",
      "source": [
        "modeST=sales['STATE'].mode()[0]"
      ],
      "metadata": {
        "id": "DwbxqYEOLQOO"
      },
      "execution_count": null,
      "outputs": []
    },
    {
      "cell_type": "code",
      "source": [
        "modePC=sales['POSTALCODE'].mode()[0]"
      ],
      "metadata": {
        "id": "S1ZI-syAM7-m"
      },
      "execution_count": null,
      "outputs": []
    },
    {
      "cell_type": "code",
      "source": [
        "modeTerri=sales['TERRITORY'].mode()[0]"
      ],
      "metadata": {
        "id": "zd8u2IC6M8tP"
      },
      "execution_count": null,
      "outputs": []
    },
    {
      "cell_type": "code",
      "source": [
        "sales['STATE'].fillna(value=modeST,inplace=True)"
      ],
      "metadata": {
        "id": "0hsAjzIXNHXq"
      },
      "execution_count": null,
      "outputs": []
    },
    {
      "cell_type": "code",
      "source": [
        "sales['POSTALCODE'].fillna(value=modePC,inplace=True)"
      ],
      "metadata": {
        "id": "NO0HtVCcOXl8"
      },
      "execution_count": null,
      "outputs": []
    },
    {
      "cell_type": "code",
      "source": [
        "sales['TERRITORY'].fillna(value=modeTerri,inplace=True)"
      ],
      "metadata": {
        "id": "jbXAQatjOZG4"
      },
      "execution_count": null,
      "outputs": []
    },
    {
      "cell_type": "code",
      "source": [
        "sales.info()"
      ],
      "metadata": {
        "colab": {
          "base_uri": "https://localhost:8080/"
        },
        "id": "A9NCa4uhOnsS",
        "outputId": "a570b9bf-3e15-4f5c-907d-a4b9fe53f240"
      },
      "execution_count": null,
      "outputs": [
        {
          "output_type": "stream",
          "name": "stdout",
          "text": [
            "<class 'pandas.core.frame.DataFrame'>\n",
            "RangeIndex: 2823 entries, 0 to 2822\n",
            "Data columns (total 25 columns):\n",
            " #   Column            Non-Null Count  Dtype  \n",
            "---  ------            --------------  -----  \n",
            " 0   ORDERNUMBER       2823 non-null   int64  \n",
            " 1   QUANTITYORDERED   2823 non-null   int64  \n",
            " 2   PRICEEACH         2823 non-null   float64\n",
            " 3   ORDERLINENUMBER   2823 non-null   int64  \n",
            " 4   SALES             2823 non-null   float64\n",
            " 5   ORDERDATE         2823 non-null   object \n",
            " 6   STATUS            2823 non-null   object \n",
            " 7   QTR_ID            2823 non-null   int64  \n",
            " 8   MONTH_ID          2823 non-null   int64  \n",
            " 9   YEAR_ID           2823 non-null   int64  \n",
            " 10  PRODUCTLINE       2823 non-null   object \n",
            " 11  MSRP              2823 non-null   int64  \n",
            " 12  PRODUCTCODE       2823 non-null   object \n",
            " 13  CUSTOMERNAME      2823 non-null   object \n",
            " 14  PHONE             2823 non-null   object \n",
            " 15  ADDRESSLINE1      2823 non-null   object \n",
            " 16  ADDRESSLINE2      302 non-null    object \n",
            " 17  CITY              2823 non-null   object \n",
            " 18  STATE             2823 non-null   object \n",
            " 19  POSTALCODE        2823 non-null   object \n",
            " 20  COUNTRY           2823 non-null   object \n",
            " 21  TERRITORY         2823 non-null   object \n",
            " 22  CONTACTLASTNAME   2823 non-null   object \n",
            " 23  CONTACTFIRSTNAME  2823 non-null   object \n",
            " 24  DEALSIZE          2823 non-null   object \n",
            "dtypes: float64(2), int64(7), object(16)\n",
            "memory usage: 551.5+ KB\n"
          ]
        }
      ]
    },
    {
      "cell_type": "markdown",
      "source": [
        "**7. Drop “ADDRESSLINE2”,”ORDERDATE”,”PHONE” column.**"
      ],
      "metadata": {
        "id": "b_KRAGpff2Ju"
      }
    },
    {
      "cell_type": "code",
      "source": [
        "sales1=sales.drop(columns=['ADDRESSLINE2','ORDERDATE','PHONE'],axis=1)"
      ],
      "metadata": {
        "id": "-eHWqDpGOzbW"
      },
      "execution_count": null,
      "outputs": []
    },
    {
      "cell_type": "code",
      "source": [
        "sales1.info()"
      ],
      "metadata": {
        "colab": {
          "base_uri": "https://localhost:8080/"
        },
        "id": "a3zZOv7QPKOe",
        "outputId": "4a7f20b5-92e3-4f3a-9b5d-50faba34b13a"
      },
      "execution_count": null,
      "outputs": [
        {
          "output_type": "stream",
          "name": "stdout",
          "text": [
            "<class 'pandas.core.frame.DataFrame'>\n",
            "RangeIndex: 2823 entries, 0 to 2822\n",
            "Data columns (total 22 columns):\n",
            " #   Column            Non-Null Count  Dtype  \n",
            "---  ------            --------------  -----  \n",
            " 0   ORDERNUMBER       2823 non-null   int64  \n",
            " 1   QUANTITYORDERED   2823 non-null   int64  \n",
            " 2   PRICEEACH         2823 non-null   float64\n",
            " 3   ORDERLINENUMBER   2823 non-null   int64  \n",
            " 4   SALES             2823 non-null   float64\n",
            " 5   STATUS            2823 non-null   object \n",
            " 6   QTR_ID            2823 non-null   int64  \n",
            " 7   MONTH_ID          2823 non-null   int64  \n",
            " 8   YEAR_ID           2823 non-null   int64  \n",
            " 9   PRODUCTLINE       2823 non-null   object \n",
            " 10  MSRP              2823 non-null   int64  \n",
            " 11  PRODUCTCODE       2823 non-null   object \n",
            " 12  CUSTOMERNAME      2823 non-null   object \n",
            " 13  ADDRESSLINE1      2823 non-null   object \n",
            " 14  CITY              2823 non-null   object \n",
            " 15  STATE             2823 non-null   object \n",
            " 16  POSTALCODE        2823 non-null   object \n",
            " 17  COUNTRY           2823 non-null   object \n",
            " 18  TERRITORY         2823 non-null   object \n",
            " 19  CONTACTLASTNAME   2823 non-null   object \n",
            " 20  CONTACTFIRSTNAME  2823 non-null   object \n",
            " 21  DEALSIZE          2823 non-null   object \n",
            "dtypes: float64(2), int64(7), object(13)\n",
            "memory usage: 485.3+ KB\n"
          ]
        }
      ]
    },
    {
      "cell_type": "markdown",
      "source": [
        "**8. Convert the labels of the STATUS column to 0 and 1. For Shipped assign\n",
        "value 1 and for all other labels (i.e. ‘Canceled’,’ Resolved’,’ On Hold’,’ In\n",
        "Process’, 'Disputed') assign 0. Note we will consider everything apart from\n",
        "Shipped as cancel (i.e. 0).**"
      ],
      "metadata": {
        "id": "6Uo-GzzXfj00"
      }
    },
    {
      "cell_type": "code",
      "source": [
        "sales1['STATUS'].unique()"
      ],
      "metadata": {
        "colab": {
          "base_uri": "https://localhost:8080/"
        },
        "id": "g1FDqMRpQCiO",
        "outputId": "d2f32272-bb80-433e-b84d-d8116fe686d2"
      },
      "execution_count": null,
      "outputs": [
        {
          "output_type": "execute_result",
          "data": {
            "text/plain": [
              "array(['Shipped', 'Disputed', 'In Process', 'Cancelled', 'On Hold',\n",
              "       'Resolved'], dtype=object)"
            ]
          },
          "metadata": {},
          "execution_count": 338
        }
      ]
    },
    {
      "cell_type": "code",
      "source": [
        "sales1['STATUS']=sales.STATUS.map({'Shipped':1,'Disputed':0,'In Process':0,'Cancelled':0,'On Hold':0,'Resolved':0})"
      ],
      "metadata": {
        "id": "UN_-Vc63QTFs"
      },
      "execution_count": null,
      "outputs": []
    },
    {
      "cell_type": "code",
      "source": [
        "sales1['STATUS'].value_counts()"
      ],
      "metadata": {
        "colab": {
          "base_uri": "https://localhost:8080/"
        },
        "id": "TRCKV7a2Y84o",
        "outputId": "a4129f9a-2996-4f6b-be0e-ce8d07ed5341"
      },
      "execution_count": null,
      "outputs": [
        {
          "output_type": "execute_result",
          "data": {
            "text/plain": [
              "1    2617\n",
              "0     206\n",
              "Name: STATUS, dtype: int64"
            ]
          },
          "metadata": {},
          "execution_count": 340
        }
      ]
    },
    {
      "cell_type": "markdown",
      "source": [
        "**9. Assign ‘STATUS’ column into a label variable and drop it from the original\n",
        "Dataframe. Convert the original dataframe to the dummy coded\n",
        "data.(Hint:-use pd.get_dummies()).**"
      ],
      "metadata": {
        "id": "tTxRG7Frfrqq"
      }
    },
    {
      "cell_type": "code",
      "source": [
        "sales2=pd.DataFrame(data=sales['STATUS'])"
      ],
      "metadata": {
        "id": "cT-6kgxFZF-v"
      },
      "execution_count": null,
      "outputs": []
    },
    {
      "cell_type": "code",
      "source": [
        "sales1=sales1.drop(columns=['STATUS'])"
      ],
      "metadata": {
        "id": "Vb1Lp2SbaDMP"
      },
      "execution_count": null,
      "outputs": []
    },
    {
      "cell_type": "code",
      "source": [
        "sales1.info()"
      ],
      "metadata": {
        "colab": {
          "base_uri": "https://localhost:8080/"
        },
        "id": "d5ys7bCJaQ_O",
        "outputId": "7e16fcba-2cc8-4714-9b38-e230c615f82a"
      },
      "execution_count": null,
      "outputs": [
        {
          "output_type": "stream",
          "name": "stdout",
          "text": [
            "<class 'pandas.core.frame.DataFrame'>\n",
            "RangeIndex: 2823 entries, 0 to 2822\n",
            "Data columns (total 21 columns):\n",
            " #   Column            Non-Null Count  Dtype  \n",
            "---  ------            --------------  -----  \n",
            " 0   ORDERNUMBER       2823 non-null   int64  \n",
            " 1   QUANTITYORDERED   2823 non-null   int64  \n",
            " 2   PRICEEACH         2823 non-null   float64\n",
            " 3   ORDERLINENUMBER   2823 non-null   int64  \n",
            " 4   SALES             2823 non-null   float64\n",
            " 5   QTR_ID            2823 non-null   int64  \n",
            " 6   MONTH_ID          2823 non-null   int64  \n",
            " 7   YEAR_ID           2823 non-null   int64  \n",
            " 8   PRODUCTLINE       2823 non-null   object \n",
            " 9   MSRP              2823 non-null   int64  \n",
            " 10  PRODUCTCODE       2823 non-null   object \n",
            " 11  CUSTOMERNAME      2823 non-null   object \n",
            " 12  ADDRESSLINE1      2823 non-null   object \n",
            " 13  CITY              2823 non-null   object \n",
            " 14  STATE             2823 non-null   object \n",
            " 15  POSTALCODE        2823 non-null   object \n",
            " 16  COUNTRY           2823 non-null   object \n",
            " 17  TERRITORY         2823 non-null   object \n",
            " 18  CONTACTLASTNAME   2823 non-null   object \n",
            " 19  CONTACTFIRSTNAME  2823 non-null   object \n",
            " 20  DEALSIZE          2823 non-null   object \n",
            "dtypes: float64(2), int64(7), object(12)\n",
            "memory usage: 463.3+ KB\n"
          ]
        }
      ]
    },
    {
      "cell_type": "code",
      "source": [
        "sales3=pd.get_dummies(sales1)\n",
        "sales3.columns"
      ],
      "metadata": {
        "colab": {
          "base_uri": "https://localhost:8080/"
        },
        "id": "62_jPbrEabIi",
        "outputId": "61f9be91-b65b-4fdc-bd22-124a6729abed"
      },
      "execution_count": null,
      "outputs": [
        {
          "output_type": "execute_result",
          "data": {
            "text/plain": [
              "Index(['ORDERNUMBER', 'QUANTITYORDERED', 'PRICEEACH', 'ORDERLINENUMBER',\n",
              "       'SALES', 'QTR_ID', 'MONTH_ID', 'YEAR_ID', 'MSRP',\n",
              "       'PRODUCTLINE_Classic Cars',\n",
              "       ...\n",
              "       'CONTACTFIRSTNAME_Veysel', 'CONTACTFIRSTNAME_Victoria',\n",
              "       'CONTACTFIRSTNAME_Violeta', 'CONTACTFIRSTNAME_Wendy',\n",
              "       'CONTACTFIRSTNAME_William', 'CONTACTFIRSTNAME_Wing C',\n",
              "       'CONTACTFIRSTNAME_Yoshi', 'DEALSIZE_Large', 'DEALSIZE_Medium',\n",
              "       'DEALSIZE_Small'],\n",
              "      dtype='object', length=645)"
            ]
          },
          "metadata": {},
          "execution_count": 344
        }
      ]
    },
    {
      "cell_type": "code",
      "source": [
        "sales3.shape"
      ],
      "metadata": {
        "colab": {
          "base_uri": "https://localhost:8080/"
        },
        "id": "NtOXg15XbE4H",
        "outputId": "9a4d3c27-878d-4745-b170-8cdb51aac190"
      },
      "execution_count": null,
      "outputs": [
        {
          "output_type": "execute_result",
          "data": {
            "text/plain": [
              "(2823, 645)"
            ]
          },
          "metadata": {},
          "execution_count": 345
        }
      ]
    },
    {
      "cell_type": "markdown",
      "source": [
        "**10. Use StandardScaler to scale the data.**"
      ],
      "metadata": {
        "id": "i5BqD2lUfPIJ"
      }
    },
    {
      "cell_type": "code",
      "source": [
        "from sklearn.preprocessing import StandardScaler\n",
        "scaler=StandardScaler()\n",
        "sales_Scale=scaler.fit_transform(sales3)"
      ],
      "metadata": {
        "id": "gLeCKqfTbQPy"
      },
      "execution_count": null,
      "outputs": []
    },
    {
      "cell_type": "code",
      "source": [
        "sales_Scale"
      ],
      "metadata": {
        "colab": {
          "base_uri": "https://localhost:8080/"
        },
        "id": "v2zR3Ns5cWJP",
        "outputId": "7c4e414e-28eb-4c69-d22d-193bb1b0821c"
      },
      "execution_count": null,
      "outputs": [
        {
          "output_type": "execute_result",
          "data": {
            "text/plain": [
              "array([[-1.64794709, -0.52289086,  0.5969775 , ..., -0.24267205,\n",
              "        -0.98070333,  1.09637041],\n",
              "       [-1.4958875 , -0.11220131, -0.11445035, ..., -0.24267205,\n",
              "        -0.98070333,  1.09637041],\n",
              "       [-1.35468931,  0.60650538,  0.54938372, ..., -0.24267205,\n",
              "         1.01967636, -0.9121005 ],\n",
              "       ...,\n",
              "       [ 1.38238338,  0.81185016,  0.81015797, ..., -0.24267205,\n",
              "         1.01967636, -0.9121005 ],\n",
              "       [ 1.50185877, -0.11220131, -1.06186404, ..., -0.24267205,\n",
              "        -0.98070333,  1.09637041],\n",
              "       [ 1.68650256,  1.2225397 , -0.89925195, ..., -0.24267205,\n",
              "         1.01967636, -0.9121005 ]])"
            ]
          },
          "metadata": {},
          "execution_count": 347
        }
      ]
    },
    {
      "cell_type": "markdown",
      "source": [
        "# **PCA FOR VISUALIZATION**"
      ],
      "metadata": {
        "id": "XgJ2XfqehOlC"
      }
    },
    {
      "cell_type": "markdown",
      "source": [
        "**1. Take the help of PCA to reduce the data to 2 dimensions. Use\n",
        "n_components=2.**"
      ],
      "metadata": {
        "id": "czg7xMCPhVnA"
      }
    },
    {
      "cell_type": "code",
      "source": [
        "cov_matrix = np.cov(sales_Scale.T)\n",
        "print('Covariance Matrix \\n%s', cov_matrix)"
      ],
      "metadata": {
        "colab": {
          "base_uri": "https://localhost:8080/"
        },
        "id": "1W35YwJdevJA",
        "outputId": "3cc8808e-958d-40b7-fce6-59755198c622"
      },
      "execution_count": null,
      "outputs": [
        {
          "output_type": "stream",
          "name": "stdout",
          "text": [
            "Covariance Matrix \n",
            "%s [[ 1.00035436  0.06556638 -0.00293558 ...  0.03253303 -0.00786511\n",
            "  -0.00707781]\n",
            " [ 0.06556638  1.00035436  0.005566   ...  0.30233777  0.28751923\n",
            "  -0.42784622]\n",
            " [-0.00293558  0.005566    1.00035436 ...  0.19425996  0.56921326\n",
            "  -0.66093218]\n",
            " ...\n",
            " [ 0.03253303  0.30233777  0.19425996 ...  1.00035436 -0.23807362\n",
            "  -0.22141973]\n",
            " [-0.00786511  0.28751923  0.56921326 ... -0.23807362  1.00035436\n",
            "  -0.89481697]\n",
            " [-0.00707781 -0.42784622 -0.66093218 ... -0.22141973 -0.89481697\n",
            "   1.00035436]]\n"
          ]
        }
      ]
    },
    {
      "cell_type": "code",
      "source": [
        "pca=PCA( n_components=2)"
      ],
      "metadata": {
        "id": "Jy7I7fuFkzUo"
      },
      "execution_count": null,
      "outputs": []
    },
    {
      "cell_type": "markdown",
      "source": [
        "**2. Take the first and second principal components and plot a scatter plot\n",
        "with the labels.**"
      ],
      "metadata": {
        "id": "ZnoYMT-HnnQz"
      }
    },
    {
      "cell_type": "code",
      "source": [
        "pca.fit(sales_Scale)\n",
        "pca_sales=pca.transform(sales_Scale)\n",
        "pca_X"
      ],
      "metadata": {
        "colab": {
          "base_uri": "https://localhost:8080/"
        },
        "id": "XolfsESklZqr",
        "outputId": "095b4c16-1b66-4971-e739-9dd0ca039935"
      },
      "execution_count": null,
      "outputs": [
        {
          "output_type": "execute_result",
          "data": {
            "text/plain": [
              "PCA(n_components=2)"
            ]
          },
          "metadata": {},
          "execution_count": 350
        }
      ]
    },
    {
      "cell_type": "code",
      "source": [
        "pca_X.explained_variance_ratio_"
      ],
      "metadata": {
        "colab": {
          "base_uri": "https://localhost:8080/"
        },
        "id": "a-mIpOugnuKU",
        "outputId": "0d85cedf-ecc7-4a00-c6ab-75f2f7b7fe3c"
      },
      "execution_count": null,
      "outputs": [
        {
          "output_type": "execute_result",
          "data": {
            "text/plain": [
              "array([0.01558567, 0.01334867])"
            ]
          },
          "metadata": {},
          "execution_count": 351
        }
      ]
    },
    {
      "cell_type": "code",
      "source": [
        "sns.scatterplot(x=pca_sales[:,0],y=pca_sales[:,1])\n",
        "plt.title('SCATTER PLOT OF PRINCIPAL COMPONENTS')\n",
        "plt.xlabel('FIRST PRINCIPAL COMPONENT')\n",
        "plt.ylabel('SECOND PRINCIPAL COMPONENT')"
      ],
      "metadata": {
        "colab": {
          "base_uri": "https://localhost:8080/",
          "height": 312
        },
        "id": "qrZ3e4GMml9w",
        "outputId": "99f2bb2f-0db8-49a5-a994-b8c98bdc67f3"
      },
      "execution_count": null,
      "outputs": [
        {
          "output_type": "execute_result",
          "data": {
            "text/plain": [
              "Text(0, 0.5, 'SECOND PRINCIPAL COMPONENT')"
            ]
          },
          "metadata": {},
          "execution_count": 352
        },
        {
          "output_type": "display_data",
          "data": {
            "text/plain": [
              "<Figure size 432x288 with 1 Axes>"
            ],
            "image/png": "[encoded data removed]"
          },
          "metadata": {
            "needs_background": "light"
          }
        }
      ]
    },
    {
      "cell_type": "markdown",
      "source": [
        "**3. Write the intuitions about the scatter plot.**"
      ],
      "metadata": {
        "id": "xHW2_YJLqSm5"
      }
    },
    {
      "cell_type": "markdown",
      "source": [
        "There is some linear relation in the components"
      ],
      "metadata": {
        "id": "-0FeeYfJqZCl"
      }
    },
    {
      "cell_type": "markdown",
      "source": [
        "# **PCA FOR DIMENSION REDUCTION.**"
      ],
      "metadata": {
        "id": "KA603AxCqu6k"
      }
    },
    {
      "cell_type": "markdown",
      "source": [
        "**1.Fit the PCA model on the data and plot a graph between n_components\n",
        "and cumulative explained variance.**"
      ],
      "metadata": {
        "id": "HW-FV4ftqylC"
      }
    },
    {
      "cell_type": "code",
      "source": [
        "pca=PCA()\n",
        "pca=pca.fit(sales_Scale)"
      ],
      "metadata": {
        "id": "5NOdKUmsx-c4"
      },
      "execution_count": null,
      "outputs": []
    },
    {
      "cell_type": "code",
      "source": [
        "for i in pca.explained_variance_:\n",
        "  var=i/sum(pca.explained_variance_)*100\n",
        "  print(var)"
      ],
      "metadata": {
        "colab": {
          "base_uri": "https://localhost:8080/"
        },
        "id": "1z35LI7X0fee",
        "outputId": "a512e6a9-bc5b-4607-d989-6f27d8d8f50a"
      },
      "execution_count": null,
      "outputs": [
        {
          "output_type": "stream",
          "name": "stdout",
          "text": [
            "1.5655578424870384\n",
            "1.3797117974378996\n",
            "1.31614833079852\n",
            "1.2563831295429857\n",
            "1.1971676713118797\n",
            "1.178728306819973\n",
            "1.1632122812830759\n",
            "1.1358742129454802\n",
            "1.1327772379021053\n",
            "1.127846425066134\n",
            "1.1197342130209087\n",
            "1.1138503239860902\n",
            "1.1115620709914726\n",
            "1.1084962035225168\n",
            "1.1030159535204789\n",
            "1.1019761656066474\n",
            "1.1002826099867318\n",
            "1.0959339039651834\n",
            "1.0900333854167832\n",
            "1.0844877811197349\n",
            "1.0760194508983036\n",
            "1.0582930286917402\n",
            "1.0546722475502244\n",
            "1.035247207023098\n",
            "1.0338906359905056\n",
            "1.0152661298726882\n",
            "1.0120332465885613\n",
            "0.9992031387503766\n",
            "0.9892423757294813\n",
            "0.9846348983642592\n",
            "0.9729280017621278\n",
            "0.9687076135815008\n",
            "0.9622841041730723\n",
            "0.9597328423543803\n",
            "0.9570664007075463\n",
            "0.9560114048984368\n",
            "0.9505188253492799\n",
            "0.9489803664235581\n",
            "0.9464511284709647\n",
            "0.9454795722102796\n",
            "0.9452210996135577\n",
            "0.9444848103601402\n",
            "0.9431888156107531\n",
            "0.9430475686646268\n",
            "0.9425669745738787\n",
            "0.941704353218361\n",
            "0.9414985238391309\n",
            "0.9410007915748907\n",
            "0.9402225072404778\n",
            "0.939043571098189\n",
            "0.9266384120868604\n",
            "0.9131027228771715\n",
            "0.9041318242881458\n",
            "0.891132413926304\n",
            "0.8851791926862341\n",
            "0.874562418421259\n",
            "0.8672424488175613\n",
            "0.8596149562408041\n",
            "0.8468840465982768\n",
            "0.8400435619920592\n",
            "0.8342481466358237\n",
            "0.8279838036470288\n",
            "0.8252700148459767\n",
            "0.8088522995655382\n",
            "0.806077357716809\n",
            "0.7986042633163067\n",
            "0.7948868321111\n",
            "0.7666400461475532\n",
            "0.7607231295034673\n",
            "0.7345160879860654\n",
            "0.698595260135005\n",
            "0.6905672057575516\n",
            "0.6687631908464563\n",
            "0.6593649339178222\n",
            "0.6410706232926275\n",
            "0.635139349843492\n",
            "0.6336373347164163\n",
            "0.6246912602490295\n",
            "0.6145530790087617\n",
            "0.5985310645809084\n",
            "0.5898832615483746\n",
            "0.5885594499140412\n",
            "0.5659263022276794\n",
            "0.5611036852340813\n",
            "0.5460932420220029\n",
            "0.5181382908208563\n",
            "0.5062122058766405\n",
            "0.4993243398024603\n",
            "0.42802531418383905\n",
            "0.40000346986313895\n",
            "0.3974956906433574\n",
            "0.38721868848497487\n",
            "0.31021500472373786\n",
            "0.3027783661796388\n",
            "0.29564515914688944\n",
            "0.2772653913843438\n",
            "0.2570178925999025\n",
            "0.2391030249179769\n",
            "0.2320335365656141\n",
            "0.22483303302553373\n",
            "0.21627201437990312\n",
            "0.17613968566868468\n",
            "0.17185880104682236\n",
            "0.16186791576263784\n",
            "0.1583559379762811\n",
            "0.1570516827113468\n",
            "0.15666085961691847\n",
            "0.1565360665953811\n",
            "0.15652063284539208\n",
            "0.1565114285467017\n",
            "0.15650011759881893\n",
            "0.156493667981465\n",
            "0.15648600197067927\n",
            "0.15647780065380285\n",
            "0.15646695996203958\n",
            "0.15646092582012056\n",
            "0.1564569839927765\n",
            "0.15645204214371194\n",
            "0.15644870023431984\n",
            "0.15644658787932192\n",
            "0.15643511271316424\n",
            "0.1564224615086597\n",
            "0.15640933374883728\n",
            "0.15640416629908444\n",
            "0.15639343282959617\n",
            "0.15637221681159927\n",
            "0.1563533158404401\n",
            "0.15635091492700226\n",
            "0.15634378988689374\n",
            "0.15633033144244474\n",
            "0.15631505203330393\n",
            "0.15628278574003077\n",
            "0.1562814205773155\n",
            "0.1562646060702272\n",
            "0.1562453637765163\n",
            "0.15623956527578545\n",
            "0.1562129382216185\n",
            "0.1561943252153795\n",
            "0.15617967662250154\n",
            "0.15615305570509597\n",
            "0.15614866382303874\n",
            "0.15613238886226044\n",
            "0.1560955250680038\n",
            "0.15607763608088912\n",
            "0.15606144315079595\n",
            "0.15602132729038967\n",
            "0.15599855886185207\n",
            "0.15594431205725198\n",
            "0.15593512605843277\n",
            "0.1559287445189299\n",
            "0.15586468648540666\n",
            "0.15580294365964772\n",
            "0.15571738757450918\n",
            "0.15568037392942236\n",
            "0.15563364407288646\n",
            "0.15560648441328395\n",
            "0.15558224829476172\n",
            "0.15543328678853255\n",
            "0.15536508003510613\n",
            "0.15526755690271865\n",
            "0.15521433604155255\n",
            "0.15506285015299415\n",
            "0.15498610300769342\n",
            "0.15498035563967588\n",
            "0.15487541864861967\n",
            "0.1547162908872495\n",
            "0.15465123915225484\n",
            "0.15458482261842793\n",
            "0.15430316341440733\n",
            "0.15420080656654161\n",
            "0.15406938309519155\n",
            "0.15382547334355937\n",
            "0.15381623547932385\n",
            "0.15367295776583628\n",
            "0.15342065950167344\n",
            "0.15299367008284598\n",
            "0.15273054111478712\n",
            "0.15244042261222182\n",
            "0.15217761625225243\n",
            "0.15165533683110152\n",
            "0.15135263244350688\n",
            "0.15060626757168705\n",
            "0.15024779092379506\n",
            "0.14990958277528693\n",
            "0.1494881087912554\n",
            "0.14923232212638307\n",
            "0.1487616030603789\n",
            "0.14827501999401962\n",
            "0.14786854490156323\n",
            "0.14577737822865192\n",
            "0.14507167800639104\n",
            "0.14370085464658333\n",
            "0.14323367353068647\n",
            "0.1393562620605024\n",
            "0.1386583556400529\n",
            "0.13793053561813204\n",
            "0.13017013740962574\n",
            "0.12641654095818408\n",
            "0.12135417966880149\n",
            "0.11838364463573799\n",
            "0.11669306043196337\n",
            "0.10771927719667115\n",
            "0.10618531804780565\n",
            "0.09429079438852443\n",
            "0.057891134121558885\n",
            "0.02708873514373295\n",
            "0.007922008468188038\n",
            "0.002249565209006543\n",
            "0.0012971023926999562\n",
            "9.559548918129872e-31\n",
            "8.386270912382981e-31\n",
            "7.401548547935554e-31\n",
            "6.196089398918908e-31\n",
            "4.959046901788283e-31\n",
            "3.8058850510557134e-31\n",
            "3.1664092345720664e-31\n",
            "3.070278165010273e-31\n",
            "2.24871926894567e-31\n",
            "1.2721611017614333e-31\n",
            "1.234398974184037e-31\n",
            "9.282118116351793e-32\n",
            "9.267503207219472e-32\n",
            "8.435622487641071e-32\n",
            "8.15620569528299e-32\n",
            "7.327193528903053e-32\n",
            "7.006831289033087e-32\n",
            "6.237674494993794e-32\n",
            "6.098521273170021e-32\n",
            "5.784908035861296e-32\n",
            "5.518018887496838e-32\n",
            "5.450295174579844e-32\n",
            "5.207921414303152e-32\n",
            "5.03309987467471e-32\n",
            "4.800889391904997e-32\n",
            "4.618248830815288e-32\n",
            "4.4667611944109523e-32\n",
            "4.4326478953863663e-32\n",
            "4.2273058183408845e-32\n",
            "3.84097553600097e-32\n",
            "3.745642953374248e-32\n",
            "3.5396420251542474e-32\n",
            "3.3283603670186125e-32\n",
            "3.2602989244628427e-32\n",
            "3.0579562469367934e-32\n",
            "3.012416815266478e-32\n",
            "2.7928470405727424e-32\n",
            "2.700838131435531e-32\n",
            "2.620057288625151e-32\n",
            "2.611694863716296e-32\n",
            "2.593305320978997e-32\n",
            "2.527803081116402e-32\n",
            "2.221782855856067e-32\n",
            "2.191027816575747e-32\n",
            "1.9832220461026016e-32\n",
            "1.9080778615487738e-32\n",
            "1.795251597009281e-32\n",
            "1.63462902964222e-32\n",
            "1.6293836755728953e-32\n",
            "1.428389513605895e-32\n",
            "1.1745752093847022e-32\n",
            "1.1557354775554714e-32\n",
            "1.147439459683035e-32\n",
            "1.0527640894481733e-32\n",
            "9.647761805552655e-33\n",
            "9.582688001033952e-33\n",
            "9.471112534457616e-33\n",
            "9.464210371696085e-33\n",
            "9.464210371696085e-33\n",
            "9.464210371696085e-33\n",
            "9.464210371696085e-33\n",
            "9.464210371696085e-33\n",
            "9.464210371696085e-33\n",
            "9.464210371696085e-33\n",
            "9.464210371696085e-33\n",
            "9.464210371696085e-33\n",
            "9.464210371696085e-33\n",
            "9.464210371696085e-33\n",
            "9.464210371696085e-33\n",
            "9.464210371696085e-33\n",
            "9.464210371696085e-33\n",
            "9.464210371696085e-33\n",
            "9.464210371696085e-33\n",
            "9.464210371696085e-33\n",
            "9.464210371696085e-33\n",
            "9.464210371696085e-33\n",
            "9.464210371696085e-33\n",
            "9.464210371696085e-33\n",
            "9.464210371696085e-33\n",
            "9.464210371696085e-33\n",
            "9.464210371696085e-33\n",
            "9.464210371696085e-33\n",
            "9.464210371696085e-33\n",
            "9.464210371696085e-33\n",
            "9.464210371696085e-33\n",
            "9.464210371696085e-33\n",
            "9.464210371696085e-33\n",
            "9.464210371696085e-33\n",
            "9.464210371696085e-33\n",
            "9.464210371696085e-33\n",
            "9.464210371696085e-33\n",
            "9.464210371696085e-33\n",
            "9.464210371696085e-33\n",
            "9.464210371696085e-33\n",
            "9.464210371696085e-33\n",
            "9.464210371696085e-33\n",
            "9.464210371696085e-33\n",
            "9.464210371696085e-33\n",
            "9.464210371696085e-33\n",
            "9.464210371696085e-33\n",
            "9.464210371696085e-33\n",
            "9.464210371696085e-33\n",
            "9.464210371696085e-33\n",
            "9.464210371696085e-33\n",
            "9.464210371696085e-33\n",
            "9.464210371696085e-33\n",
            "9.464210371696085e-33\n",
            "9.464210371696085e-33\n",
            "9.464210371696085e-33\n",
            "9.464210371696085e-33\n",
            "9.464210371696085e-33\n",
            "9.464210371696085e-33\n",
            "9.464210371696085e-33\n",
            "9.464210371696085e-33\n",
            "9.464210371696085e-33\n",
            "9.464210371696085e-33\n",
            "9.464210371696085e-33\n",
            "9.464210371696085e-33\n",
            "9.464210371696085e-33\n",
            "9.464210371696085e-33\n",
            "9.464210371696085e-33\n",
            "9.464210371696085e-33\n",
            "9.464210371696085e-33\n",
            "9.464210371696085e-33\n",
            "9.464210371696085e-33\n",
            "9.464210371696085e-33\n",
            "9.464210371696085e-33\n",
            "9.464210371696085e-33\n",
            "9.464210371696085e-33\n",
            "9.464210371696085e-33\n",
            "9.464210371696085e-33\n",
            "9.464210371696085e-33\n",
            "9.464210371696085e-33\n",
            "9.464210371696085e-33\n",
            "9.464210371696085e-33\n",
            "9.464210371696085e-33\n",
            "9.464210371696085e-33\n",
            "9.464210371696085e-33\n",
            "9.464210371696085e-33\n",
            "9.464210371696085e-33\n",
            "9.464210371696085e-33\n",
            "9.464210371696085e-33\n",
            "9.464210371696085e-33\n",
            "9.464210371696085e-33\n",
            "9.464210371696085e-33\n",
            "9.464210371696085e-33\n",
            "9.464210371696085e-33\n",
            "9.464210371696085e-33\n",
            "9.464210371696085e-33\n",
            "9.464210371696085e-33\n",
            "9.464210371696085e-33\n",
            "9.464210371696085e-33\n",
            "9.464210371696085e-33\n",
            "9.464210371696085e-33\n",
            "9.464210371696085e-33\n",
            "9.464210371696085e-33\n",
            "9.464210371696085e-33\n",
            "9.464210371696085e-33\n",
            "9.464210371696085e-33\n",
            "9.464210371696085e-33\n",
            "9.464210371696085e-33\n",
            "9.464210371696085e-33\n",
            "9.464210371696085e-33\n",
            "9.464210371696085e-33\n",
            "9.464210371696085e-33\n",
            "9.464210371696085e-33\n",
            "9.464210371696085e-33\n",
            "9.464210371696085e-33\n",
            "9.464210371696085e-33\n",
            "9.464210371696085e-33\n",
            "9.464210371696085e-33\n",
            "9.464210371696085e-33\n",
            "9.464210371696085e-33\n",
            "9.464210371696085e-33\n",
            "9.464210371696085e-33\n",
            "9.464210371696085e-33\n",
            "9.464210371696085e-33\n",
            "9.464210371696085e-33\n",
            "9.464210371696085e-33\n",
            "9.464210371696085e-33\n",
            "9.464210371696085e-33\n",
            "9.464210371696085e-33\n",
            "9.464210371696085e-33\n",
            "9.464210371696085e-33\n",
            "9.464210371696085e-33\n",
            "9.464210371696085e-33\n",
            "9.464210371696085e-33\n",
            "9.464210371696085e-33\n",
            "9.464210371696085e-33\n",
            "9.464210371696085e-33\n",
            "9.464210371696085e-33\n",
            "9.464210371696085e-33\n",
            "9.464210371696085e-33\n",
            "9.464210371696085e-33\n",
            "9.464210371696085e-33\n",
            "9.464210371696085e-33\n",
            "9.464210371696085e-33\n",
            "9.464210371696085e-33\n",
            "9.464210371696085e-33\n",
            "9.464210371696085e-33\n",
            "9.464210371696085e-33\n",
            "9.464210371696085e-33\n",
            "9.464210371696085e-33\n",
            "9.464210371696085e-33\n",
            "9.464210371696085e-33\n",
            "9.464210371696085e-33\n",
            "9.464210371696085e-33\n",
            "9.464210371696085e-33\n",
            "9.464210371696085e-33\n",
            "9.464210371696085e-33\n",
            "9.464210371696085e-33\n",
            "9.464210371696085e-33\n",
            "9.464210371696085e-33\n",
            "9.464210371696085e-33\n",
            "9.464210371696085e-33\n",
            "9.464210371696085e-33\n",
            "9.464210371696085e-33\n",
            "9.464210371696085e-33\n",
            "9.464210371696085e-33\n",
            "9.464210371696085e-33\n",
            "9.464210371696085e-33\n",
            "9.464210371696085e-33\n",
            "9.464210371696085e-33\n",
            "9.464210371696085e-33\n",
            "9.464210371696085e-33\n",
            "9.464210371696085e-33\n",
            "9.464210371696085e-33\n",
            "9.464210371696085e-33\n",
            "9.464210371696085e-33\n",
            "9.464210371696085e-33\n",
            "9.464210371696085e-33\n",
            "9.464210371696085e-33\n",
            "9.464210371696085e-33\n",
            "9.464210371696085e-33\n",
            "9.464210371696085e-33\n",
            "9.464210371696085e-33\n",
            "9.464210371696085e-33\n",
            "9.464210371696085e-33\n",
            "9.464210371696085e-33\n",
            "9.464210371696085e-33\n",
            "9.464210371696085e-33\n",
            "9.464210371696085e-33\n",
            "9.464210371696085e-33\n",
            "9.464210371696085e-33\n",
            "9.464210371696085e-33\n",
            "9.464210371696085e-33\n",
            "9.464210371696085e-33\n",
            "9.464210371696085e-33\n",
            "9.464210371696085e-33\n",
            "9.464210371696085e-33\n",
            "9.464210371696085e-33\n",
            "9.464210371696085e-33\n",
            "9.464210371696085e-33\n",
            "9.464210371696085e-33\n",
            "9.464210371696085e-33\n",
            "9.464210371696085e-33\n",
            "9.464210371696085e-33\n",
            "9.464210371696085e-33\n",
            "9.464210371696085e-33\n",
            "9.464210371696085e-33\n",
            "9.464210371696085e-33\n",
            "9.464210371696085e-33\n",
            "9.464210371696085e-33\n",
            "9.464210371696085e-33\n",
            "9.464210371696085e-33\n",
            "9.464210371696085e-33\n",
            "9.464210371696085e-33\n",
            "9.464210371696085e-33\n",
            "9.464210371696085e-33\n",
            "9.464210371696085e-33\n",
            "9.464210371696085e-33\n",
            "9.464210371696085e-33\n",
            "9.464210371696085e-33\n",
            "9.464210371696085e-33\n",
            "9.464210371696085e-33\n",
            "9.464210371696085e-33\n",
            "9.464210371696085e-33\n",
            "9.464210371696085e-33\n",
            "9.464210371696085e-33\n",
            "9.464210371696085e-33\n",
            "9.464210371696085e-33\n",
            "9.464210371696085e-33\n",
            "9.464210371696085e-33\n",
            "9.464210371696085e-33\n",
            "9.464210371696085e-33\n",
            "9.464210371696085e-33\n",
            "9.464210371696085e-33\n",
            "9.464210371696085e-33\n",
            "9.464210371696085e-33\n",
            "9.464210371696085e-33\n",
            "9.464210371696085e-33\n",
            "9.464210371696085e-33\n",
            "9.464210371696085e-33\n",
            "9.464210371696085e-33\n",
            "9.464210371696085e-33\n",
            "9.464210371696085e-33\n",
            "9.464210371696085e-33\n",
            "9.464210371696085e-33\n",
            "9.464210371696085e-33\n",
            "9.464210371696085e-33\n",
            "9.464210371696085e-33\n",
            "9.464210371696085e-33\n",
            "9.464210371696085e-33\n",
            "9.464210371696085e-33\n",
            "9.464210371696085e-33\n",
            "9.464210371696085e-33\n",
            "9.464210371696085e-33\n",
            "9.464210371696085e-33\n",
            "9.464210371696085e-33\n",
            "9.464210371696085e-33\n",
            "9.464210371696085e-33\n",
            "9.464210371696085e-33\n",
            "9.464210371696085e-33\n",
            "9.464210371696085e-33\n",
            "9.464210371696085e-33\n",
            "9.464210371696085e-33\n",
            "9.464210371696085e-33\n",
            "9.464210371696085e-33\n",
            "9.464210371696085e-33\n",
            "9.464210371696085e-33\n",
            "9.464210371696085e-33\n",
            "9.464210371696085e-33\n",
            "9.464210371696085e-33\n",
            "9.464210371696085e-33\n",
            "9.464210371696085e-33\n",
            "9.464210371696085e-33\n",
            "9.464210371696085e-33\n",
            "9.464210371696085e-33\n",
            "9.464210371696085e-33\n",
            "9.464210371696085e-33\n",
            "9.464210371696085e-33\n",
            "9.464210371696085e-33\n",
            "9.464210371696085e-33\n",
            "9.464210371696085e-33\n",
            "9.464210371696085e-33\n",
            "9.464210371696085e-33\n",
            "9.464210371696085e-33\n",
            "9.464210371696085e-33\n",
            "9.464210371696085e-33\n",
            "9.464210371696085e-33\n",
            "9.464210371696085e-33\n",
            "9.464210371696085e-33\n",
            "9.464210371696085e-33\n",
            "9.464210371696085e-33\n",
            "9.464210371696085e-33\n",
            "9.464210371696085e-33\n",
            "9.464210371696085e-33\n",
            "9.464210371696085e-33\n",
            "9.464210371696085e-33\n",
            "9.464210371696085e-33\n",
            "9.464210371696085e-33\n",
            "9.464210371696085e-33\n",
            "9.464210371696085e-33\n",
            "9.464210371696085e-33\n",
            "9.464210371696085e-33\n",
            "9.464210371696085e-33\n",
            "9.464210371696085e-33\n",
            "9.464210371696085e-33\n",
            "9.464210371696085e-33\n",
            "9.464210371696085e-33\n",
            "9.464210371696085e-33\n",
            "9.464210371696085e-33\n",
            "9.464210371696085e-33\n",
            "9.464210371696085e-33\n",
            "9.464210371696085e-33\n",
            "9.464210371696085e-33\n",
            "9.464210371696085e-33\n",
            "9.464210371696085e-33\n",
            "9.464210371696085e-33\n",
            "9.464210371696085e-33\n",
            "9.464210371696085e-33\n",
            "9.464210371696085e-33\n",
            "9.464210371696085e-33\n",
            "9.464210371696085e-33\n",
            "9.464210371696085e-33\n",
            "9.464210371696085e-33\n",
            "9.464210371696085e-33\n",
            "9.464210371696085e-33\n",
            "9.464210371696085e-33\n",
            "9.464210371696085e-33\n",
            "9.464210371696085e-33\n",
            "9.464210371696085e-33\n",
            "9.464210371696085e-33\n",
            "9.464210371696085e-33\n",
            "9.464210371696085e-33\n",
            "9.464210371696085e-33\n",
            "9.464210371696085e-33\n",
            "9.464210371696085e-33\n",
            "9.464210371696085e-33\n",
            "9.464210371696085e-33\n",
            "9.464210371696085e-33\n",
            "9.464210371696085e-33\n",
            "9.464210371696085e-33\n",
            "9.464210371696085e-33\n",
            "9.464210371696085e-33\n",
            "9.464210371696085e-33\n",
            "9.464210371696085e-33\n",
            "9.464210371696085e-33\n",
            "9.464210371696085e-33\n",
            "9.464210371696085e-33\n",
            "9.464210371696085e-33\n",
            "9.464210371696085e-33\n",
            "9.464210371696085e-33\n",
            "9.464210371696085e-33\n",
            "9.464210371696085e-33\n",
            "9.464210371696085e-33\n",
            "9.464210371696085e-33\n",
            "9.464210371696085e-33\n",
            "9.464210371696085e-33\n",
            "9.464210371696085e-33\n",
            "9.464210371696085e-33\n",
            "9.464210371696085e-33\n",
            "9.464210371696085e-33\n",
            "9.464210371696085e-33\n",
            "9.464210371696085e-33\n",
            "9.464210371696085e-33\n",
            "9.464210371696085e-33\n",
            "9.464210371696085e-33\n",
            "9.464210371696085e-33\n",
            "9.464210371696085e-33\n",
            "9.464210371696085e-33\n",
            "7.560675698609687e-33\n",
            "5.6066295088472726e-33\n",
            "4.275336642487749e-33\n",
            "3.988826476192121e-33\n",
            "3.875442473500493e-33\n",
            "3.714933325588258e-33\n",
            "3.593252189747732e-33\n",
            "2.9047288841666345e-33\n",
            "2.2865431055869814e-33\n",
            "1.970093907098824e-33\n",
            "1.61527787034759e-33\n",
            "1.1210746977684789e-33\n",
            "8.493966922450289e-34\n",
            "2.8863206252749205e-34\n",
            "4.2390975184465055e-35\n"
          ]
        }
      ]
    },
    {
      "cell_type": "code",
      "source": [
        "plt.plot(np.cumsum(pca.explained_variance_ratio_))\n",
        "plt.xlabel('Number of Components')\n",
        "plt.ylabel('Cumulative Explained Variance')\n",
        "plt.savefig('elbow',dpi=100)"
      ],
      "metadata": {
        "colab": {
          "base_uri": "https://localhost:8080/",
          "height": 279
        },
        "id": "n087S1oB0quu",
        "outputId": "32388e08-3319-4d45-d69e-8fbe0db5ff18"
      },
      "execution_count": null,
      "outputs": [
        {
          "output_type": "display_data",
          "data": {
            "text/plain": [
              "<Figure size 432x288 with 1 Axes>"
            ],
            "image/png": "[encoded data removed]"
          },
          "metadata": {
            "needs_background": "light"
          }
        }
      ]
    },
    {
      "cell_type": "markdown",
      "source": [
        "**2. In how many components we are getting approximately 90% of explained\n",
        "Variance.**"
      ],
      "metadata": {
        "id": "vJrEM9ohxQ8t"
      }
    },
    {
      "cell_type": "markdown",
      "source": [
        "WE ARE GETTING APPROX 83%"
      ],
      "metadata": {
        "id": "W3uzDxInAQ5q"
      }
    },
    {
      "cell_type": "code",
      "source": [
        "X=sales_Scale\n",
        "y=sales2"
      ],
      "metadata": {
        "id": "jxAm-RC9yPQd"
      },
      "execution_count": null,
      "outputs": []
    },
    {
      "cell_type": "markdown",
      "source": [
        "# **LDA**"
      ],
      "metadata": {
        "id": "6x_gcUDbymGM"
      }
    },
    {
      "cell_type": "markdown",
      "source": [
        "**1. Split the dataset into two parts (i.e. 80% train and 20% test) using\n",
        "random_state=42.**"
      ],
      "metadata": {
        "id": "FEJ_qK5Oyr-A"
      }
    },
    {
      "cell_type": "code",
      "source": [
        "X_train,X_test,y_train,y_test=train_test_split(X,y,test_size=0.2,random_state=42)"
      ],
      "metadata": {
        "id": "mDby8XAuyy1-"
      },
      "execution_count": null,
      "outputs": []
    },
    {
      "cell_type": "markdown",
      "source": [
        "**2. Train a Linear Discriminant Analysis(LDA) model on the train data. Do\n",
        "fit_transform on the train data and only transform on the test data. Use\n",
        "n_components=1.**"
      ],
      "metadata": {
        "id": "BSF0PZoV2jTF"
      }
    },
    {
      "cell_type": "code",
      "source": [
        "lda=LDA(n_components=1)\n",
        "X_train_lda=lda.fit_transform(X_train,y_train)\n",
        "X_test_lda=lda.transform(X_test)"
      ],
      "metadata": {
        "colab": {
          "base_uri": "https://localhost:8080/"
        },
        "id": "JhkXEDoy2uf9",
        "outputId": "63310811-5f8f-46b7-f166-f991a380db11"
      },
      "execution_count": null,
      "outputs": [
        {
          "output_type": "stream",
          "name": "stderr",
          "text": [
            "/usr/local/lib/python3.7/dist-packages/sklearn/utils/validation.py:993: DataConversionWarning: A column-vector y was passed when a 1d array was expected. Please change the shape of y to (n_samples, ), for example using ravel().\n",
            "  y = column_or_1d(y, warn=True)\n"
          ]
        }
      ]
    },
    {
      "cell_type": "markdown",
      "source": [
        "**3. Train a RandomForest classifier model on the transformed train and test\n",
        "data. Print the accuracy score.**"
      ],
      "metadata": {
        "id": "Bm5YPAhn4sjF"
      }
    },
    {
      "cell_type": "code",
      "source": [
        "RF=RandomForestClassifier(criterion='entropy',max_depth=250)\n",
        "RF.fit(X_train_lda,y_train)\n",
        "RF.score(X_test_lda,y_test)"
      ],
      "metadata": {
        "colab": {
          "base_uri": "https://localhost:8080/"
        },
        "id": "RXeDb3Ch4z0Y",
        "outputId": "fc10f98f-f477-4dd4-a0db-8d965f4d00d7"
      },
      "execution_count": null,
      "outputs": [
        {
          "output_type": "stream",
          "name": "stderr",
          "text": [
            "/usr/local/lib/python3.7/dist-packages/ipykernel_launcher.py:2: DataConversionWarning: A column-vector y was passed when a 1d array was expected. Please change the shape of y to (n_samples,), for example using ravel().\n",
            "  \n"
          ]
        },
        {
          "output_type": "execute_result",
          "data": {
            "text/plain": [
              "0.8831858407079646"
            ]
          },
          "metadata": {},
          "execution_count": 359
        }
      ]
    }
  ]
}