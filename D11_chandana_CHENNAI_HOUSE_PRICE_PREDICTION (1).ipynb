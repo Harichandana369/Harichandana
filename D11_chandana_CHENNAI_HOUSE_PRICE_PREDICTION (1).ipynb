{
  "nbformat": 4,
  "nbformat_minor": 0,
  "metadata": {
    "colab": {
      "name": "D11-chandana-CHENNAI HOUSE PRICE PREDICTION",
      "provenance": [],
      "collapsed_sections": [
        "L2pFcFgtw2eo",
        "rsgoJreLLlDB",
        "n5uqSNi7tQxz",
        "IhouPPb0w3gy",
        "kowsHjTN7781",
        "vLymt2p1ylYx",
        "AO6GZ83CzYEu",
        "5UtWyZOlzD3Y"
      ]
    },
    "kernelspec": {
      "name": "python3",
      "display_name": "Python 3"
    },
    "language_info": {
      "name": "python"
    }
  },
  "cells": [
    {
      "cell_type": "markdown",
      "source": [
        "# **PROBLEM STATEMENT**"
      ],
      "metadata": {
        "id": "L2pFcFgtw2eo"
      }
    },
    {
      "cell_type": "markdown",
      "source": [
        "Chennai house sale price data is shared here, we are expected to build a sale price prediction model that will aid the customers to find a fair price for their homes and also help the sellers understand what factors are fetching more money for the houses.\n"
      ],
      "metadata": {
        "id": "-ZxreNKcxecN"
      }
    },
    {
      "cell_type": "markdown",
      "source": [
        "# **DATA CLEANING**"
      ],
      "metadata": {
        "id": "ZBx_CBPjx6fh"
      }
    },
    {
      "cell_type": "markdown",
      "source": [
        "**WE START WITH IMPORTING THE REQUIRED PACKAGES**"
      ],
      "metadata": {
        "id": "D-v97VxwzImv"
      }
    },
    {
      "cell_type": "code",
      "execution_count": null,
      "metadata": {
        "id": "pacBkONHkwdp"
      },
      "outputs": [],
      "source": [
        "import pandas as pd\n",
        "import numpy as np\n",
        "import seaborn as sns\n",
        "import matplotlib.pyplot as plt\n",
        "import mpl_toolkits\n",
        "from sklearn.linear_model import LinearRegression\n",
        "from sklearn import tree\n",
        "from sklearn.tree import DecisionTreeRegressor\n",
        "from sklearn.neighbors import KNeighborsRegressor\n",
        "from sklearn.ensemble import RandomForestRegressor\n",
        "import xgboost as xgb\n",
        "from sklearn.model_selection import train_test_split\n",
        "from sklearn import preprocessing\n",
        "from sklearn.model_selection import cross_val_score\n",
        "from sklearn import metrics\n",
        "import warnings \n",
        "warnings.filterwarnings('ignore')\n",
        "\n"
      ]
    },
    {
      "cell_type": "markdown",
      "source": [
        "**UPLOAD THE DATASET**\n",
        "\n"
      ],
      "metadata": {
        "id": "PFde7zb21hNn"
      }
    },
    {
      "cell_type": "code",
      "source": [
        "chennaiHouse=pd.read_csv(\"train-chennai-sale.csv\")\n",
        "chennaiHouse.head()"
      ],
      "metadata": {
        "colab": {
          "base_uri": "https://localhost:8080/",
          "height": 356
        },
        "id": "9EOhz6yPAaue",
        "outputId": "f8b19d70-cc9b-45df-aac0-7fb7f9bfd4ec"
      },
      "execution_count": null,
      "outputs": [
        {
          "output_type": "execute_result",
          "data": {
            "text/html": [
              "\n",
              "  <div id=\"df-352882bc-e148-4db1-b8d8-fdc72e4433a0\">\n",
              "    <div class=\"colab-df-container\">\n",
              "      <div>\n",
              "<style scoped>\n",
              "    .dataframe tbody tr th:only-of-type {\n",
              "        vertical-align: middle;\n",
              "    }\n",
              "\n",
              "    .dataframe tbody tr th {\n",
              "        vertical-align: top;\n",
              "    }\n",
              "\n",
              "    .dataframe thead th {\n",
              "        text-align: right;\n",
              "    }\n",
              "</style>\n",
              "<table border=\"1\" class=\"dataframe\">\n",
              "  <thead>\n",
              "    <tr style=\"text-align: right;\">\n",
              "      <th></th>\n",
              "      <th>PRT_ID</th>\n",
              "      <th>AREA</th>\n",
              "      <th>INT_SQFT</th>\n",
              "      <th>DATE_SALE</th>\n",
              "      <th>DIST_MAINROAD</th>\n",
              "      <th>N_BEDROOM</th>\n",
              "      <th>N_BATHROOM</th>\n",
              "      <th>N_ROOM</th>\n",
              "      <th>SALE_COND</th>\n",
              "      <th>PARK_FACIL</th>\n",
              "      <th>DATE_BUILD</th>\n",
              "      <th>BUILDTYPE</th>\n",
              "      <th>UTILITY_AVAIL</th>\n",
              "      <th>STREET</th>\n",
              "      <th>MZZONE</th>\n",
              "      <th>QS_ROOMS</th>\n",
              "      <th>QS_BATHROOM</th>\n",
              "      <th>QS_BEDROOM</th>\n",
              "      <th>QS_OVERALL</th>\n",
              "      <th>REG_FEE</th>\n",
              "      <th>COMMIS</th>\n",
              "      <th>SALES_PRICE</th>\n",
              "    </tr>\n",
              "  </thead>\n",
              "  <tbody>\n",
              "    <tr>\n",
              "      <th>0</th>\n",
              "      <td>P03210</td>\n",
              "      <td>Karapakkam</td>\n",
              "      <td>1004</td>\n",
              "      <td>04-05-2011</td>\n",
              "      <td>131</td>\n",
              "      <td>1.0</td>\n",
              "      <td>1.0</td>\n",
              "      <td>3</td>\n",
              "      <td>AbNormal</td>\n",
              "      <td>Yes</td>\n",
              "      <td>15-05-1967</td>\n",
              "      <td>Commercial</td>\n",
              "      <td>AllPub</td>\n",
              "      <td>Paved</td>\n",
              "      <td>A</td>\n",
              "      <td>4.0</td>\n",
              "      <td>3.9</td>\n",
              "      <td>4.9</td>\n",
              "      <td>4.330</td>\n",
              "      <td>380000</td>\n",
              "      <td>144400</td>\n",
              "      <td>7600000</td>\n",
              "    </tr>\n",
              "    <tr>\n",
              "      <th>1</th>\n",
              "      <td>P09411</td>\n",
              "      <td>Anna Nagar</td>\n",
              "      <td>1986</td>\n",
              "      <td>19-12-2006</td>\n",
              "      <td>26</td>\n",
              "      <td>2.0</td>\n",
              "      <td>1.0</td>\n",
              "      <td>5</td>\n",
              "      <td>AbNormal</td>\n",
              "      <td>No</td>\n",
              "      <td>22-12-1995</td>\n",
              "      <td>Commercial</td>\n",
              "      <td>AllPub</td>\n",
              "      <td>Gravel</td>\n",
              "      <td>RH</td>\n",
              "      <td>4.9</td>\n",
              "      <td>4.2</td>\n",
              "      <td>2.5</td>\n",
              "      <td>3.765</td>\n",
              "      <td>760122</td>\n",
              "      <td>304049</td>\n",
              "      <td>21717770</td>\n",
              "    </tr>\n",
              "    <tr>\n",
              "      <th>2</th>\n",
              "      <td>P01812</td>\n",
              "      <td>Adyar</td>\n",
              "      <td>909</td>\n",
              "      <td>04-02-2012</td>\n",
              "      <td>70</td>\n",
              "      <td>1.0</td>\n",
              "      <td>1.0</td>\n",
              "      <td>3</td>\n",
              "      <td>AbNormal</td>\n",
              "      <td>Yes</td>\n",
              "      <td>09-02-1992</td>\n",
              "      <td>Commercial</td>\n",
              "      <td>ELO</td>\n",
              "      <td>Gravel</td>\n",
              "      <td>RL</td>\n",
              "      <td>4.1</td>\n",
              "      <td>3.8</td>\n",
              "      <td>2.2</td>\n",
              "      <td>3.090</td>\n",
              "      <td>421094</td>\n",
              "      <td>92114</td>\n",
              "      <td>13159200</td>\n",
              "    </tr>\n",
              "    <tr>\n",
              "      <th>3</th>\n",
              "      <td>P05346</td>\n",
              "      <td>Velachery</td>\n",
              "      <td>1855</td>\n",
              "      <td>13-03-2010</td>\n",
              "      <td>14</td>\n",
              "      <td>3.0</td>\n",
              "      <td>2.0</td>\n",
              "      <td>5</td>\n",
              "      <td>Family</td>\n",
              "      <td>No</td>\n",
              "      <td>18-03-1988</td>\n",
              "      <td>Others</td>\n",
              "      <td>NoSewr</td>\n",
              "      <td>Paved</td>\n",
              "      <td>I</td>\n",
              "      <td>4.7</td>\n",
              "      <td>3.9</td>\n",
              "      <td>3.6</td>\n",
              "      <td>4.010</td>\n",
              "      <td>356321</td>\n",
              "      <td>77042</td>\n",
              "      <td>9630290</td>\n",
              "    </tr>\n",
              "    <tr>\n",
              "      <th>4</th>\n",
              "      <td>P06210</td>\n",
              "      <td>Karapakkam</td>\n",
              "      <td>1226</td>\n",
              "      <td>05-10-2009</td>\n",
              "      <td>84</td>\n",
              "      <td>1.0</td>\n",
              "      <td>1.0</td>\n",
              "      <td>3</td>\n",
              "      <td>AbNormal</td>\n",
              "      <td>Yes</td>\n",
              "      <td>13-10-1979</td>\n",
              "      <td>Others</td>\n",
              "      <td>AllPub</td>\n",
              "      <td>Gravel</td>\n",
              "      <td>C</td>\n",
              "      <td>3.0</td>\n",
              "      <td>2.5</td>\n",
              "      <td>4.1</td>\n",
              "      <td>3.290</td>\n",
              "      <td>237000</td>\n",
              "      <td>74063</td>\n",
              "      <td>7406250</td>\n",
              "    </tr>\n",
              "  </tbody>\n",
              "</table>\n",
              "</div>\n",
              "      <button class=\"colab-df-convert\" onclick=\"convertToInteractive('df-352882bc-e148-4db1-b8d8-fdc72e4433a0')\"\n",
              "              title=\"Convert this dataframe to an interactive table.\"\n",
              "              style=\"display:none;\">\n",
              "        \n",
              "  <svg xmlns=\"http://www.w3.org/2000/svg\" height=\"24px\"viewBox=\"0 0 24 24\"\n",
              "       width=\"24px\">\n",
              "    <path d=\"M0 0h24v24H0V0z\" fill=\"none\"/>\n",
              "    <path d=\"M18.56 5.44l.94 2.06.94-2.06 2.06-.94-2.06-.94-.94-2.06-.94 2.06-2.06.94zm-11 1L8.5 8.5l.94-2.06 2.06-.94-2.06-.94L8.5 2.5l-.94 2.06-2.06.94zm10 10l.94 2.06.94-2.06 2.06-.94-2.06-.94-.94-2.06-.94 2.06-2.06.94z\"/><path d=\"M17.41 7.96l-1.37-1.37c-.4-.4-.92-.59-1.43-.59-.52 0-1.04.2-1.43.59L10.3 9.45l-7.72 7.72c-.78.78-.78 2.05 0 2.83L4 21.41c.39.39.9.59 1.41.59.51 0 1.02-.2 1.41-.59l7.78-7.78 2.81-2.81c.8-.78.8-2.07 0-2.86zM5.41 20L4 18.59l7.72-7.72 1.47 1.35L5.41 20z\"/>\n",
              "  </svg>\n",
              "      </button>\n",
              "      \n",
              "  <style>\n",
              "    .colab-df-container {\n",
              "      display:flex;\n",
              "      flex-wrap:wrap;\n",
              "      gap: 12px;\n",
              "    }\n",
              "\n",
              "    .colab-df-convert {\n",
              "      background-color: #E8F0FE;\n",
              "      border: none;\n",
              "      border-radius: 50%;\n",
              "      cursor: pointer;\n",
              "      display: none;\n",
              "      fill: #1967D2;\n",
              "      height: 32px;\n",
              "      padding: 0 0 0 0;\n",
              "      width: 32px;\n",
              "    }\n",
              "\n",
              "    .colab-df-convert:hover {\n",
              "      background-color: #E2EBFA;\n",
              "      box-shadow: 0px 1px 2px rgba(60, 64, 67, 0.3), 0px 1px 3px 1px rgba(60, 64, 67, 0.15);\n",
              "      fill: #174EA6;\n",
              "    }\n",
              "\n",
              "    [theme=dark] .colab-df-convert {\n",
              "      background-color: #3B4455;\n",
              "      fill: #D2E3FC;\n",
              "    }\n",
              "\n",
              "    [theme=dark] .colab-df-convert:hover {\n",
              "      background-color: #434B5C;\n",
              "      box-shadow: 0px 1px 3px 1px rgba(0, 0, 0, 0.15);\n",
              "      filter: drop-shadow(0px 1px 2px rgba(0, 0, 0, 0.3));\n",
              "      fill: #FFFFFF;\n",
              "    }\n",
              "  </style>\n",
              "\n",
              "      <script>\n",
              "        const buttonEl =\n",
              "          document.querySelector('#df-352882bc-e148-4db1-b8d8-fdc72e4433a0 button.colab-df-convert');\n",
              "        buttonEl.style.display =\n",
              "          google.colab.kernel.accessAllowed ? 'block' : 'none';\n",
              "\n",
              "        async function convertToInteractive(key) {\n",
              "          const element = document.querySelector('#df-352882bc-e148-4db1-b8d8-fdc72e4433a0');\n",
              "          const dataTable =\n",
              "            await google.colab.kernel.invokeFunction('convertToInteractive',\n",
              "                                                     [key], {});\n",
              "          if (!dataTable) return;\n",
              "\n",
              "          const docLinkHtml = 'Like what you see? Visit the ' +\n",
              "            '<a target=\"_blank\" href=https://colab.research.google.com/notebooks/data_table.ipynb>data table notebook</a>'\n",
              "            + ' to learn more about interactive tables.';\n",
              "          element.innerHTML = '';\n",
              "          dataTable['output_type'] = 'display_data';\n",
              "          await google.colab.output.renderOutput(dataTable, element);\n",
              "          const docLink = document.createElement('div');\n",
              "          docLink.innerHTML = docLinkHtml;\n",
              "          element.appendChild(docLink);\n",
              "        }\n",
              "      </script>\n",
              "    </div>\n",
              "  </div>\n",
              "  "
            ],
            "text/plain": [
              "   PRT_ID        AREA  INT_SQFT  ... REG_FEE  COMMIS  SALES_PRICE\n",
              "0  P03210  Karapakkam      1004  ...  380000  144400      7600000\n",
              "1  P09411  Anna Nagar      1986  ...  760122  304049     21717770\n",
              "2  P01812       Adyar       909  ...  421094   92114     13159200\n",
              "3  P05346   Velachery      1855  ...  356321   77042      9630290\n",
              "4  P06210  Karapakkam      1226  ...  237000   74063      7406250\n",
              "\n",
              "[5 rows x 22 columns]"
            ]
          },
          "metadata": {},
          "execution_count": 120
        }
      ]
    },
    {
      "cell_type": "markdown",
      "source": [
        "**LIST ALL THE FEATURES AND THEIR DATATYPES**\n"
      ],
      "metadata": {
        "id": "fNQDjt2A1_4Q"
      }
    },
    {
      "cell_type": "code",
      "source": [
        "chennaiHouse.info()"
      ],
      "metadata": {
        "colab": {
          "base_uri": "https://localhost:8080/"
        },
        "id": "WGgFn4dIBMmB",
        "outputId": "6096c28e-a1c8-4285-faa1-13d9065a667a"
      },
      "execution_count": null,
      "outputs": [
        {
          "output_type": "stream",
          "name": "stdout",
          "text": [
            "<class 'pandas.core.frame.DataFrame'>\n",
            "RangeIndex: 7109 entries, 0 to 7108\n",
            "Data columns (total 22 columns):\n",
            " #   Column         Non-Null Count  Dtype  \n",
            "---  ------         --------------  -----  \n",
            " 0   PRT_ID         7109 non-null   object \n",
            " 1   AREA           7109 non-null   object \n",
            " 2   INT_SQFT       7109 non-null   int64  \n",
            " 3   DATE_SALE      7109 non-null   object \n",
            " 4   DIST_MAINROAD  7109 non-null   int64  \n",
            " 5   N_BEDROOM      7108 non-null   float64\n",
            " 6   N_BATHROOM     7104 non-null   float64\n",
            " 7   N_ROOM         7109 non-null   int64  \n",
            " 8   SALE_COND      7109 non-null   object \n",
            " 9   PARK_FACIL     7109 non-null   object \n",
            " 10  DATE_BUILD     7109 non-null   object \n",
            " 11  BUILDTYPE      7109 non-null   object \n",
            " 12  UTILITY_AVAIL  7109 non-null   object \n",
            " 13  STREET         7109 non-null   object \n",
            " 14  MZZONE         7109 non-null   object \n",
            " 15  QS_ROOMS       7109 non-null   float64\n",
            " 16  QS_BATHROOM    7109 non-null   float64\n",
            " 17  QS_BEDROOM     7109 non-null   float64\n",
            " 18  QS_OVERALL     7061 non-null   float64\n",
            " 19  REG_FEE        7109 non-null   int64  \n",
            " 20  COMMIS         7109 non-null   int64  \n",
            " 21  SALES_PRICE    7109 non-null   int64  \n",
            "dtypes: float64(6), int64(6), object(10)\n",
            "memory usage: 1.2+ MB\n"
          ]
        }
      ]
    },
    {
      "cell_type": "markdown",
      "source": [
        "**CHECK FOR NULL VALUES**"
      ],
      "metadata": {
        "id": "PbSjaLmJ2QZ5"
      }
    },
    {
      "cell_type": "code",
      "source": [
        "chennaiHouse.isnull().sum()"
      ],
      "metadata": {
        "colab": {
          "base_uri": "https://localhost:8080/"
        },
        "id": "ZMIbcf6hBo8E",
        "outputId": "663472dc-5605-4cd6-9fd2-e4ba73d8c9ca"
      },
      "execution_count": null,
      "outputs": [
        {
          "output_type": "execute_result",
          "data": {
            "text/plain": [
              "PRT_ID            0\n",
              "AREA              0\n",
              "INT_SQFT          0\n",
              "DATE_SALE         0\n",
              "DIST_MAINROAD     0\n",
              "N_BEDROOM         1\n",
              "N_BATHROOM        5\n",
              "N_ROOM            0\n",
              "SALE_COND         0\n",
              "PARK_FACIL        0\n",
              "DATE_BUILD        0\n",
              "BUILDTYPE         0\n",
              "UTILITY_AVAIL     0\n",
              "STREET            0\n",
              "MZZONE            0\n",
              "QS_ROOMS          0\n",
              "QS_BATHROOM       0\n",
              "QS_BEDROOM        0\n",
              "QS_OVERALL       48\n",
              "REG_FEE           0\n",
              "COMMIS            0\n",
              "SALES_PRICE       0\n",
              "dtype: int64"
            ]
          },
          "metadata": {},
          "execution_count": 122
        }
      ]
    },
    {
      "cell_type": "markdown",
      "source": [
        "**NULL VALUES ARE DROPPED AS THEY ARE LESS IN NUMBER**"
      ],
      "metadata": {
        "id": "roEjxMSZ2_Uq"
      }
    },
    {
      "cell_type": "code",
      "source": [
        "chennaiHouse=chennaiHouse.dropna()\n",
        "chennaiHouse.shape"
      ],
      "metadata": {
        "colab": {
          "base_uri": "https://localhost:8080/"
        },
        "id": "3pd04wLqB2zN",
        "outputId": "1c06aad0-e114-4da2-a376-b560c5e22e45"
      },
      "execution_count": null,
      "outputs": [
        {
          "output_type": "execute_result",
          "data": {
            "text/plain": [
              "(7056, 22)"
            ]
          },
          "metadata": {},
          "execution_count": 123
        }
      ]
    },
    {
      "cell_type": "markdown",
      "source": [
        "**FOR EACH DISCRETE FEATURE UNIQUE VALUES ARE LISTED AND SPELLING MISTAKES ARE RECTIFIED**"
      ],
      "metadata": {
        "id": "xPj1BhNr5MS4"
      }
    },
    {
      "cell_type": "code",
      "source": [
        "chennaiHouse.columns"
      ],
      "metadata": {
        "colab": {
          "base_uri": "https://localhost:8080/"
        },
        "id": "-qrtIvZ-CHf3",
        "outputId": "a1ef7b8e-f298-404d-fd86-d3538532cd49"
      },
      "execution_count": null,
      "outputs": [
        {
          "output_type": "execute_result",
          "data": {
            "text/plain": [
              "Index(['PRT_ID', 'AREA', 'INT_SQFT', 'DATE_SALE', 'DIST_MAINROAD', 'N_BEDROOM',\n",
              "       'N_BATHROOM', 'N_ROOM', 'SALE_COND', 'PARK_FACIL', 'DATE_BUILD',\n",
              "       'BUILDTYPE', 'UTILITY_AVAIL', 'STREET', 'MZZONE', 'QS_ROOMS',\n",
              "       'QS_BATHROOM', 'QS_BEDROOM', 'QS_OVERALL', 'REG_FEE', 'COMMIS',\n",
              "       'SALES_PRICE'],\n",
              "      dtype='object')"
            ]
          },
          "metadata": {},
          "execution_count": 124
        }
      ]
    },
    {
      "cell_type": "code",
      "source": [
        "chennaiHouse['AREA'].value_counts()"
      ],
      "metadata": {
        "colab": {
          "base_uri": "https://localhost:8080/"
        },
        "id": "xohscnaOCmU4",
        "outputId": "802a74b6-f901-4c3a-a96c-f5692662cfb1"
      },
      "execution_count": null,
      "outputs": [
        {
          "output_type": "execute_result",
          "data": {
            "text/plain": [
              "Chrompet      1671\n",
              "Karapakkam    1356\n",
              "KK Nagar       989\n",
              "Velachery      973\n",
              "Anna Nagar     772\n",
              "Adyar          768\n",
              "T Nagar        490\n",
              "Chrompt          9\n",
              "Chrmpet          6\n",
              "TNagar           5\n",
              "Chormpet         5\n",
              "Karapakam        3\n",
              "Ana Nagar        3\n",
              "Ann Nagar        2\n",
              "Velchery         2\n",
              "KKNagar          1\n",
              "Adyr             1\n",
              "Name: AREA, dtype: int64"
            ]
          },
          "metadata": {},
          "execution_count": 125
        }
      ]
    },
    {
      "cell_type": "code",
      "source": [
        "chennaiHouse['AREA'].replace(\"Karapakam\",\"Karapakkam\",inplace=True)\n",
        "chennaiHouse['AREA'].replace(\"KKNagar\",\"KK Nagar\",inplace=True)\n",
        "chennaiHouse['AREA'].replace(\"Ann Nagar\",\"Anna Nagar\",inplace=True)\n",
        "chennaiHouse['AREA'].replace(\"Ana Nagar\",\"Anna Nagar\",inplace=True)\n",
        "chennaiHouse['AREA'].replace(\"Adyr\",\"Adyar\",inplace=True)\n",
        "chennaiHouse['AREA'].replace(\"Chrompt\",\"Chrompet\",inplace=True)\n",
        "chennaiHouse['AREA'].replace(\"Chrmpet\",\"Chrompet\",inplace=True)\n",
        "chennaiHouse['AREA'].replace(\"Chormpet\",\"Chrompet\",inplace=True)\n",
        "chennaiHouse['AREA'].replace(\"TNagar\",\"T Nagar\",inplace=True)\n",
        "chennaiHouse['AREA'].replace(\"Velchery\",\"Velachery\",inplace=True)\n",
        "chennaiHouse['AREA'].value_counts()"
      ],
      "metadata": {
        "colab": {
          "base_uri": "https://localhost:8080/"
        },
        "id": "WesMiRq7Dqme",
        "outputId": "25cacf4e-10a2-468c-92ce-9318a17fe269"
      },
      "execution_count": null,
      "outputs": [
        {
          "output_type": "execute_result",
          "data": {
            "text/plain": [
              "Chrompet      1691\n",
              "Karapakkam    1359\n",
              "KK Nagar       990\n",
              "Velachery      975\n",
              "Anna Nagar     777\n",
              "Adyar          769\n",
              "T Nagar        495\n",
              "Name: AREA, dtype: int64"
            ]
          },
          "metadata": {},
          "execution_count": 126
        }
      ]
    },
    {
      "cell_type": "code",
      "source": [
        "chennaiHouse['SALE_COND'].value_counts()"
      ],
      "metadata": {
        "colab": {
          "base_uri": "https://localhost:8080/"
        },
        "id": "LQNQ4yBdIt-6",
        "outputId": "a3008867-063a-4911-d277-1e2a5154643c"
      },
      "execution_count": null,
      "outputs": [
        {
          "output_type": "execute_result",
          "data": {
            "text/plain": [
              "AdjLand        1426\n",
              "Normal Sale    1416\n",
              "Partial        1414\n",
              "AbNormal       1396\n",
              "Family         1390\n",
              "Adj Land          6\n",
              "Ab Normal         5\n",
              "Partiall          2\n",
              "PartiaLl          1\n",
              "Name: SALE_COND, dtype: int64"
            ]
          },
          "metadata": {},
          "execution_count": 127
        }
      ]
    },
    {
      "cell_type": "code",
      "source": [
        "chennaiHouse['SALE_COND'].replace(\"Adj Land\",\"AdjLand\",inplace=True)\n",
        "chennaiHouse['SALE_COND'].replace(\"Ab Normal\",\"AbNormal\",inplace=True)\n",
        "chennaiHouse['SALE_COND'].replace(\"Partiall\",\"Partial\",inplace=True)\n",
        "chennaiHouse['SALE_COND'].replace(\"PartiaLl\",\"Partial\",inplace=True)\n",
        "chennaiHouse['SALE_COND'].value_counts()"
      ],
      "metadata": {
        "colab": {
          "base_uri": "https://localhost:8080/"
        },
        "id": "EegP5BVQI89B",
        "outputId": "d1122f43-ce66-481f-d7fd-43bdccce2a36"
      },
      "execution_count": null,
      "outputs": [
        {
          "output_type": "execute_result",
          "data": {
            "text/plain": [
              "AdjLand        1432\n",
              "Partial        1417\n",
              "Normal Sale    1416\n",
              "AbNormal       1401\n",
              "Family         1390\n",
              "Name: SALE_COND, dtype: int64"
            ]
          },
          "metadata": {},
          "execution_count": 128
        }
      ]
    },
    {
      "cell_type": "code",
      "source": [
        "chennaiHouse['PARK_FACIL'].value_counts()"
      ],
      "metadata": {
        "colab": {
          "base_uri": "https://localhost:8080/"
        },
        "id": "GmViLLJrJs1h",
        "outputId": "98eefd94-a9b1-4d01-8fa8-1c1f18da2aed"
      },
      "execution_count": null,
      "outputs": [
        {
          "output_type": "execute_result",
          "data": {
            "text/plain": [
              "Yes    3557\n",
              "No     3498\n",
              "Noo       1\n",
              "Name: PARK_FACIL, dtype: int64"
            ]
          },
          "metadata": {},
          "execution_count": 129
        }
      ]
    },
    {
      "cell_type": "code",
      "source": [
        "chennaiHouse['PARK_FACIL'].replace(\"Noo\",\"No\",inplace=True)\n",
        "chennaiHouse['PARK_FACIL'].value_counts()"
      ],
      "metadata": {
        "colab": {
          "base_uri": "https://localhost:8080/"
        },
        "id": "5njxkn2qJ3Da",
        "outputId": "cc44540d-2147-4a3d-8567-70251f6e7010"
      },
      "execution_count": null,
      "outputs": [
        {
          "output_type": "execute_result",
          "data": {
            "text/plain": [
              "Yes    3557\n",
              "No     3499\n",
              "Name: PARK_FACIL, dtype: int64"
            ]
          },
          "metadata": {},
          "execution_count": 130
        }
      ]
    },
    {
      "cell_type": "code",
      "source": [
        "chennaiHouse['BUILDTYPE'].value_counts()"
      ],
      "metadata": {
        "colab": {
          "base_uri": "https://localhost:8080/"
        },
        "id": "x8-HS5FDKESg",
        "outputId": "b59df25c-6bcc-4c82-9a9b-5e6ca4442970"
      },
      "execution_count": null,
      "outputs": [
        {
          "output_type": "execute_result",
          "data": {
            "text/plain": [
              "House         2433\n",
              "Commercial    2307\n",
              "Others        2287\n",
              "Other           25\n",
              "Comercial        4\n",
              "Name: BUILDTYPE, dtype: int64"
            ]
          },
          "metadata": {},
          "execution_count": 131
        }
      ]
    },
    {
      "cell_type": "code",
      "source": [
        "chennaiHouse['BUILDTYPE'].replace(\"Other\",\"Others\",inplace=True)\n",
        "chennaiHouse['BUILDTYPE'].replace(\"Comercial\",\"Commercial\",inplace=True)\n",
        "chennaiHouse['BUILDTYPE'].value_counts()"
      ],
      "metadata": {
        "colab": {
          "base_uri": "https://localhost:8080/"
        },
        "id": "j_ZTZH5RKNqu",
        "outputId": "aae57ed0-a7ec-4e31-85a9-0b5adb1a7a7b"
      },
      "execution_count": null,
      "outputs": [
        {
          "output_type": "execute_result",
          "data": {
            "text/plain": [
              "House         2433\n",
              "Others        2312\n",
              "Commercial    2311\n",
              "Name: BUILDTYPE, dtype: int64"
            ]
          },
          "metadata": {},
          "execution_count": 132
        }
      ]
    },
    {
      "cell_type": "code",
      "source": [
        "chennaiHouse['UTILITY_AVAIL'].value_counts()"
      ],
      "metadata": {
        "colab": {
          "base_uri": "https://localhost:8080/"
        },
        "id": "Te5PHUv_Kmq8",
        "outputId": "673887e1-43d6-4946-9c69-7382020747df"
      },
      "execution_count": null,
      "outputs": [
        {
          "output_type": "execute_result",
          "data": {
            "text/plain": [
              "AllPub     1874\n",
              "NoSeWa     1860\n",
              "NoSewr     1812\n",
              "ELO        1509\n",
              "All Pub       1\n",
              "Name: UTILITY_AVAIL, dtype: int64"
            ]
          },
          "metadata": {},
          "execution_count": 133
        }
      ]
    },
    {
      "cell_type": "code",
      "source": [
        "chennaiHouse['UTILITY_AVAIL'].replace(\"All Pub\",\"AllPub\",inplace=True)\n",
        "chennaiHouse['UTILITY_AVAIL'].value_counts()"
      ],
      "metadata": {
        "colab": {
          "base_uri": "https://localhost:8080/"
        },
        "id": "tSLKghxVTzcJ",
        "outputId": "636a5468-1e17-4176-e84c-ea9be371c022"
      },
      "execution_count": null,
      "outputs": [
        {
          "output_type": "execute_result",
          "data": {
            "text/plain": [
              "AllPub     1875\n",
              "NoSeWa     1860\n",
              "NoSewr     1812\n",
              "ELO        1509\n",
              "Name: UTILITY_AVAIL, dtype: int64"
            ]
          },
          "metadata": {},
          "execution_count": 134
        }
      ]
    },
    {
      "cell_type": "code",
      "source": [
        "chennaiHouse['STREET'].value_counts()"
      ],
      "metadata": {
        "colab": {
          "base_uri": "https://localhost:8080/"
        },
        "id": "_cZQvgTWqj2H",
        "outputId": "7f57963e-426c-4385-cab9-cc7a6073312f"
      },
      "execution_count": null,
      "outputs": [
        {
          "output_type": "execute_result",
          "data": {
            "text/plain": [
              "Paved        2542\n",
              "Gravel       2502\n",
              "No Access    1993\n",
              "Pavd           12\n",
              "NoAccess        7\n",
              "Name: STREET, dtype: int64"
            ]
          },
          "metadata": {},
          "execution_count": 135
        }
      ]
    },
    {
      "cell_type": "code",
      "source": [
        "chennaiHouse['STREET'].replace(\"Pavd\",\"Paved\",inplace=True)\n",
        "chennaiHouse['STREET'].replace(\"NoAccess\",\"No Access\",inplace=True)\n",
        "chennaiHouse['STREET'].value_counts()"
      ],
      "metadata": {
        "colab": {
          "base_uri": "https://localhost:8080/"
        },
        "id": "toGl8kWouX-Y",
        "outputId": "cb9b22d1-4e5e-4cf8-86d7-cda80ed6fd5c"
      },
      "execution_count": null,
      "outputs": [
        {
          "output_type": "execute_result",
          "data": {
            "text/plain": [
              "Paved        2554\n",
              "Gravel       2502\n",
              "No Access    2000\n",
              "Name: STREET, dtype: int64"
            ]
          },
          "metadata": {},
          "execution_count": 136
        }
      ]
    },
    {
      "cell_type": "code",
      "source": [
        "chennaiHouse['MZZONE'].value_counts()"
      ],
      "metadata": {
        "colab": {
          "base_uri": "https://localhost:8080/"
        },
        "id": "DuDtMNzy7gyk",
        "outputId": "7d3edabc-ec52-477d-8f2f-f57af2de2f46"
      },
      "execution_count": null,
      "outputs": [
        {
          "output_type": "execute_result",
          "data": {
            "text/plain": [
              "RL    1849\n",
              "RH    1808\n",
              "RM    1801\n",
              "C      547\n",
              "A      533\n",
              "I      518\n",
              "Name: MZZONE, dtype: int64"
            ]
          },
          "metadata": {},
          "execution_count": 137
        }
      ]
    },
    {
      "cell_type": "code",
      "source": [
        "chennaiHouse['INT_SQFT'].describe()"
      ],
      "metadata": {
        "colab": {
          "base_uri": "https://localhost:8080/"
        },
        "id": "eiBdaQTsutRF",
        "outputId": "55e20bfb-8fb8-44bd-ce4a-05d1ffc3a9d2"
      },
      "execution_count": null,
      "outputs": [
        {
          "output_type": "execute_result",
          "data": {
            "text/plain": [
              "count    7056.000000\n",
              "mean     1381.316752\n",
              "std       457.860850\n",
              "min       500.000000\n",
              "25%       991.000000\n",
              "50%      1369.500000\n",
              "75%      1744.000000\n",
              "max      2500.000000\n",
              "Name: INT_SQFT, dtype: float64"
            ]
          },
          "metadata": {},
          "execution_count": 138
        }
      ]
    },
    {
      "cell_type": "code",
      "source": [
        "chennaiHouse['SALES_PRICE'].describe()"
      ],
      "metadata": {
        "colab": {
          "base_uri": "https://localhost:8080/"
        },
        "id": "R5ffBdPT1PVI",
        "outputId": "6ba98095-bf37-447e-f41b-cb8d29569ffe"
      },
      "execution_count": null,
      "outputs": [
        {
          "output_type": "execute_result",
          "data": {
            "text/plain": [
              "count    7.056000e+03\n",
              "mean     1.088801e+07\n",
              "std      3.769081e+06\n",
              "min      2.156875e+06\n",
              "25%      8.266790e+06\n",
              "50%      1.031922e+07\n",
              "75%      1.298148e+07\n",
              "max      2.366734e+07\n",
              "Name: SALES_PRICE, dtype: float64"
            ]
          },
          "metadata": {},
          "execution_count": 139
        }
      ]
    },
    {
      "cell_type": "code",
      "source": [
        "chennaiHouse['DIST_MAINROAD'].describe()"
      ],
      "metadata": {
        "colab": {
          "base_uri": "https://localhost:8080/"
        },
        "id": "Oy8W-ypP1fNM",
        "outputId": "97854c31-1fa9-4eb0-c48a-ca7f597bb572"
      },
      "execution_count": null,
      "outputs": [
        {
          "output_type": "execute_result",
          "data": {
            "text/plain": [
              "count    7056.000000\n",
              "mean       99.569161\n",
              "std        57.403870\n",
              "min         0.000000\n",
              "25%        50.000000\n",
              "50%        99.000000\n",
              "75%       148.000000\n",
              "max       200.000000\n",
              "Name: DIST_MAINROAD, dtype: float64"
            ]
          },
          "metadata": {},
          "execution_count": 140
        }
      ]
    },
    {
      "cell_type": "code",
      "source": [
        "chennaiHouse['QS_ROOMS'].describe()"
      ],
      "metadata": {
        "colab": {
          "base_uri": "https://localhost:8080/"
        },
        "id": "HDXaSzfk2Uwk",
        "outputId": "64b1e268-3579-4e4c-8ee2-49be06af2ed4"
      },
      "execution_count": null,
      "outputs": [
        {
          "output_type": "execute_result",
          "data": {
            "text/plain": [
              "count    7056.000000\n",
              "mean        3.517177\n",
              "std         0.892141\n",
              "min         2.000000\n",
              "25%         2.700000\n",
              "50%         3.500000\n",
              "75%         4.300000\n",
              "max         5.000000\n",
              "Name: QS_ROOMS, dtype: float64"
            ]
          },
          "metadata": {},
          "execution_count": 141
        }
      ]
    },
    {
      "cell_type": "code",
      "source": [
        "chennaiHouse['QS_BATHROOM'].describe()"
      ],
      "metadata": {
        "colab": {
          "base_uri": "https://localhost:8080/"
        },
        "id": "ppwe8nJ_2kPh",
        "outputId": "3b078dbc-d631-4971-be60-3a0ea24b2381"
      },
      "execution_count": null,
      "outputs": [
        {
          "output_type": "execute_result",
          "data": {
            "text/plain": [
              "count    7056.000000\n",
              "mean        3.505896\n",
              "std         0.897644\n",
              "min         2.000000\n",
              "25%         2.700000\n",
              "50%         3.500000\n",
              "75%         4.300000\n",
              "max         5.000000\n",
              "Name: QS_BATHROOM, dtype: float64"
            ]
          },
          "metadata": {},
          "execution_count": 142
        }
      ]
    },
    {
      "cell_type": "code",
      "source": [
        "chennaiHouse['QS_BEDROOM'].describe()"
      ],
      "metadata": {
        "colab": {
          "base_uri": "https://localhost:8080/"
        },
        "id": "F0z6L3we2tjj",
        "outputId": "3cb672be-3fbe-4606-d928-18d63dce462f"
      },
      "execution_count": null,
      "outputs": [
        {
          "output_type": "execute_result",
          "data": {
            "text/plain": [
              "count    7056.000000\n",
              "mean        3.485332\n",
              "std         0.886814\n",
              "min         2.000000\n",
              "25%         2.700000\n",
              "50%         3.500000\n",
              "75%         4.300000\n",
              "max         5.000000\n",
              "Name: QS_BEDROOM, dtype: float64"
            ]
          },
          "metadata": {},
          "execution_count": 143
        }
      ]
    },
    {
      "cell_type": "markdown",
      "source": [
        "**FEATURES-NO OF BEDROOMS AND NO OF BATHROOMS ARE CHANGED TO INT DATATYPE**"
      ],
      "metadata": {
        "id": "GagHS_NHCkM4"
      }
    },
    {
      "cell_type": "code",
      "source": [
        "chennaiHouse['N_BEDROOM']=chennaiHouse['N_BEDROOM'].astype(int)\n",
        "chennaiHouse['N_BEDROOM'].describe()"
      ],
      "metadata": {
        "id": "5Vx0mRFtB9cR",
        "colab": {
          "base_uri": "https://localhost:8080/"
        },
        "outputId": "97d6f7a6-d78d-4785-b3f5-f976cea59d68"
      },
      "execution_count": null,
      "outputs": [
        {
          "output_type": "execute_result",
          "data": {
            "text/plain": [
              "count    7056.000000\n",
              "mean        1.636621\n",
              "std         0.803633\n",
              "min         1.000000\n",
              "25%         1.000000\n",
              "50%         1.000000\n",
              "75%         2.000000\n",
              "max         4.000000\n",
              "Name: N_BEDROOM, dtype: float64"
            ]
          },
          "metadata": {},
          "execution_count": 144
        }
      ]
    },
    {
      "cell_type": "code",
      "source": [
        "chennaiHouse['N_BATHROOM']=chennaiHouse['N_BATHROOM'].astype(int)\n",
        "chennaiHouse['N_BATHROOM'].describe()"
      ],
      "metadata": {
        "colab": {
          "base_uri": "https://localhost:8080/"
        },
        "id": "MFazSbyCEZ7I",
        "outputId": "279e0be1-5850-4130-a897-5b093e06c915"
      },
      "execution_count": null,
      "outputs": [
        {
          "output_type": "execute_result",
          "data": {
            "text/plain": [
              "count    7056.000000\n",
              "mean        1.213152\n",
              "std         0.409563\n",
              "min         1.000000\n",
              "25%         1.000000\n",
              "50%         1.000000\n",
              "75%         1.000000\n",
              "max         2.000000\n",
              "Name: N_BATHROOM, dtype: float64"
            ]
          },
          "metadata": {},
          "execution_count": 145
        }
      ]
    },
    {
      "cell_type": "code",
      "source": [
        "chennaiHouse['N_ROOM'].describe()"
      ],
      "metadata": {
        "colab": {
          "base_uri": "https://localhost:8080/"
        },
        "id": "p-EGHOkhEgQr",
        "outputId": "b98a1fc6-eacd-4297-e61c-0d0731ab1617"
      },
      "execution_count": null,
      "outputs": [
        {
          "output_type": "execute_result",
          "data": {
            "text/plain": [
              "count    7056.000000\n",
              "mean        3.686650\n",
              "std         1.020011\n",
              "min         2.000000\n",
              "25%         3.000000\n",
              "50%         4.000000\n",
              "75%         4.000000\n",
              "max         6.000000\n",
              "Name: N_ROOM, dtype: float64"
            ]
          },
          "metadata": {},
          "execution_count": 146
        }
      ]
    },
    {
      "cell_type": "code",
      "source": [
        "chennaiHouse['QS_OVERALL'].describe()"
      ],
      "metadata": {
        "colab": {
          "base_uri": "https://localhost:8080/"
        },
        "id": "EjwE9F0UE6m-",
        "outputId": "8a67bd69-7f20-4603-f7df-1a12b606ca81"
      },
      "execution_count": null,
      "outputs": [
        {
          "output_type": "execute_result",
          "data": {
            "text/plain": [
              "count    7056.000000\n",
              "mean        3.503389\n",
              "std         0.527313\n",
              "min         2.000000\n",
              "25%         3.130000\n",
              "50%         3.500000\n",
              "75%         3.890000\n",
              "max         4.970000\n",
              "Name: QS_OVERALL, dtype: float64"
            ]
          },
          "metadata": {},
          "execution_count": 147
        }
      ]
    },
    {
      "cell_type": "code",
      "source": [
        "chennaiHouse['REG_FEE'].describe()"
      ],
      "metadata": {
        "colab": {
          "base_uri": "https://localhost:8080/"
        },
        "id": "f5YZU69MFS-L",
        "outputId": "2bab8022-1891-41ae-9dcd-1794e8a3ec9f"
      },
      "execution_count": null,
      "outputs": [
        {
          "output_type": "execute_result",
          "data": {
            "text/plain": [
              "count      7056.000000\n",
              "mean     376791.852608\n",
              "std      143109.581793\n",
              "min       71177.000000\n",
              "25%      272117.500000\n",
              "50%      349444.500000\n",
              "75%      451030.500000\n",
              "max      983922.000000\n",
              "Name: REG_FEE, dtype: float64"
            ]
          },
          "metadata": {},
          "execution_count": 148
        }
      ]
    },
    {
      "cell_type": "code",
      "source": [
        "chennaiHouse['COMMIS'].describe()"
      ],
      "metadata": {
        "colab": {
          "base_uri": "https://localhost:8080/"
        },
        "id": "3_xNmarmFdp7",
        "outputId": "74f82d1f-db6b-47f9-ce70-4271bfd704c9"
      },
      "execution_count": null,
      "outputs": [
        {
          "output_type": "execute_result",
          "data": {
            "text/plain": [
              "count      7056.000000\n",
              "mean     140994.273384\n",
              "std       78774.465963\n",
              "min        5055.000000\n",
              "25%       84212.750000\n",
              "50%      127640.500000\n",
              "75%      184449.000000\n",
              "max      495405.000000\n",
              "Name: COMMIS, dtype: float64"
            ]
          },
          "metadata": {},
          "execution_count": 149
        }
      ]
    },
    {
      "cell_type": "markdown",
      "source": [
        "**DATE_BUILD AND DATE_SALE ARE CONVERTED TO DATETIME AND NEW COLUMNS YEAR_SOLD AND YEAR_BUILT ARE CREATED FOR CONVENIENCE**"
      ],
      "metadata": {
        "id": "al0QODewDDJD"
      }
    },
    {
      "cell_type": "code",
      "source": [
        "chennaiHouse.DATE_BUILD=pd.to_datetime(chennaiHouse['DATE_BUILD'])\n",
        "chennaiHouse.DATE_SALE=pd.to_datetime(chennaiHouse['DATE_SALE'])\n",
        "chennaiHouse['YEAR_SOLD']=pd.DatetimeIndex(chennaiHouse['DATE_SALE']).year\n",
        "chennaiHouse['YEAR_BUILT']=pd.DatetimeIndex(chennaiHouse['DATE_BUILD']).year\n",
        "chennaiHouse.info()"
      ],
      "metadata": {
        "colab": {
          "base_uri": "https://localhost:8080/"
        },
        "id": "HuHT5Q7jFnsy",
        "outputId": "19a4e023-40bd-4e5d-b427-1d0e15b934b5"
      },
      "execution_count": null,
      "outputs": [
        {
          "output_type": "stream",
          "name": "stdout",
          "text": [
            "<class 'pandas.core.frame.DataFrame'>\n",
            "Int64Index: 7056 entries, 0 to 7108\n",
            "Data columns (total 24 columns):\n",
            " #   Column         Non-Null Count  Dtype         \n",
            "---  ------         --------------  -----         \n",
            " 0   PRT_ID         7056 non-null   object        \n",
            " 1   AREA           7056 non-null   object        \n",
            " 2   INT_SQFT       7056 non-null   int64         \n",
            " 3   DATE_SALE      7056 non-null   datetime64[ns]\n",
            " 4   DIST_MAINROAD  7056 non-null   int64         \n",
            " 5   N_BEDROOM      7056 non-null   int64         \n",
            " 6   N_BATHROOM     7056 non-null   int64         \n",
            " 7   N_ROOM         7056 non-null   int64         \n",
            " 8   SALE_COND      7056 non-null   object        \n",
            " 9   PARK_FACIL     7056 non-null   object        \n",
            " 10  DATE_BUILD     7056 non-null   datetime64[ns]\n",
            " 11  BUILDTYPE      7056 non-null   object        \n",
            " 12  UTILITY_AVAIL  7056 non-null   object        \n",
            " 13  STREET         7056 non-null   object        \n",
            " 14  MZZONE         7056 non-null   object        \n",
            " 15  QS_ROOMS       7056 non-null   float64       \n",
            " 16  QS_BATHROOM    7056 non-null   float64       \n",
            " 17  QS_BEDROOM     7056 non-null   float64       \n",
            " 18  QS_OVERALL     7056 non-null   float64       \n",
            " 19  REG_FEE        7056 non-null   int64         \n",
            " 20  COMMIS         7056 non-null   int64         \n",
            " 21  SALES_PRICE    7056 non-null   int64         \n",
            " 22  YEAR_SOLD      7056 non-null   int64         \n",
            " 23  YEAR_BUILT     7056 non-null   int64         \n",
            "dtypes: datetime64[ns](2), float64(4), int64(10), object(8)\n",
            "memory usage: 1.3+ MB\n"
          ]
        }
      ]
    },
    {
      "cell_type": "code",
      "source": [
        "chennaiHouse.shape"
      ],
      "metadata": {
        "colab": {
          "base_uri": "https://localhost:8080/"
        },
        "id": "litP7rkAJqQY",
        "outputId": "b9f8600e-8663-4dc9-f4a6-ecc8951347d9"
      },
      "execution_count": null,
      "outputs": [
        {
          "output_type": "execute_result",
          "data": {
            "text/plain": [
              "(7056, 24)"
            ]
          },
          "metadata": {},
          "execution_count": 151
        }
      ]
    },
    {
      "cell_type": "markdown",
      "source": [
        "**DATE_BUILD AND DATE_SALE ARE DROPPED**"
      ],
      "metadata": {
        "id": "-n2TbjaqI1vo"
      }
    },
    {
      "cell_type": "code",
      "source": [
        "chennaiHouse=chennaiHouse.drop(['DATE_BUILD','DATE_SALE'],axis=1)\n",
        "chennaiHouse.shape"
      ],
      "metadata": {
        "colab": {
          "base_uri": "https://localhost:8080/"
        },
        "id": "OYBg-2OeKvax",
        "outputId": "cb070d1a-456e-48ef-8bb7-3a7145b9d305"
      },
      "execution_count": null,
      "outputs": [
        {
          "output_type": "execute_result",
          "data": {
            "text/plain": [
              "(7056, 22)"
            ]
          },
          "metadata": {},
          "execution_count": 152
        }
      ]
    },
    {
      "cell_type": "markdown",
      "source": [
        "**BUILDING AGE IS CALCULATED TO CORRELATE WITH SALES PRICE**"
      ],
      "metadata": {
        "id": "NDxVrpwrI-z2"
      }
    },
    {
      "cell_type": "code",
      "source": [
        "chennaiHouse['BUILDING_AGE']=2022-chennaiHouse['YEAR_BUILT']\n",
        "chennaiHouse['BUILDING_AGE'].describe()"
      ],
      "metadata": {
        "colab": {
          "base_uri": "https://localhost:8080/"
        },
        "id": "GEFR9MQrMUae",
        "outputId": "a79faa06-8d49-406f-8185-1b1f8adb0d7b"
      },
      "execution_count": null,
      "outputs": [
        {
          "output_type": "execute_result",
          "data": {
            "text/plain": [
              "count    7056.000000\n",
              "mean       36.507653\n",
              "std        12.649534\n",
              "min        12.000000\n",
              "25%        26.000000\n",
              "50%        36.000000\n",
              "75%        46.000000\n",
              "max        73.000000\n",
              "Name: BUILDING_AGE, dtype: float64"
            ]
          },
          "metadata": {},
          "execution_count": 153
        }
      ]
    },
    {
      "cell_type": "markdown",
      "source": [
        "# **EDA**"
      ],
      "metadata": {
        "id": "rsgoJreLLlDB"
      }
    },
    {
      "cell_type": "markdown",
      "source": [
        "**CORRELATION OF FEATURES WITH TARGET VARIABLE SALES_PRICE**\n",
        "*   INT_SQFT\n",
        "*   N_ROOM \n",
        "are evidently linear with target variable SALES PRICE\n",
        "\n"
      ],
      "metadata": {
        "id": "qDxZzwHWuP9i"
      }
    },
    {
      "cell_type": "code",
      "source": [
        "chennaiHouse.corr()['SALES_PRICE']"
      ],
      "metadata": {
        "colab": {
          "base_uri": "https://localhost:8080/"
        },
        "id": "jMgp7d_otDBH",
        "outputId": "3209b2dc-89cc-439c-f303-183c7914ba68"
      },
      "execution_count": null,
      "outputs": [
        {
          "output_type": "execute_result",
          "data": {
            "text/plain": [
              "INT_SQFT         0.612668\n",
              "DIST_MAINROAD    0.018062\n",
              "N_BEDROOM        0.332595\n",
              "N_BATHROOM       0.110984\n",
              "N_ROOM           0.603417\n",
              "QS_ROOMS         0.022278\n",
              "QS_BATHROOM     -0.012346\n",
              "QS_BEDROOM       0.020079\n",
              "QS_OVERALL       0.020352\n",
              "REG_FEE          0.878274\n",
              "COMMIS           0.627277\n",
              "SALES_PRICE      1.000000\n",
              "YEAR_SOLD        0.000696\n",
              "YEAR_BUILT       0.117513\n",
              "BUILDING_AGE    -0.117513\n",
              "Name: SALES_PRICE, dtype: float64"
            ]
          },
          "metadata": {},
          "execution_count": 154
        }
      ]
    },
    {
      "cell_type": "code",
      "source": [
        "chennaiHouse"
      ],
      "metadata": {
        "colab": {
          "base_uri": "https://localhost:8080/",
          "height": 540
        },
        "id": "s3m2pnMDOQkG",
        "outputId": "9ecdea82-6b08-403c-cbb2-fd52145b12d2"
      },
      "execution_count": null,
      "outputs": [
        {
          "output_type": "execute_result",
          "data": {
            "text/html": [
              "\n",
              "  <div id=\"df-56e1ac5b-043e-4d82-af80-bafb8f52591b\">\n",
              "    <div class=\"colab-df-container\">\n",
              "      <div>\n",
              "<style scoped>\n",
              "    .dataframe tbody tr th:only-of-type {\n",
              "        vertical-align: middle;\n",
              "    }\n",
              "\n",
              "    .dataframe tbody tr th {\n",
              "        vertical-align: top;\n",
              "    }\n",
              "\n",
              "    .dataframe thead th {\n",
              "        text-align: right;\n",
              "    }\n",
              "</style>\n",
              "<table border=\"1\" class=\"dataframe\">\n",
              "  <thead>\n",
              "    <tr style=\"text-align: right;\">\n",
              "      <th></th>\n",
              "      <th>PRT_ID</th>\n",
              "      <th>AREA</th>\n",
              "      <th>INT_SQFT</th>\n",
              "      <th>DIST_MAINROAD</th>\n",
              "      <th>N_BEDROOM</th>\n",
              "      <th>N_BATHROOM</th>\n",
              "      <th>N_ROOM</th>\n",
              "      <th>SALE_COND</th>\n",
              "      <th>PARK_FACIL</th>\n",
              "      <th>BUILDTYPE</th>\n",
              "      <th>UTILITY_AVAIL</th>\n",
              "      <th>STREET</th>\n",
              "      <th>MZZONE</th>\n",
              "      <th>QS_ROOMS</th>\n",
              "      <th>QS_BATHROOM</th>\n",
              "      <th>QS_BEDROOM</th>\n",
              "      <th>QS_OVERALL</th>\n",
              "      <th>REG_FEE</th>\n",
              "      <th>COMMIS</th>\n",
              "      <th>SALES_PRICE</th>\n",
              "      <th>YEAR_SOLD</th>\n",
              "      <th>YEAR_BUILT</th>\n",
              "      <th>BUILDING_AGE</th>\n",
              "    </tr>\n",
              "  </thead>\n",
              "  <tbody>\n",
              "    <tr>\n",
              "      <th>0</th>\n",
              "      <td>P03210</td>\n",
              "      <td>Karapakkam</td>\n",
              "      <td>1004</td>\n",
              "      <td>131</td>\n",
              "      <td>1</td>\n",
              "      <td>1</td>\n",
              "      <td>3</td>\n",
              "      <td>AbNormal</td>\n",
              "      <td>Yes</td>\n",
              "      <td>Commercial</td>\n",
              "      <td>AllPub</td>\n",
              "      <td>Paved</td>\n",
              "      <td>A</td>\n",
              "      <td>4.0</td>\n",
              "      <td>3.9</td>\n",
              "      <td>4.9</td>\n",
              "      <td>4.330</td>\n",
              "      <td>380000</td>\n",
              "      <td>144400</td>\n",
              "      <td>7600000</td>\n",
              "      <td>2011</td>\n",
              "      <td>1967</td>\n",
              "      <td>55</td>\n",
              "    </tr>\n",
              "    <tr>\n",
              "      <th>1</th>\n",
              "      <td>P09411</td>\n",
              "      <td>Anna Nagar</td>\n",
              "      <td>1986</td>\n",
              "      <td>26</td>\n",
              "      <td>2</td>\n",
              "      <td>1</td>\n",
              "      <td>5</td>\n",
              "      <td>AbNormal</td>\n",
              "      <td>No</td>\n",
              "      <td>Commercial</td>\n",
              "      <td>AllPub</td>\n",
              "      <td>Gravel</td>\n",
              "      <td>RH</td>\n",
              "      <td>4.9</td>\n",
              "      <td>4.2</td>\n",
              "      <td>2.5</td>\n",
              "      <td>3.765</td>\n",
              "      <td>760122</td>\n",
              "      <td>304049</td>\n",
              "      <td>21717770</td>\n",
              "      <td>2006</td>\n",
              "      <td>1995</td>\n",
              "      <td>27</td>\n",
              "    </tr>\n",
              "    <tr>\n",
              "      <th>2</th>\n",
              "      <td>P01812</td>\n",
              "      <td>Adyar</td>\n",
              "      <td>909</td>\n",
              "      <td>70</td>\n",
              "      <td>1</td>\n",
              "      <td>1</td>\n",
              "      <td>3</td>\n",
              "      <td>AbNormal</td>\n",
              "      <td>Yes</td>\n",
              "      <td>Commercial</td>\n",
              "      <td>ELO</td>\n",
              "      <td>Gravel</td>\n",
              "      <td>RL</td>\n",
              "      <td>4.1</td>\n",
              "      <td>3.8</td>\n",
              "      <td>2.2</td>\n",
              "      <td>3.090</td>\n",
              "      <td>421094</td>\n",
              "      <td>92114</td>\n",
              "      <td>13159200</td>\n",
              "      <td>2012</td>\n",
              "      <td>1992</td>\n",
              "      <td>30</td>\n",
              "    </tr>\n",
              "    <tr>\n",
              "      <th>3</th>\n",
              "      <td>P05346</td>\n",
              "      <td>Velachery</td>\n",
              "      <td>1855</td>\n",
              "      <td>14</td>\n",
              "      <td>3</td>\n",
              "      <td>2</td>\n",
              "      <td>5</td>\n",
              "      <td>Family</td>\n",
              "      <td>No</td>\n",
              "      <td>Others</td>\n",
              "      <td>NoSewr</td>\n",
              "      <td>Paved</td>\n",
              "      <td>I</td>\n",
              "      <td>4.7</td>\n",
              "      <td>3.9</td>\n",
              "      <td>3.6</td>\n",
              "      <td>4.010</td>\n",
              "      <td>356321</td>\n",
              "      <td>77042</td>\n",
              "      <td>9630290</td>\n",
              "      <td>2010</td>\n",
              "      <td>1988</td>\n",
              "      <td>34</td>\n",
              "    </tr>\n",
              "    <tr>\n",
              "      <th>4</th>\n",
              "      <td>P06210</td>\n",
              "      <td>Karapakkam</td>\n",
              "      <td>1226</td>\n",
              "      <td>84</td>\n",
              "      <td>1</td>\n",
              "      <td>1</td>\n",
              "      <td>3</td>\n",
              "      <td>AbNormal</td>\n",
              "      <td>Yes</td>\n",
              "      <td>Others</td>\n",
              "      <td>AllPub</td>\n",
              "      <td>Gravel</td>\n",
              "      <td>C</td>\n",
              "      <td>3.0</td>\n",
              "      <td>2.5</td>\n",
              "      <td>4.1</td>\n",
              "      <td>3.290</td>\n",
              "      <td>237000</td>\n",
              "      <td>74063</td>\n",
              "      <td>7406250</td>\n",
              "      <td>2009</td>\n",
              "      <td>1979</td>\n",
              "      <td>43</td>\n",
              "    </tr>\n",
              "    <tr>\n",
              "      <th>...</th>\n",
              "      <td>...</td>\n",
              "      <td>...</td>\n",
              "      <td>...</td>\n",
              "      <td>...</td>\n",
              "      <td>...</td>\n",
              "      <td>...</td>\n",
              "      <td>...</td>\n",
              "      <td>...</td>\n",
              "      <td>...</td>\n",
              "      <td>...</td>\n",
              "      <td>...</td>\n",
              "      <td>...</td>\n",
              "      <td>...</td>\n",
              "      <td>...</td>\n",
              "      <td>...</td>\n",
              "      <td>...</td>\n",
              "      <td>...</td>\n",
              "      <td>...</td>\n",
              "      <td>...</td>\n",
              "      <td>...</td>\n",
              "      <td>...</td>\n",
              "      <td>...</td>\n",
              "      <td>...</td>\n",
              "    </tr>\n",
              "    <tr>\n",
              "      <th>7104</th>\n",
              "      <td>P03834</td>\n",
              "      <td>Karapakkam</td>\n",
              "      <td>598</td>\n",
              "      <td>51</td>\n",
              "      <td>1</td>\n",
              "      <td>1</td>\n",
              "      <td>2</td>\n",
              "      <td>AdjLand</td>\n",
              "      <td>No</td>\n",
              "      <td>Others</td>\n",
              "      <td>ELO</td>\n",
              "      <td>No Access</td>\n",
              "      <td>RM</td>\n",
              "      <td>3.0</td>\n",
              "      <td>2.2</td>\n",
              "      <td>2.4</td>\n",
              "      <td>2.520</td>\n",
              "      <td>208767</td>\n",
              "      <td>107060</td>\n",
              "      <td>5353000</td>\n",
              "      <td>2011</td>\n",
              "      <td>1962</td>\n",
              "      <td>60</td>\n",
              "    </tr>\n",
              "    <tr>\n",
              "      <th>7105</th>\n",
              "      <td>P10000</td>\n",
              "      <td>Velachery</td>\n",
              "      <td>1897</td>\n",
              "      <td>52</td>\n",
              "      <td>3</td>\n",
              "      <td>2</td>\n",
              "      <td>5</td>\n",
              "      <td>Family</td>\n",
              "      <td>Yes</td>\n",
              "      <td>Others</td>\n",
              "      <td>NoSeWa</td>\n",
              "      <td>No Access</td>\n",
              "      <td>RH</td>\n",
              "      <td>3.6</td>\n",
              "      <td>4.5</td>\n",
              "      <td>3.3</td>\n",
              "      <td>3.920</td>\n",
              "      <td>346191</td>\n",
              "      <td>205551</td>\n",
              "      <td>10818480</td>\n",
              "      <td>2004</td>\n",
              "      <td>1995</td>\n",
              "      <td>27</td>\n",
              "    </tr>\n",
              "    <tr>\n",
              "      <th>7106</th>\n",
              "      <td>P09594</td>\n",
              "      <td>Velachery</td>\n",
              "      <td>1614</td>\n",
              "      <td>152</td>\n",
              "      <td>2</td>\n",
              "      <td>1</td>\n",
              "      <td>4</td>\n",
              "      <td>Normal Sale</td>\n",
              "      <td>No</td>\n",
              "      <td>House</td>\n",
              "      <td>NoSeWa</td>\n",
              "      <td>Gravel</td>\n",
              "      <td>I</td>\n",
              "      <td>4.3</td>\n",
              "      <td>4.2</td>\n",
              "      <td>2.9</td>\n",
              "      <td>3.840</td>\n",
              "      <td>317354</td>\n",
              "      <td>167028</td>\n",
              "      <td>8351410</td>\n",
              "      <td>2006</td>\n",
              "      <td>1978</td>\n",
              "      <td>44</td>\n",
              "    </tr>\n",
              "    <tr>\n",
              "      <th>7107</th>\n",
              "      <td>P06508</td>\n",
              "      <td>Karapakkam</td>\n",
              "      <td>787</td>\n",
              "      <td>40</td>\n",
              "      <td>1</td>\n",
              "      <td>1</td>\n",
              "      <td>2</td>\n",
              "      <td>Partial</td>\n",
              "      <td>Yes</td>\n",
              "      <td>Commercial</td>\n",
              "      <td>ELO</td>\n",
              "      <td>Paved</td>\n",
              "      <td>RL</td>\n",
              "      <td>4.6</td>\n",
              "      <td>3.8</td>\n",
              "      <td>4.1</td>\n",
              "      <td>4.160</td>\n",
              "      <td>425350</td>\n",
              "      <td>119098</td>\n",
              "      <td>8507000</td>\n",
              "      <td>2009</td>\n",
              "      <td>1977</td>\n",
              "      <td>45</td>\n",
              "    </tr>\n",
              "    <tr>\n",
              "      <th>7108</th>\n",
              "      <td>P09794</td>\n",
              "      <td>Velachery</td>\n",
              "      <td>1896</td>\n",
              "      <td>156</td>\n",
              "      <td>3</td>\n",
              "      <td>2</td>\n",
              "      <td>5</td>\n",
              "      <td>Partial</td>\n",
              "      <td>Yes</td>\n",
              "      <td>Others</td>\n",
              "      <td>ELO</td>\n",
              "      <td>Paved</td>\n",
              "      <td>I</td>\n",
              "      <td>3.1</td>\n",
              "      <td>3.5</td>\n",
              "      <td>4.3</td>\n",
              "      <td>3.640</td>\n",
              "      <td>349177</td>\n",
              "      <td>79812</td>\n",
              "      <td>9976480</td>\n",
              "      <td>2005</td>\n",
              "      <td>1961</td>\n",
              "      <td>61</td>\n",
              "    </tr>\n",
              "  </tbody>\n",
              "</table>\n",
              "<p>7056 rows × 23 columns</p>\n",
              "</div>\n",
              "      <button class=\"colab-df-convert\" onclick=\"convertToInteractive('df-56e1ac5b-043e-4d82-af80-bafb8f52591b')\"\n",
              "              title=\"Convert this dataframe to an interactive table.\"\n",
              "              style=\"display:none;\">\n",
              "        \n",
              "  <svg xmlns=\"http://www.w3.org/2000/svg\" height=\"24px\"viewBox=\"0 0 24 24\"\n",
              "       width=\"24px\">\n",
              "    <path d=\"M0 0h24v24H0V0z\" fill=\"none\"/>\n",
              "    <path d=\"M18.56 5.44l.94 2.06.94-2.06 2.06-.94-2.06-.94-.94-2.06-.94 2.06-2.06.94zm-11 1L8.5 8.5l.94-2.06 2.06-.94-2.06-.94L8.5 2.5l-.94 2.06-2.06.94zm10 10l.94 2.06.94-2.06 2.06-.94-2.06-.94-.94-2.06-.94 2.06-2.06.94z\"/><path d=\"M17.41 7.96l-1.37-1.37c-.4-.4-.92-.59-1.43-.59-.52 0-1.04.2-1.43.59L10.3 9.45l-7.72 7.72c-.78.78-.78 2.05 0 2.83L4 21.41c.39.39.9.59 1.41.59.51 0 1.02-.2 1.41-.59l7.78-7.78 2.81-2.81c.8-.78.8-2.07 0-2.86zM5.41 20L4 18.59l7.72-7.72 1.47 1.35L5.41 20z\"/>\n",
              "  </svg>\n",
              "      </button>\n",
              "      \n",
              "  <style>\n",
              "    .colab-df-container {\n",
              "      display:flex;\n",
              "      flex-wrap:wrap;\n",
              "      gap: 12px;\n",
              "    }\n",
              "\n",
              "    .colab-df-convert {\n",
              "      background-color: #E8F0FE;\n",
              "      border: none;\n",
              "      border-radius: 50%;\n",
              "      cursor: pointer;\n",
              "      display: none;\n",
              "      fill: #1967D2;\n",
              "      height: 32px;\n",
              "      padding: 0 0 0 0;\n",
              "      width: 32px;\n",
              "    }\n",
              "\n",
              "    .colab-df-convert:hover {\n",
              "      background-color: #E2EBFA;\n",
              "      box-shadow: 0px 1px 2px rgba(60, 64, 67, 0.3), 0px 1px 3px 1px rgba(60, 64, 67, 0.15);\n",
              "      fill: #174EA6;\n",
              "    }\n",
              "\n",
              "    [theme=dark] .colab-df-convert {\n",
              "      background-color: #3B4455;\n",
              "      fill: #D2E3FC;\n",
              "    }\n",
              "\n",
              "    [theme=dark] .colab-df-convert:hover {\n",
              "      background-color: #434B5C;\n",
              "      box-shadow: 0px 1px 3px 1px rgba(0, 0, 0, 0.15);\n",
              "      filter: drop-shadow(0px 1px 2px rgba(0, 0, 0, 0.3));\n",
              "      fill: #FFFFFF;\n",
              "    }\n",
              "  </style>\n",
              "\n",
              "      <script>\n",
              "        const buttonEl =\n",
              "          document.querySelector('#df-56e1ac5b-043e-4d82-af80-bafb8f52591b button.colab-df-convert');\n",
              "        buttonEl.style.display =\n",
              "          google.colab.kernel.accessAllowed ? 'block' : 'none';\n",
              "\n",
              "        async function convertToInteractive(key) {\n",
              "          const element = document.querySelector('#df-56e1ac5b-043e-4d82-af80-bafb8f52591b');\n",
              "          const dataTable =\n",
              "            await google.colab.kernel.invokeFunction('convertToInteractive',\n",
              "                                                     [key], {});\n",
              "          if (!dataTable) return;\n",
              "\n",
              "          const docLinkHtml = 'Like what you see? Visit the ' +\n",
              "            '<a target=\"_blank\" href=https://colab.research.google.com/notebooks/data_table.ipynb>data table notebook</a>'\n",
              "            + ' to learn more about interactive tables.';\n",
              "          element.innerHTML = '';\n",
              "          dataTable['output_type'] = 'display_data';\n",
              "          await google.colab.output.renderOutput(dataTable, element);\n",
              "          const docLink = document.createElement('div');\n",
              "          docLink.innerHTML = docLinkHtml;\n",
              "          element.appendChild(docLink);\n",
              "        }\n",
              "      </script>\n",
              "    </div>\n",
              "  </div>\n",
              "  "
            ],
            "text/plain": [
              "      PRT_ID        AREA  INT_SQFT  ...  YEAR_SOLD  YEAR_BUILT  BUILDING_AGE\n",
              "0     P03210  Karapakkam      1004  ...       2011        1967            55\n",
              "1     P09411  Anna Nagar      1986  ...       2006        1995            27\n",
              "2     P01812       Adyar       909  ...       2012        1992            30\n",
              "3     P05346   Velachery      1855  ...       2010        1988            34\n",
              "4     P06210  Karapakkam      1226  ...       2009        1979            43\n",
              "...      ...         ...       ...  ...        ...         ...           ...\n",
              "7104  P03834  Karapakkam       598  ...       2011        1962            60\n",
              "7105  P10000   Velachery      1897  ...       2004        1995            27\n",
              "7106  P09594   Velachery      1614  ...       2006        1978            44\n",
              "7107  P06508  Karapakkam       787  ...       2009        1977            45\n",
              "7108  P09794   Velachery      1896  ...       2005        1961            61\n",
              "\n",
              "[7056 rows x 23 columns]"
            ]
          },
          "metadata": {},
          "execution_count": 155
        }
      ]
    },
    {
      "cell_type": "markdown",
      "source": [
        "**AREA GRAPH**\n",
        "\n",
        "\n",
        "\n",
        "From the data we can observe that \n",
        "\n",
        "\n",
        "*   In Chrompet,Karapakkam,KK Nagar more number of houses were sold\n",
        "*   Chrompet, Anna Nagar top the Costly Areas,KK Nagar is in the bottom of the list\n",
        "*   In KK Nagar, Velachery houses sold were big compared to other areas\n",
        "*   Average building age of sold houses is more in Velachery and less in KK Nagar, Chrompet\n",
        "*   Income generated from sale of different types of houses was more in TNagar,Anna Nagar and KK Nagar.\n",
        "\n",
        "Since there is no clear picture of hierarchy we prefer one hot encoding\n"
      ],
      "metadata": {
        "id": "KswmQVpo-FR8"
      }
    },
    {
      "cell_type": "code",
      "source": [
        "chennaiHouse['AREA'].value_counts().plot(kind='bar',color='magenta')\n",
        "plt.title='AREAS DISTRIBUTION'\n",
        "plt.xlabel('AREAS')\n",
        "plt.ylabel('COUNT')\n",
        "plt.show()\n",
        "\n",
        "plt.title='AREA Vs SALEPRICE'\n",
        "newdata=chennaiHouse.copy()\n",
        "newdata.groupby('AREA')['SALES_PRICE'].mean().plot(kind='bar',color='green')\n",
        "plt.xlabel('AREA')\n",
        "plt.ylabel(\"SALES_PRICE\")\n",
        "plt.show()\n",
        "\n",
        "newdata['SQFT_RATE']=newdata['SALES_PRICE']/newdata['INT_SQFT']\n",
        "newdata.groupby('AREA')['SQFT_RATE'].mean().plot(kind='bar',color='red')\n",
        "plt.xlabel('AREA')\n",
        "plt.ylabel(\"SQFT_RATE\")\n",
        "plt.show()\n",
        "newdata.groupby('AREA')['N_BEDROOM'].mean().plot(kind='bar',color='PINK')\n",
        "plt.xlabel('AREA')\n",
        "plt.ylabel(\"N_BEDROOM\")\n",
        "plt.show()\n",
        "newdata.groupby('AREA')['BUILDING_AGE'].mean().plot(kind='bar',color='YELLOW')\n",
        "plt.xlabel('AREA')\n",
        "plt.ylabel(\"BUILDING_AGE\")\n",
        "plt.show()"
      ],
      "metadata": {
        "id": "wwV7fCNz9OJK",
        "colab": {
          "base_uri": "https://localhost:8080/",
          "height": 1000
        },
        "outputId": "db31c158-6462-42b0-bf88-5351211917c2"
      },
      "execution_count": null,
      "outputs": [
        {
          "output_type": "display_data",
          "data": {
            "image/png": "[encoded data removed]",
            "text/plain": [
              "<Figure size 432x288 with 1 Axes>"
            ]
          },
          "metadata": {
            "needs_background": "light"
          }
        },
        {
          "output_type": "display_data",
          "data": {
            "image/png": "[encoded data removed]",
            "text/plain": [
              "<Figure size 432x288 with 1 Axes>"
            ]
          },
          "metadata": {
            "needs_background": "light"
          }
        },
        {
          "output_type": "display_data",
          "data": {
            "image/png": "[encoded data removed]",
            "text/plain": [
              "<Figure size 432x288 with 1 Axes>"
            ]
          },
          "metadata": {
            "needs_background": "light"
          }
        },
        {
          "output_type": "display_data",
          "data": {
            "image/png": "[encoded data removed]",
            "text/plain": [
              "<Figure size 432x288 with 1 Axes>"
            ]
          },
          "metadata": {
            "needs_background": "light"
          }
        },
        {
          "output_type": "display_data",
          "data": {
            "image/png": "[encoded data removed]",
            "text/plain": [
              "<Figure size 432x288 with 1 Axes>"
            ]
          },
          "metadata": {
            "needs_background": "light"
          }
        }
      ]
    },
    {
      "cell_type": "markdown",
      "source": [
        "**SALE CONDITION**\n",
        "There is very very slight linear pattern in Sale Condition.\n",
        "\n",
        "\n",
        "So, we are doing one hot encoding for this feature\n",
        "\n"
      ],
      "metadata": {
        "id": "-w-4b4jemr_u"
      }
    },
    {
      "cell_type": "code",
      "source": [
        "chennaiHouse['SALE_COND'].value_counts().plot(kind='bar',color='red')\n",
        "plt.title='SALE CONDITION DISTRIBUTION'\n",
        "plt.xlabel('SALE CONDITION')\n",
        "plt.ylabel('COUNT')\n",
        "plt.show()\n",
        "\n",
        "plt.title='SALE CONDITION Vs SALEPRICE'\n",
        "newdata=chennaiHouse.copy()\n",
        "newdata.groupby('SALE_COND')['SALES_PRICE'].mean().plot(kind='bar',color='green')\n",
        "plt.xlabel('SALE CONDITION')\n",
        "plt.ylabel(\"SALES_PRICE\")\n",
        "plt.show()"
      ],
      "metadata": {
        "colab": {
          "base_uri": "https://localhost:8080/",
          "height": 654
        },
        "id": "qBSaAtNwMVmo",
        "outputId": "2da0f661-dd08-4660-d0c4-c46ba42e2fdf"
      },
      "execution_count": null,
      "outputs": [
        {
          "output_type": "display_data",
          "data": {
            "image/png": "[encoded data removed]",
            "text/plain": [
              "<Figure size 432x288 with 1 Axes>"
            ]
          },
          "metadata": {
            "needs_background": "light"
          }
        },
        {
          "output_type": "display_data",
          "data": {
            "image/png": "[encoded data removed]",
            "text/plain": [
              "<Figure size 432x288 with 1 Axes>"
            ]
          },
          "metadata": {
            "needs_background": "light"
          }
        }
      ]
    },
    {
      "cell_type": "markdown",
      "source": [
        "**PARKING FACILITY**\n",
        "* Sale Prices of houses with Parking Facility were more.\n",
        "\n",
        "\n",
        "We do label encoding as we can see preference for parking than no parking facility"
      ],
      "metadata": {
        "id": "VsXSIbabosTh"
      }
    },
    {
      "cell_type": "code",
      "source": [
        "chennaiHouse['PARK_FACIL'].value_counts().plot(kind='bar',color='cyan')\n",
        "plt.title='PARKING FACILITY DISTRIBUTION'\n",
        "plt.xlabel('PARKING PRESENCE')\n",
        "plt.ylabel('COUNT')\n",
        "plt.show()\n",
        "\n",
        "plt.title='PARKING PRESENCE Vs SALEPRICE'\n",
        "newdata=chennaiHouse.copy()\n",
        "newdata.groupby('PARK_FACIL')['SALES_PRICE'].mean().plot(kind='bar',color='green')\n",
        "plt.xlabel('PARKING PRESENCE')\n",
        "plt.ylabel(\"SALES_PRICE\")\n",
        "plt.show()"
      ],
      "metadata": {
        "colab": {
          "base_uri": "https://localhost:8080/",
          "height": 564
        },
        "id": "s4RRGTcHM_19",
        "outputId": "6afdca95-84f8-4bb5-cf28-98bfff09cabd"
      },
      "execution_count": null,
      "outputs": [
        {
          "output_type": "display_data",
          "data": {
            "image/png": "[encoded data removed]",
            "text/plain": [
              "<Figure size 432x288 with 1 Axes>"
            ]
          },
          "metadata": {
            "needs_background": "light"
          }
        },
        {
          "output_type": "display_data",
          "data": {
            "image/png": "[encoded data removed]",
            "text/plain": [
              "<Figure size 432x288 with 1 Axes>"
            ]
          },
          "metadata": {
            "needs_background": "light"
          }
        }
      ]
    },
    {
      "cell_type": "markdown",
      "source": [
        "**BUILDING TYPE**\n",
        "* Commercial buildings have more Sale Price\n",
        "* Residential and others are having less Sale Price\n",
        "* There is no linear relationship as there is steep increase for commercial\n",
        "\n",
        "We do one hot encoding"
      ],
      "metadata": {
        "id": "gPqriDuCpdHN"
      }
    },
    {
      "cell_type": "code",
      "source": [
        "chennaiHouse['BUILDTYPE'].value_counts().plot(kind='bar',color='yellow')\n",
        "plt.title='BUILDINGTYPE DISTRIBUTION'\n",
        "plt.xlabel('BUILDING TYPE')\n",
        "plt.ylabel('COUNT')\n",
        "plt.show()\n",
        "\n",
        "plt.title='BUILDING TYPE Vs SALEPRICE'\n",
        "newdata=chennaiHouse.copy()\n",
        "newdata.groupby('BUILDTYPE')['SALES_PRICE'].mean().plot(kind='bar',color='green')\n",
        "plt.xlabel('BUILDING TYPE')\n",
        "plt.ylabel(\"SALES_PRICE\")\n",
        "plt.show()"
      ],
      "metadata": {
        "colab": {
          "base_uri": "https://localhost:8080/",
          "height": 652
        },
        "id": "cyiBTKBNNpOS",
        "outputId": "0636dbb1-75ad-4f89-e9dd-b48b61bd0c5e"
      },
      "execution_count": null,
      "outputs": [
        {
          "output_type": "display_data",
          "data": {
            "image/png": "[encoded data removed]",
            "text/plain": [
              "<Figure size 432x288 with 1 Axes>"
            ]
          },
          "metadata": {
            "needs_background": "light"
          }
        },
        {
          "output_type": "display_data",
          "data": {
            "image/png": "[encoded data removed]",
            "text/plain": [
              "<Figure size 432x288 with 1 Axes>"
            ]
          },
          "metadata": {
            "needs_background": "light"
          }
        }
      ]
    },
    {
      "cell_type": "markdown",
      "source": [
        "**UTILITIES AVAILABLE**\n",
        "* There is no linear relation between the feature and the Sale Price as most of the houses are having almost all utilities.\n",
        "\n",
        "We do one hot encoding"
      ],
      "metadata": {
        "id": "GO1DPhlYBHa9"
      }
    },
    {
      "cell_type": "code",
      "source": [
        "chennaiHouse['UTILITY_AVAIL'].value_counts().plot(kind='bar',color='black')\n",
        "plt.title='UTILITY DISTRIBUTION'\n",
        "plt.xlabel('UTILITY')\n",
        "plt.ylabel('COUNT')\n",
        "plt.show()\n",
        "\n",
        "plt.title='UTILITY Vs SALEPRICE'\n",
        "newdata=chennaiHouse.copy()\n",
        "newdata.groupby('UTILITY_AVAIL')['SALES_PRICE'].mean().plot(kind='bar',color='green')\n",
        "plt.xlabel('UTILITY TYPE')\n",
        "plt.ylabel(\"SALES_PRICE\")\n",
        "plt.show()"
      ],
      "metadata": {
        "colab": {
          "base_uri": "https://localhost:8080/",
          "height": 615
        },
        "id": "HqZIyhcSQQEp",
        "outputId": "e82c60e1-08cd-40d4-ffd9-e9cfada517f0"
      },
      "execution_count": null,
      "outputs": [
        {
          "output_type": "display_data",
          "data": {
            "image/png": "[encoded data removed]",
            "text/plain": [
              "<Figure size 432x288 with 1 Axes>"
            ]
          },
          "metadata": {
            "needs_background": "light"
          }
        },
        {
          "output_type": "display_data",
          "data": {
            "image/png": "[encoded data removed]",
            "text/plain": [
              "<Figure size 432x288 with 1 Axes>"
            ]
          },
          "metadata": {
            "needs_background": "light"
          }
        }
      ]
    },
    {
      "cell_type": "markdown",
      "source": [
        "**STREET TYPE**\n",
        "\n",
        "\n",
        "There is a linear relation between Street Type and Sale Price.\n",
        "The order is\n",
        "\n",
        "*   Gravel\n",
        "*   Paved\n",
        "*   NoAccess\n",
        "\n",
        "We do label encoding\n",
        "\n",
        "\n",
        "\n"
      ],
      "metadata": {
        "id": "och3DzbJBxlA"
      }
    },
    {
      "cell_type": "code",
      "source": [
        "chennaiHouse['STREET'].value_counts().plot(kind='bar',color='magenta')\n",
        "plt.title='STREET DISTRIBUTION'\n",
        "plt.xlabel('STREET')\n",
        "plt.ylabel('COUNT')\n",
        "plt.show()\n",
        "\n",
        "plt.title='STREET Vs SALEPRICE'\n",
        "newdata=chennaiHouse.copy()\n",
        "newdata.groupby('STREET')['SALES_PRICE'].mean().plot(kind='bar',color='green')\n",
        "plt.xlabel('STREET')\n",
        "plt.ylabel(\"SALES_PRICE\")\n",
        "plt.show()"
      ],
      "metadata": {
        "colab": {
          "base_uri": "https://localhost:8080/",
          "height": 634
        },
        "id": "i5Hv40GmWEiM",
        "outputId": "8b5be489-be6b-4f7b-e528-5beaf2db2be5"
      },
      "execution_count": null,
      "outputs": [
        {
          "output_type": "display_data",
          "data": {
            "image/png": "[encoded data removed]",
            "text/plain": [
              "<Figure size 432x288 with 1 Axes>"
            ]
          },
          "metadata": {
            "needs_background": "light"
          }
        },
        {
          "output_type": "display_data",
          "data": {
            "image/png": "[encoded data removed]",
            "text/plain": [
              "<Figure size 432x288 with 1 Axes>"
            ]
          },
          "metadata": {
            "needs_background": "light"
          }
        }
      ]
    },
    {
      "cell_type": "markdown",
      "source": [
        "**MZZONE**\n",
        "\n",
        "\n",
        "The sale count and Sale Price is high in Residential Zones than in Agricultural,Commercial and Industrial.\n",
        "We can see a linear relation with Sale Price so label encoding is done"
      ],
      "metadata": {
        "id": "GLtwRch_CZcM"
      }
    },
    {
      "cell_type": "code",
      "source": [
        "chennaiHouse['MZZONE'].value_counts().plot(kind='bar',color='red')\n",
        "plt.title='MZZONE DISTRIBUTION'\n",
        "plt.xlabel('MZZONE')\n",
        "plt.ylabel('COUNT')\n",
        "plt.show()\n",
        "\n",
        "plt.title='MZZONE Vs SALEPRICE'\n",
        "newdata=chennaiHouse.copy()\n",
        "newdata.groupby('MZZONE')['SALES_PRICE'].mean().plot(kind='bar',color='green')\n",
        "plt.xlabel('MZZONE')\n",
        "plt.ylabel(\"SALES_PRICE\")\n",
        "plt.show()"
      ],
      "metadata": {
        "colab": {
          "base_uri": "https://localhost:8080/",
          "height": 564
        },
        "id": "bmlYky8kWaqV",
        "outputId": "fb915f44-cdfa-4562-b3fd-fa4b5fd63234"
      },
      "execution_count": null,
      "outputs": [
        {
          "output_type": "display_data",
          "data": {
            "image/png": "[encoded data removed]",
            "text/plain": [
              "<Figure size 432x288 with 1 Axes>"
            ]
          },
          "metadata": {
            "needs_background": "light"
          }
        },
        {
          "output_type": "display_data",
          "data": {
            "image/png": "[encoded data removed]",
            "text/plain": [
              "<Figure size 432x288 with 1 Axes>"
            ]
          },
          "metadata": {
            "needs_background": "light"
          }
        }
      ]
    },
    {
      "cell_type": "markdown",
      "source": [
        "**INT_SQFT**\n",
        "\n",
        "We can see linear relation between Square Feet and Sale Price.\n",
        "The number of houses sold is more between 500 to 2000 sq ft range. Above 2000 sqft the sale count is less."
      ],
      "metadata": {
        "id": "HnDsA3B9DKP4"
      }
    },
    {
      "cell_type": "code",
      "source": [
        "sns.distplot(chennaiHouse['INT_SQFT'],kde=True)\n",
        "plt.show()\n",
        "sns.histplot(x=chennaiHouse['INT_SQFT'],y=chennaiHouse['SALES_PRICE'],color='magenta')\n",
        "plt.show()"
      ],
      "metadata": {
        "colab": {
          "base_uri": "https://localhost:8080/",
          "height": 554
        },
        "id": "HvZGHGmAXIbX",
        "outputId": "4fef947e-79f4-4067-d26a-5b77bc2e58a1"
      },
      "execution_count": null,
      "outputs": [
        {
          "output_type": "display_data",
          "data": {
            "image/png": "[encoded data removed]",
            "text/plain": [
              "<Figure size 432x288 with 1 Axes>"
            ]
          },
          "metadata": {
            "needs_background": "light"
          }
        },
        {
          "output_type": "display_data",
          "data": {
            "image/png": "[encoded data removed]",
            "text/plain": [
              "<Figure size 432x288 with 1 Axes>"
            ]
          },
          "metadata": {
            "needs_background": "light"
          }
        }
      ]
    },
    {
      "cell_type": "markdown",
      "source": [
        "**BUILDING AGE**\n",
        "\n",
        "\n",
        "People prefer to buy houses of age less than 50 years. The sale price is also in a slightly decreasing mode from new to old houses."
      ],
      "metadata": {
        "id": "R8WUPFwvDS0v"
      }
    },
    {
      "cell_type": "code",
      "source": [
        "sns.distplot(chennaiHouse['BUILDING_AGE'],kde=True,color='pink')\n",
        "plt.show()\n",
        "plt.boxplot(chennaiHouse['BUILDING_AGE'])\n",
        "plt.show()\n",
        "sns.lineplot(x=chennaiHouse['BUILDING_AGE'],y=chennaiHouse['SALES_PRICE'],color='magenta')\n",
        "plt.show()"
      ],
      "metadata": {
        "colab": {
          "base_uri": "https://localhost:8080/",
          "height": 802
        },
        "id": "RI8BTmH0sMUN",
        "outputId": "1b806342-374c-4a9c-c1db-4bfafa67a258"
      },
      "execution_count": null,
      "outputs": [
        {
          "output_type": "display_data",
          "data": {
            "image/png": "[encoded data removed]",
            "text/plain": [
              "<Figure size 432x288 with 1 Axes>"
            ]
          },
          "metadata": {
            "needs_background": "light"
          }
        },
        {
          "output_type": "display_data",
          "data": {
            "image/png": "[encoded data removed]",
            "text/plain": [
              "<Figure size 432x288 with 1 Axes>"
            ]
          },
          "metadata": {
            "needs_background": "light"
          }
        },
        {
          "output_type": "display_data",
          "data": {
            "image/png": "[encoded data removed]",
            "text/plain": [
              "<Figure size 432x288 with 1 Axes>"
            ]
          },
          "metadata": {
            "needs_background": "light"
          }
        }
      ]
    },
    {
      "cell_type": "markdown",
      "source": [
        "**DISTANCE FROM MAIN ROAD**\n",
        "\n",
        "The distance of house from main road is not showing much relation with the Sale Price"
      ],
      "metadata": {
        "id": "Krk5I-0zDZy_"
      }
    },
    {
      "cell_type": "code",
      "source": [
        "plt.boxplot(chennaiHouse['DIST_MAINROAD'])\n",
        "plt.show()\n",
        "sns.lineplot(x=chennaiHouse['DIST_MAINROAD'],y=chennaiHouse['SALES_PRICE'],color='magenta')\n",
        "plt.show()"
      ],
      "metadata": {
        "colab": {
          "base_uri": "https://localhost:8080/",
          "height": 538
        },
        "id": "T1GlrtyLusk9",
        "outputId": "f9520baf-fa75-430a-88c3-a48aeecb7f93"
      },
      "execution_count": null,
      "outputs": [
        {
          "output_type": "display_data",
          "data": {
            "image/png": "[encoded data removed]",
            "text/plain": [
              "<Figure size 432x288 with 1 Axes>"
            ]
          },
          "metadata": {
            "needs_background": "light"
          }
        },
        {
          "output_type": "display_data",
          "data": {
            "image/png": "[encoded data removed]",
            "text/plain": [
              "<Figure size 432x288 with 1 Axes>"
            ]
          },
          "metadata": {
            "needs_background": "light"
          }
        }
      ]
    },
    {
      "cell_type": "markdown",
      "source": [
        "**NUMBER OF BED ROOM**\n",
        "\n",
        "The Sale Price is in linear relation with number of bedrooms but the number of  people buying single and double bedroom houses is more."
      ],
      "metadata": {
        "id": "H_DUQYZiDeEX"
      }
    },
    {
      "cell_type": "code",
      "source": [
        "chennaiHouse['N_BEDROOM'].value_counts().plot(kind='bar',color='magenta')\n",
        "plt.title='N_BEDROOM DISTRIBUTION'\n",
        "plt.xlabel('NO OF BEDROOMS')\n",
        "plt.ylabel('COUNT')\n",
        "plt.show()\n",
        "\n",
        "plt.title='N_BEDROOM Vs SALEPRICE'\n",
        "newdata=chennaiHouse.copy()\n",
        "newdata.groupby('N_BEDROOM')['SALES_PRICE'].mean().plot(kind='bar',color='green')\n",
        "plt.xlabel('NO OF BEDROOMS')\n",
        "plt.ylabel(\"SALES_PRICE\")\n",
        "plt.show()"
      ],
      "metadata": {
        "colab": {
          "base_uri": "https://localhost:8080/",
          "height": 545
        },
        "id": "P5frgshExEH0",
        "outputId": "ad0eeb45-c74d-46ef-fac3-c41ebc706fcc"
      },
      "execution_count": null,
      "outputs": [
        {
          "output_type": "display_data",
          "data": {
            "image/png": "[encoded data removed]",
            "text/plain": [
              "<Figure size 432x288 with 1 Axes>"
            ]
          },
          "metadata": {
            "needs_background": "light"
          }
        },
        {
          "output_type": "display_data",
          "data": {
            "image/png": "[encoded data removed]",
            "text/plain": [
              "<Figure size 432x288 with 1 Axes>"
            ]
          },
          "metadata": {
            "needs_background": "light"
          }
        }
      ]
    },
    {
      "cell_type": "markdown",
      "source": [
        "**NO OF BATHROOMS**\n",
        "\n",
        "The Sale Price of 2 Bathroom facility houses is more than single ones.\n",
        "Since the number of people buying single bedroom houses is more we can see that the purchase of single bathroom houses is more."
      ],
      "metadata": {
        "id": "pCqrirQUDpLq"
      }
    },
    {
      "cell_type": "code",
      "source": [
        "chennaiHouse['N_BATHROOM'].value_counts().plot(kind='bar',color='magenta')\n",
        "plt.title='N_BATHROOM DISTRIBUTION'\n",
        "plt.xlabel('NO OF BATHROOMS')\n",
        "plt.ylabel('COUNT')\n",
        "plt.show()\n",
        "\n",
        "plt.title='N_BATHROOM Vs SALEPRICE'\n",
        "newdata=chennaiHouse.copy()\n",
        "newdata.groupby('N_BATHROOM')['SALES_PRICE'].mean().plot(kind='bar',color='green')\n",
        "plt.xlabel('NO OF BATHROOMS')\n",
        "plt.ylabel(\"SALES_PRICE\")\n",
        "plt.show()"
      ],
      "metadata": {
        "colab": {
          "base_uri": "https://localhost:8080/",
          "height": 545
        },
        "id": "2XiJoNOSxmmd",
        "outputId": "f8476d40-b2a2-4e8d-cfe6-15b11cfac23d"
      },
      "execution_count": null,
      "outputs": [
        {
          "output_type": "display_data",
          "data": {
            "image/png": "[encoded data removed]",
            "text/plain": [
              "<Figure size 432x288 with 1 Axes>"
            ]
          },
          "metadata": {
            "needs_background": "light"
          }
        },
        {
          "output_type": "display_data",
          "data": {
            "image/png": "[encoded data removed]",
            "text/plain": [
              "<Figure size 432x288 with 1 Axes>"
            ]
          },
          "metadata": {
            "needs_background": "light"
          }
        }
      ]
    },
    {
      "cell_type": "markdown",
      "source": [
        "**NO OF ROOMS**\n",
        "\n",
        "The number of rooms and Sale Price is linearly related.\n"
      ],
      "metadata": {
        "id": "Z5fY22x3D0vF"
      }
    },
    {
      "cell_type": "code",
      "source": [
        "chennaiHouse['N_ROOM'].value_counts().plot(kind='bar',color='CYAN')\n",
        "plt.title='N_ROOM DISTRIBUTION'\n",
        "plt.xlabel('NO OF ROOMS')\n",
        "plt.ylabel('COUNT')\n",
        "plt.show()\n",
        "\n",
        "plt.title='N_ROOM Vs SALEPRICE'\n",
        "newdata=chennaiHouse.copy()\n",
        "newdata.groupby('N_ROOM')['SALES_PRICE'].mean().plot(kind='bar',color='green')\n",
        "plt.xlabel('NO OF ROOMS')\n",
        "plt.ylabel(\"SALES_PRICE\")\n",
        "plt.show()"
      ],
      "metadata": {
        "colab": {
          "base_uri": "https://localhost:8080/",
          "height": 545
        },
        "id": "Eg2Ixp6Mx5HG",
        "outputId": "8ecadbfa-43f9-42e7-e925-ec3495fec582"
      },
      "execution_count": null,
      "outputs": [
        {
          "output_type": "display_data",
          "data": {
            "image/png": "[encoded data removed]",
            "text/plain": [
              "<Figure size 432x288 with 1 Axes>"
            ]
          },
          "metadata": {
            "needs_background": "light"
          }
        },
        {
          "output_type": "display_data",
          "data": {
            "image/png": "[encoded data removed]",
            "text/plain": [
              "<Figure size 432x288 with 1 Axes>"
            ]
          },
          "metadata": {
            "needs_background": "light"
          }
        }
      ]
    },
    {
      "cell_type": "markdown",
      "source": [
        "**QS_ROOMS**\n",
        "\n",
        "There is not much relation between QS_ROOMS and Sale Price."
      ],
      "metadata": {
        "id": "aM1-IY-Kp6QL"
      }
    },
    {
      "cell_type": "code",
      "source": [
        "sns.distplot(chennaiHouse['QS_ROOMS'],kde=True,color='RED')\n",
        "plt.show()\n",
        "sns.lineplot(x=chennaiHouse['QS_ROOMS'],y=chennaiHouse['SALES_PRICE'],color='magenta')\n",
        "plt.show()"
      ],
      "metadata": {
        "colab": {
          "base_uri": "https://localhost:8080/",
          "height": 554
        },
        "id": "5ZiUjee1yRZU",
        "outputId": "ff922b58-5ac3-43c6-f3b7-050f52c99ae2"
      },
      "execution_count": null,
      "outputs": [
        {
          "output_type": "display_data",
          "data": {
            "image/png": "[encoded data removed]",
            "text/plain": [
              "<Figure size 432x288 with 1 Axes>"
            ]
          },
          "metadata": {
            "needs_background": "light"
          }
        },
        {
          "output_type": "display_data",
          "data": {
            "image/png": "[encoded data removed]",
            "text/plain": [
              "<Figure size 432x288 with 1 Axes>"
            ]
          },
          "metadata": {
            "needs_background": "light"
          }
        }
      ]
    },
    {
      "cell_type": "markdown",
      "source": [
        "**QS_BATHROOM**\n",
        "\n",
        "There is not much relation between QS_BATHROOM and Sale Price"
      ],
      "metadata": {
        "id": "4YOrzAPhq8JW"
      }
    },
    {
      "cell_type": "code",
      "source": [
        "sns.distplot(chennaiHouse['QS_BATHROOM'],kde=True,color='RED')\n",
        "plt.show()\n",
        "sns.lineplot(x=chennaiHouse['QS_BATHROOM'],y=chennaiHouse['SALES_PRICE'],color='magenta')\n",
        "plt.show()"
      ],
      "metadata": {
        "colab": {
          "base_uri": "https://localhost:8080/",
          "height": 554
        },
        "id": "wk86VBz5zNrA",
        "outputId": "d7e5db20-15da-40a9-c345-0df1f3d14202"
      },
      "execution_count": null,
      "outputs": [
        {
          "output_type": "display_data",
          "data": {
            "image/png": "[encoded data removed]",
            "text/plain": [
              "<Figure size 432x288 with 1 Axes>"
            ]
          },
          "metadata": {
            "needs_background": "light"
          }
        },
        {
          "output_type": "display_data",
          "data": {
            "image/png": "[encoded data removed]",
            "text/plain": [
              "<Figure size 432x288 with 1 Axes>"
            ]
          },
          "metadata": {
            "needs_background": "light"
          }
        }
      ]
    },
    {
      "cell_type": "markdown",
      "source": [
        "**QS_BEDROOM**\n",
        "\n",
        "There is not much relation between QS_BEDROOM and Sale Price"
      ],
      "metadata": {
        "id": "uttndDomrXQ2"
      }
    },
    {
      "cell_type": "code",
      "source": [
        "sns.distplot(chennaiHouse['QS_BEDROOM'],kde=True,color='RED')\n",
        "plt.show()\n",
        "sns.lineplot(x=chennaiHouse['QS_BEDROOM'],y=chennaiHouse['SALES_PRICE'],color='magenta')\n",
        "plt.show()"
      ],
      "metadata": {
        "colab": {
          "base_uri": "https://localhost:8080/",
          "height": 554
        },
        "id": "OgeHDkZRzfAp",
        "outputId": "2802a179-b4b3-4525-c679-d3c08bf25c56"
      },
      "execution_count": null,
      "outputs": [
        {
          "output_type": "display_data",
          "data": {
            "image/png": "[encoded data removed]",
            "text/plain": [
              "<Figure size 432x288 with 1 Axes>"
            ]
          },
          "metadata": {
            "needs_background": "light"
          }
        },
        {
          "output_type": "display_data",
          "data": {
            "image/png": "[encoded data removed]",
            "text/plain": [
              "<Figure size 432x288 with 1 Axes>"
            ]
          },
          "metadata": {
            "needs_background": "light"
          }
        }
      ]
    },
    {
      "cell_type": "markdown",
      "source": [
        "**QS_OVERALL**\n",
        "\n",
        "There is not much relation between QS_OVERALL and Sale Price"
      ],
      "metadata": {
        "id": "ZXtycB3UrpUN"
      }
    },
    {
      "cell_type": "code",
      "source": [
        "sns.distplot(chennaiHouse['QS_OVERALL'],kde=True,color='blue')\n",
        "plt.show()\n",
        "sns.lineplot(x=chennaiHouse['QS_OVERALL'],y=chennaiHouse['SALES_PRICE'],color='magenta')\n",
        "plt.show()"
      ],
      "metadata": {
        "colab": {
          "base_uri": "https://localhost:8080/",
          "height": 554
        },
        "id": "VXy-ueeWznoF",
        "outputId": "1b597c2d-b6b6-4b6d-bf4b-7b10ca612f06"
      },
      "execution_count": null,
      "outputs": [
        {
          "output_type": "display_data",
          "data": {
            "image/png": "[encoded data removed]",
            "text/plain": [
              "<Figure size 432x288 with 1 Axes>"
            ]
          },
          "metadata": {
            "needs_background": "light"
          }
        },
        {
          "output_type": "display_data",
          "data": {
            "image/png": "[encoded data removed]",
            "text/plain": [
              "<Figure size 432x288 with 1 Axes>"
            ]
          },
          "metadata": {
            "needs_background": "light"
          }
        }
      ]
    },
    {
      "cell_type": "markdown",
      "source": [
        "**YEAR SOLD**\n",
        "\n",
        "The Sale_Price is increasing with year but during inflation ie around year 2010 the price dropped. Due to drop in price people could afford and bought more houses.\n",
        "\n"
      ],
      "metadata": {
        "id": "l_xuHPY5EIQL"
      }
    },
    {
      "cell_type": "code",
      "source": [
        "sns.distplot(chennaiHouse['YEAR_SOLD'],kde=True,color='blue')\n",
        "plt.show()\n",
        "sns.lineplot(x=chennaiHouse['YEAR_SOLD'],y=chennaiHouse['SALES_PRICE'],color='magenta')\n",
        "plt.show()"
      ],
      "metadata": {
        "colab": {
          "base_uri": "https://localhost:8080/",
          "height": 554
        },
        "id": "xdSpehjC7jjm",
        "outputId": "8be0ef30-8a88-4ecc-b9fe-256e4a975d91"
      },
      "execution_count": null,
      "outputs": [
        {
          "output_type": "display_data",
          "data": {
            "image/png": "[encoded data removed]",
            "text/plain": [
              "<Figure size 432x288 with 1 Axes>"
            ]
          },
          "metadata": {
            "needs_background": "light"
          }
        },
        {
          "output_type": "display_data",
          "data": {
            "image/png": "[encoded data removed]",
            "text/plain": [
              "<Figure size 432x288 with 1 Axes>"
            ]
          },
          "metadata": {
            "needs_background": "light"
          }
        }
      ]
    },
    {
      "cell_type": "markdown",
      "source": [
        "**SALE PRICES**\n",
        "\n",
        "The number of people buying medium price range houses is more than high price houses."
      ],
      "metadata": {
        "id": "yUwqhQ4AsmTe"
      }
    },
    {
      "cell_type": "code",
      "source": [
        "sns.distplot(chennaiHouse['SALES_PRICE'],kde=True,color='RED')"
      ],
      "metadata": {
        "colab": {
          "base_uri": "https://localhost:8080/",
          "height": 310
        },
        "id": "ubr5jdhl0Uyt",
        "outputId": "a86f1ca0-34a8-49ff-9317-2a6c8e86c555"
      },
      "execution_count": null,
      "outputs": [
        {
          "output_type": "execute_result",
          "data": {
            "text/plain": [
              "<matplotlib.axes._subplots.AxesSubplot at 0x7fee86683290>"
            ]
          },
          "metadata": {},
          "execution_count": 174
        },
        {
          "output_type": "display_data",
          "data": {
            "image/png": "[encoded data removed]",
            "text/plain": [
              "<Figure size 432x288 with 1 Axes>"
            ]
          },
          "metadata": {
            "needs_background": "light"
          }
        }
      ]
    },
    {
      "cell_type": "markdown",
      "source": [
        "# **ENCODING**"
      ],
      "metadata": {
        "id": "n5uqSNi7tQxz"
      }
    },
    {
      "cell_type": "code",
      "source": [
        "chennaiHouse.columns"
      ],
      "metadata": {
        "colab": {
          "base_uri": "https://localhost:8080/"
        },
        "id": "vslCxTcb0spj",
        "outputId": "31611688-e8f0-4f14-8091-9419aabc98bd"
      },
      "execution_count": null,
      "outputs": [
        {
          "output_type": "execute_result",
          "data": {
            "text/plain": [
              "Index(['PRT_ID', 'AREA', 'INT_SQFT', 'DIST_MAINROAD', 'N_BEDROOM',\n",
              "       'N_BATHROOM', 'N_ROOM', 'SALE_COND', 'PARK_FACIL', 'BUILDTYPE',\n",
              "       'UTILITY_AVAIL', 'STREET', 'MZZONE', 'QS_ROOMS', 'QS_BATHROOM',\n",
              "       'QS_BEDROOM', 'QS_OVERALL', 'REG_FEE', 'COMMIS', 'SALES_PRICE',\n",
              "       'YEAR_SOLD', 'YEAR_BUILT', 'BUILDING_AGE'],\n",
              "      dtype='object')"
            ]
          },
          "metadata": {},
          "execution_count": 175
        }
      ]
    },
    {
      "cell_type": "code",
      "source": [
        "label_encoder = preprocessing.LabelEncoder()\n",
        "newchennai=chennaiHouse.copy()\n",
        "newchennai['LE_PARK_FACIL']=label_encoder.fit_transform(newchennai['PARK_FACIL'])\n",
        "newchennai['LE_PARK_FACIL']\n",
        "newchennai[['PARK_FACIL','LE_PARK_FACIL']]"
      ],
      "metadata": {
        "id": "d6eBNtY_RWeY",
        "colab": {
          "base_uri": "https://localhost:8080/",
          "height": 423
        },
        "outputId": "87fef8bc-0ceb-4cda-80c4-dbf3f2fa8d9b"
      },
      "execution_count": null,
      "outputs": [
        {
          "output_type": "execute_result",
          "data": {
            "text/html": [
              "\n",
              "  <div id=\"df-80211f0d-9be7-46dd-898c-c546c3737857\">\n",
              "    <div class=\"colab-df-container\">\n",
              "      <div>\n",
              "<style scoped>\n",
              "    .dataframe tbody tr th:only-of-type {\n",
              "        vertical-align: middle;\n",
              "    }\n",
              "\n",
              "    .dataframe tbody tr th {\n",
              "        vertical-align: top;\n",
              "    }\n",
              "\n",
              "    .dataframe thead th {\n",
              "        text-align: right;\n",
              "    }\n",
              "</style>\n",
              "<table border=\"1\" class=\"dataframe\">\n",
              "  <thead>\n",
              "    <tr style=\"text-align: right;\">\n",
              "      <th></th>\n",
              "      <th>PARK_FACIL</th>\n",
              "      <th>LE_PARK_FACIL</th>\n",
              "    </tr>\n",
              "  </thead>\n",
              "  <tbody>\n",
              "    <tr>\n",
              "      <th>0</th>\n",
              "      <td>Yes</td>\n",
              "      <td>1</td>\n",
              "    </tr>\n",
              "    <tr>\n",
              "      <th>1</th>\n",
              "      <td>No</td>\n",
              "      <td>0</td>\n",
              "    </tr>\n",
              "    <tr>\n",
              "      <th>2</th>\n",
              "      <td>Yes</td>\n",
              "      <td>1</td>\n",
              "    </tr>\n",
              "    <tr>\n",
              "      <th>3</th>\n",
              "      <td>No</td>\n",
              "      <td>0</td>\n",
              "    </tr>\n",
              "    <tr>\n",
              "      <th>4</th>\n",
              "      <td>Yes</td>\n",
              "      <td>1</td>\n",
              "    </tr>\n",
              "    <tr>\n",
              "      <th>...</th>\n",
              "      <td>...</td>\n",
              "      <td>...</td>\n",
              "    </tr>\n",
              "    <tr>\n",
              "      <th>7104</th>\n",
              "      <td>No</td>\n",
              "      <td>0</td>\n",
              "    </tr>\n",
              "    <tr>\n",
              "      <th>7105</th>\n",
              "      <td>Yes</td>\n",
              "      <td>1</td>\n",
              "    </tr>\n",
              "    <tr>\n",
              "      <th>7106</th>\n",
              "      <td>No</td>\n",
              "      <td>0</td>\n",
              "    </tr>\n",
              "    <tr>\n",
              "      <th>7107</th>\n",
              "      <td>Yes</td>\n",
              "      <td>1</td>\n",
              "    </tr>\n",
              "    <tr>\n",
              "      <th>7108</th>\n",
              "      <td>Yes</td>\n",
              "      <td>1</td>\n",
              "    </tr>\n",
              "  </tbody>\n",
              "</table>\n",
              "<p>7056 rows × 2 columns</p>\n",
              "</div>\n",
              "      <button class=\"colab-df-convert\" onclick=\"convertToInteractive('df-80211f0d-9be7-46dd-898c-c546c3737857')\"\n",
              "              title=\"Convert this dataframe to an interactive table.\"\n",
              "              style=\"display:none;\">\n",
              "        \n",
              "  <svg xmlns=\"http://www.w3.org/2000/svg\" height=\"24px\"viewBox=\"0 0 24 24\"\n",
              "       width=\"24px\">\n",
              "    <path d=\"M0 0h24v24H0V0z\" fill=\"none\"/>\n",
              "    <path d=\"M18.56 5.44l.94 2.06.94-2.06 2.06-.94-2.06-.94-.94-2.06-.94 2.06-2.06.94zm-11 1L8.5 8.5l.94-2.06 2.06-.94-2.06-.94L8.5 2.5l-.94 2.06-2.06.94zm10 10l.94 2.06.94-2.06 2.06-.94-2.06-.94-.94-2.06-.94 2.06-2.06.94z\"/><path d=\"M17.41 7.96l-1.37-1.37c-.4-.4-.92-.59-1.43-.59-.52 0-1.04.2-1.43.59L10.3 9.45l-7.72 7.72c-.78.78-.78 2.05 0 2.83L4 21.41c.39.39.9.59 1.41.59.51 0 1.02-.2 1.41-.59l7.78-7.78 2.81-2.81c.8-.78.8-2.07 0-2.86zM5.41 20L4 18.59l7.72-7.72 1.47 1.35L5.41 20z\"/>\n",
              "  </svg>\n",
              "      </button>\n",
              "      \n",
              "  <style>\n",
              "    .colab-df-container {\n",
              "      display:flex;\n",
              "      flex-wrap:wrap;\n",
              "      gap: 12px;\n",
              "    }\n",
              "\n",
              "    .colab-df-convert {\n",
              "      background-color: #E8F0FE;\n",
              "      border: none;\n",
              "      border-radius: 50%;\n",
              "      cursor: pointer;\n",
              "      display: none;\n",
              "      fill: #1967D2;\n",
              "      height: 32px;\n",
              "      padding: 0 0 0 0;\n",
              "      width: 32px;\n",
              "    }\n",
              "\n",
              "    .colab-df-convert:hover {\n",
              "      background-color: #E2EBFA;\n",
              "      box-shadow: 0px 1px 2px rgba(60, 64, 67, 0.3), 0px 1px 3px 1px rgba(60, 64, 67, 0.15);\n",
              "      fill: #174EA6;\n",
              "    }\n",
              "\n",
              "    [theme=dark] .colab-df-convert {\n",
              "      background-color: #3B4455;\n",
              "      fill: #D2E3FC;\n",
              "    }\n",
              "\n",
              "    [theme=dark] .colab-df-convert:hover {\n",
              "      background-color: #434B5C;\n",
              "      box-shadow: 0px 1px 3px 1px rgba(0, 0, 0, 0.15);\n",
              "      filter: drop-shadow(0px 1px 2px rgba(0, 0, 0, 0.3));\n",
              "      fill: #FFFFFF;\n",
              "    }\n",
              "  </style>\n",
              "\n",
              "      <script>\n",
              "        const buttonEl =\n",
              "          document.querySelector('#df-80211f0d-9be7-46dd-898c-c546c3737857 button.colab-df-convert');\n",
              "        buttonEl.style.display =\n",
              "          google.colab.kernel.accessAllowed ? 'block' : 'none';\n",
              "\n",
              "        async function convertToInteractive(key) {\n",
              "          const element = document.querySelector('#df-80211f0d-9be7-46dd-898c-c546c3737857');\n",
              "          const dataTable =\n",
              "            await google.colab.kernel.invokeFunction('convertToInteractive',\n",
              "                                                     [key], {});\n",
              "          if (!dataTable) return;\n",
              "\n",
              "          const docLinkHtml = 'Like what you see? Visit the ' +\n",
              "            '<a target=\"_blank\" href=https://colab.research.google.com/notebooks/data_table.ipynb>data table notebook</a>'\n",
              "            + ' to learn more about interactive tables.';\n",
              "          element.innerHTML = '';\n",
              "          dataTable['output_type'] = 'display_data';\n",
              "          await google.colab.output.renderOutput(dataTable, element);\n",
              "          const docLink = document.createElement('div');\n",
              "          docLink.innerHTML = docLinkHtml;\n",
              "          element.appendChild(docLink);\n",
              "        }\n",
              "      </script>\n",
              "    </div>\n",
              "  </div>\n",
              "  "
            ],
            "text/plain": [
              "     PARK_FACIL  LE_PARK_FACIL\n",
              "0           Yes              1\n",
              "1            No              0\n",
              "2           Yes              1\n",
              "3            No              0\n",
              "4           Yes              1\n",
              "...         ...            ...\n",
              "7104         No              0\n",
              "7105        Yes              1\n",
              "7106         No              0\n",
              "7107        Yes              1\n",
              "7108        Yes              1\n",
              "\n",
              "[7056 rows x 2 columns]"
            ]
          },
          "metadata": {},
          "execution_count": 176
        }
      ]
    },
    {
      "cell_type": "code",
      "source": [
        "newchennai['LE_STREET']=newchennai.STREET.map({'No Access':0,'Paved':1,'Gravel':2})\n"
      ],
      "metadata": {
        "id": "lsFNQpB7ZDKu"
      },
      "execution_count": null,
      "outputs": []
    },
    {
      "cell_type": "code",
      "source": [
        "newchennai['LE_MZZONE']=label_encoder.fit_transform(newchennai['MZZONE'])\n"
      ],
      "metadata": {
        "id": "cCGI1Hcef4N7"
      },
      "execution_count": null,
      "outputs": []
    },
    {
      "cell_type": "markdown",
      "source": [
        "**DROP UNNECESSARY AND REPEATED COLUMNS**"
      ],
      "metadata": {
        "id": "FDpbThUztxqW"
      }
    },
    {
      "cell_type": "code",
      "source": [
        "newchennai=newchennai.drop(columns=['PRT_ID','YEAR_SOLD','YEAR_BUILT','REG_FEE','COMMIS','DIST_MAINROAD','QS_OVERALL','PARK_FACIL','MZZONE','STREET'])\n",
        "newchennai.columns"
      ],
      "metadata": {
        "colab": {
          "base_uri": "https://localhost:8080/"
        },
        "id": "tVfduUUwkWDk",
        "outputId": "9895d0ab-4b6b-468f-f07d-02ebddb8e4e0"
      },
      "execution_count": null,
      "outputs": [
        {
          "output_type": "execute_result",
          "data": {
            "text/plain": [
              "Index(['AREA', 'INT_SQFT', 'N_BEDROOM', 'N_BATHROOM', 'N_ROOM', 'SALE_COND',\n",
              "       'BUILDTYPE', 'UTILITY_AVAIL', 'QS_ROOMS', 'QS_BATHROOM', 'QS_BEDROOM',\n",
              "       'SALES_PRICE', 'BUILDING_AGE', 'LE_PARK_FACIL', 'LE_STREET',\n",
              "       'LE_MZZONE'],\n",
              "      dtype='object')"
            ]
          },
          "metadata": {},
          "execution_count": 179
        }
      ]
    },
    {
      "cell_type": "code",
      "source": [
        "newchennai1=pd.get_dummies(newchennai)\n",
        "newchennai1.columns"
      ],
      "metadata": {
        "colab": {
          "base_uri": "https://localhost:8080/"
        },
        "id": "yI_VfSVIlxJo",
        "outputId": "4c524350-a883-4beb-b44c-b0c795182c53"
      },
      "execution_count": null,
      "outputs": [
        {
          "output_type": "execute_result",
          "data": {
            "text/plain": [
              "Index(['INT_SQFT', 'N_BEDROOM', 'N_BATHROOM', 'N_ROOM', 'QS_ROOMS',\n",
              "       'QS_BATHROOM', 'QS_BEDROOM', 'SALES_PRICE', 'BUILDING_AGE',\n",
              "       'LE_PARK_FACIL', 'LE_STREET', 'LE_MZZONE', 'AREA_Adyar',\n",
              "       'AREA_Anna Nagar', 'AREA_Chrompet', 'AREA_KK Nagar', 'AREA_Karapakkam',\n",
              "       'AREA_T Nagar', 'AREA_Velachery', 'SALE_COND_AbNormal',\n",
              "       'SALE_COND_AdjLand', 'SALE_COND_Family', 'SALE_COND_Normal Sale',\n",
              "       'SALE_COND_Partial', 'BUILDTYPE_Commercial', 'BUILDTYPE_House',\n",
              "       'BUILDTYPE_Others', 'UTILITY_AVAIL_AllPub', 'UTILITY_AVAIL_ELO',\n",
              "       'UTILITY_AVAIL_NoSeWa', 'UTILITY_AVAIL_NoSewr '],\n",
              "      dtype='object')"
            ]
          },
          "metadata": {},
          "execution_count": 180
        }
      ]
    },
    {
      "cell_type": "markdown",
      "source": [
        "# **SPLITTING**"
      ],
      "metadata": {
        "id": "IhouPPb0w3gy"
      }
    },
    {
      "cell_type": "markdown",
      "source": [
        "**SPLITTING INTO TRAIN AND TEST DATA**"
      ],
      "metadata": {
        "id": "-hsF5IxZruuf"
      }
    },
    {
      "cell_type": "code",
      "source": [
        "chennai=newchennai1.drop(columns=['SALES_PRICE'])\n",
        "X=chennai.values\n",
        "y=newchennai1['SALES_PRICE'].values"
      ],
      "metadata": {
        "id": "4tnRW3DRnDOB"
      },
      "execution_count": null,
      "outputs": []
    },
    {
      "cell_type": "code",
      "source": [
        "X_train,X_test,y_train,y_test=train_test_split(X,y,test_size=0.2,random_state=9)"
      ],
      "metadata": {
        "id": "ynrdOb0T6pKU"
      },
      "execution_count": null,
      "outputs": []
    },
    {
      "cell_type": "code",
      "source": [
        "X_train.shape,X_test.shape"
      ],
      "metadata": {
        "colab": {
          "base_uri": "https://localhost:8080/"
        },
        "id": "uVI8qrdT7Pcf",
        "outputId": "8e09bf3b-ddf5-42e5-d23f-400b4284bc23"
      },
      "execution_count": null,
      "outputs": [
        {
          "output_type": "execute_result",
          "data": {
            "text/plain": [
              "((5644, 30), (1412, 30))"
            ]
          },
          "metadata": {},
          "execution_count": 183
        }
      ]
    },
    {
      "cell_type": "code",
      "source": [
        "X_train"
      ],
      "metadata": {
        "colab": {
          "base_uri": "https://localhost:8080/"
        },
        "id": "XcOTtQPP7tIw",
        "outputId": "2cfc3743-0be3-4f14-a977-e783d53095c2"
      },
      "execution_count": null,
      "outputs": [
        {
          "output_type": "execute_result",
          "data": {
            "text/plain": [
              "array([[1.261e+03, 2.000e+00, 2.000e+00, ..., 0.000e+00, 0.000e+00,\n",
              "        1.000e+00],\n",
              "       [1.094e+03, 1.000e+00, 1.000e+00, ..., 1.000e+00, 0.000e+00,\n",
              "        0.000e+00],\n",
              "       [1.001e+03, 1.000e+00, 1.000e+00, ..., 0.000e+00, 0.000e+00,\n",
              "        1.000e+00],\n",
              "       ...,\n",
              "       [1.195e+03, 1.000e+00, 1.000e+00, ..., 0.000e+00, 1.000e+00,\n",
              "        0.000e+00],\n",
              "       [9.470e+02, 1.000e+00, 1.000e+00, ..., 0.000e+00, 0.000e+00,\n",
              "        0.000e+00],\n",
              "       [1.008e+03, 1.000e+00, 1.000e+00, ..., 0.000e+00, 1.000e+00,\n",
              "        0.000e+00]])"
            ]
          },
          "metadata": {},
          "execution_count": 184
        }
      ]
    },
    {
      "cell_type": "code",
      "source": [
        "y_train"
      ],
      "metadata": {
        "colab": {
          "base_uri": "https://localhost:8080/"
        },
        "id": "z2A0uTCr7gQJ",
        "outputId": "ad1ad52f-de68-4933-99ac-a2d42a771486"
      },
      "execution_count": null,
      "outputs": [
        {
          "output_type": "execute_result",
          "data": {
            "text/plain": [
              "array([ 9653285,  7716505,  7078720, ..., 14684750, 14095950,  8836160])"
            ]
          },
          "metadata": {},
          "execution_count": 185
        }
      ]
    },
    {
      "cell_type": "markdown",
      "source": [
        "# **SCALING**"
      ],
      "metadata": {
        "id": "kowsHjTN7781"
      }
    },
    {
      "cell_type": "code",
      "source": [
        "from sklearn.preprocessing import StandardScaler\n",
        "scaler=StandardScaler()\n",
        "X_train_scale=scaler.fit_transform(X_train)\n",
        "X_test_scale=scaler.transform(X_test)\n",
        "\n"
      ],
      "metadata": {
        "id": "2zW_Obrg8BDk"
      },
      "execution_count": null,
      "outputs": []
    },
    {
      "cell_type": "markdown",
      "source": [
        "# **MODELING**"
      ],
      "metadata": {
        "id": "vLymt2p1ylYx"
      }
    },
    {
      "cell_type": "markdown",
      "source": [
        "**LINEAR REGRESSION**"
      ],
      "metadata": {
        "id": "jKDHhB7jGJPp"
      }
    },
    {
      "cell_type": "code",
      "source": [
        "Lregressor=LinearRegression(fit_intercept=True)\n",
        "Lregressor.fit(X_train_scale,y_train)"
      ],
      "metadata": {
        "colab": {
          "base_uri": "https://localhost:8080/"
        },
        "id": "PA_nedUAGMvf",
        "outputId": "9582d275-68bd-4c90-a440-cae0720b84ef"
      },
      "execution_count": null,
      "outputs": [
        {
          "output_type": "execute_result",
          "data": {
            "text/plain": [
              "LinearRegression()"
            ]
          },
          "metadata": {},
          "execution_count": 187
        }
      ]
    },
    {
      "cell_type": "code",
      "source": [
        "print(Lregressor.intercept_)"
      ],
      "metadata": {
        "colab": {
          "base_uri": "https://localhost:8080/"
        },
        "id": "-1EIy7anGkaA",
        "outputId": "ba033bbb-39dc-4a09-a32a-250bb8d1a591"
      },
      "execution_count": null,
      "outputs": [
        {
          "output_type": "stream",
          "name": "stdout",
          "text": [
            "10883522.86351939\n"
          ]
        }
      ]
    },
    {
      "cell_type": "code",
      "source": [
        "Lregressor.coef_"
      ],
      "metadata": {
        "colab": {
          "base_uri": "https://localhost:8080/"
        },
        "id": "vEM4OypvG9tb",
        "outputId": "f2f37c97-9f06-40cd-b3ae-9b4c08a462bc"
      },
      "execution_count": null,
      "outputs": [
        {
          "output_type": "execute_result",
          "data": {
            "text/plain": [
              "array([ 1.79926577e+06,  1.30093659e+05, -1.50852829e+05,  2.28355923e+05,\n",
              "        1.42593542e+04,  2.17404746e+04,  3.28979142e+04, -2.42224382e+05,\n",
              "        5.05276123e+05,  4.64254150e+05,  9.08402218e+05, -2.07563371e+17,\n",
              "       -2.06098457e+17, -2.82073506e+17, -2.31941821e+17, -2.59445732e+17,\n",
              "       -1.69063972e+17, -2.29041848e+17,  4.50981825e+16,  4.53710047e+16,\n",
              "        4.49137642e+16,  4.57571684e+16,  4.55355120e+16,  2.00851540e+16,\n",
              "        2.02990519e+16,  2.00962103e+16, -1.49206740e+17, -1.38904024e+17,\n",
              "       -1.49016464e+17, -1.46645430e+17])"
            ]
          },
          "metadata": {},
          "execution_count": 189
        }
      ]
    },
    {
      "cell_type": "code",
      "source": [
        "y_pred=Lregressor.predict(X_test_scale)"
      ],
      "metadata": {
        "id": "0tzBoAS6HGOR"
      },
      "execution_count": null,
      "outputs": []
    },
    {
      "cell_type": "code",
      "source": [
        "df=pd.DataFrame({'Actual':y_test,'Predicted':y_pred})\n",
        "df.head(3)"
      ],
      "metadata": {
        "colab": {
          "base_uri": "https://localhost:8080/",
          "height": 143
        },
        "id": "7ALuHo8lHfWV",
        "outputId": "109871c1-a657-4740-cbbd-75a9dc71ed03"
      },
      "execution_count": null,
      "outputs": [
        {
          "output_type": "execute_result",
          "data": {
            "text/html": [
              "\n",
              "  <div id=\"df-4781333b-cd1a-4262-8920-8706d1eeb11a\">\n",
              "    <div class=\"colab-df-container\">\n",
              "      <div>\n",
              "<style scoped>\n",
              "    .dataframe tbody tr th:only-of-type {\n",
              "        vertical-align: middle;\n",
              "    }\n",
              "\n",
              "    .dataframe tbody tr th {\n",
              "        vertical-align: top;\n",
              "    }\n",
              "\n",
              "    .dataframe thead th {\n",
              "        text-align: right;\n",
              "    }\n",
              "</style>\n",
              "<table border=\"1\" class=\"dataframe\">\n",
              "  <thead>\n",
              "    <tr style=\"text-align: right;\">\n",
              "      <th></th>\n",
              "      <th>Actual</th>\n",
              "      <th>Predicted</th>\n",
              "    </tr>\n",
              "  </thead>\n",
              "  <tbody>\n",
              "    <tr>\n",
              "      <th>0</th>\n",
              "      <td>7989570</td>\n",
              "      <td>8.028131e+06</td>\n",
              "    </tr>\n",
              "    <tr>\n",
              "      <th>1</th>\n",
              "      <td>14666960</td>\n",
              "      <td>1.457661e+07</td>\n",
              "    </tr>\n",
              "    <tr>\n",
              "      <th>2</th>\n",
              "      <td>12019000</td>\n",
              "      <td>1.257799e+07</td>\n",
              "    </tr>\n",
              "  </tbody>\n",
              "</table>\n",
              "</div>\n",
              "      <button class=\"colab-df-convert\" onclick=\"convertToInteractive('df-4781333b-cd1a-4262-8920-8706d1eeb11a')\"\n",
              "              title=\"Convert this dataframe to an interactive table.\"\n",
              "              style=\"display:none;\">\n",
              "        \n",
              "  <svg xmlns=\"http://www.w3.org/2000/svg\" height=\"24px\"viewBox=\"0 0 24 24\"\n",
              "       width=\"24px\">\n",
              "    <path d=\"M0 0h24v24H0V0z\" fill=\"none\"/>\n",
              "    <path d=\"M18.56 5.44l.94 2.06.94-2.06 2.06-.94-2.06-.94-.94-2.06-.94 2.06-2.06.94zm-11 1L8.5 8.5l.94-2.06 2.06-.94-2.06-.94L8.5 2.5l-.94 2.06-2.06.94zm10 10l.94 2.06.94-2.06 2.06-.94-2.06-.94-.94-2.06-.94 2.06-2.06.94z\"/><path d=\"M17.41 7.96l-1.37-1.37c-.4-.4-.92-.59-1.43-.59-.52 0-1.04.2-1.43.59L10.3 9.45l-7.72 7.72c-.78.78-.78 2.05 0 2.83L4 21.41c.39.39.9.59 1.41.59.51 0 1.02-.2 1.41-.59l7.78-7.78 2.81-2.81c.8-.78.8-2.07 0-2.86zM5.41 20L4 18.59l7.72-7.72 1.47 1.35L5.41 20z\"/>\n",
              "  </svg>\n",
              "      </button>\n",
              "      \n",
              "  <style>\n",
              "    .colab-df-container {\n",
              "      display:flex;\n",
              "      flex-wrap:wrap;\n",
              "      gap: 12px;\n",
              "    }\n",
              "\n",
              "    .colab-df-convert {\n",
              "      background-color: #E8F0FE;\n",
              "      border: none;\n",
              "      border-radius: 50%;\n",
              "      cursor: pointer;\n",
              "      display: none;\n",
              "      fill: #1967D2;\n",
              "      height: 32px;\n",
              "      padding: 0 0 0 0;\n",
              "      width: 32px;\n",
              "    }\n",
              "\n",
              "    .colab-df-convert:hover {\n",
              "      background-color: #E2EBFA;\n",
              "      box-shadow: 0px 1px 2px rgba(60, 64, 67, 0.3), 0px 1px 3px 1px rgba(60, 64, 67, 0.15);\n",
              "      fill: #174EA6;\n",
              "    }\n",
              "\n",
              "    [theme=dark] .colab-df-convert {\n",
              "      background-color: #3B4455;\n",
              "      fill: #D2E3FC;\n",
              "    }\n",
              "\n",
              "    [theme=dark] .colab-df-convert:hover {\n",
              "      background-color: #434B5C;\n",
              "      box-shadow: 0px 1px 3px 1px rgba(0, 0, 0, 0.15);\n",
              "      filter: drop-shadow(0px 1px 2px rgba(0, 0, 0, 0.3));\n",
              "      fill: #FFFFFF;\n",
              "    }\n",
              "  </style>\n",
              "\n",
              "      <script>\n",
              "        const buttonEl =\n",
              "          document.querySelector('#df-4781333b-cd1a-4262-8920-8706d1eeb11a button.colab-df-convert');\n",
              "        buttonEl.style.display =\n",
              "          google.colab.kernel.accessAllowed ? 'block' : 'none';\n",
              "\n",
              "        async function convertToInteractive(key) {\n",
              "          const element = document.querySelector('#df-4781333b-cd1a-4262-8920-8706d1eeb11a');\n",
              "          const dataTable =\n",
              "            await google.colab.kernel.invokeFunction('convertToInteractive',\n",
              "                                                     [key], {});\n",
              "          if (!dataTable) return;\n",
              "\n",
              "          const docLinkHtml = 'Like what you see? Visit the ' +\n",
              "            '<a target=\"_blank\" href=https://colab.research.google.com/notebooks/data_table.ipynb>data table notebook</a>'\n",
              "            + ' to learn more about interactive tables.';\n",
              "          element.innerHTML = '';\n",
              "          dataTable['output_type'] = 'display_data';\n",
              "          await google.colab.output.renderOutput(dataTable, element);\n",
              "          const docLink = document.createElement('div');\n",
              "          docLink.innerHTML = docLinkHtml;\n",
              "          element.appendChild(docLink);\n",
              "        }\n",
              "      </script>\n",
              "    </div>\n",
              "  </div>\n",
              "  "
            ],
            "text/plain": [
              "     Actual     Predicted\n",
              "0   7989570  8.028131e+06\n",
              "1  14666960  1.457661e+07\n",
              "2  12019000  1.257799e+07"
            ]
          },
          "metadata": {},
          "execution_count": 191
        }
      ]
    },
    {
      "cell_type": "code",
      "source": [
        "print(\"Mean Absolute Error\",metrics.mean_absolute_error(y_test,y_pred))\n",
        "print(\"Mean Squared Error\",metrics.mean_squared_error(y_test,y_pred))\n",
        "crossval=cross_val_score(Lregressor,X_train_scale,y_train)\n",
        "print(\"LR_cross_val_score\",crossval)\n",
        "LR_MCVS=np.mean(crossval)\n",
        "print(\"mean cross validation score: {}\".format(LR_MCVS))\n"
      ],
      "metadata": {
        "colab": {
          "base_uri": "https://localhost:8080/"
        },
        "id": "JAchJdzCIaSF",
        "outputId": "0696c53e-c74d-4211-885c-8f973aee8d76"
      },
      "execution_count": null,
      "outputs": [
        {
          "output_type": "stream",
          "name": "stdout",
          "text": [
            "Mean Absolute Error 590374.7869068219\n",
            "Mean Squared Error 629554898751.0427\n",
            "LR_cross_val_score [0.95900488 0.95648218 0.95663764 0.95624285 0.95575158]\n",
            "mean cross validation score: 0.9568238255928337\n"
          ]
        }
      ]
    },
    {
      "cell_type": "code",
      "source": [
        "ax1 = sns.distplot(y_test, hist = False, color = 'red', label = 'actual')\n",
        "sns.distplot(y_pred, hist = False, color = 'blue', label = 'prediction', ax = ax1)"
      ],
      "metadata": {
        "colab": {
          "base_uri": "https://localhost:8080/",
          "height": 307
        },
        "id": "xezp8OOY8XqN",
        "outputId": "759a6f6a-f10f-4d43-940e-1621d6853a23"
      },
      "execution_count": null,
      "outputs": [
        {
          "output_type": "execute_result",
          "data": {
            "text/plain": [
              "<matplotlib.axes._subplots.AxesSubplot at 0x7fee869a0150>"
            ]
          },
          "metadata": {},
          "execution_count": 193
        },
        {
          "output_type": "display_data",
          "data": {
            "image/png": "[encoded data removed]",
            "text/plain": [
              "<Figure size 432x288 with 1 Axes>"
            ]
          },
          "metadata": {
            "needs_background": "light"
          }
        }
      ]
    },
    {
      "cell_type": "markdown",
      "source": [
        "**DECISION TREE**"
      ],
      "metadata": {
        "id": "-DMm4aZ6gKHo"
      }
    },
    {
      "cell_type": "code",
      "source": [
        "Dregressor = DecisionTreeRegressor(random_state=1)\n",
        "Dregressor.fit(X_train_scale, y_train)\n",
        "score = cross_val_score(Dregressor, X_test_scale, y_test,cv=5)\n",
        "print('cross_val_score',score)\n",
        "DT_MCVS=np.mean(score)\n",
        "print(\"mean cross validation score: {}\".format(DT_MCVS))\n"
      ],
      "metadata": {
        "colab": {
          "base_uri": "https://localhost:8080/"
        },
        "id": "odVfnFxHgMn8",
        "outputId": "fb2fff0c-6779-43a8-a6c3-76ba08efa63c"
      },
      "execution_count": null,
      "outputs": [
        {
          "output_type": "stream",
          "name": "stdout",
          "text": [
            "cross_val_score [0.91050743 0.91646875 0.92058405 0.94238962 0.91640526]\n",
            "mean cross validation score: 0.9212710215463774\n"
          ]
        }
      ]
    },
    {
      "cell_type": "code",
      "source": [
        "dt_pred=Dregressor.predict(X_test_scale)\n",
        "df1=pd.DataFrame({'Actual':y_test,'Predicted':dt_pred})\n",
        "df1.head(3)"
      ],
      "metadata": {
        "colab": {
          "base_uri": "https://localhost:8080/",
          "height": 143
        },
        "id": "90Vz3lwEXwBB",
        "outputId": "140e777b-4f6e-42ce-d3db-94951d527ef0"
      },
      "execution_count": null,
      "outputs": [
        {
          "output_type": "execute_result",
          "data": {
            "text/html": [
              "\n",
              "  <div id=\"df-2c9c73cb-b8c9-412d-a60c-285cec23b514\">\n",
              "    <div class=\"colab-df-container\">\n",
              "      <div>\n",
              "<style scoped>\n",
              "    .dataframe tbody tr th:only-of-type {\n",
              "        vertical-align: middle;\n",
              "    }\n",
              "\n",
              "    .dataframe tbody tr th {\n",
              "        vertical-align: top;\n",
              "    }\n",
              "\n",
              "    .dataframe thead th {\n",
              "        text-align: right;\n",
              "    }\n",
              "</style>\n",
              "<table border=\"1\" class=\"dataframe\">\n",
              "  <thead>\n",
              "    <tr style=\"text-align: right;\">\n",
              "      <th></th>\n",
              "      <th>Actual</th>\n",
              "      <th>Predicted</th>\n",
              "    </tr>\n",
              "  </thead>\n",
              "  <tbody>\n",
              "    <tr>\n",
              "      <th>0</th>\n",
              "      <td>7989570</td>\n",
              "      <td>7740130.0</td>\n",
              "    </tr>\n",
              "    <tr>\n",
              "      <th>1</th>\n",
              "      <td>14666960</td>\n",
              "      <td>14256340.0</td>\n",
              "    </tr>\n",
              "    <tr>\n",
              "      <th>2</th>\n",
              "      <td>12019000</td>\n",
              "      <td>11584500.0</td>\n",
              "    </tr>\n",
              "  </tbody>\n",
              "</table>\n",
              "</div>\n",
              "      <button class=\"colab-df-convert\" onclick=\"convertToInteractive('df-2c9c73cb-b8c9-412d-a60c-285cec23b514')\"\n",
              "              title=\"Convert this dataframe to an interactive table.\"\n",
              "              style=\"display:none;\">\n",
              "        \n",
              "  <svg xmlns=\"http://www.w3.org/2000/svg\" height=\"24px\"viewBox=\"0 0 24 24\"\n",
              "       width=\"24px\">\n",
              "    <path d=\"M0 0h24v24H0V0z\" fill=\"none\"/>\n",
              "    <path d=\"M18.56 5.44l.94 2.06.94-2.06 2.06-.94-2.06-.94-.94-2.06-.94 2.06-2.06.94zm-11 1L8.5 8.5l.94-2.06 2.06-.94-2.06-.94L8.5 2.5l-.94 2.06-2.06.94zm10 10l.94 2.06.94-2.06 2.06-.94-2.06-.94-.94-2.06-.94 2.06-2.06.94z\"/><path d=\"M17.41 7.96l-1.37-1.37c-.4-.4-.92-.59-1.43-.59-.52 0-1.04.2-1.43.59L10.3 9.45l-7.72 7.72c-.78.78-.78 2.05 0 2.83L4 21.41c.39.39.9.59 1.41.59.51 0 1.02-.2 1.41-.59l7.78-7.78 2.81-2.81c.8-.78.8-2.07 0-2.86zM5.41 20L4 18.59l7.72-7.72 1.47 1.35L5.41 20z\"/>\n",
              "  </svg>\n",
              "      </button>\n",
              "      \n",
              "  <style>\n",
              "    .colab-df-container {\n",
              "      display:flex;\n",
              "      flex-wrap:wrap;\n",
              "      gap: 12px;\n",
              "    }\n",
              "\n",
              "    .colab-df-convert {\n",
              "      background-color: #E8F0FE;\n",
              "      border: none;\n",
              "      border-radius: 50%;\n",
              "      cursor: pointer;\n",
              "      display: none;\n",
              "      fill: #1967D2;\n",
              "      height: 32px;\n",
              "      padding: 0 0 0 0;\n",
              "      width: 32px;\n",
              "    }\n",
              "\n",
              "    .colab-df-convert:hover {\n",
              "      background-color: #E2EBFA;\n",
              "      box-shadow: 0px 1px 2px rgba(60, 64, 67, 0.3), 0px 1px 3px 1px rgba(60, 64, 67, 0.15);\n",
              "      fill: #174EA6;\n",
              "    }\n",
              "\n",
              "    [theme=dark] .colab-df-convert {\n",
              "      background-color: #3B4455;\n",
              "      fill: #D2E3FC;\n",
              "    }\n",
              "\n",
              "    [theme=dark] .colab-df-convert:hover {\n",
              "      background-color: #434B5C;\n",
              "      box-shadow: 0px 1px 3px 1px rgba(0, 0, 0, 0.15);\n",
              "      filter: drop-shadow(0px 1px 2px rgba(0, 0, 0, 0.3));\n",
              "      fill: #FFFFFF;\n",
              "    }\n",
              "  </style>\n",
              "\n",
              "      <script>\n",
              "        const buttonEl =\n",
              "          document.querySelector('#df-2c9c73cb-b8c9-412d-a60c-285cec23b514 button.colab-df-convert');\n",
              "        buttonEl.style.display =\n",
              "          google.colab.kernel.accessAllowed ? 'block' : 'none';\n",
              "\n",
              "        async function convertToInteractive(key) {\n",
              "          const element = document.querySelector('#df-2c9c73cb-b8c9-412d-a60c-285cec23b514');\n",
              "          const dataTable =\n",
              "            await google.colab.kernel.invokeFunction('convertToInteractive',\n",
              "                                                     [key], {});\n",
              "          if (!dataTable) return;\n",
              "\n",
              "          const docLinkHtml = 'Like what you see? Visit the ' +\n",
              "            '<a target=\"_blank\" href=https://colab.research.google.com/notebooks/data_table.ipynb>data table notebook</a>'\n",
              "            + ' to learn more about interactive tables.';\n",
              "          element.innerHTML = '';\n",
              "          dataTable['output_type'] = 'display_data';\n",
              "          await google.colab.output.renderOutput(dataTable, element);\n",
              "          const docLink = document.createElement('div');\n",
              "          docLink.innerHTML = docLinkHtml;\n",
              "          element.appendChild(docLink);\n",
              "        }\n",
              "      </script>\n",
              "    </div>\n",
              "  </div>\n",
              "  "
            ],
            "text/plain": [
              "     Actual   Predicted\n",
              "0   7989570   7740130.0\n",
              "1  14666960  14256340.0\n",
              "2  12019000  11584500.0"
            ]
          },
          "metadata": {},
          "execution_count": 195
        }
      ]
    },
    {
      "cell_type": "code",
      "source": [
        "ax3 = sns.distplot(y_test, hist = False, color = 'red', label = 'actual')\n",
        "sns.distplot(dt_pred, hist = False, color = 'blue', label = 'prediction', ax = ax3)"
      ],
      "metadata": {
        "colab": {
          "base_uri": "https://localhost:8080/",
          "height": 307
        },
        "id": "rzbZDojEhBtS",
        "outputId": "d9ef255c-97a3-42f7-b205-f4aed9402c57"
      },
      "execution_count": null,
      "outputs": [
        {
          "output_type": "execute_result",
          "data": {
            "text/plain": [
              "<matplotlib.axes._subplots.AxesSubplot at 0x7fee916cacd0>"
            ]
          },
          "metadata": {},
          "execution_count": 196
        },
        {
          "output_type": "display_data",
          "data": {
            "image/png": "[encoded data removed]",
            "text/plain": [
              "<Figure size 432x288 with 1 Axes>"
            ]
          },
          "metadata": {
            "needs_background": "light"
          }
        }
      ]
    },
    {
      "cell_type": "markdown",
      "source": [
        "**RANDOM FOREST**"
      ],
      "metadata": {
        "id": "cAgkvE9CQ_op"
      }
    },
    {
      "cell_type": "code",
      "source": [
        "rf=RandomForestRegressor(n_estimators=200,random_state=9)\n",
        "rf.fit(X_train_scale,y_train)\n",
        "Rscore = cross_val_score(rf, X_test_scale, y_test,cv=15)\n",
        "print('cross_val_score',Rscore)\n",
        "RF_MCVS=np.mean(Rscore)\n",
        "print(\"mean cross validation score: {}\".format(RF_MCVS))"
      ],
      "metadata": {
        "colab": {
          "base_uri": "https://localhost:8080/"
        },
        "id": "ATAY5-l4FwuZ",
        "outputId": "873282bc-ef51-4b05-c820-aa0ab3985f84"
      },
      "execution_count": null,
      "outputs": [
        {
          "output_type": "stream",
          "name": "stdout",
          "text": [
            "cross_val_score [0.97146005 0.96922217 0.96802763 0.94866577 0.96707815 0.97272387\n",
            " 0.97014128 0.96731675 0.9669478  0.96741948 0.97341507 0.96301469\n",
            " 0.9556885  0.96194604 0.9751855 ]\n",
            "mean cross validation score: 0.9665501823240124\n"
          ]
        }
      ]
    },
    {
      "cell_type": "code",
      "source": [
        "rf_pred=rf.predict(X_test_scale)\n",
        "df2=pd.DataFrame({'Actual':y_test,'Predicted':rf_pred})\n",
        "df2.head(3)"
      ],
      "metadata": {
        "colab": {
          "base_uri": "https://localhost:8080/",
          "height": 143
        },
        "id": "rrwU3vbgYaqT",
        "outputId": "d0f1c438-e200-46c9-daa8-32bb0a68a843"
      },
      "execution_count": null,
      "outputs": [
        {
          "output_type": "execute_result",
          "data": {
            "text/html": [
              "\n",
              "  <div id=\"df-864bfee0-8bfb-4d98-9631-c3599b206814\">\n",
              "    <div class=\"colab-df-container\">\n",
              "      <div>\n",
              "<style scoped>\n",
              "    .dataframe tbody tr th:only-of-type {\n",
              "        vertical-align: middle;\n",
              "    }\n",
              "\n",
              "    .dataframe tbody tr th {\n",
              "        vertical-align: top;\n",
              "    }\n",
              "\n",
              "    .dataframe thead th {\n",
              "        text-align: right;\n",
              "    }\n",
              "</style>\n",
              "<table border=\"1\" class=\"dataframe\">\n",
              "  <thead>\n",
              "    <tr style=\"text-align: right;\">\n",
              "      <th></th>\n",
              "      <th>Actual</th>\n",
              "      <th>Predicted</th>\n",
              "    </tr>\n",
              "  </thead>\n",
              "  <tbody>\n",
              "    <tr>\n",
              "      <th>0</th>\n",
              "      <td>7989570</td>\n",
              "      <td>8055527.50</td>\n",
              "    </tr>\n",
              "    <tr>\n",
              "      <th>1</th>\n",
              "      <td>14666960</td>\n",
              "      <td>14544762.90</td>\n",
              "    </tr>\n",
              "    <tr>\n",
              "      <th>2</th>\n",
              "      <td>12019000</td>\n",
              "      <td>11745648.55</td>\n",
              "    </tr>\n",
              "  </tbody>\n",
              "</table>\n",
              "</div>\n",
              "      <button class=\"colab-df-convert\" onclick=\"convertToInteractive('df-864bfee0-8bfb-4d98-9631-c3599b206814')\"\n",
              "              title=\"Convert this dataframe to an interactive table.\"\n",
              "              style=\"display:none;\">\n",
              "        \n",
              "  <svg xmlns=\"http://www.w3.org/2000/svg\" height=\"24px\"viewBox=\"0 0 24 24\"\n",
              "       width=\"24px\">\n",
              "    <path d=\"M0 0h24v24H0V0z\" fill=\"none\"/>\n",
              "    <path d=\"M18.56 5.44l.94 2.06.94-2.06 2.06-.94-2.06-.94-.94-2.06-.94 2.06-2.06.94zm-11 1L8.5 8.5l.94-2.06 2.06-.94-2.06-.94L8.5 2.5l-.94 2.06-2.06.94zm10 10l.94 2.06.94-2.06 2.06-.94-2.06-.94-.94-2.06-.94 2.06-2.06.94z\"/><path d=\"M17.41 7.96l-1.37-1.37c-.4-.4-.92-.59-1.43-.59-.52 0-1.04.2-1.43.59L10.3 9.45l-7.72 7.72c-.78.78-.78 2.05 0 2.83L4 21.41c.39.39.9.59 1.41.59.51 0 1.02-.2 1.41-.59l7.78-7.78 2.81-2.81c.8-.78.8-2.07 0-2.86zM5.41 20L4 18.59l7.72-7.72 1.47 1.35L5.41 20z\"/>\n",
              "  </svg>\n",
              "      </button>\n",
              "      \n",
              "  <style>\n",
              "    .colab-df-container {\n",
              "      display:flex;\n",
              "      flex-wrap:wrap;\n",
              "      gap: 12px;\n",
              "    }\n",
              "\n",
              "    .colab-df-convert {\n",
              "      background-color: #E8F0FE;\n",
              "      border: none;\n",
              "      border-radius: 50%;\n",
              "      cursor: pointer;\n",
              "      display: none;\n",
              "      fill: #1967D2;\n",
              "      height: 32px;\n",
              "      padding: 0 0 0 0;\n",
              "      width: 32px;\n",
              "    }\n",
              "\n",
              "    .colab-df-convert:hover {\n",
              "      background-color: #E2EBFA;\n",
              "      box-shadow: 0px 1px 2px rgba(60, 64, 67, 0.3), 0px 1px 3px 1px rgba(60, 64, 67, 0.15);\n",
              "      fill: #174EA6;\n",
              "    }\n",
              "\n",
              "    [theme=dark] .colab-df-convert {\n",
              "      background-color: #3B4455;\n",
              "      fill: #D2E3FC;\n",
              "    }\n",
              "\n",
              "    [theme=dark] .colab-df-convert:hover {\n",
              "      background-color: #434B5C;\n",
              "      box-shadow: 0px 1px 3px 1px rgba(0, 0, 0, 0.15);\n",
              "      filter: drop-shadow(0px 1px 2px rgba(0, 0, 0, 0.3));\n",
              "      fill: #FFFFFF;\n",
              "    }\n",
              "  </style>\n",
              "\n",
              "      <script>\n",
              "        const buttonEl =\n",
              "          document.querySelector('#df-864bfee0-8bfb-4d98-9631-c3599b206814 button.colab-df-convert');\n",
              "        buttonEl.style.display =\n",
              "          google.colab.kernel.accessAllowed ? 'block' : 'none';\n",
              "\n",
              "        async function convertToInteractive(key) {\n",
              "          const element = document.querySelector('#df-864bfee0-8bfb-4d98-9631-c3599b206814');\n",
              "          const dataTable =\n",
              "            await google.colab.kernel.invokeFunction('convertToInteractive',\n",
              "                                                     [key], {});\n",
              "          if (!dataTable) return;\n",
              "\n",
              "          const docLinkHtml = 'Like what you see? Visit the ' +\n",
              "            '<a target=\"_blank\" href=https://colab.research.google.com/notebooks/data_table.ipynb>data table notebook</a>'\n",
              "            + ' to learn more about interactive tables.';\n",
              "          element.innerHTML = '';\n",
              "          dataTable['output_type'] = 'display_data';\n",
              "          await google.colab.output.renderOutput(dataTable, element);\n",
              "          const docLink = document.createElement('div');\n",
              "          docLink.innerHTML = docLinkHtml;\n",
              "          element.appendChild(docLink);\n",
              "        }\n",
              "      </script>\n",
              "    </div>\n",
              "  </div>\n",
              "  "
            ],
            "text/plain": [
              "     Actual    Predicted\n",
              "0   7989570   8055527.50\n",
              "1  14666960  14544762.90\n",
              "2  12019000  11745648.55"
            ]
          },
          "metadata": {},
          "execution_count": 198
        }
      ]
    },
    {
      "cell_type": "code",
      "source": [
        "ax2 = sns.distplot(y_test, hist = False, color = 'red', label = 'actual')\n",
        "sns.distplot(rf_pred, hist = False, color = 'blue', label = 'prediction', ax = ax2)"
      ],
      "metadata": {
        "colab": {
          "base_uri": "https://localhost:8080/",
          "height": 307
        },
        "id": "YjK5YAqtgthU",
        "outputId": "20bc89de-26ae-41ed-f49d-b79743030c1a"
      },
      "execution_count": null,
      "outputs": [
        {
          "output_type": "execute_result",
          "data": {
            "text/plain": [
              "<matplotlib.axes._subplots.AxesSubplot at 0x7fee91f8e150>"
            ]
          },
          "metadata": {},
          "execution_count": 199
        },
        {
          "output_type": "display_data",
          "data": {
            "image/png": "[encoded data removed]",
            "text/plain": [
              "<Figure size 432x288 with 1 Axes>"
            ]
          },
          "metadata": {
            "needs_background": "light"
          }
        }
      ]
    },
    {
      "cell_type": "markdown",
      "source": [
        "**KNN**"
      ],
      "metadata": {
        "id": "3lLj1U3je8MY"
      }
    },
    {
      "cell_type": "code",
      "source": [
        "knn=KNeighborsRegressor(n_neighbors=9)\n",
        "knn.fit(X_train_scale,y_train)\n",
        "knn_cv_score=cross_val_score(knn,X_test_scale,y_test,cv=10)\n",
        "print('knn_cv_score',knn_cv_score)\n",
        "KNN_MCVS=np.mean(knn_cv_score)\n",
        "print(\"mean cross validation score: {}\".format(KNN_MCVS))"
      ],
      "metadata": {
        "colab": {
          "base_uri": "https://localhost:8080/"
        },
        "id": "odQ3iY86YwCh",
        "outputId": "c1981365-447a-4ebb-af64-e3d7fefcd34e"
      },
      "execution_count": null,
      "outputs": [
        {
          "output_type": "stream",
          "name": "stdout",
          "text": [
            "knn_cv_score [0.8525222  0.87340326 0.84539641 0.86418791 0.84019237 0.85735586\n",
            " 0.86003133 0.85119136 0.86508475 0.85868671]\n",
            "mean cross validation score: 0.856805215907262\n"
          ]
        }
      ]
    },
    {
      "cell_type": "code",
      "source": [
        "knn_pred=knn.predict(X_test_scale)\n",
        "df3=pd.DataFrame({'Actual':y_test,'Predicted':knn_pred})\n",
        "df3.head(3)"
      ],
      "metadata": {
        "colab": {
          "base_uri": "https://localhost:8080/",
          "height": 143
        },
        "id": "28Op8CvmqrxD",
        "outputId": "1baee7ff-613d-40ea-8b9f-072e90e1c690"
      },
      "execution_count": null,
      "outputs": [
        {
          "output_type": "execute_result",
          "data": {
            "text/html": [
              "\n",
              "  <div id=\"df-540ebfa4-4696-4357-a0fb-0890c2de22ed\">\n",
              "    <div class=\"colab-df-container\">\n",
              "      <div>\n",
              "<style scoped>\n",
              "    .dataframe tbody tr th:only-of-type {\n",
              "        vertical-align: middle;\n",
              "    }\n",
              "\n",
              "    .dataframe tbody tr th {\n",
              "        vertical-align: top;\n",
              "    }\n",
              "\n",
              "    .dataframe thead th {\n",
              "        text-align: right;\n",
              "    }\n",
              "</style>\n",
              "<table border=\"1\" class=\"dataframe\">\n",
              "  <thead>\n",
              "    <tr style=\"text-align: right;\">\n",
              "      <th></th>\n",
              "      <th>Actual</th>\n",
              "      <th>Predicted</th>\n",
              "    </tr>\n",
              "  </thead>\n",
              "  <tbody>\n",
              "    <tr>\n",
              "      <th>0</th>\n",
              "      <td>7989570</td>\n",
              "      <td>9.669349e+06</td>\n",
              "    </tr>\n",
              "    <tr>\n",
              "      <th>1</th>\n",
              "      <td>14666960</td>\n",
              "      <td>1.289367e+07</td>\n",
              "    </tr>\n",
              "    <tr>\n",
              "      <th>2</th>\n",
              "      <td>12019000</td>\n",
              "      <td>1.368129e+07</td>\n",
              "    </tr>\n",
              "  </tbody>\n",
              "</table>\n",
              "</div>\n",
              "      <button class=\"colab-df-convert\" onclick=\"convertToInteractive('df-540ebfa4-4696-4357-a0fb-0890c2de22ed')\"\n",
              "              title=\"Convert this dataframe to an interactive table.\"\n",
              "              style=\"display:none;\">\n",
              "        \n",
              "  <svg xmlns=\"http://www.w3.org/2000/svg\" height=\"24px\"viewBox=\"0 0 24 24\"\n",
              "       width=\"24px\">\n",
              "    <path d=\"M0 0h24v24H0V0z\" fill=\"none\"/>\n",
              "    <path d=\"M18.56 5.44l.94 2.06.94-2.06 2.06-.94-2.06-.94-.94-2.06-.94 2.06-2.06.94zm-11 1L8.5 8.5l.94-2.06 2.06-.94-2.06-.94L8.5 2.5l-.94 2.06-2.06.94zm10 10l.94 2.06.94-2.06 2.06-.94-2.06-.94-.94-2.06-.94 2.06-2.06.94z\"/><path d=\"M17.41 7.96l-1.37-1.37c-.4-.4-.92-.59-1.43-.59-.52 0-1.04.2-1.43.59L10.3 9.45l-7.72 7.72c-.78.78-.78 2.05 0 2.83L4 21.41c.39.39.9.59 1.41.59.51 0 1.02-.2 1.41-.59l7.78-7.78 2.81-2.81c.8-.78.8-2.07 0-2.86zM5.41 20L4 18.59l7.72-7.72 1.47 1.35L5.41 20z\"/>\n",
              "  </svg>\n",
              "      </button>\n",
              "      \n",
              "  <style>\n",
              "    .colab-df-container {\n",
              "      display:flex;\n",
              "      flex-wrap:wrap;\n",
              "      gap: 12px;\n",
              "    }\n",
              "\n",
              "    .colab-df-convert {\n",
              "      background-color: #E8F0FE;\n",
              "      border: none;\n",
              "      border-radius: 50%;\n",
              "      cursor: pointer;\n",
              "      display: none;\n",
              "      fill: #1967D2;\n",
              "      height: 32px;\n",
              "      padding: 0 0 0 0;\n",
              "      width: 32px;\n",
              "    }\n",
              "\n",
              "    .colab-df-convert:hover {\n",
              "      background-color: #E2EBFA;\n",
              "      box-shadow: 0px 1px 2px rgba(60, 64, 67, 0.3), 0px 1px 3px 1px rgba(60, 64, 67, 0.15);\n",
              "      fill: #174EA6;\n",
              "    }\n",
              "\n",
              "    [theme=dark] .colab-df-convert {\n",
              "      background-color: #3B4455;\n",
              "      fill: #D2E3FC;\n",
              "    }\n",
              "\n",
              "    [theme=dark] .colab-df-convert:hover {\n",
              "      background-color: #434B5C;\n",
              "      box-shadow: 0px 1px 3px 1px rgba(0, 0, 0, 0.15);\n",
              "      filter: drop-shadow(0px 1px 2px rgba(0, 0, 0, 0.3));\n",
              "      fill: #FFFFFF;\n",
              "    }\n",
              "  </style>\n",
              "\n",
              "      <script>\n",
              "        const buttonEl =\n",
              "          document.querySelector('#df-540ebfa4-4696-4357-a0fb-0890c2de22ed button.colab-df-convert');\n",
              "        buttonEl.style.display =\n",
              "          google.colab.kernel.accessAllowed ? 'block' : 'none';\n",
              "\n",
              "        async function convertToInteractive(key) {\n",
              "          const element = document.querySelector('#df-540ebfa4-4696-4357-a0fb-0890c2de22ed');\n",
              "          const dataTable =\n",
              "            await google.colab.kernel.invokeFunction('convertToInteractive',\n",
              "                                                     [key], {});\n",
              "          if (!dataTable) return;\n",
              "\n",
              "          const docLinkHtml = 'Like what you see? Visit the ' +\n",
              "            '<a target=\"_blank\" href=https://colab.research.google.com/notebooks/data_table.ipynb>data table notebook</a>'\n",
              "            + ' to learn more about interactive tables.';\n",
              "          element.innerHTML = '';\n",
              "          dataTable['output_type'] = 'display_data';\n",
              "          await google.colab.output.renderOutput(dataTable, element);\n",
              "          const docLink = document.createElement('div');\n",
              "          docLink.innerHTML = docLinkHtml;\n",
              "          element.appendChild(docLink);\n",
              "        }\n",
              "      </script>\n",
              "    </div>\n",
              "  </div>\n",
              "  "
            ],
            "text/plain": [
              "     Actual     Predicted\n",
              "0   7989570  9.669349e+06\n",
              "1  14666960  1.289367e+07\n",
              "2  12019000  1.368129e+07"
            ]
          },
          "metadata": {},
          "execution_count": 201
        }
      ]
    },
    {
      "cell_type": "code",
      "source": [
        "ax3 = sns.distplot(y_test, hist = False, color = 'red', label = 'actual')\n",
        "sns.distplot(knn_pred, hist = False, color = 'blue', label = 'prediction', ax = ax3)"
      ],
      "metadata": {
        "colab": {
          "base_uri": "https://localhost:8080/",
          "height": 307
        },
        "id": "w5oVOWuprIjb",
        "outputId": "007237c0-1b60-4308-a03a-b47e72ff27ca"
      },
      "execution_count": null,
      "outputs": [
        {
          "output_type": "execute_result",
          "data": {
            "text/plain": [
              "<matplotlib.axes._subplots.AxesSubplot at 0x7fee86a5ec50>"
            ]
          },
          "metadata": {},
          "execution_count": 202
        },
        {
          "output_type": "display_data",
          "data": {
            "image/png": "[encoded data removed]",
            "text/plain": [
              "<Figure size 432x288 with 1 Axes>"
            ]
          },
          "metadata": {
            "needs_background": "light"
          }
        }
      ]
    },
    {
      "cell_type": "markdown",
      "source": [
        "**XGBOOST**"
      ],
      "metadata": {
        "id": "2gqOqNeYueRy"
      }
    },
    {
      "cell_type": "code",
      "source": [
        "XG_boost=xgb.XGBRegressor()\n",
        "XG_boost.fit(X_train_scale,y_train)\n",
        "xgb_cv_score=cross_val_score(XG_boost,X_test_scale,y_test)\n",
        "print('xgb_cv_score',xgb_cv_score)\n",
        "XG_MCVS=np.mean(xgb_cv_score)\n",
        "print(\"mean cross validation score: {}\".format(XG_MCVS))\n",
        "xg_pred=XG_boost.predict(X_test_scale)"
      ],
      "metadata": {
        "colab": {
          "base_uri": "https://localhost:8080/"
        },
        "id": "zvMTIQEzuS8B",
        "outputId": "5cbc0109-acaf-44c4-d248-e3d9bb6cded9"
      },
      "execution_count": null,
      "outputs": [
        {
          "output_type": "stream",
          "name": "stdout",
          "text": [
            "[08:55:24] WARNING: /workspace/src/objective/regression_obj.cu:152: reg:linear is now deprecated in favor of reg:squarederror.\n",
            "[08:55:25] WARNING: /workspace/src/objective/regression_obj.cu:152: reg:linear is now deprecated in favor of reg:squarederror.\n",
            "[08:55:25] WARNING: /workspace/src/objective/regression_obj.cu:152: reg:linear is now deprecated in favor of reg:squarederror.\n",
            "[08:55:25] WARNING: /workspace/src/objective/regression_obj.cu:152: reg:linear is now deprecated in favor of reg:squarederror.\n",
            "[08:55:25] WARNING: /workspace/src/objective/regression_obj.cu:152: reg:linear is now deprecated in favor of reg:squarederror.\n",
            "[08:55:25] WARNING: /workspace/src/objective/regression_obj.cu:152: reg:linear is now deprecated in favor of reg:squarederror.\n",
            "xgb_cv_score [0.98675231 0.98185698 0.98644271 0.98796723 0.98765011]\n",
            "mean cross validation score: 0.9861338684426185\n"
          ]
        }
      ]
    },
    {
      "cell_type": "code",
      "source": [
        "ax4 = sns.distplot(y_test, hist = False, color = 'red', label = 'actual')\n",
        "sns.distplot(xg_pred, hist = False, color = 'blue', label = 'prediction', ax = ax4)"
      ],
      "metadata": {
        "colab": {
          "base_uri": "https://localhost:8080/",
          "height": 307
        },
        "id": "MApTJOwl4t5T",
        "outputId": "04074738-5dd8-4ba4-b6f2-91f416d0bae9"
      },
      "execution_count": null,
      "outputs": [
        {
          "output_type": "execute_result",
          "data": {
            "text/plain": [
              "<matplotlib.axes._subplots.AxesSubplot at 0x7fee86bd2810>"
            ]
          },
          "metadata": {},
          "execution_count": 204
        },
        {
          "output_type": "display_data",
          "data": {
            "image/png": "[encoded data removed]",
            "text/plain": [
              "<Figure size 432x288 with 1 Axes>"
            ]
          },
          "metadata": {
            "needs_background": "light"
          }
        }
      ]
    },
    {
      "cell_type": "markdown",
      "source": [
        "**cross validation scores of all models**"
      ],
      "metadata": {
        "id": "T0UGGL_idLMy"
      }
    },
    {
      "cell_type": "code",
      "source": [
        "CVS={'LR_CVS':LR_MCVS,'DT_CVS':DT_MCVS,'RF_CVS':RF_MCVS,'XG_CVS':XG_MCVS,'KNN_CVS':KNN_MCVS}\n",
        "print(\"cross validation scores\")\n",
        "CVS"
      ],
      "metadata": {
        "colab": {
          "base_uri": "https://localhost:8080/"
        },
        "id": "N4_W4MAdMPxO",
        "outputId": "1f1ace99-a568-40e2-9c73-c7c6592955e7"
      },
      "execution_count": null,
      "outputs": [
        {
          "output_type": "stream",
          "name": "stdout",
          "text": [
            "cross validation scores\n"
          ]
        },
        {
          "output_type": "execute_result",
          "data": {
            "text/plain": [
              "{'DT_CVS': 0.9212710215463774,\n",
              " 'KNN_CVS': 0.856805215907262,\n",
              " 'LR_CVS': 0.9568238255928337,\n",
              " 'RF_CVS': 0.9665501823240124,\n",
              " 'XG_CVS': 0.9861338684426185}"
            ]
          },
          "metadata": {},
          "execution_count": 205
        }
      ]
    },
    {
      "cell_type": "markdown",
      "source": [
        "r2 of all models"
      ],
      "metadata": {
        "id": "s5LPu2QtdVJJ"
      }
    },
    {
      "cell_type": "code",
      "source": [
        "print('R2 Values')\n",
        "R2={'LR_R2':metrics.r2_score(y_test,y_pred),'DT_R2':Dregressor.score(X_test_scale,y_test),'RF_R2':rf.score(X_test_scale,y_test),'XG_R2':XG_boost.score(X_test_scale,y_test),'KNN_R2':knn.score(X_test_scale,y_test)}\n",
        "R2"
      ],
      "metadata": {
        "colab": {
          "base_uri": "https://localhost:8080/"
        },
        "id": "FIFkC5opYoMW",
        "outputId": "07a0419b-990d-4797-f59e-d801e71781e6"
      },
      "execution_count": null,
      "outputs": [
        {
          "output_type": "stream",
          "name": "stdout",
          "text": [
            "R2 Values\n"
          ]
        },
        {
          "output_type": "execute_result",
          "data": {
            "text/plain": [
              "{'DT_R2': 0.9659959733051698,\n",
              " 'KNN_R2': 0.8897140706621136,\n",
              " 'LR_R2': 0.9593652095187981,\n",
              " 'RF_R2': 0.9860051078440369,\n",
              " 'XG_R2': 0.9895058046286365}"
            ]
          },
          "metadata": {},
          "execution_count": 206
        }
      ]
    },
    {
      "cell_type": "markdown",
      "source": [
        "According to Cross Validation Score XGboost got the highest score and\n",
        "R2 is also highest for **XGboost Model**"
      ],
      "metadata": {
        "id": "OWghgJocbWCk"
      }
    },
    {
      "cell_type": "markdown",
      "source": [
        "#**MODEL FOR BUYER**\n"
      ],
      "metadata": {
        "id": "AO6GZ83CzYEu"
      }
    },
    {
      "cell_type": "markdown",
      "source": [
        "**XGBOOST IS THE BEST MODEL FOR PREDICTING HOUSE PRICE ACCORDING TO THE GIVEN DATA**\n",
        "\n",
        "\n",
        "\n"
      ],
      "metadata": {
        "id": "czGFTlrGbpWu"
      }
    },
    {
      "cell_type": "markdown",
      "source": [
        "Sample predictions and actual values for XGBoost Model"
      ],
      "metadata": {
        "id": "BaMQQIJLdxBd"
      }
    },
    {
      "cell_type": "code",
      "source": [
        "XGdf=pd.DataFrame({'Actual':y_test,'Predicted':xg_pred})\n",
        "XGdf.head()"
      ],
      "metadata": {
        "colab": {
          "base_uri": "https://localhost:8080/",
          "height": 206
        },
        "id": "bTcx_h9Fb5dZ",
        "outputId": "5271d737-da8e-4557-b618-83a433c28c7c"
      },
      "execution_count": null,
      "outputs": [
        {
          "output_type": "execute_result",
          "data": {
            "text/html": [
              "\n",
              "  <div id=\"df-4b3a8694-9750-4429-ae4b-e8ec2bfa5812\">\n",
              "    <div class=\"colab-df-container\">\n",
              "      <div>\n",
              "<style scoped>\n",
              "    .dataframe tbody tr th:only-of-type {\n",
              "        vertical-align: middle;\n",
              "    }\n",
              "\n",
              "    .dataframe tbody tr th {\n",
              "        vertical-align: top;\n",
              "    }\n",
              "\n",
              "    .dataframe thead th {\n",
              "        text-align: right;\n",
              "    }\n",
              "</style>\n",
              "<table border=\"1\" class=\"dataframe\">\n",
              "  <thead>\n",
              "    <tr style=\"text-align: right;\">\n",
              "      <th></th>\n",
              "      <th>Actual</th>\n",
              "      <th>Predicted</th>\n",
              "    </tr>\n",
              "  </thead>\n",
              "  <tbody>\n",
              "    <tr>\n",
              "      <th>0</th>\n",
              "      <td>7989570</td>\n",
              "      <td>8131533.0</td>\n",
              "    </tr>\n",
              "    <tr>\n",
              "      <th>1</th>\n",
              "      <td>14666960</td>\n",
              "      <td>14842192.0</td>\n",
              "    </tr>\n",
              "    <tr>\n",
              "      <th>2</th>\n",
              "      <td>12019000</td>\n",
              "      <td>11929590.0</td>\n",
              "    </tr>\n",
              "    <tr>\n",
              "      <th>3</th>\n",
              "      <td>5890500</td>\n",
              "      <td>6304676.5</td>\n",
              "    </tr>\n",
              "    <tr>\n",
              "      <th>4</th>\n",
              "      <td>12873650</td>\n",
              "      <td>12343050.0</td>\n",
              "    </tr>\n",
              "  </tbody>\n",
              "</table>\n",
              "</div>\n",
              "      <button class=\"colab-df-convert\" onclick=\"convertToInteractive('df-4b3a8694-9750-4429-ae4b-e8ec2bfa5812')\"\n",
              "              title=\"Convert this dataframe to an interactive table.\"\n",
              "              style=\"display:none;\">\n",
              "        \n",
              "  <svg xmlns=\"http://www.w3.org/2000/svg\" height=\"24px\"viewBox=\"0 0 24 24\"\n",
              "       width=\"24px\">\n",
              "    <path d=\"M0 0h24v24H0V0z\" fill=\"none\"/>\n",
              "    <path d=\"M18.56 5.44l.94 2.06.94-2.06 2.06-.94-2.06-.94-.94-2.06-.94 2.06-2.06.94zm-11 1L8.5 8.5l.94-2.06 2.06-.94-2.06-.94L8.5 2.5l-.94 2.06-2.06.94zm10 10l.94 2.06.94-2.06 2.06-.94-2.06-.94-.94-2.06-.94 2.06-2.06.94z\"/><path d=\"M17.41 7.96l-1.37-1.37c-.4-.4-.92-.59-1.43-.59-.52 0-1.04.2-1.43.59L10.3 9.45l-7.72 7.72c-.78.78-.78 2.05 0 2.83L4 21.41c.39.39.9.59 1.41.59.51 0 1.02-.2 1.41-.59l7.78-7.78 2.81-2.81c.8-.78.8-2.07 0-2.86zM5.41 20L4 18.59l7.72-7.72 1.47 1.35L5.41 20z\"/>\n",
              "  </svg>\n",
              "      </button>\n",
              "      \n",
              "  <style>\n",
              "    .colab-df-container {\n",
              "      display:flex;\n",
              "      flex-wrap:wrap;\n",
              "      gap: 12px;\n",
              "    }\n",
              "\n",
              "    .colab-df-convert {\n",
              "      background-color: #E8F0FE;\n",
              "      border: none;\n",
              "      border-radius: 50%;\n",
              "      cursor: pointer;\n",
              "      display: none;\n",
              "      fill: #1967D2;\n",
              "      height: 32px;\n",
              "      padding: 0 0 0 0;\n",
              "      width: 32px;\n",
              "    }\n",
              "\n",
              "    .colab-df-convert:hover {\n",
              "      background-color: #E2EBFA;\n",
              "      box-shadow: 0px 1px 2px rgba(60, 64, 67, 0.3), 0px 1px 3px 1px rgba(60, 64, 67, 0.15);\n",
              "      fill: #174EA6;\n",
              "    }\n",
              "\n",
              "    [theme=dark] .colab-df-convert {\n",
              "      background-color: #3B4455;\n",
              "      fill: #D2E3FC;\n",
              "    }\n",
              "\n",
              "    [theme=dark] .colab-df-convert:hover {\n",
              "      background-color: #434B5C;\n",
              "      box-shadow: 0px 1px 3px 1px rgba(0, 0, 0, 0.15);\n",
              "      filter: drop-shadow(0px 1px 2px rgba(0, 0, 0, 0.3));\n",
              "      fill: #FFFFFF;\n",
              "    }\n",
              "  </style>\n",
              "\n",
              "      <script>\n",
              "        const buttonEl =\n",
              "          document.querySelector('#df-4b3a8694-9750-4429-ae4b-e8ec2bfa5812 button.colab-df-convert');\n",
              "        buttonEl.style.display =\n",
              "          google.colab.kernel.accessAllowed ? 'block' : 'none';\n",
              "\n",
              "        async function convertToInteractive(key) {\n",
              "          const element = document.querySelector('#df-4b3a8694-9750-4429-ae4b-e8ec2bfa5812');\n",
              "          const dataTable =\n",
              "            await google.colab.kernel.invokeFunction('convertToInteractive',\n",
              "                                                     [key], {});\n",
              "          if (!dataTable) return;\n",
              "\n",
              "          const docLinkHtml = 'Like what you see? Visit the ' +\n",
              "            '<a target=\"_blank\" href=https://colab.research.google.com/notebooks/data_table.ipynb>data table notebook</a>'\n",
              "            + ' to learn more about interactive tables.';\n",
              "          element.innerHTML = '';\n",
              "          dataTable['output_type'] = 'display_data';\n",
              "          await google.colab.output.renderOutput(dataTable, element);\n",
              "          const docLink = document.createElement('div');\n",
              "          docLink.innerHTML = docLinkHtml;\n",
              "          element.appendChild(docLink);\n",
              "        }\n",
              "      </script>\n",
              "    </div>\n",
              "  </div>\n",
              "  "
            ],
            "text/plain": [
              "     Actual   Predicted\n",
              "0   7989570   8131533.0\n",
              "1  14666960  14842192.0\n",
              "2  12019000  11929590.0\n",
              "3   5890500   6304676.5\n",
              "4  12873650  12343050.0"
            ]
          },
          "metadata": {},
          "execution_count": 207
        }
      ]
    },
    {
      "cell_type": "markdown",
      "source": [
        "# **INSIGHTS FOR BUILDER/SELLER**"
      ],
      "metadata": {
        "id": "5UtWyZOlzD3Y"
      }
    },
    {
      "cell_type": "markdown",
      "source": [
        "![BUILDER_INSIGHT.png](data:image/png;base64,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)"
      ],
      "metadata": {
        "id": "92LIMZycodCE"
      }
    },
    {
      "cell_type": "markdown",
      "source": [
        "AREA: New Big Houses in less costly areas or new small houses in costly areas can fetch more money.\n",
        "\n",
        "INT_SQFT:Peolple are buying houses more between 1000 and 2000 sqft.\n",
        "\n",
        "N_BEDROOM: 2 and 3 bedroom houses are bought more than 4 bed room. single bedroom are bought more in count but are cheaper than 2 and 3 bedroom.\n",
        "\n",
        "Parking Facility: Parking Facility is costlier and preferable as well.\n",
        "\n",
        "Street: More people are ready to pay more money for Gravel and Paved streets than cheaper No Access houses.\n",
        "\n",
        "MZZONE: Residential zone houses are costlier and in demand than Commercial,Industrial and agricultural zones.\n",
        "\n",
        "\n",
        "HariChandana Chennu                                                              \n",
        "D11-Data Science"
      ],
      "metadata": {
        "id": "HhMilQxf0kvC"
      }
    }
  ]
}