{
  "nbformat": 4,
  "nbformat_minor": 0,
  "metadata": {
    "colab": {
      "name": "CarPricePrediction",
      "provenance": [],
      "collapsed_sections": [],
      "authorship_tag": "ABX9TyM7wuid54EIJuLM/CY9aujK"
    },
    "kernelspec": {
      "name": "python3",
      "display_name": "Python 3"
    },
    "language_info": {
      "name": "python"
    }
  },
  "cells": [
    {
      "cell_type": "markdown",
      "source": [
        "**Problem Statement**\n",
        "The goal here is to predict the Price of a refurbished car based on the variables provided in the data set by building a regression model"
      ],
      "metadata": {
        "id": "20eD_0MdWyHz"
      }
    },
    {
      "cell_type": "markdown",
      "source": [
        "# **Data Cleaning**"
      ],
      "metadata": {
        "id": "0cHqFEHoXjvw"
      }
    },
    {
      "cell_type": "code",
      "execution_count": null,
      "metadata": {
        "id": "-qR3OhbsWp44"
      },
      "outputs": [],
      "source": [
        "import pandas as pd\n",
        "import numpy as np\n",
        "import seaborn as sns\n",
        "import matplotlib.pyplot as plt\n",
        "import mpl_toolkits\n",
        "from sklearn.linear_model import LinearRegression\n",
        "from sklearn import tree\n",
        "from sklearn.tree import DecisionTreeRegressor\n",
        "from sklearn.preprocessing import StandardScaler\n",
        "from sklearn.model_selection import train_test_split\n",
        "from sklearn.neighbors import KNeighborsRegressor\n",
        "from sklearn.ensemble import RandomForestRegressor\n",
        "import xgboost as xgb\n",
        "from sklearn import preprocessing\n",
        "from sklearn.metrics import r2_score,mean_absolute_error,mean_squared_error\n",
        "from sklearn import metrics\n",
        "import warnings \n",
        "warnings.filterwarnings('ignore')\n",
        "\n"
      ]
    },
    {
      "cell_type": "markdown",
      "source": [
        "WE IMPORT THE DATE SET AND ANALYSE THE FEATURES"
      ],
      "metadata": {
        "id": "8s71-hniXsfY"
      }
    },
    {
      "cell_type": "code",
      "source": [
        "car_train=pd.read_csv(\"Training_Data_Set.csv\")\n",
        "car_train.head()"
      ],
      "metadata": {
        "colab": {
          "base_uri": "https://localhost:8080/",
          "height": 339
        },
        "id": "jCRwSM8KCq9z",
        "outputId": "ef8ed15a-4163-4e74-b452-b466d9f9edd8"
      },
      "execution_count": null,
      "outputs": [
        {
          "output_type": "execute_result",
          "data": {
            "text/plain": [
              "      Id   Maker    model   Location  Distance       Owner Type  \\\n",
              "0  25001   skoda  octavia  Ahmedabad        NaN          Second   \n",
              "1  25002    fiat    panda  Ahmedabad    27750.0           Third   \n",
              "2  25003     bmw       x1  Hyderabad    46000.0           Third   \n",
              "3  25004  nissan     juke     Mumbai    43949.0           Third   \n",
              "4  25005     bmw       x5     Jaipur    59524.0  Fourth & Above   \n",
              "\n",
              "   manufacture_year  Age of car  engine_displacement  engine_power body_type  \\\n",
              "0              1964          55                 1964         147.0   compact   \n",
              "1              2012           7                 1242          51.0       NaN   \n",
              "2              2014           5                 1995         105.0       NaN   \n",
              "3              2011           8                 1618         140.0       NaN   \n",
              "4              2012           7                 2993         180.0       NaN   \n",
              "\n",
              "   Vroom Audit Rating transmission door_count seat_count fuel_type       Price  \n",
              "0                   8          man       None       None    petrol   543764.25  \n",
              "1                   6          man          4          4    petrol   401819.25  \n",
              "2                   7         auto          4          5    diesel  2392855.50  \n",
              "3                   7          man          4          5    petrol   958606.50  \n",
              "4                   7         auto          4          5    diesel  3085561.50  "
            ],
            "text/html": [
              "\n",
              "  <div id=\"df-88d6ef59-4fe6-4774-abf2-9469a02a83a9\">\n",
              "    <div class=\"colab-df-container\">\n",
              "      <div>\n",
              "<style scoped>\n",
              "    .dataframe tbody tr th:only-of-type {\n",
              "        vertical-align: middle;\n",
              "    }\n",
              "\n",
              "    .dataframe tbody tr th {\n",
              "        vertical-align: top;\n",
              "    }\n",
              "\n",
              "    .dataframe thead th {\n",
              "        text-align: right;\n",
              "    }\n",
              "</style>\n",
              "<table border=\"1\" class=\"dataframe\">\n",
              "  <thead>\n",
              "    <tr style=\"text-align: right;\">\n",
              "      <th></th>\n",
              "      <th>Id</th>\n",
              "      <th>Maker</th>\n",
              "      <th>model</th>\n",
              "      <th>Location</th>\n",
              "      <th>Distance</th>\n",
              "      <th>Owner Type</th>\n",
              "      <th>manufacture_year</th>\n",
              "      <th>Age of car</th>\n",
              "      <th>engine_displacement</th>\n",
              "      <th>engine_power</th>\n",
              "      <th>body_type</th>\n",
              "      <th>Vroom Audit Rating</th>\n",
              "      <th>transmission</th>\n",
              "      <th>door_count</th>\n",
              "      <th>seat_count</th>\n",
              "      <th>fuel_type</th>\n",
              "      <th>Price</th>\n",
              "    </tr>\n",
              "  </thead>\n",
              "  <tbody>\n",
              "    <tr>\n",
              "      <th>0</th>\n",
              "      <td>25001</td>\n",
              "      <td>skoda</td>\n",
              "      <td>octavia</td>\n",
              "      <td>Ahmedabad</td>\n",
              "      <td>NaN</td>\n",
              "      <td>Second</td>\n",
              "      <td>1964</td>\n",
              "      <td>55</td>\n",
              "      <td>1964</td>\n",
              "      <td>147.0</td>\n",
              "      <td>compact</td>\n",
              "      <td>8</td>\n",
              "      <td>man</td>\n",
              "      <td>None</td>\n",
              "      <td>None</td>\n",
              "      <td>petrol</td>\n",
              "      <td>543764.25</td>\n",
              "    </tr>\n",
              "    <tr>\n",
              "      <th>1</th>\n",
              "      <td>25002</td>\n",
              "      <td>fiat</td>\n",
              "      <td>panda</td>\n",
              "      <td>Ahmedabad</td>\n",
              "      <td>27750.0</td>\n",
              "      <td>Third</td>\n",
              "      <td>2012</td>\n",
              "      <td>7</td>\n",
              "      <td>1242</td>\n",
              "      <td>51.0</td>\n",
              "      <td>NaN</td>\n",
              "      <td>6</td>\n",
              "      <td>man</td>\n",
              "      <td>4</td>\n",
              "      <td>4</td>\n",
              "      <td>petrol</td>\n",
              "      <td>401819.25</td>\n",
              "    </tr>\n",
              "    <tr>\n",
              "      <th>2</th>\n",
              "      <td>25003</td>\n",
              "      <td>bmw</td>\n",
              "      <td>x1</td>\n",
              "      <td>Hyderabad</td>\n",
              "      <td>46000.0</td>\n",
              "      <td>Third</td>\n",
              "      <td>2014</td>\n",
              "      <td>5</td>\n",
              "      <td>1995</td>\n",
              "      <td>105.0</td>\n",
              "      <td>NaN</td>\n",
              "      <td>7</td>\n",
              "      <td>auto</td>\n",
              "      <td>4</td>\n",
              "      <td>5</td>\n",
              "      <td>diesel</td>\n",
              "      <td>2392855.50</td>\n",
              "    </tr>\n",
              "    <tr>\n",
              "      <th>3</th>\n",
              "      <td>25004</td>\n",
              "      <td>nissan</td>\n",
              "      <td>juke</td>\n",
              "      <td>Mumbai</td>\n",
              "      <td>43949.0</td>\n",
              "      <td>Third</td>\n",
              "      <td>2011</td>\n",
              "      <td>8</td>\n",
              "      <td>1618</td>\n",
              "      <td>140.0</td>\n",
              "      <td>NaN</td>\n",
              "      <td>7</td>\n",
              "      <td>man</td>\n",
              "      <td>4</td>\n",
              "      <td>5</td>\n",
              "      <td>petrol</td>\n",
              "      <td>958606.50</td>\n",
              "    </tr>\n",
              "    <tr>\n",
              "      <th>4</th>\n",
              "      <td>25005</td>\n",
              "      <td>bmw</td>\n",
              "      <td>x5</td>\n",
              "      <td>Jaipur</td>\n",
              "      <td>59524.0</td>\n",
              "      <td>Fourth &amp; Above</td>\n",
              "      <td>2012</td>\n",
              "      <td>7</td>\n",
              "      <td>2993</td>\n",
              "      <td>180.0</td>\n",
              "      <td>NaN</td>\n",
              "      <td>7</td>\n",
              "      <td>auto</td>\n",
              "      <td>4</td>\n",
              "      <td>5</td>\n",
              "      <td>diesel</td>\n",
              "      <td>3085561.50</td>\n",
              "    </tr>\n",
              "  </tbody>\n",
              "</table>\n",
              "</div>\n",
              "      <button class=\"colab-df-convert\" onclick=\"convertToInteractive('df-88d6ef59-4fe6-4774-abf2-9469a02a83a9')\"\n",
              "              title=\"Convert this dataframe to an interactive table.\"\n",
              "              style=\"display:none;\">\n",
              "        \n",
              "  <svg xmlns=\"http://www.w3.org/2000/svg\" height=\"24px\"viewBox=\"0 0 24 24\"\n",
              "       width=\"24px\">\n",
              "    <path d=\"M0 0h24v24H0V0z\" fill=\"none\"/>\n",
              "    <path d=\"M18.56 5.44l.94 2.06.94-2.06 2.06-.94-2.06-.94-.94-2.06-.94 2.06-2.06.94zm-11 1L8.5 8.5l.94-2.06 2.06-.94-2.06-.94L8.5 2.5l-.94 2.06-2.06.94zm10 10l.94 2.06.94-2.06 2.06-.94-2.06-.94-.94-2.06-.94 2.06-2.06.94z\"/><path d=\"M17.41 7.96l-1.37-1.37c-.4-.4-.92-.59-1.43-.59-.52 0-1.04.2-1.43.59L10.3 9.45l-7.72 7.72c-.78.78-.78 2.05 0 2.83L4 21.41c.39.39.9.59 1.41.59.51 0 1.02-.2 1.41-.59l7.78-7.78 2.81-2.81c.8-.78.8-2.07 0-2.86zM5.41 20L4 18.59l7.72-7.72 1.47 1.35L5.41 20z\"/>\n",
              "  </svg>\n",
              "      </button>\n",
              "      \n",
              "  <style>\n",
              "    .colab-df-container {\n",
              "      display:flex;\n",
              "      flex-wrap:wrap;\n",
              "      gap: 12px;\n",
              "    }\n",
              "\n",
              "    .colab-df-convert {\n",
              "      background-color: #E8F0FE;\n",
              "      border: none;\n",
              "      border-radius: 50%;\n",
              "      cursor: pointer;\n",
              "      display: none;\n",
              "      fill: #1967D2;\n",
              "      height: 32px;\n",
              "      padding: 0 0 0 0;\n",
              "      width: 32px;\n",
              "    }\n",
              "\n",
              "    .colab-df-convert:hover {\n",
              "      background-color: #E2EBFA;\n",
              "      box-shadow: 0px 1px 2px rgba(60, 64, 67, 0.3), 0px 1px 3px 1px rgba(60, 64, 67, 0.15);\n",
              "      fill: #174EA6;\n",
              "    }\n",
              "\n",
              "    [theme=dark] .colab-df-convert {\n",
              "      background-color: #3B4455;\n",
              "      fill: #D2E3FC;\n",
              "    }\n",
              "\n",
              "    [theme=dark] .colab-df-convert:hover {\n",
              "      background-color: #434B5C;\n",
              "      box-shadow: 0px 1px 3px 1px rgba(0, 0, 0, 0.15);\n",
              "      filter: drop-shadow(0px 1px 2px rgba(0, 0, 0, 0.3));\n",
              "      fill: #FFFFFF;\n",
              "    }\n",
              "  </style>\n",
              "\n",
              "      <script>\n",
              "        const buttonEl =\n",
              "          document.querySelector('#df-88d6ef59-4fe6-4774-abf2-9469a02a83a9 button.colab-df-convert');\n",
              "        buttonEl.style.display =\n",
              "          google.colab.kernel.accessAllowed ? 'block' : 'none';\n",
              "\n",
              "        async function convertToInteractive(key) {\n",
              "          const element = document.querySelector('#df-88d6ef59-4fe6-4774-abf2-9469a02a83a9');\n",
              "          const dataTable =\n",
              "            await google.colab.kernel.invokeFunction('convertToInteractive',\n",
              "                                                     [key], {});\n",
              "          if (!dataTable) return;\n",
              "\n",
              "          const docLinkHtml = 'Like what you see? Visit the ' +\n",
              "            '<a target=\"_blank\" href=https://colab.research.google.com/notebooks/data_table.ipynb>data table notebook</a>'\n",
              "            + ' to learn more about interactive tables.';\n",
              "          element.innerHTML = '';\n",
              "          dataTable['output_type'] = 'display_data';\n",
              "          await google.colab.output.renderOutput(dataTable, element);\n",
              "          const docLink = document.createElement('div');\n",
              "          docLink.innerHTML = docLinkHtml;\n",
              "          element.appendChild(docLink);\n",
              "        }\n",
              "      </script>\n",
              "    </div>\n",
              "  </div>\n",
              "  "
            ]
          },
          "metadata": {},
          "execution_count": 130
        }
      ]
    },
    {
      "cell_type": "markdown",
      "source": [
        "CHECKING THE DATA TYPES "
      ],
      "metadata": {
        "id": "TQg_8e-LX2pa"
      }
    },
    {
      "cell_type": "code",
      "source": [
        "car_train.info()"
      ],
      "metadata": {
        "colab": {
          "base_uri": "https://localhost:8080/"
        },
        "id": "BNMWSct2DpPc",
        "outputId": "553956db-7937-4c5e-b1aa-30746fc20096"
      },
      "execution_count": null,
      "outputs": [
        {
          "output_type": "stream",
          "name": "stdout",
          "text": [
            "<class 'pandas.core.frame.DataFrame'>\n",
            "RangeIndex: 53515 entries, 0 to 53514\n",
            "Data columns (total 17 columns):\n",
            " #   Column               Non-Null Count  Dtype  \n",
            "---  ------               --------------  -----  \n",
            " 0   Id                   53515 non-null  int64  \n",
            " 1   Maker                53515 non-null  object \n",
            " 2   model                53515 non-null  object \n",
            " 3   Location             53515 non-null  object \n",
            " 4   Distance             52304 non-null  float64\n",
            " 5   Owner Type           53515 non-null  object \n",
            " 6   manufacture_year     53515 non-null  int64  \n",
            " 7   Age of car           53515 non-null  int64  \n",
            " 8   engine_displacement  53515 non-null  int64  \n",
            " 9   engine_power         52076 non-null  float64\n",
            " 10  body_type            4136 non-null   object \n",
            " 11  Vroom Audit Rating   53515 non-null  int64  \n",
            " 12  transmission         53515 non-null  object \n",
            " 13  door_count           53515 non-null  object \n",
            " 14  seat_count           53515 non-null  object \n",
            " 15  fuel_type            53515 non-null  object \n",
            " 16  Price                53515 non-null  float64\n",
            "dtypes: float64(3), int64(5), object(9)\n",
            "memory usage: 6.9+ MB\n"
          ]
        }
      ]
    },
    {
      "cell_type": "markdown",
      "source": [
        "CHECKING FOR NULL VALUES"
      ],
      "metadata": {
        "id": "-yzFdoV0X7bs"
      }
    },
    {
      "cell_type": "code",
      "source": [
        "car_train.isnull().sum()"
      ],
      "metadata": {
        "colab": {
          "base_uri": "https://localhost:8080/"
        },
        "id": "GTualCRXD2mQ",
        "outputId": "c779629b-071c-461d-eafa-55f8dab0fb86"
      },
      "execution_count": null,
      "outputs": [
        {
          "output_type": "execute_result",
          "data": {
            "text/plain": [
              "Id                         0\n",
              "Maker                      0\n",
              "model                      0\n",
              "Location                   0\n",
              "Distance                1211\n",
              "Owner Type                 0\n",
              "manufacture_year           0\n",
              "Age of car                 0\n",
              "engine_displacement        0\n",
              "engine_power            1439\n",
              "body_type              49379\n",
              "Vroom Audit Rating         0\n",
              "transmission               0\n",
              "door_count                 0\n",
              "seat_count                 0\n",
              "fuel_type                  0\n",
              "Price                      0\n",
              "dtype: int64"
            ]
          },
          "metadata": {},
          "execution_count": 132
        }
      ]
    },
    {
      "cell_type": "markdown",
      "source": [
        "AS THE FEATURE \"body_type\" IS HAVING SO MANY NULL VALUES IT IS NOT WORTH REPLACING SO WE DROP IT"
      ],
      "metadata": {
        "id": "wPxnBt7RYA2M"
      }
    },
    {
      "cell_type": "code",
      "source": [
        "car_train=car_train.drop(['body_type'],axis=1)"
      ],
      "metadata": {
        "id": "SBbYwLKISv7k"
      },
      "execution_count": null,
      "outputs": []
    },
    {
      "cell_type": "markdown",
      "source": [
        "AS THE FEATURES, \"Id\",\"model\", \"Location\", \"manufacture_year\" ARE NOT GIVING ANY NEW INFORMATION WE DROP THOSE ."
      ],
      "metadata": {
        "id": "95BbTVZDYWir"
      }
    },
    {
      "cell_type": "code",
      "source": [
        "car_train.drop(['Id','model','Location','manufacture_year'],axis=1,inplace=True)"
      ],
      "metadata": {
        "id": "Vs2u5ImkbME7"
      },
      "execution_count": null,
      "outputs": []
    },
    {
      "cell_type": "code",
      "source": [
        "car_train.shape"
      ],
      "metadata": {
        "colab": {
          "base_uri": "https://localhost:8080/"
        },
        "id": "44IHQY1KE_oe",
        "outputId": "9fc8b6a2-1fa5-4a97-ffaa-d732f9cfa51f"
      },
      "execution_count": null,
      "outputs": [
        {
          "output_type": "execute_result",
          "data": {
            "text/plain": [
              "(53515, 12)"
            ]
          },
          "metadata": {},
          "execution_count": 135
        }
      ]
    },
    {
      "cell_type": "code",
      "source": [
        "car_train.describe()"
      ],
      "metadata": {
        "colab": {
          "base_uri": "https://localhost:8080/",
          "height": 300
        },
        "id": "l13nPYipFxY5",
        "outputId": "fcf7d857-51e2-478d-d403-2faf279cb875"
      },
      "execution_count": null,
      "outputs": [
        {
          "output_type": "execute_result",
          "data": {
            "text/plain": [
              "          Distance     Age of car  engine_displacement  engine_power  \\\n",
              "count  5.230400e+04  53515.000000         53515.000000  52076.000000   \n",
              "mean   9.454626e+04      8.591890          1904.049014    100.448345   \n",
              "std    2.755617e+05      4.650322          1496.564596     45.330622   \n",
              "min    0.000000e+00      3.000000            14.000000     10.000000   \n",
              "25%    1.549000e+04      5.000000          1395.000000     73.000000   \n",
              "50%    6.552000e+04      8.000000          1896.000000     91.000000   \n",
              "75%    1.356410e+05     11.000000          1995.000000    125.000000   \n",
              "max    9.899800e+06     85.000000         32000.000000    896.000000   \n",
              "\n",
              "       Vroom Audit Rating         Price  \n",
              "count        53515.000000  5.351500e+04  \n",
              "mean             5.998374  1.098084e+06  \n",
              "std              1.418336  8.441565e+05  \n",
              "min              4.000000  3.000000e+00  \n",
              "25%              5.000000  5.051812e+05  \n",
              "50%              6.000000  8.854552e+05  \n",
              "75%              7.000000  1.477829e+06  \n",
              "max              8.000000  2.212078e+07  "
            ],
            "text/html": [
              "\n",
              "  <div id=\"df-c8a387b3-a013-44c3-b8aa-f335248bcd09\">\n",
              "    <div class=\"colab-df-container\">\n",
              "      <div>\n",
              "<style scoped>\n",
              "    .dataframe tbody tr th:only-of-type {\n",
              "        vertical-align: middle;\n",
              "    }\n",
              "\n",
              "    .dataframe tbody tr th {\n",
              "        vertical-align: top;\n",
              "    }\n",
              "\n",
              "    .dataframe thead th {\n",
              "        text-align: right;\n",
              "    }\n",
              "</style>\n",
              "<table border=\"1\" class=\"dataframe\">\n",
              "  <thead>\n",
              "    <tr style=\"text-align: right;\">\n",
              "      <th></th>\n",
              "      <th>Distance</th>\n",
              "      <th>Age of car</th>\n",
              "      <th>engine_displacement</th>\n",
              "      <th>engine_power</th>\n",
              "      <th>Vroom Audit Rating</th>\n",
              "      <th>Price</th>\n",
              "    </tr>\n",
              "  </thead>\n",
              "  <tbody>\n",
              "    <tr>\n",
              "      <th>count</th>\n",
              "      <td>5.230400e+04</td>\n",
              "      <td>53515.000000</td>\n",
              "      <td>53515.000000</td>\n",
              "      <td>52076.000000</td>\n",
              "      <td>53515.000000</td>\n",
              "      <td>5.351500e+04</td>\n",
              "    </tr>\n",
              "    <tr>\n",
              "      <th>mean</th>\n",
              "      <td>9.454626e+04</td>\n",
              "      <td>8.591890</td>\n",
              "      <td>1904.049014</td>\n",
              "      <td>100.448345</td>\n",
              "      <td>5.998374</td>\n",
              "      <td>1.098084e+06</td>\n",
              "    </tr>\n",
              "    <tr>\n",
              "      <th>std</th>\n",
              "      <td>2.755617e+05</td>\n",
              "      <td>4.650322</td>\n",
              "      <td>1496.564596</td>\n",
              "      <td>45.330622</td>\n",
              "      <td>1.418336</td>\n",
              "      <td>8.441565e+05</td>\n",
              "    </tr>\n",
              "    <tr>\n",
              "      <th>min</th>\n",
              "      <td>0.000000e+00</td>\n",
              "      <td>3.000000</td>\n",
              "      <td>14.000000</td>\n",
              "      <td>10.000000</td>\n",
              "      <td>4.000000</td>\n",
              "      <td>3.000000e+00</td>\n",
              "    </tr>\n",
              "    <tr>\n",
              "      <th>25%</th>\n",
              "      <td>1.549000e+04</td>\n",
              "      <td>5.000000</td>\n",
              "      <td>1395.000000</td>\n",
              "      <td>73.000000</td>\n",
              "      <td>5.000000</td>\n",
              "      <td>5.051812e+05</td>\n",
              "    </tr>\n",
              "    <tr>\n",
              "      <th>50%</th>\n",
              "      <td>6.552000e+04</td>\n",
              "      <td>8.000000</td>\n",
              "      <td>1896.000000</td>\n",
              "      <td>91.000000</td>\n",
              "      <td>6.000000</td>\n",
              "      <td>8.854552e+05</td>\n",
              "    </tr>\n",
              "    <tr>\n",
              "      <th>75%</th>\n",
              "      <td>1.356410e+05</td>\n",
              "      <td>11.000000</td>\n",
              "      <td>1995.000000</td>\n",
              "      <td>125.000000</td>\n",
              "      <td>7.000000</td>\n",
              "      <td>1.477829e+06</td>\n",
              "    </tr>\n",
              "    <tr>\n",
              "      <th>max</th>\n",
              "      <td>9.899800e+06</td>\n",
              "      <td>85.000000</td>\n",
              "      <td>32000.000000</td>\n",
              "      <td>896.000000</td>\n",
              "      <td>8.000000</td>\n",
              "      <td>2.212078e+07</td>\n",
              "    </tr>\n",
              "  </tbody>\n",
              "</table>\n",
              "</div>\n",
              "      <button class=\"colab-df-convert\" onclick=\"convertToInteractive('df-c8a387b3-a013-44c3-b8aa-f335248bcd09')\"\n",
              "              title=\"Convert this dataframe to an interactive table.\"\n",
              "              style=\"display:none;\">\n",
              "        \n",
              "  <svg xmlns=\"http://www.w3.org/2000/svg\" height=\"24px\"viewBox=\"0 0 24 24\"\n",
              "       width=\"24px\">\n",
              "    <path d=\"M0 0h24v24H0V0z\" fill=\"none\"/>\n",
              "    <path d=\"M18.56 5.44l.94 2.06.94-2.06 2.06-.94-2.06-.94-.94-2.06-.94 2.06-2.06.94zm-11 1L8.5 8.5l.94-2.06 2.06-.94-2.06-.94L8.5 2.5l-.94 2.06-2.06.94zm10 10l.94 2.06.94-2.06 2.06-.94-2.06-.94-.94-2.06-.94 2.06-2.06.94z\"/><path d=\"M17.41 7.96l-1.37-1.37c-.4-.4-.92-.59-1.43-.59-.52 0-1.04.2-1.43.59L10.3 9.45l-7.72 7.72c-.78.78-.78 2.05 0 2.83L4 21.41c.39.39.9.59 1.41.59.51 0 1.02-.2 1.41-.59l7.78-7.78 2.81-2.81c.8-.78.8-2.07 0-2.86zM5.41 20L4 18.59l7.72-7.72 1.47 1.35L5.41 20z\"/>\n",
              "  </svg>\n",
              "      </button>\n",
              "      \n",
              "  <style>\n",
              "    .colab-df-container {\n",
              "      display:flex;\n",
              "      flex-wrap:wrap;\n",
              "      gap: 12px;\n",
              "    }\n",
              "\n",
              "    .colab-df-convert {\n",
              "      background-color: #E8F0FE;\n",
              "      border: none;\n",
              "      border-radius: 50%;\n",
              "      cursor: pointer;\n",
              "      display: none;\n",
              "      fill: #1967D2;\n",
              "      height: 32px;\n",
              "      padding: 0 0 0 0;\n",
              "      width: 32px;\n",
              "    }\n",
              "\n",
              "    .colab-df-convert:hover {\n",
              "      background-color: #E2EBFA;\n",
              "      box-shadow: 0px 1px 2px rgba(60, 64, 67, 0.3), 0px 1px 3px 1px rgba(60, 64, 67, 0.15);\n",
              "      fill: #174EA6;\n",
              "    }\n",
              "\n",
              "    [theme=dark] .colab-df-convert {\n",
              "      background-color: #3B4455;\n",
              "      fill: #D2E3FC;\n",
              "    }\n",
              "\n",
              "    [theme=dark] .colab-df-convert:hover {\n",
              "      background-color: #434B5C;\n",
              "      box-shadow: 0px 1px 3px 1px rgba(0, 0, 0, 0.15);\n",
              "      filter: drop-shadow(0px 1px 2px rgba(0, 0, 0, 0.3));\n",
              "      fill: #FFFFFF;\n",
              "    }\n",
              "  </style>\n",
              "\n",
              "      <script>\n",
              "        const buttonEl =\n",
              "          document.querySelector('#df-c8a387b3-a013-44c3-b8aa-f335248bcd09 button.colab-df-convert');\n",
              "        buttonEl.style.display =\n",
              "          google.colab.kernel.accessAllowed ? 'block' : 'none';\n",
              "\n",
              "        async function convertToInteractive(key) {\n",
              "          const element = document.querySelector('#df-c8a387b3-a013-44c3-b8aa-f335248bcd09');\n",
              "          const dataTable =\n",
              "            await google.colab.kernel.invokeFunction('convertToInteractive',\n",
              "                                                     [key], {});\n",
              "          if (!dataTable) return;\n",
              "\n",
              "          const docLinkHtml = 'Like what you see? Visit the ' +\n",
              "            '<a target=\"_blank\" href=https://colab.research.google.com/notebooks/data_table.ipynb>data table notebook</a>'\n",
              "            + ' to learn more about interactive tables.';\n",
              "          element.innerHTML = '';\n",
              "          dataTable['output_type'] = 'display_data';\n",
              "          await google.colab.output.renderOutput(dataTable, element);\n",
              "          const docLink = document.createElement('div');\n",
              "          docLink.innerHTML = docLinkHtml;\n",
              "          element.appendChild(docLink);\n",
              "        }\n",
              "      </script>\n",
              "    </div>\n",
              "  </div>\n",
              "  "
            ]
          },
          "metadata": {},
          "execution_count": 136
        }
      ]
    },
    {
      "cell_type": "code",
      "source": [
        "car_train.select_dtypes(include=object).head(6)"
      ],
      "metadata": {
        "colab": {
          "base_uri": "https://localhost:8080/",
          "height": 237
        },
        "id": "FQ5GHgHQNPIn",
        "outputId": "2848afb2-7047-42d6-f41e-9e285099455c"
      },
      "execution_count": null,
      "outputs": [
        {
          "output_type": "execute_result",
          "data": {
            "text/plain": [
              "    Maker      Owner Type transmission door_count seat_count fuel_type\n",
              "0   skoda          Second          man       None       None    petrol\n",
              "1    fiat           Third          man          4          4    petrol\n",
              "2     bmw           Third         auto          4          5    diesel\n",
              "3  nissan           Third          man          4          5    petrol\n",
              "4     bmw  Fourth & Above         auto          4          5    diesel\n",
              "5   skoda           First          man          4          5    diesel"
            ],
            "text/html": [
              "\n",
              "  <div id=\"df-27926f5e-2fa1-4e77-b22f-f73ec90dfb70\">\n",
              "    <div class=\"colab-df-container\">\n",
              "      <div>\n",
              "<style scoped>\n",
              "    .dataframe tbody tr th:only-of-type {\n",
              "        vertical-align: middle;\n",
              "    }\n",
              "\n",
              "    .dataframe tbody tr th {\n",
              "        vertical-align: top;\n",
              "    }\n",
              "\n",
              "    .dataframe thead th {\n",
              "        text-align: right;\n",
              "    }\n",
              "</style>\n",
              "<table border=\"1\" class=\"dataframe\">\n",
              "  <thead>\n",
              "    <tr style=\"text-align: right;\">\n",
              "      <th></th>\n",
              "      <th>Maker</th>\n",
              "      <th>Owner Type</th>\n",
              "      <th>transmission</th>\n",
              "      <th>door_count</th>\n",
              "      <th>seat_count</th>\n",
              "      <th>fuel_type</th>\n",
              "    </tr>\n",
              "  </thead>\n",
              "  <tbody>\n",
              "    <tr>\n",
              "      <th>0</th>\n",
              "      <td>skoda</td>\n",
              "      <td>Second</td>\n",
              "      <td>man</td>\n",
              "      <td>None</td>\n",
              "      <td>None</td>\n",
              "      <td>petrol</td>\n",
              "    </tr>\n",
              "    <tr>\n",
              "      <th>1</th>\n",
              "      <td>fiat</td>\n",
              "      <td>Third</td>\n",
              "      <td>man</td>\n",
              "      <td>4</td>\n",
              "      <td>4</td>\n",
              "      <td>petrol</td>\n",
              "    </tr>\n",
              "    <tr>\n",
              "      <th>2</th>\n",
              "      <td>bmw</td>\n",
              "      <td>Third</td>\n",
              "      <td>auto</td>\n",
              "      <td>4</td>\n",
              "      <td>5</td>\n",
              "      <td>diesel</td>\n",
              "    </tr>\n",
              "    <tr>\n",
              "      <th>3</th>\n",
              "      <td>nissan</td>\n",
              "      <td>Third</td>\n",
              "      <td>man</td>\n",
              "      <td>4</td>\n",
              "      <td>5</td>\n",
              "      <td>petrol</td>\n",
              "    </tr>\n",
              "    <tr>\n",
              "      <th>4</th>\n",
              "      <td>bmw</td>\n",
              "      <td>Fourth &amp; Above</td>\n",
              "      <td>auto</td>\n",
              "      <td>4</td>\n",
              "      <td>5</td>\n",
              "      <td>diesel</td>\n",
              "    </tr>\n",
              "    <tr>\n",
              "      <th>5</th>\n",
              "      <td>skoda</td>\n",
              "      <td>First</td>\n",
              "      <td>man</td>\n",
              "      <td>4</td>\n",
              "      <td>5</td>\n",
              "      <td>diesel</td>\n",
              "    </tr>\n",
              "  </tbody>\n",
              "</table>\n",
              "</div>\n",
              "      <button class=\"colab-df-convert\" onclick=\"convertToInteractive('df-27926f5e-2fa1-4e77-b22f-f73ec90dfb70')\"\n",
              "              title=\"Convert this dataframe to an interactive table.\"\n",
              "              style=\"display:none;\">\n",
              "        \n",
              "  <svg xmlns=\"http://www.w3.org/2000/svg\" height=\"24px\"viewBox=\"0 0 24 24\"\n",
              "       width=\"24px\">\n",
              "    <path d=\"M0 0h24v24H0V0z\" fill=\"none\"/>\n",
              "    <path d=\"M18.56 5.44l.94 2.06.94-2.06 2.06-.94-2.06-.94-.94-2.06-.94 2.06-2.06.94zm-11 1L8.5 8.5l.94-2.06 2.06-.94-2.06-.94L8.5 2.5l-.94 2.06-2.06.94zm10 10l.94 2.06.94-2.06 2.06-.94-2.06-.94-.94-2.06-.94 2.06-2.06.94z\"/><path d=\"M17.41 7.96l-1.37-1.37c-.4-.4-.92-.59-1.43-.59-.52 0-1.04.2-1.43.59L10.3 9.45l-7.72 7.72c-.78.78-.78 2.05 0 2.83L4 21.41c.39.39.9.59 1.41.59.51 0 1.02-.2 1.41-.59l7.78-7.78 2.81-2.81c.8-.78.8-2.07 0-2.86zM5.41 20L4 18.59l7.72-7.72 1.47 1.35L5.41 20z\"/>\n",
              "  </svg>\n",
              "      </button>\n",
              "      \n",
              "  <style>\n",
              "    .colab-df-container {\n",
              "      display:flex;\n",
              "      flex-wrap:wrap;\n",
              "      gap: 12px;\n",
              "    }\n",
              "\n",
              "    .colab-df-convert {\n",
              "      background-color: #E8F0FE;\n",
              "      border: none;\n",
              "      border-radius: 50%;\n",
              "      cursor: pointer;\n",
              "      display: none;\n",
              "      fill: #1967D2;\n",
              "      height: 32px;\n",
              "      padding: 0 0 0 0;\n",
              "      width: 32px;\n",
              "    }\n",
              "\n",
              "    .colab-df-convert:hover {\n",
              "      background-color: #E2EBFA;\n",
              "      box-shadow: 0px 1px 2px rgba(60, 64, 67, 0.3), 0px 1px 3px 1px rgba(60, 64, 67, 0.15);\n",
              "      fill: #174EA6;\n",
              "    }\n",
              "\n",
              "    [theme=dark] .colab-df-convert {\n",
              "      background-color: #3B4455;\n",
              "      fill: #D2E3FC;\n",
              "    }\n",
              "\n",
              "    [theme=dark] .colab-df-convert:hover {\n",
              "      background-color: #434B5C;\n",
              "      box-shadow: 0px 1px 3px 1px rgba(0, 0, 0, 0.15);\n",
              "      filter: drop-shadow(0px 1px 2px rgba(0, 0, 0, 0.3));\n",
              "      fill: #FFFFFF;\n",
              "    }\n",
              "  </style>\n",
              "\n",
              "      <script>\n",
              "        const buttonEl =\n",
              "          document.querySelector('#df-27926f5e-2fa1-4e77-b22f-f73ec90dfb70 button.colab-df-convert');\n",
              "        buttonEl.style.display =\n",
              "          google.colab.kernel.accessAllowed ? 'block' : 'none';\n",
              "\n",
              "        async function convertToInteractive(key) {\n",
              "          const element = document.querySelector('#df-27926f5e-2fa1-4e77-b22f-f73ec90dfb70');\n",
              "          const dataTable =\n",
              "            await google.colab.kernel.invokeFunction('convertToInteractive',\n",
              "                                                     [key], {});\n",
              "          if (!dataTable) return;\n",
              "\n",
              "          const docLinkHtml = 'Like what you see? Visit the ' +\n",
              "            '<a target=\"_blank\" href=https://colab.research.google.com/notebooks/data_table.ipynb>data table notebook</a>'\n",
              "            + ' to learn more about interactive tables.';\n",
              "          element.innerHTML = '';\n",
              "          dataTable['output_type'] = 'display_data';\n",
              "          await google.colab.output.renderOutput(dataTable, element);\n",
              "          const docLink = document.createElement('div');\n",
              "          docLink.innerHTML = docLinkHtml;\n",
              "          element.appendChild(docLink);\n",
              "        }\n",
              "      </script>\n",
              "    </div>\n",
              "  </div>\n",
              "  "
            ]
          },
          "metadata": {},
          "execution_count": 137
        }
      ]
    },
    {
      "cell_type": "markdown",
      "source": [
        "REPLACING NULL VALUES"
      ],
      "metadata": {
        "id": "5B3Shq3bZtM2"
      }
    },
    {
      "cell_type": "code",
      "source": [
        "car_train.door_count.replace('None', np.NaN, inplace = True)\n",
        "car_train.seat_count.replace('None', np.NaN, inplace = True)\n",
        "car_train.door_count = car_train.door_count.astype('float')\n",
        "car_train.seat_count = car_train.seat_count.astype('float')"
      ],
      "metadata": {
        "id": "07MhZMiMRGpb"
      },
      "execution_count": null,
      "outputs": []
    },
    {
      "cell_type": "code",
      "source": [
        "car_train['Distance '].fillna(car_train['Distance '].median(), inplace = True)\n",
        "car_train['engine_power'].fillna(car_train['engine_power'].median(), inplace = True)\n",
        "car_train.door_count.fillna(int(car_train['door_count'].mode()), inplace = True)\n",
        "car_train.seat_count.fillna(int(car_train['seat_count'].mode()), inplace = True)"
      ],
      "metadata": {
        "id": "H99EKCltSLu-"
      },
      "execution_count": null,
      "outputs": []
    },
    {
      "cell_type": "markdown",
      "source": [
        "# **ENCODING**"
      ],
      "metadata": {
        "id": "qV7L588_ZyDJ"
      }
    },
    {
      "cell_type": "code",
      "source": [
        "car_train['Owner Type'] = car_train['Owner Type'].replace({'First':1,'Second':2,'Third':3,'Fourth & Above':4})\n"
      ],
      "metadata": {
        "id": "IAVg_tIjhgey"
      },
      "execution_count": null,
      "outputs": []
    },
    {
      "cell_type": "code",
      "source": [
        "car_train.info()"
      ],
      "metadata": {
        "colab": {
          "base_uri": "https://localhost:8080/"
        },
        "id": "a3GI-UlLSecT",
        "outputId": "7a86d907-69b1-430a-a689-6baf5e379468"
      },
      "execution_count": null,
      "outputs": [
        {
          "output_type": "stream",
          "name": "stdout",
          "text": [
            "<class 'pandas.core.frame.DataFrame'>\n",
            "RangeIndex: 53515 entries, 0 to 53514\n",
            "Data columns (total 12 columns):\n",
            " #   Column               Non-Null Count  Dtype  \n",
            "---  ------               --------------  -----  \n",
            " 0   Maker                53515 non-null  object \n",
            " 1   Distance             53515 non-null  float64\n",
            " 2   Owner Type           53515 non-null  int64  \n",
            " 3   Age of car           53515 non-null  int64  \n",
            " 4   engine_displacement  53515 non-null  int64  \n",
            " 5   engine_power         53515 non-null  float64\n",
            " 6   Vroom Audit Rating   53515 non-null  int64  \n",
            " 7   transmission         53515 non-null  object \n",
            " 8   door_count           53515 non-null  float64\n",
            " 9   seat_count           53515 non-null  float64\n",
            " 10  fuel_type            53515 non-null  object \n",
            " 11  Price                53515 non-null  float64\n",
            "dtypes: float64(5), int64(4), object(3)\n",
            "memory usage: 4.9+ MB\n"
          ]
        }
      ]
    },
    {
      "cell_type": "code",
      "source": [
        "car_train['Maker'].unique()"
      ],
      "metadata": {
        "colab": {
          "base_uri": "https://localhost:8080/"
        },
        "id": "cXONre3yi01p",
        "outputId": "7b41f883-0825-47c4-b883-1a3ce22549fc"
      },
      "execution_count": null,
      "outputs": [
        {
          "output_type": "execute_result",
          "data": {
            "text/plain": [
              "array(['skoda', 'fiat', 'bmw', 'nissan', 'audi', 'toyota', 'hyundai',\n",
              "       'maserati'], dtype=object)"
            ]
          },
          "metadata": {},
          "execution_count": 142
        }
      ]
    },
    {
      "cell_type": "code",
      "source": [
        "car_train['transmission'].unique()"
      ],
      "metadata": {
        "colab": {
          "base_uri": "https://localhost:8080/"
        },
        "id": "ieXP-5uvi9co",
        "outputId": "98f5971d-c592-448a-f5f7-622dd918d493"
      },
      "execution_count": null,
      "outputs": [
        {
          "output_type": "execute_result",
          "data": {
            "text/plain": [
              "array(['man', 'auto'], dtype=object)"
            ]
          },
          "metadata": {},
          "execution_count": 143
        }
      ]
    },
    {
      "cell_type": "code",
      "source": [
        "car_train['fuel_type'].unique()"
      ],
      "metadata": {
        "colab": {
          "base_uri": "https://localhost:8080/"
        },
        "id": "TAO85Ruci-IR",
        "outputId": "23a8f2f6-f9e4-4b6f-cf8a-ee543ef5716a"
      },
      "execution_count": null,
      "outputs": [
        {
          "output_type": "execute_result",
          "data": {
            "text/plain": [
              "array(['petrol', 'diesel'], dtype=object)"
            ]
          },
          "metadata": {},
          "execution_count": 144
        }
      ]
    },
    {
      "cell_type": "code",
      "source": [
        "car=pd.get_dummies(car_train, drop_first = True)\n",
        "car"
      ],
      "metadata": {
        "colab": {
          "base_uri": "https://localhost:8080/",
          "height": 522
        },
        "id": "dB5hCRIyzkPP",
        "outputId": "83674506-c8ae-437b-85fd-258ac416b33b"
      },
      "execution_count": null,
      "outputs": [
        {
          "output_type": "execute_result",
          "data": {
            "text/plain": [
              "       Distance   Owner Type  Age of car  engine_displacement  engine_power  \\\n",
              "0        65520.0           2          55                 1964         147.0   \n",
              "1        27750.0           3           7                 1242          51.0   \n",
              "2        46000.0           3           5                 1995         105.0   \n",
              "3        43949.0           3           8                 1618         140.0   \n",
              "4        59524.0           4           7                 2993         180.0   \n",
              "...          ...         ...         ...                  ...           ...   \n",
              "53510    29334.0           4           5                 1598          77.0   \n",
              "53511   223631.0           4          10                 1900          77.0   \n",
              "53512    25500.0           3           4                 1995         105.0   \n",
              "53513  1195500.0           3           8                11950          93.0   \n",
              "53514   142000.0           1          11                 2993         173.0   \n",
              "\n",
              "       Vroom Audit Rating  door_count  seat_count       Price  Maker_bmw  \\\n",
              "0                       8         4.0         5.0   543764.25          0   \n",
              "1                       6         4.0         4.0   401819.25          0   \n",
              "2                       7         4.0         5.0  2392855.50          1   \n",
              "3                       7         4.0         5.0   958606.50          0   \n",
              "4                       7         4.0         5.0  3085561.50          1   \n",
              "...                   ...         ...         ...         ...        ...   \n",
              "53510                   4         4.0         5.0  1342996.50          0   \n",
              "53511                   8         5.0         5.0   510732.75          0   \n",
              "53512                   4         4.0         5.0  2008123.50          1   \n",
              "53513                   5         4.0         5.0   874352.25          0   \n",
              "53514                   4         5.0         5.0  1576610.25          1   \n",
              "\n",
              "       Maker_fiat  Maker_hyundai  Maker_maserati  Maker_nissan  Maker_skoda  \\\n",
              "0               0              0               0             0            1   \n",
              "1               1              0               0             0            0   \n",
              "2               0              0               0             0            0   \n",
              "3               0              0               0             1            0   \n",
              "4               0              0               0             0            0   \n",
              "...           ...            ...             ...           ...          ...   \n",
              "53510           0              0               0             0            1   \n",
              "53511           0              0               0             0            1   \n",
              "53512           0              0               0             0            0   \n",
              "53513           0              0               0             0            0   \n",
              "53514           0              0               0             0            0   \n",
              "\n",
              "       Maker_toyota  transmission_man  fuel_type_petrol  \n",
              "0                 0                 1                 1  \n",
              "1                 0                 1                 1  \n",
              "2                 0                 0                 0  \n",
              "3                 0                 1                 1  \n",
              "4                 0                 0                 0  \n",
              "...             ...               ...               ...  \n",
              "53510             0                 1                 0  \n",
              "53511             0                 1                 0  \n",
              "53512             0                 0                 0  \n",
              "53513             1                 1                 0  \n",
              "53514             0                 0                 0  \n",
              "\n",
              "[53515 rows x 18 columns]"
            ],
            "text/html": [
              "\n",
              "  <div id=\"df-c4843709-9daf-4d09-962a-da8a9997f94d\">\n",
              "    <div class=\"colab-df-container\">\n",
              "      <div>\n",
              "<style scoped>\n",
              "    .dataframe tbody tr th:only-of-type {\n",
              "        vertical-align: middle;\n",
              "    }\n",
              "\n",
              "    .dataframe tbody tr th {\n",
              "        vertical-align: top;\n",
              "    }\n",
              "\n",
              "    .dataframe thead th {\n",
              "        text-align: right;\n",
              "    }\n",
              "</style>\n",
              "<table border=\"1\" class=\"dataframe\">\n",
              "  <thead>\n",
              "    <tr style=\"text-align: right;\">\n",
              "      <th></th>\n",
              "      <th>Distance</th>\n",
              "      <th>Owner Type</th>\n",
              "      <th>Age of car</th>\n",
              "      <th>engine_displacement</th>\n",
              "      <th>engine_power</th>\n",
              "      <th>Vroom Audit Rating</th>\n",
              "      <th>door_count</th>\n",
              "      <th>seat_count</th>\n",
              "      <th>Price</th>\n",
              "      <th>Maker_bmw</th>\n",
              "      <th>Maker_fiat</th>\n",
              "      <th>Maker_hyundai</th>\n",
              "      <th>Maker_maserati</th>\n",
              "      <th>Maker_nissan</th>\n",
              "      <th>Maker_skoda</th>\n",
              "      <th>Maker_toyota</th>\n",
              "      <th>transmission_man</th>\n",
              "      <th>fuel_type_petrol</th>\n",
              "    </tr>\n",
              "  </thead>\n",
              "  <tbody>\n",
              "    <tr>\n",
              "      <th>0</th>\n",
              "      <td>65520.0</td>\n",
              "      <td>2</td>\n",
              "      <td>55</td>\n",
              "      <td>1964</td>\n",
              "      <td>147.0</td>\n",
              "      <td>8</td>\n",
              "      <td>4.0</td>\n",
              "      <td>5.0</td>\n",
              "      <td>543764.25</td>\n",
              "      <td>0</td>\n",
              "      <td>0</td>\n",
              "      <td>0</td>\n",
              "      <td>0</td>\n",
              "      <td>0</td>\n",
              "      <td>1</td>\n",
              "      <td>0</td>\n",
              "      <td>1</td>\n",
              "      <td>1</td>\n",
              "    </tr>\n",
              "    <tr>\n",
              "      <th>1</th>\n",
              "      <td>27750.0</td>\n",
              "      <td>3</td>\n",
              "      <td>7</td>\n",
              "      <td>1242</td>\n",
              "      <td>51.0</td>\n",
              "      <td>6</td>\n",
              "      <td>4.0</td>\n",
              "      <td>4.0</td>\n",
              "      <td>401819.25</td>\n",
              "      <td>0</td>\n",
              "      <td>1</td>\n",
              "      <td>0</td>\n",
              "      <td>0</td>\n",
              "      <td>0</td>\n",
              "      <td>0</td>\n",
              "      <td>0</td>\n",
              "      <td>1</td>\n",
              "      <td>1</td>\n",
              "    </tr>\n",
              "    <tr>\n",
              "      <th>2</th>\n",
              "      <td>46000.0</td>\n",
              "      <td>3</td>\n",
              "      <td>5</td>\n",
              "      <td>1995</td>\n",
              "      <td>105.0</td>\n",
              "      <td>7</td>\n",
              "      <td>4.0</td>\n",
              "      <td>5.0</td>\n",
              "      <td>2392855.50</td>\n",
              "      <td>1</td>\n",
              "      <td>0</td>\n",
              "      <td>0</td>\n",
              "      <td>0</td>\n",
              "      <td>0</td>\n",
              "      <td>0</td>\n",
              "      <td>0</td>\n",
              "      <td>0</td>\n",
              "      <td>0</td>\n",
              "    </tr>\n",
              "    <tr>\n",
              "      <th>3</th>\n",
              "      <td>43949.0</td>\n",
              "      <td>3</td>\n",
              "      <td>8</td>\n",
              "      <td>1618</td>\n",
              "      <td>140.0</td>\n",
              "      <td>7</td>\n",
              "      <td>4.0</td>\n",
              "      <td>5.0</td>\n",
              "      <td>958606.50</td>\n",
              "      <td>0</td>\n",
              "      <td>0</td>\n",
              "      <td>0</td>\n",
              "      <td>0</td>\n",
              "      <td>1</td>\n",
              "      <td>0</td>\n",
              "      <td>0</td>\n",
              "      <td>1</td>\n",
              "      <td>1</td>\n",
              "    </tr>\n",
              "    <tr>\n",
              "      <th>4</th>\n",
              "      <td>59524.0</td>\n",
              "      <td>4</td>\n",
              "      <td>7</td>\n",
              "      <td>2993</td>\n",
              "      <td>180.0</td>\n",
              "      <td>7</td>\n",
              "      <td>4.0</td>\n",
              "      <td>5.0</td>\n",
              "      <td>3085561.50</td>\n",
              "      <td>1</td>\n",
              "      <td>0</td>\n",
              "      <td>0</td>\n",
              "      <td>0</td>\n",
              "      <td>0</td>\n",
              "      <td>0</td>\n",
              "      <td>0</td>\n",
              "      <td>0</td>\n",
              "      <td>0</td>\n",
              "    </tr>\n",
              "    <tr>\n",
              "      <th>...</th>\n",
              "      <td>...</td>\n",
              "      <td>...</td>\n",
              "      <td>...</td>\n",
              "      <td>...</td>\n",
              "      <td>...</td>\n",
              "      <td>...</td>\n",
              "      <td>...</td>\n",
              "      <td>...</td>\n",
              "      <td>...</td>\n",
              "      <td>...</td>\n",
              "      <td>...</td>\n",
              "      <td>...</td>\n",
              "      <td>...</td>\n",
              "      <td>...</td>\n",
              "      <td>...</td>\n",
              "      <td>...</td>\n",
              "      <td>...</td>\n",
              "      <td>...</td>\n",
              "    </tr>\n",
              "    <tr>\n",
              "      <th>53510</th>\n",
              "      <td>29334.0</td>\n",
              "      <td>4</td>\n",
              "      <td>5</td>\n",
              "      <td>1598</td>\n",
              "      <td>77.0</td>\n",
              "      <td>4</td>\n",
              "      <td>4.0</td>\n",
              "      <td>5.0</td>\n",
              "      <td>1342996.50</td>\n",
              "      <td>0</td>\n",
              "      <td>0</td>\n",
              "      <td>0</td>\n",
              "      <td>0</td>\n",
              "      <td>0</td>\n",
              "      <td>1</td>\n",
              "      <td>0</td>\n",
              "      <td>1</td>\n",
              "      <td>0</td>\n",
              "    </tr>\n",
              "    <tr>\n",
              "      <th>53511</th>\n",
              "      <td>223631.0</td>\n",
              "      <td>4</td>\n",
              "      <td>10</td>\n",
              "      <td>1900</td>\n",
              "      <td>77.0</td>\n",
              "      <td>8</td>\n",
              "      <td>5.0</td>\n",
              "      <td>5.0</td>\n",
              "      <td>510732.75</td>\n",
              "      <td>0</td>\n",
              "      <td>0</td>\n",
              "      <td>0</td>\n",
              "      <td>0</td>\n",
              "      <td>0</td>\n",
              "      <td>1</td>\n",
              "      <td>0</td>\n",
              "      <td>1</td>\n",
              "      <td>0</td>\n",
              "    </tr>\n",
              "    <tr>\n",
              "      <th>53512</th>\n",
              "      <td>25500.0</td>\n",
              "      <td>3</td>\n",
              "      <td>4</td>\n",
              "      <td>1995</td>\n",
              "      <td>105.0</td>\n",
              "      <td>4</td>\n",
              "      <td>4.0</td>\n",
              "      <td>5.0</td>\n",
              "      <td>2008123.50</td>\n",
              "      <td>1</td>\n",
              "      <td>0</td>\n",
              "      <td>0</td>\n",
              "      <td>0</td>\n",
              "      <td>0</td>\n",
              "      <td>0</td>\n",
              "      <td>0</td>\n",
              "      <td>0</td>\n",
              "      <td>0</td>\n",
              "    </tr>\n",
              "    <tr>\n",
              "      <th>53513</th>\n",
              "      <td>1195500.0</td>\n",
              "      <td>3</td>\n",
              "      <td>8</td>\n",
              "      <td>11950</td>\n",
              "      <td>93.0</td>\n",
              "      <td>5</td>\n",
              "      <td>4.0</td>\n",
              "      <td>5.0</td>\n",
              "      <td>874352.25</td>\n",
              "      <td>0</td>\n",
              "      <td>0</td>\n",
              "      <td>0</td>\n",
              "      <td>0</td>\n",
              "      <td>0</td>\n",
              "      <td>0</td>\n",
              "      <td>1</td>\n",
              "      <td>1</td>\n",
              "      <td>0</td>\n",
              "    </tr>\n",
              "    <tr>\n",
              "      <th>53514</th>\n",
              "      <td>142000.0</td>\n",
              "      <td>1</td>\n",
              "      <td>11</td>\n",
              "      <td>2993</td>\n",
              "      <td>173.0</td>\n",
              "      <td>4</td>\n",
              "      <td>5.0</td>\n",
              "      <td>5.0</td>\n",
              "      <td>1576610.25</td>\n",
              "      <td>1</td>\n",
              "      <td>0</td>\n",
              "      <td>0</td>\n",
              "      <td>0</td>\n",
              "      <td>0</td>\n",
              "      <td>0</td>\n",
              "      <td>0</td>\n",
              "      <td>0</td>\n",
              "      <td>0</td>\n",
              "    </tr>\n",
              "  </tbody>\n",
              "</table>\n",
              "<p>53515 rows × 18 columns</p>\n",
              "</div>\n",
              "      <button class=\"colab-df-convert\" onclick=\"convertToInteractive('df-c4843709-9daf-4d09-962a-da8a9997f94d')\"\n",
              "              title=\"Convert this dataframe to an interactive table.\"\n",
              "              style=\"display:none;\">\n",
              "        \n",
              "  <svg xmlns=\"http://www.w3.org/2000/svg\" height=\"24px\"viewBox=\"0 0 24 24\"\n",
              "       width=\"24px\">\n",
              "    <path d=\"M0 0h24v24H0V0z\" fill=\"none\"/>\n",
              "    <path d=\"M18.56 5.44l.94 2.06.94-2.06 2.06-.94-2.06-.94-.94-2.06-.94 2.06-2.06.94zm-11 1L8.5 8.5l.94-2.06 2.06-.94-2.06-.94L8.5 2.5l-.94 2.06-2.06.94zm10 10l.94 2.06.94-2.06 2.06-.94-2.06-.94-.94-2.06-.94 2.06-2.06.94z\"/><path d=\"M17.41 7.96l-1.37-1.37c-.4-.4-.92-.59-1.43-.59-.52 0-1.04.2-1.43.59L10.3 9.45l-7.72 7.72c-.78.78-.78 2.05 0 2.83L4 21.41c.39.39.9.59 1.41.59.51 0 1.02-.2 1.41-.59l7.78-7.78 2.81-2.81c.8-.78.8-2.07 0-2.86zM5.41 20L4 18.59l7.72-7.72 1.47 1.35L5.41 20z\"/>\n",
              "  </svg>\n",
              "      </button>\n",
              "      \n",
              "  <style>\n",
              "    .colab-df-container {\n",
              "      display:flex;\n",
              "      flex-wrap:wrap;\n",
              "      gap: 12px;\n",
              "    }\n",
              "\n",
              "    .colab-df-convert {\n",
              "      background-color: #E8F0FE;\n",
              "      border: none;\n",
              "      border-radius: 50%;\n",
              "      cursor: pointer;\n",
              "      display: none;\n",
              "      fill: #1967D2;\n",
              "      height: 32px;\n",
              "      padding: 0 0 0 0;\n",
              "      width: 32px;\n",
              "    }\n",
              "\n",
              "    .colab-df-convert:hover {\n",
              "      background-color: #E2EBFA;\n",
              "      box-shadow: 0px 1px 2px rgba(60, 64, 67, 0.3), 0px 1px 3px 1px rgba(60, 64, 67, 0.15);\n",
              "      fill: #174EA6;\n",
              "    }\n",
              "\n",
              "    [theme=dark] .colab-df-convert {\n",
              "      background-color: #3B4455;\n",
              "      fill: #D2E3FC;\n",
              "    }\n",
              "\n",
              "    [theme=dark] .colab-df-convert:hover {\n",
              "      background-color: #434B5C;\n",
              "      box-shadow: 0px 1px 3px 1px rgba(0, 0, 0, 0.15);\n",
              "      filter: drop-shadow(0px 1px 2px rgba(0, 0, 0, 0.3));\n",
              "      fill: #FFFFFF;\n",
              "    }\n",
              "  </style>\n",
              "\n",
              "      <script>\n",
              "        const buttonEl =\n",
              "          document.querySelector('#df-c4843709-9daf-4d09-962a-da8a9997f94d button.colab-df-convert');\n",
              "        buttonEl.style.display =\n",
              "          google.colab.kernel.accessAllowed ? 'block' : 'none';\n",
              "\n",
              "        async function convertToInteractive(key) {\n",
              "          const element = document.querySelector('#df-c4843709-9daf-4d09-962a-da8a9997f94d');\n",
              "          const dataTable =\n",
              "            await google.colab.kernel.invokeFunction('convertToInteractive',\n",
              "                                                     [key], {});\n",
              "          if (!dataTable) return;\n",
              "\n",
              "          const docLinkHtml = 'Like what you see? Visit the ' +\n",
              "            '<a target=\"_blank\" href=https://colab.research.google.com/notebooks/data_table.ipynb>data table notebook</a>'\n",
              "            + ' to learn more about interactive tables.';\n",
              "          element.innerHTML = '';\n",
              "          dataTable['output_type'] = 'display_data';\n",
              "          await google.colab.output.renderOutput(dataTable, element);\n",
              "          const docLink = document.createElement('div');\n",
              "          docLink.innerHTML = docLinkHtml;\n",
              "          element.appendChild(docLink);\n",
              "        }\n",
              "      </script>\n",
              "    </div>\n",
              "  </div>\n",
              "  "
            ]
          },
          "metadata": {},
          "execution_count": 145
        }
      ]
    },
    {
      "cell_type": "code",
      "source": [
        "car.shape"
      ],
      "metadata": {
        "colab": {
          "base_uri": "https://localhost:8080/"
        },
        "id": "-lgG1TYL0XZh",
        "outputId": "999290aa-51e7-4b3e-b2cd-0716d149d341"
      },
      "execution_count": null,
      "outputs": [
        {
          "output_type": "execute_result",
          "data": {
            "text/plain": [
              "(53515, 18)"
            ]
          },
          "metadata": {},
          "execution_count": 146
        }
      ]
    },
    {
      "cell_type": "markdown",
      "source": [
        "# **SPLITTING DATA INTO TRAIN AND TEST**"
      ],
      "metadata": {
        "id": "X7OOaRDoZ9Uk"
      }
    },
    {
      "cell_type": "code",
      "source": [
        "X = car.drop('Price',axis=1)\n",
        "y = car['Price']"
      ],
      "metadata": {
        "id": "J73sfCsu3Qkp"
      },
      "execution_count": null,
      "outputs": []
    },
    {
      "cell_type": "code",
      "source": [
        "X_train,X_test,y_train,y_test=train_test_split(X,y,test_size=0.2,random_state=9)"
      ],
      "metadata": {
        "id": "KmZFtGC-3Y9j"
      },
      "execution_count": null,
      "outputs": []
    },
    {
      "cell_type": "markdown",
      "source": [
        "SCALING"
      ],
      "metadata": {
        "id": "4f6snmadtYn-"
      }
    },
    {
      "cell_type": "code",
      "source": [
        "scaler=StandardScaler()\n",
        "X_train_scale=scaler.fit_transform(X_train)\n",
        "X_test_scale=scaler.transform(X_test)"
      ],
      "metadata": {
        "id": "oaVDbT4Y3nqo"
      },
      "execution_count": null,
      "outputs": []
    },
    {
      "cell_type": "markdown",
      "source": [
        "# **linear regression**"
      ],
      "metadata": {
        "id": "6bPBpMmI3347"
      }
    },
    {
      "cell_type": "code",
      "source": [
        "Lregressor=LinearRegression(fit_intercept=True)\n",
        "Lregressor.fit(X_train_scale,y_train)"
      ],
      "metadata": {
        "colab": {
          "base_uri": "https://localhost:8080/"
        },
        "id": "FBOO-E3J3vqe",
        "outputId": "256f5645-8ddf-4a20-dbde-ad5e731054fa"
      },
      "execution_count": null,
      "outputs": [
        {
          "output_type": "execute_result",
          "data": {
            "text/plain": [
              "LinearRegression()"
            ]
          },
          "metadata": {},
          "execution_count": 150
        }
      ]
    },
    {
      "cell_type": "code",
      "source": [
        "y_pred=Lregressor.predict(X_test_scale)"
      ],
      "metadata": {
        "id": "Z_CBa8ef4jlX"
      },
      "execution_count": null,
      "outputs": []
    },
    {
      "cell_type": "code",
      "source": [
        "LRr2 = r2_score(y_test,y_pred)\n",
        "LRrmse = np.sqrt(mean_squared_error(y_test,y_pred))\n",
        "print(LRr2)\n",
        "print(LRrmse)"
      ],
      "metadata": {
        "colab": {
          "base_uri": "https://localhost:8080/"
        },
        "id": "VlopInwf5B-O",
        "outputId": "6340395e-f180-460f-85ff-abc9239c36a6"
      },
      "execution_count": null,
      "outputs": [
        {
          "output_type": "stream",
          "name": "stdout",
          "text": [
            "0.7476280295671998\n",
            "423958.47825121775\n"
          ]
        }
      ]
    },
    {
      "cell_type": "markdown",
      "source": [
        "**LINEAR REGRESSION**\n",
        "\n",
        "**R^2=0.74**\n",
        "\n",
        "\n",
        "\n",
        "\n",
        "\n",
        "\n",
        "**RMSE=423958.47**"
      ],
      "metadata": {
        "id": "4vbZ3PtSaWGH"
      }
    },
    {
      "cell_type": "markdown",
      "source": [
        "# **Decision Tree**"
      ],
      "metadata": {
        "id": "YIN1xb7db6rC"
      }
    },
    {
      "cell_type": "code",
      "source": [
        "Dregressor = DecisionTreeRegressor()\n",
        "Dregressor.fit(X_train_scale, y_train)"
      ],
      "metadata": {
        "colab": {
          "base_uri": "https://localhost:8080/"
        },
        "id": "iv44ngUH7RWh",
        "outputId": "2e21a09c-498a-4fc0-f4b4-24f3daac7e12"
      },
      "execution_count": null,
      "outputs": [
        {
          "output_type": "execute_result",
          "data": {
            "text/plain": [
              "DecisionTreeRegressor()"
            ]
          },
          "metadata": {},
          "execution_count": 153
        }
      ]
    },
    {
      "cell_type": "code",
      "source": [
        "dt_pred=Dregressor.predict(X_test_scale)\n"
      ],
      "metadata": {
        "id": "ekzrU1oL7VX4"
      },
      "execution_count": null,
      "outputs": []
    },
    {
      "cell_type": "code",
      "source": [
        "DTr2 = r2_score(y_test,dt_pred)\n",
        "DTrmse = np.sqrt(mean_squared_error(y_test,dt_pred))\n",
        "print(DTr2)\n",
        "print(DTrmse)"
      ],
      "metadata": {
        "colab": {
          "base_uri": "https://localhost:8080/"
        },
        "id": "In3xT3Z07dCk",
        "outputId": "0b4162a6-8a0c-4813-8d89-76f6b2d3dff0"
      },
      "execution_count": null,
      "outputs": [
        {
          "output_type": "stream",
          "name": "stdout",
          "text": [
            "0.8566585621323275\n",
            "319513.08144191303\n"
          ]
        }
      ]
    },
    {
      "cell_type": "markdown",
      "source": [
        "**DECISION TREE**\n",
        "\n",
        "**R^2=0.85**\n",
        "\n",
        "\n",
        "\n",
        "\n",
        "\n",
        "\n",
        "**RMSE=319513.08**"
      ],
      "metadata": {
        "id": "YlApYe9XcObJ"
      }
    },
    {
      "cell_type": "markdown",
      "source": [
        "# **Random Forest**"
      ],
      "metadata": {
        "id": "nnG-n4ULcbRY"
      }
    },
    {
      "cell_type": "code",
      "source": [
        "rf=RandomForestRegressor(n_estimators=200,random_state=9)\n",
        "rf.fit(X_train_scale,y_train)"
      ],
      "metadata": {
        "colab": {
          "base_uri": "https://localhost:8080/"
        },
        "id": "78i93Ngq8nH-",
        "outputId": "a5b0bf14-f168-4e89-a28f-1a132edbf54d"
      },
      "execution_count": null,
      "outputs": [
        {
          "output_type": "execute_result",
          "data": {
            "text/plain": [
              "RandomForestRegressor(n_estimators=200, random_state=9)"
            ]
          },
          "metadata": {},
          "execution_count": 161
        }
      ]
    },
    {
      "cell_type": "code",
      "source": [
        "rf_pred=rf.predict(X_test_scale)\n"
      ],
      "metadata": {
        "id": "xPebZrrn8rHX"
      },
      "execution_count": null,
      "outputs": []
    },
    {
      "cell_type": "code",
      "source": [
        "RFr2 = r2_score(y_test,rf_pred)\n",
        "RFrmse = np.sqrt(mean_squared_error(y_test,rf_pred))\n",
        "print(RFr2)\n",
        "print(RFrmse)"
      ],
      "metadata": {
        "colab": {
          "base_uri": "https://localhost:8080/"
        },
        "id": "4KedbpcP83KS",
        "outputId": "bb5144c7-5af9-4c6e-932e-3eb6aba32e89"
      },
      "execution_count": null,
      "outputs": [
        {
          "output_type": "stream",
          "name": "stdout",
          "text": [
            "0.9470290312237446\n",
            "194232.42090616838\n"
          ]
        }
      ]
    },
    {
      "cell_type": "markdown",
      "source": [
        "**RANDOM FOREST**\n",
        "\n",
        "**R^2=0.94**\n",
        "\n",
        "\n",
        "\n",
        "\n",
        "\n",
        "\n",
        "**RMSE=194232.42**"
      ],
      "metadata": {
        "id": "A84ad0-mcoHH"
      }
    },
    {
      "cell_type": "markdown",
      "source": [
        "# **XGBOOST**"
      ],
      "metadata": {
        "id": "RDpAwDNicxu6"
      }
    },
    {
      "cell_type": "code",
      "source": [
        "XG_boost=xgb.XGBRegressor()\n",
        "XG_boost.fit(X_train_scale,y_train)"
      ],
      "metadata": {
        "colab": {
          "base_uri": "https://localhost:8080/"
        },
        "id": "Uebu9Jod9_22",
        "outputId": "5b778dbe-c80b-4858-f4a6-59ce0b290001"
      },
      "execution_count": null,
      "outputs": [
        {
          "output_type": "execute_result",
          "data": {
            "text/plain": [
              "XGBRegressor()"
            ]
          },
          "metadata": {},
          "execution_count": 164
        }
      ]
    },
    {
      "cell_type": "code",
      "source": [
        "xg_pred=XG_boost.predict(X_test_scale)"
      ],
      "metadata": {
        "id": "DuqOwpZ2-V9H"
      },
      "execution_count": null,
      "outputs": []
    },
    {
      "cell_type": "code",
      "source": [
        "XGr2 = r2_score(y_test,xg_pred)\n",
        "XGrmse = np.sqrt(mean_squared_error(y_test,xg_pred))\n",
        "print(XGr2)\n",
        "print(XGrmse)"
      ],
      "metadata": {
        "colab": {
          "base_uri": "https://localhost:8080/"
        },
        "id": "wogGrtd6-doU",
        "outputId": "2314dc23-2eb2-4ded-8363-f6d530c30894"
      },
      "execution_count": null,
      "outputs": [
        {
          "output_type": "stream",
          "name": "stdout",
          "text": [
            "0.9270737101665797\n",
            "227900.26225062055\n"
          ]
        }
      ]
    },
    {
      "cell_type": "markdown",
      "source": [
        "**XGBOOST**\n",
        "\n",
        "**R^2=0.92**\n",
        "\n",
        "\n",
        "\n",
        "\n",
        "\n",
        "\n",
        "**RMSE=227900.26**"
      ],
      "metadata": {
        "id": "QVXBDCfLc3yJ"
      }
    },
    {
      "cell_type": "markdown",
      "source": [
        "# **CONCLUSION**\n",
        "\n",
        "**RANDOM FOREST IS THE BEST MODEL FOR PREDICTING CAR PRICE WITH THE GIVEN FEATURES BASED ON THE FOLLOWING METRICS**\n",
        "\n",
        "\n",
        "**R^2=0.94**\n",
        "\n",
        "\n",
        "\n",
        "\n",
        "\n",
        "\n",
        "**RMSE=194232.42** "
      ],
      "metadata": {
        "id": "ko8ikoH7dEEt"
      }
    }
  ]
}