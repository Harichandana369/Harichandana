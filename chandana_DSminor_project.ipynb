{
  "nbformat": 4,
  "nbformat_minor": 0,
  "metadata": {
    "colab": {
      "name": "chandana.DSminor_project.ipynb",
      "provenance": [],
      "collapsed_sections": []
    },
    "kernelspec": {
      "name": "python3",
      "display_name": "Python 3"
    },
    "language_info": {
      "name": "python"
    }
  },
  "cells": [
    {
      "cell_type": "markdown",
      "source": [
        "***Classification model to predict price range of mobile based on certain specifications ***"
      ],
      "metadata": {
        "id": "t0cNRMoZ4zWh"
      }
    },
    {
      "cell_type": "markdown",
      "source": [
        "We import the required packages"
      ],
      "metadata": {
        "id": "AdeRmmGfdLnb"
      }
    },
    {
      "cell_type": "code",
      "execution_count": 1,
      "metadata": {
        "id": "rdjpB5P2zEk1"
      },
      "outputs": [],
      "source": [
        "import pandas as pd\n",
        "import numpy as np\n",
        "import matplotlib.pyplot as plt\n",
        "from sklearn.model_selection import train_test_split\n",
        "from sklearn.preprocessing import StandardScaler\n",
        "from sklearn.linear_model import LogisticRegression\n",
        "from sklearn.metrics import accuracy_score,confusion_matrix\n",
        "from sklearn.neighbors import KNeighborsClassifier\n",
        "from sklearn import svm\n",
        "from sklearn.metrics import classification_report"
      ]
    },
    {
      "cell_type": "markdown",
      "source": [
        "Read the data set and save as \"mobileData\""
      ],
      "metadata": {
        "id": "0Ik6-dTTdViP"
      }
    },
    {
      "cell_type": "code",
      "source": [
        "mobileData=pd.read_csv('mobile_data.csv')"
      ],
      "metadata": {
        "id": "3QonnY7p2NFY"
      },
      "execution_count": 2,
      "outputs": []
    },
    {
      "cell_type": "code",
      "source": [
        "mobileData"
      ],
      "metadata": {
        "colab": {
          "base_uri": "https://localhost:8080/",
          "height": 487
        },
        "id": "w6Dm5cxn9CN0",
        "outputId": "3d13ac13-1e3d-4018-b185-0edc9925e2bd"
      },
      "execution_count": 3,
      "outputs": [
        {
          "output_type": "execute_result",
          "data": {
            "text/plain": [
              "      battery_power  blue  clock_speed  dual_sim  fc  four_g  int_memory  \\\n",
              "0               842     0          2.2         0   1       0           7   \n",
              "1              1021     1          0.5         1   0       1          53   \n",
              "2               563     1          0.5         1   2       1          41   \n",
              "3               615     1          2.5         0   0       0          10   \n",
              "4              1821     1          1.2         0  13       1          44   \n",
              "...             ...   ...          ...       ...  ..     ...         ...   \n",
              "1995            794     1          0.5         1   0       1           2   \n",
              "1996           1965     1          2.6         1   0       0          39   \n",
              "1997           1911     0          0.9         1   1       1          36   \n",
              "1998           1512     0          0.9         0   4       1          46   \n",
              "1999            510     1          2.0         1   5       1          45   \n",
              "\n",
              "      m_dep  mobile_wt  n_cores  ...  px_height  px_width   ram  sc_h  sc_w  \\\n",
              "0       0.6        188        2  ...         20       756  2549     9     7   \n",
              "1       0.7        136        3  ...        905      1988  2631    17     3   \n",
              "2       0.9        145        5  ...       1263      1716  2603    11     2   \n",
              "3       0.8        131        6  ...       1216      1786  2769    16     8   \n",
              "4       0.6        141        2  ...       1208      1212  1411     8     2   \n",
              "...     ...        ...      ...  ...        ...       ...   ...   ...   ...   \n",
              "1995    0.8        106        6  ...       1222      1890   668    13     4   \n",
              "1996    0.2        187        4  ...        915      1965  2032    11    10   \n",
              "1997    0.7        108        8  ...        868      1632  3057     9     1   \n",
              "1998    0.1        145        5  ...        336       670   869    18    10   \n",
              "1999    0.9        168        6  ...        483       754  3919    19     4   \n",
              "\n",
              "      talk_time  three_g  touch_screen  wifi  price_range  \n",
              "0            19        0             0     1            1  \n",
              "1             7        1             1     0            2  \n",
              "2             9        1             1     0            2  \n",
              "3            11        1             0     0            2  \n",
              "4            15        1             1     0            1  \n",
              "...         ...      ...           ...   ...          ...  \n",
              "1995         19        1             1     0            0  \n",
              "1996         16        1             1     1            2  \n",
              "1997          5        1             1     0            3  \n",
              "1998         19        1             1     1            0  \n",
              "1999          2        1             1     1            3  \n",
              "\n",
              "[2000 rows x 21 columns]"
            ],
            "text/html": [
              "\n",
              "  <div id=\"df-da45d537-0ae9-4c61-ad99-da966e962b1d\">\n",
              "    <div class=\"colab-df-container\">\n",
              "      <div>\n",
              "<style scoped>\n",
              "    .dataframe tbody tr th:only-of-type {\n",
              "        vertical-align: middle;\n",
              "    }\n",
              "\n",
              "    .dataframe tbody tr th {\n",
              "        vertical-align: top;\n",
              "    }\n",
              "\n",
              "    .dataframe thead th {\n",
              "        text-align: right;\n",
              "    }\n",
              "</style>\n",
              "<table border=\"1\" class=\"dataframe\">\n",
              "  <thead>\n",
              "    <tr style=\"text-align: right;\">\n",
              "      <th></th>\n",
              "      <th>battery_power</th>\n",
              "      <th>blue</th>\n",
              "      <th>clock_speed</th>\n",
              "      <th>dual_sim</th>\n",
              "      <th>fc</th>\n",
              "      <th>four_g</th>\n",
              "      <th>int_memory</th>\n",
              "      <th>m_dep</th>\n",
              "      <th>mobile_wt</th>\n",
              "      <th>n_cores</th>\n",
              "      <th>...</th>\n",
              "      <th>px_height</th>\n",
              "      <th>px_width</th>\n",
              "      <th>ram</th>\n",
              "      <th>sc_h</th>\n",
              "      <th>sc_w</th>\n",
              "      <th>talk_time</th>\n",
              "      <th>three_g</th>\n",
              "      <th>touch_screen</th>\n",
              "      <th>wifi</th>\n",
              "      <th>price_range</th>\n",
              "    </tr>\n",
              "  </thead>\n",
              "  <tbody>\n",
              "    <tr>\n",
              "      <th>0</th>\n",
              "      <td>842</td>\n",
              "      <td>0</td>\n",
              "      <td>2.2</td>\n",
              "      <td>0</td>\n",
              "      <td>1</td>\n",
              "      <td>0</td>\n",
              "      <td>7</td>\n",
              "      <td>0.6</td>\n",
              "      <td>188</td>\n",
              "      <td>2</td>\n",
              "      <td>...</td>\n",
              "      <td>20</td>\n",
              "      <td>756</td>\n",
              "      <td>2549</td>\n",
              "      <td>9</td>\n",
              "      <td>7</td>\n",
              "      <td>19</td>\n",
              "      <td>0</td>\n",
              "      <td>0</td>\n",
              "      <td>1</td>\n",
              "      <td>1</td>\n",
              "    </tr>\n",
              "    <tr>\n",
              "      <th>1</th>\n",
              "      <td>1021</td>\n",
              "      <td>1</td>\n",
              "      <td>0.5</td>\n",
              "      <td>1</td>\n",
              "      <td>0</td>\n",
              "      <td>1</td>\n",
              "      <td>53</td>\n",
              "      <td>0.7</td>\n",
              "      <td>136</td>\n",
              "      <td>3</td>\n",
              "      <td>...</td>\n",
              "      <td>905</td>\n",
              "      <td>1988</td>\n",
              "      <td>2631</td>\n",
              "      <td>17</td>\n",
              "      <td>3</td>\n",
              "      <td>7</td>\n",
              "      <td>1</td>\n",
              "      <td>1</td>\n",
              "      <td>0</td>\n",
              "      <td>2</td>\n",
              "    </tr>\n",
              "    <tr>\n",
              "      <th>2</th>\n",
              "      <td>563</td>\n",
              "      <td>1</td>\n",
              "      <td>0.5</td>\n",
              "      <td>1</td>\n",
              "      <td>2</td>\n",
              "      <td>1</td>\n",
              "      <td>41</td>\n",
              "      <td>0.9</td>\n",
              "      <td>145</td>\n",
              "      <td>5</td>\n",
              "      <td>...</td>\n",
              "      <td>1263</td>\n",
              "      <td>1716</td>\n",
              "      <td>2603</td>\n",
              "      <td>11</td>\n",
              "      <td>2</td>\n",
              "      <td>9</td>\n",
              "      <td>1</td>\n",
              "      <td>1</td>\n",
              "      <td>0</td>\n",
              "      <td>2</td>\n",
              "    </tr>\n",
              "    <tr>\n",
              "      <th>3</th>\n",
              "      <td>615</td>\n",
              "      <td>1</td>\n",
              "      <td>2.5</td>\n",
              "      <td>0</td>\n",
              "      <td>0</td>\n",
              "      <td>0</td>\n",
              "      <td>10</td>\n",
              "      <td>0.8</td>\n",
              "      <td>131</td>\n",
              "      <td>6</td>\n",
              "      <td>...</td>\n",
              "      <td>1216</td>\n",
              "      <td>1786</td>\n",
              "      <td>2769</td>\n",
              "      <td>16</td>\n",
              "      <td>8</td>\n",
              "      <td>11</td>\n",
              "      <td>1</td>\n",
              "      <td>0</td>\n",
              "      <td>0</td>\n",
              "      <td>2</td>\n",
              "    </tr>\n",
              "    <tr>\n",
              "      <th>4</th>\n",
              "      <td>1821</td>\n",
              "      <td>1</td>\n",
              "      <td>1.2</td>\n",
              "      <td>0</td>\n",
              "      <td>13</td>\n",
              "      <td>1</td>\n",
              "      <td>44</td>\n",
              "      <td>0.6</td>\n",
              "      <td>141</td>\n",
              "      <td>2</td>\n",
              "      <td>...</td>\n",
              "      <td>1208</td>\n",
              "      <td>1212</td>\n",
              "      <td>1411</td>\n",
              "      <td>8</td>\n",
              "      <td>2</td>\n",
              "      <td>15</td>\n",
              "      <td>1</td>\n",
              "      <td>1</td>\n",
              "      <td>0</td>\n",
              "      <td>1</td>\n",
              "    </tr>\n",
              "    <tr>\n",
              "      <th>...</th>\n",
              "      <td>...</td>\n",
              "      <td>...</td>\n",
              "      <td>...</td>\n",
              "      <td>...</td>\n",
              "      <td>...</td>\n",
              "      <td>...</td>\n",
              "      <td>...</td>\n",
              "      <td>...</td>\n",
              "      <td>...</td>\n",
              "      <td>...</td>\n",
              "      <td>...</td>\n",
              "      <td>...</td>\n",
              "      <td>...</td>\n",
              "      <td>...</td>\n",
              "      <td>...</td>\n",
              "      <td>...</td>\n",
              "      <td>...</td>\n",
              "      <td>...</td>\n",
              "      <td>...</td>\n",
              "      <td>...</td>\n",
              "      <td>...</td>\n",
              "    </tr>\n",
              "    <tr>\n",
              "      <th>1995</th>\n",
              "      <td>794</td>\n",
              "      <td>1</td>\n",
              "      <td>0.5</td>\n",
              "      <td>1</td>\n",
              "      <td>0</td>\n",
              "      <td>1</td>\n",
              "      <td>2</td>\n",
              "      <td>0.8</td>\n",
              "      <td>106</td>\n",
              "      <td>6</td>\n",
              "      <td>...</td>\n",
              "      <td>1222</td>\n",
              "      <td>1890</td>\n",
              "      <td>668</td>\n",
              "      <td>13</td>\n",
              "      <td>4</td>\n",
              "      <td>19</td>\n",
              "      <td>1</td>\n",
              "      <td>1</td>\n",
              "      <td>0</td>\n",
              "      <td>0</td>\n",
              "    </tr>\n",
              "    <tr>\n",
              "      <th>1996</th>\n",
              "      <td>1965</td>\n",
              "      <td>1</td>\n",
              "      <td>2.6</td>\n",
              "      <td>1</td>\n",
              "      <td>0</td>\n",
              "      <td>0</td>\n",
              "      <td>39</td>\n",
              "      <td>0.2</td>\n",
              "      <td>187</td>\n",
              "      <td>4</td>\n",
              "      <td>...</td>\n",
              "      <td>915</td>\n",
              "      <td>1965</td>\n",
              "      <td>2032</td>\n",
              "      <td>11</td>\n",
              "      <td>10</td>\n",
              "      <td>16</td>\n",
              "      <td>1</td>\n",
              "      <td>1</td>\n",
              "      <td>1</td>\n",
              "      <td>2</td>\n",
              "    </tr>\n",
              "    <tr>\n",
              "      <th>1997</th>\n",
              "      <td>1911</td>\n",
              "      <td>0</td>\n",
              "      <td>0.9</td>\n",
              "      <td>1</td>\n",
              "      <td>1</td>\n",
              "      <td>1</td>\n",
              "      <td>36</td>\n",
              "      <td>0.7</td>\n",
              "      <td>108</td>\n",
              "      <td>8</td>\n",
              "      <td>...</td>\n",
              "      <td>868</td>\n",
              "      <td>1632</td>\n",
              "      <td>3057</td>\n",
              "      <td>9</td>\n",
              "      <td>1</td>\n",
              "      <td>5</td>\n",
              "      <td>1</td>\n",
              "      <td>1</td>\n",
              "      <td>0</td>\n",
              "      <td>3</td>\n",
              "    </tr>\n",
              "    <tr>\n",
              "      <th>1998</th>\n",
              "      <td>1512</td>\n",
              "      <td>0</td>\n",
              "      <td>0.9</td>\n",
              "      <td>0</td>\n",
              "      <td>4</td>\n",
              "      <td>1</td>\n",
              "      <td>46</td>\n",
              "      <td>0.1</td>\n",
              "      <td>145</td>\n",
              "      <td>5</td>\n",
              "      <td>...</td>\n",
              "      <td>336</td>\n",
              "      <td>670</td>\n",
              "      <td>869</td>\n",
              "      <td>18</td>\n",
              "      <td>10</td>\n",
              "      <td>19</td>\n",
              "      <td>1</td>\n",
              "      <td>1</td>\n",
              "      <td>1</td>\n",
              "      <td>0</td>\n",
              "    </tr>\n",
              "    <tr>\n",
              "      <th>1999</th>\n",
              "      <td>510</td>\n",
              "      <td>1</td>\n",
              "      <td>2.0</td>\n",
              "      <td>1</td>\n",
              "      <td>5</td>\n",
              "      <td>1</td>\n",
              "      <td>45</td>\n",
              "      <td>0.9</td>\n",
              "      <td>168</td>\n",
              "      <td>6</td>\n",
              "      <td>...</td>\n",
              "      <td>483</td>\n",
              "      <td>754</td>\n",
              "      <td>3919</td>\n",
              "      <td>19</td>\n",
              "      <td>4</td>\n",
              "      <td>2</td>\n",
              "      <td>1</td>\n",
              "      <td>1</td>\n",
              "      <td>1</td>\n",
              "      <td>3</td>\n",
              "    </tr>\n",
              "  </tbody>\n",
              "</table>\n",
              "<p>2000 rows × 21 columns</p>\n",
              "</div>\n",
              "      <button class=\"colab-df-convert\" onclick=\"convertToInteractive('df-da45d537-0ae9-4c61-ad99-da966e962b1d')\"\n",
              "              title=\"Convert this dataframe to an interactive table.\"\n",
              "              style=\"display:none;\">\n",
              "        \n",
              "  <svg xmlns=\"http://www.w3.org/2000/svg\" height=\"24px\"viewBox=\"0 0 24 24\"\n",
              "       width=\"24px\">\n",
              "    <path d=\"M0 0h24v24H0V0z\" fill=\"none\"/>\n",
              "    <path d=\"M18.56 5.44l.94 2.06.94-2.06 2.06-.94-2.06-.94-.94-2.06-.94 2.06-2.06.94zm-11 1L8.5 8.5l.94-2.06 2.06-.94-2.06-.94L8.5 2.5l-.94 2.06-2.06.94zm10 10l.94 2.06.94-2.06 2.06-.94-2.06-.94-.94-2.06-.94 2.06-2.06.94z\"/><path d=\"M17.41 7.96l-1.37-1.37c-.4-.4-.92-.59-1.43-.59-.52 0-1.04.2-1.43.59L10.3 9.45l-7.72 7.72c-.78.78-.78 2.05 0 2.83L4 21.41c.39.39.9.59 1.41.59.51 0 1.02-.2 1.41-.59l7.78-7.78 2.81-2.81c.8-.78.8-2.07 0-2.86zM5.41 20L4 18.59l7.72-7.72 1.47 1.35L5.41 20z\"/>\n",
              "  </svg>\n",
              "      </button>\n",
              "      \n",
              "  <style>\n",
              "    .colab-df-container {\n",
              "      display:flex;\n",
              "      flex-wrap:wrap;\n",
              "      gap: 12px;\n",
              "    }\n",
              "\n",
              "    .colab-df-convert {\n",
              "      background-color: #E8F0FE;\n",
              "      border: none;\n",
              "      border-radius: 50%;\n",
              "      cursor: pointer;\n",
              "      display: none;\n",
              "      fill: #1967D2;\n",
              "      height: 32px;\n",
              "      padding: 0 0 0 0;\n",
              "      width: 32px;\n",
              "    }\n",
              "\n",
              "    .colab-df-convert:hover {\n",
              "      background-color: #E2EBFA;\n",
              "      box-shadow: 0px 1px 2px rgba(60, 64, 67, 0.3), 0px 1px 3px 1px rgba(60, 64, 67, 0.15);\n",
              "      fill: #174EA6;\n",
              "    }\n",
              "\n",
              "    [theme=dark] .colab-df-convert {\n",
              "      background-color: #3B4455;\n",
              "      fill: #D2E3FC;\n",
              "    }\n",
              "\n",
              "    [theme=dark] .colab-df-convert:hover {\n",
              "      background-color: #434B5C;\n",
              "      box-shadow: 0px 1px 3px 1px rgba(0, 0, 0, 0.15);\n",
              "      filter: drop-shadow(0px 1px 2px rgba(0, 0, 0, 0.3));\n",
              "      fill: #FFFFFF;\n",
              "    }\n",
              "  </style>\n",
              "\n",
              "      <script>\n",
              "        const buttonEl =\n",
              "          document.querySelector('#df-da45d537-0ae9-4c61-ad99-da966e962b1d button.colab-df-convert');\n",
              "        buttonEl.style.display =\n",
              "          google.colab.kernel.accessAllowed ? 'block' : 'none';\n",
              "\n",
              "        async function convertToInteractive(key) {\n",
              "          const element = document.querySelector('#df-da45d537-0ae9-4c61-ad99-da966e962b1d');\n",
              "          const dataTable =\n",
              "            await google.colab.kernel.invokeFunction('convertToInteractive',\n",
              "                                                     [key], {});\n",
              "          if (!dataTable) return;\n",
              "\n",
              "          const docLinkHtml = 'Like what you see? Visit the ' +\n",
              "            '<a target=\"_blank\" href=https://colab.research.google.com/notebooks/data_table.ipynb>data table notebook</a>'\n",
              "            + ' to learn more about interactive tables.';\n",
              "          element.innerHTML = '';\n",
              "          dataTable['output_type'] = 'display_data';\n",
              "          await google.colab.output.renderOutput(dataTable, element);\n",
              "          const docLink = document.createElement('div');\n",
              "          docLink.innerHTML = docLinkHtml;\n",
              "          element.appendChild(docLink);\n",
              "        }\n",
              "      </script>\n",
              "    </div>\n",
              "  </div>\n",
              "  "
            ]
          },
          "metadata": {},
          "execution_count": 3
        }
      ]
    },
    {
      "cell_type": "code",
      "source": [
        "mobileData.shape"
      ],
      "metadata": {
        "colab": {
          "base_uri": "https://localhost:8080/",
          "height": 0
        },
        "id": "AyLtxPzH_zjy",
        "outputId": "180bc009-68d4-4160-8634-100aa9d3698c"
      },
      "execution_count": 4,
      "outputs": [
        {
          "output_type": "execute_result",
          "data": {
            "text/plain": [
              "(2000, 21)"
            ]
          },
          "metadata": {},
          "execution_count": 4
        }
      ]
    },
    {
      "cell_type": "code",
      "source": [
        "mobileData.info()"
      ],
      "metadata": {
        "colab": {
          "base_uri": "https://localhost:8080/",
          "height": 0
        },
        "id": "z79wdfOJ_7Vb",
        "outputId": "d6bff397-c2d5-44d5-f2b4-542bb975dde2"
      },
      "execution_count": 5,
      "outputs": [
        {
          "output_type": "stream",
          "name": "stdout",
          "text": [
            "<class 'pandas.core.frame.DataFrame'>\n",
            "RangeIndex: 2000 entries, 0 to 1999\n",
            "Data columns (total 21 columns):\n",
            " #   Column         Non-Null Count  Dtype  \n",
            "---  ------         --------------  -----  \n",
            " 0   battery_power  2000 non-null   int64  \n",
            " 1   blue           2000 non-null   int64  \n",
            " 2   clock_speed    2000 non-null   float64\n",
            " 3   dual_sim       2000 non-null   int64  \n",
            " 4   fc             2000 non-null   int64  \n",
            " 5   four_g         2000 non-null   int64  \n",
            " 6   int_memory     2000 non-null   int64  \n",
            " 7   m_dep          2000 non-null   float64\n",
            " 8   mobile_wt      2000 non-null   int64  \n",
            " 9   n_cores        2000 non-null   int64  \n",
            " 10  pc             2000 non-null   int64  \n",
            " 11  px_height      2000 non-null   int64  \n",
            " 12  px_width       2000 non-null   int64  \n",
            " 13  ram            2000 non-null   int64  \n",
            " 14  sc_h           2000 non-null   int64  \n",
            " 15  sc_w           2000 non-null   int64  \n",
            " 16  talk_time      2000 non-null   int64  \n",
            " 17  three_g        2000 non-null   int64  \n",
            " 18  touch_screen   2000 non-null   int64  \n",
            " 19  wifi           2000 non-null   int64  \n",
            " 20  price_range    2000 non-null   int64  \n",
            "dtypes: float64(2), int64(19)\n",
            "memory usage: 328.2 KB\n"
          ]
        }
      ]
    },
    {
      "cell_type": "markdown",
      "source": [
        "There are no null values"
      ],
      "metadata": {
        "id": "iPUSUOZmdm4R"
      }
    },
    {
      "cell_type": "code",
      "source": [
        "mobileData.describe()"
      ],
      "metadata": {
        "colab": {
          "base_uri": "https://localhost:8080/",
          "height": 393
        },
        "id": "c2ab5UNNAm4R",
        "outputId": "a2537470-aca3-441d-f0e1-57502f13ef21"
      },
      "execution_count": 6,
      "outputs": [
        {
          "output_type": "execute_result",
          "data": {
            "text/plain": [
              "       battery_power       blue  clock_speed     dual_sim           fc  \\\n",
              "count    2000.000000  2000.0000  2000.000000  2000.000000  2000.000000   \n",
              "mean     1238.518500     0.4950     1.522250     0.509500     4.309500   \n",
              "std       439.418206     0.5001     0.816004     0.500035     4.341444   \n",
              "min       501.000000     0.0000     0.500000     0.000000     0.000000   \n",
              "25%       851.750000     0.0000     0.700000     0.000000     1.000000   \n",
              "50%      1226.000000     0.0000     1.500000     1.000000     3.000000   \n",
              "75%      1615.250000     1.0000     2.200000     1.000000     7.000000   \n",
              "max      1998.000000     1.0000     3.000000     1.000000    19.000000   \n",
              "\n",
              "            four_g   int_memory        m_dep    mobile_wt      n_cores  ...  \\\n",
              "count  2000.000000  2000.000000  2000.000000  2000.000000  2000.000000  ...   \n",
              "mean      0.521500    32.046500     0.501750   140.249000     4.520500  ...   \n",
              "std       0.499662    18.145715     0.288416    35.399655     2.287837  ...   \n",
              "min       0.000000     2.000000     0.100000    80.000000     1.000000  ...   \n",
              "25%       0.000000    16.000000     0.200000   109.000000     3.000000  ...   \n",
              "50%       1.000000    32.000000     0.500000   141.000000     4.000000  ...   \n",
              "75%       1.000000    48.000000     0.800000   170.000000     7.000000  ...   \n",
              "max       1.000000    64.000000     1.000000   200.000000     8.000000  ...   \n",
              "\n",
              "         px_height     px_width          ram         sc_h         sc_w  \\\n",
              "count  2000.000000  2000.000000  2000.000000  2000.000000  2000.000000   \n",
              "mean    645.108000  1251.515500  2124.213000    12.306500     5.767000   \n",
              "std     443.780811   432.199447  1084.732044     4.213245     4.356398   \n",
              "min       0.000000   500.000000   256.000000     5.000000     0.000000   \n",
              "25%     282.750000   874.750000  1207.500000     9.000000     2.000000   \n",
              "50%     564.000000  1247.000000  2146.500000    12.000000     5.000000   \n",
              "75%     947.250000  1633.000000  3064.500000    16.000000     9.000000   \n",
              "max    1960.000000  1998.000000  3998.000000    19.000000    18.000000   \n",
              "\n",
              "         talk_time      three_g  touch_screen         wifi  price_range  \n",
              "count  2000.000000  2000.000000   2000.000000  2000.000000  2000.000000  \n",
              "mean     11.011000     0.761500      0.503000     0.507000     1.500000  \n",
              "std       5.463955     0.426273      0.500116     0.500076     1.118314  \n",
              "min       2.000000     0.000000      0.000000     0.000000     0.000000  \n",
              "25%       6.000000     1.000000      0.000000     0.000000     0.750000  \n",
              "50%      11.000000     1.000000      1.000000     1.000000     1.500000  \n",
              "75%      16.000000     1.000000      1.000000     1.000000     2.250000  \n",
              "max      20.000000     1.000000      1.000000     1.000000     3.000000  \n",
              "\n",
              "[8 rows x 21 columns]"
            ],
            "text/html": [
              "\n",
              "  <div id=\"df-359de7fa-2680-4b07-983f-0db367e2fe67\">\n",
              "    <div class=\"colab-df-container\">\n",
              "      <div>\n",
              "<style scoped>\n",
              "    .dataframe tbody tr th:only-of-type {\n",
              "        vertical-align: middle;\n",
              "    }\n",
              "\n",
              "    .dataframe tbody tr th {\n",
              "        vertical-align: top;\n",
              "    }\n",
              "\n",
              "    .dataframe thead th {\n",
              "        text-align: right;\n",
              "    }\n",
              "</style>\n",
              "<table border=\"1\" class=\"dataframe\">\n",
              "  <thead>\n",
              "    <tr style=\"text-align: right;\">\n",
              "      <th></th>\n",
              "      <th>battery_power</th>\n",
              "      <th>blue</th>\n",
              "      <th>clock_speed</th>\n",
              "      <th>dual_sim</th>\n",
              "      <th>fc</th>\n",
              "      <th>four_g</th>\n",
              "      <th>int_memory</th>\n",
              "      <th>m_dep</th>\n",
              "      <th>mobile_wt</th>\n",
              "      <th>n_cores</th>\n",
              "      <th>...</th>\n",
              "      <th>px_height</th>\n",
              "      <th>px_width</th>\n",
              "      <th>ram</th>\n",
              "      <th>sc_h</th>\n",
              "      <th>sc_w</th>\n",
              "      <th>talk_time</th>\n",
              "      <th>three_g</th>\n",
              "      <th>touch_screen</th>\n",
              "      <th>wifi</th>\n",
              "      <th>price_range</th>\n",
              "    </tr>\n",
              "  </thead>\n",
              "  <tbody>\n",
              "    <tr>\n",
              "      <th>count</th>\n",
              "      <td>2000.000000</td>\n",
              "      <td>2000.0000</td>\n",
              "      <td>2000.000000</td>\n",
              "      <td>2000.000000</td>\n",
              "      <td>2000.000000</td>\n",
              "      <td>2000.000000</td>\n",
              "      <td>2000.000000</td>\n",
              "      <td>2000.000000</td>\n",
              "      <td>2000.000000</td>\n",
              "      <td>2000.000000</td>\n",
              "      <td>...</td>\n",
              "      <td>2000.000000</td>\n",
              "      <td>2000.000000</td>\n",
              "      <td>2000.000000</td>\n",
              "      <td>2000.000000</td>\n",
              "      <td>2000.000000</td>\n",
              "      <td>2000.000000</td>\n",
              "      <td>2000.000000</td>\n",
              "      <td>2000.000000</td>\n",
              "      <td>2000.000000</td>\n",
              "      <td>2000.000000</td>\n",
              "    </tr>\n",
              "    <tr>\n",
              "      <th>mean</th>\n",
              "      <td>1238.518500</td>\n",
              "      <td>0.4950</td>\n",
              "      <td>1.522250</td>\n",
              "      <td>0.509500</td>\n",
              "      <td>4.309500</td>\n",
              "      <td>0.521500</td>\n",
              "      <td>32.046500</td>\n",
              "      <td>0.501750</td>\n",
              "      <td>140.249000</td>\n",
              "      <td>4.520500</td>\n",
              "      <td>...</td>\n",
              "      <td>645.108000</td>\n",
              "      <td>1251.515500</td>\n",
              "      <td>2124.213000</td>\n",
              "      <td>12.306500</td>\n",
              "      <td>5.767000</td>\n",
              "      <td>11.011000</td>\n",
              "      <td>0.761500</td>\n",
              "      <td>0.503000</td>\n",
              "      <td>0.507000</td>\n",
              "      <td>1.500000</td>\n",
              "    </tr>\n",
              "    <tr>\n",
              "      <th>std</th>\n",
              "      <td>439.418206</td>\n",
              "      <td>0.5001</td>\n",
              "      <td>0.816004</td>\n",
              "      <td>0.500035</td>\n",
              "      <td>4.341444</td>\n",
              "      <td>0.499662</td>\n",
              "      <td>18.145715</td>\n",
              "      <td>0.288416</td>\n",
              "      <td>35.399655</td>\n",
              "      <td>2.287837</td>\n",
              "      <td>...</td>\n",
              "      <td>443.780811</td>\n",
              "      <td>432.199447</td>\n",
              "      <td>1084.732044</td>\n",
              "      <td>4.213245</td>\n",
              "      <td>4.356398</td>\n",
              "      <td>5.463955</td>\n",
              "      <td>0.426273</td>\n",
              "      <td>0.500116</td>\n",
              "      <td>0.500076</td>\n",
              "      <td>1.118314</td>\n",
              "    </tr>\n",
              "    <tr>\n",
              "      <th>min</th>\n",
              "      <td>501.000000</td>\n",
              "      <td>0.0000</td>\n",
              "      <td>0.500000</td>\n",
              "      <td>0.000000</td>\n",
              "      <td>0.000000</td>\n",
              "      <td>0.000000</td>\n",
              "      <td>2.000000</td>\n",
              "      <td>0.100000</td>\n",
              "      <td>80.000000</td>\n",
              "      <td>1.000000</td>\n",
              "      <td>...</td>\n",
              "      <td>0.000000</td>\n",
              "      <td>500.000000</td>\n",
              "      <td>256.000000</td>\n",
              "      <td>5.000000</td>\n",
              "      <td>0.000000</td>\n",
              "      <td>2.000000</td>\n",
              "      <td>0.000000</td>\n",
              "      <td>0.000000</td>\n",
              "      <td>0.000000</td>\n",
              "      <td>0.000000</td>\n",
              "    </tr>\n",
              "    <tr>\n",
              "      <th>25%</th>\n",
              "      <td>851.750000</td>\n",
              "      <td>0.0000</td>\n",
              "      <td>0.700000</td>\n",
              "      <td>0.000000</td>\n",
              "      <td>1.000000</td>\n",
              "      <td>0.000000</td>\n",
              "      <td>16.000000</td>\n",
              "      <td>0.200000</td>\n",
              "      <td>109.000000</td>\n",
              "      <td>3.000000</td>\n",
              "      <td>...</td>\n",
              "      <td>282.750000</td>\n",
              "      <td>874.750000</td>\n",
              "      <td>1207.500000</td>\n",
              "      <td>9.000000</td>\n",
              "      <td>2.000000</td>\n",
              "      <td>6.000000</td>\n",
              "      <td>1.000000</td>\n",
              "      <td>0.000000</td>\n",
              "      <td>0.000000</td>\n",
              "      <td>0.750000</td>\n",
              "    </tr>\n",
              "    <tr>\n",
              "      <th>50%</th>\n",
              "      <td>1226.000000</td>\n",
              "      <td>0.0000</td>\n",
              "      <td>1.500000</td>\n",
              "      <td>1.000000</td>\n",
              "      <td>3.000000</td>\n",
              "      <td>1.000000</td>\n",
              "      <td>32.000000</td>\n",
              "      <td>0.500000</td>\n",
              "      <td>141.000000</td>\n",
              "      <td>4.000000</td>\n",
              "      <td>...</td>\n",
              "      <td>564.000000</td>\n",
              "      <td>1247.000000</td>\n",
              "      <td>2146.500000</td>\n",
              "      <td>12.000000</td>\n",
              "      <td>5.000000</td>\n",
              "      <td>11.000000</td>\n",
              "      <td>1.000000</td>\n",
              "      <td>1.000000</td>\n",
              "      <td>1.000000</td>\n",
              "      <td>1.500000</td>\n",
              "    </tr>\n",
              "    <tr>\n",
              "      <th>75%</th>\n",
              "      <td>1615.250000</td>\n",
              "      <td>1.0000</td>\n",
              "      <td>2.200000</td>\n",
              "      <td>1.000000</td>\n",
              "      <td>7.000000</td>\n",
              "      <td>1.000000</td>\n",
              "      <td>48.000000</td>\n",
              "      <td>0.800000</td>\n",
              "      <td>170.000000</td>\n",
              "      <td>7.000000</td>\n",
              "      <td>...</td>\n",
              "      <td>947.250000</td>\n",
              "      <td>1633.000000</td>\n",
              "      <td>3064.500000</td>\n",
              "      <td>16.000000</td>\n",
              "      <td>9.000000</td>\n",
              "      <td>16.000000</td>\n",
              "      <td>1.000000</td>\n",
              "      <td>1.000000</td>\n",
              "      <td>1.000000</td>\n",
              "      <td>2.250000</td>\n",
              "    </tr>\n",
              "    <tr>\n",
              "      <th>max</th>\n",
              "      <td>1998.000000</td>\n",
              "      <td>1.0000</td>\n",
              "      <td>3.000000</td>\n",
              "      <td>1.000000</td>\n",
              "      <td>19.000000</td>\n",
              "      <td>1.000000</td>\n",
              "      <td>64.000000</td>\n",
              "      <td>1.000000</td>\n",
              "      <td>200.000000</td>\n",
              "      <td>8.000000</td>\n",
              "      <td>...</td>\n",
              "      <td>1960.000000</td>\n",
              "      <td>1998.000000</td>\n",
              "      <td>3998.000000</td>\n",
              "      <td>19.000000</td>\n",
              "      <td>18.000000</td>\n",
              "      <td>20.000000</td>\n",
              "      <td>1.000000</td>\n",
              "      <td>1.000000</td>\n",
              "      <td>1.000000</td>\n",
              "      <td>3.000000</td>\n",
              "    </tr>\n",
              "  </tbody>\n",
              "</table>\n",
              "<p>8 rows × 21 columns</p>\n",
              "</div>\n",
              "      <button class=\"colab-df-convert\" onclick=\"convertToInteractive('df-359de7fa-2680-4b07-983f-0db367e2fe67')\"\n",
              "              title=\"Convert this dataframe to an interactive table.\"\n",
              "              style=\"display:none;\">\n",
              "        \n",
              "  <svg xmlns=\"http://www.w3.org/2000/svg\" height=\"24px\"viewBox=\"0 0 24 24\"\n",
              "       width=\"24px\">\n",
              "    <path d=\"M0 0h24v24H0V0z\" fill=\"none\"/>\n",
              "    <path d=\"M18.56 5.44l.94 2.06.94-2.06 2.06-.94-2.06-.94-.94-2.06-.94 2.06-2.06.94zm-11 1L8.5 8.5l.94-2.06 2.06-.94-2.06-.94L8.5 2.5l-.94 2.06-2.06.94zm10 10l.94 2.06.94-2.06 2.06-.94-2.06-.94-.94-2.06-.94 2.06-2.06.94z\"/><path d=\"M17.41 7.96l-1.37-1.37c-.4-.4-.92-.59-1.43-.59-.52 0-1.04.2-1.43.59L10.3 9.45l-7.72 7.72c-.78.78-.78 2.05 0 2.83L4 21.41c.39.39.9.59 1.41.59.51 0 1.02-.2 1.41-.59l7.78-7.78 2.81-2.81c.8-.78.8-2.07 0-2.86zM5.41 20L4 18.59l7.72-7.72 1.47 1.35L5.41 20z\"/>\n",
              "  </svg>\n",
              "      </button>\n",
              "      \n",
              "  <style>\n",
              "    .colab-df-container {\n",
              "      display:flex;\n",
              "      flex-wrap:wrap;\n",
              "      gap: 12px;\n",
              "    }\n",
              "\n",
              "    .colab-df-convert {\n",
              "      background-color: #E8F0FE;\n",
              "      border: none;\n",
              "      border-radius: 50%;\n",
              "      cursor: pointer;\n",
              "      display: none;\n",
              "      fill: #1967D2;\n",
              "      height: 32px;\n",
              "      padding: 0 0 0 0;\n",
              "      width: 32px;\n",
              "    }\n",
              "\n",
              "    .colab-df-convert:hover {\n",
              "      background-color: #E2EBFA;\n",
              "      box-shadow: 0px 1px 2px rgba(60, 64, 67, 0.3), 0px 1px 3px 1px rgba(60, 64, 67, 0.15);\n",
              "      fill: #174EA6;\n",
              "    }\n",
              "\n",
              "    [theme=dark] .colab-df-convert {\n",
              "      background-color: #3B4455;\n",
              "      fill: #D2E3FC;\n",
              "    }\n",
              "\n",
              "    [theme=dark] .colab-df-convert:hover {\n",
              "      background-color: #434B5C;\n",
              "      box-shadow: 0px 1px 3px 1px rgba(0, 0, 0, 0.15);\n",
              "      filter: drop-shadow(0px 1px 2px rgba(0, 0, 0, 0.3));\n",
              "      fill: #FFFFFF;\n",
              "    }\n",
              "  </style>\n",
              "\n",
              "      <script>\n",
              "        const buttonEl =\n",
              "          document.querySelector('#df-359de7fa-2680-4b07-983f-0db367e2fe67 button.colab-df-convert');\n",
              "        buttonEl.style.display =\n",
              "          google.colab.kernel.accessAllowed ? 'block' : 'none';\n",
              "\n",
              "        async function convertToInteractive(key) {\n",
              "          const element = document.querySelector('#df-359de7fa-2680-4b07-983f-0db367e2fe67');\n",
              "          const dataTable =\n",
              "            await google.colab.kernel.invokeFunction('convertToInteractive',\n",
              "                                                     [key], {});\n",
              "          if (!dataTable) return;\n",
              "\n",
              "          const docLinkHtml = 'Like what you see? Visit the ' +\n",
              "            '<a target=\"_blank\" href=https://colab.research.google.com/notebooks/data_table.ipynb>data table notebook</a>'\n",
              "            + ' to learn more about interactive tables.';\n",
              "          element.innerHTML = '';\n",
              "          dataTable['output_type'] = 'display_data';\n",
              "          await google.colab.output.renderOutput(dataTable, element);\n",
              "          const docLink = document.createElement('div');\n",
              "          docLink.innerHTML = docLinkHtml;\n",
              "          element.appendChild(docLink);\n",
              "        }\n",
              "      </script>\n",
              "    </div>\n",
              "  </div>\n",
              "  "
            ]
          },
          "metadata": {},
          "execution_count": 6
        }
      ]
    },
    {
      "cell_type": "code",
      "source": [
        "mobileData['price_range'].unique()"
      ],
      "metadata": {
        "colab": {
          "base_uri": "https://localhost:8080/",
          "height": 0
        },
        "id": "xRE-hiYODgeJ",
        "outputId": "dd3d9095-c3b4-4d41-a4b7-d766f81764d7"
      },
      "execution_count": 7,
      "outputs": [
        {
          "output_type": "execute_result",
          "data": {
            "text/plain": [
              "array([1, 2, 3, 0])"
            ]
          },
          "metadata": {},
          "execution_count": 7
        }
      ]
    },
    {
      "cell_type": "code",
      "source": [
        "mobileData.corr()['price_range']"
      ],
      "metadata": {
        "colab": {
          "base_uri": "https://localhost:8080/",
          "height": 0
        },
        "id": "DUps0CChB_N8",
        "outputId": "a098eabd-b005-4a12-c6a8-15518323a4bf"
      },
      "execution_count": 8,
      "outputs": [
        {
          "output_type": "execute_result",
          "data": {
            "text/plain": [
              "battery_power    0.200723\n",
              "blue             0.020573\n",
              "clock_speed     -0.006606\n",
              "dual_sim         0.017444\n",
              "fc               0.021998\n",
              "four_g           0.014772\n",
              "int_memory       0.044435\n",
              "m_dep            0.000853\n",
              "mobile_wt       -0.030302\n",
              "n_cores          0.004399\n",
              "pc               0.033599\n",
              "px_height        0.148858\n",
              "px_width         0.165818\n",
              "ram              0.917046\n",
              "sc_h             0.022986\n",
              "sc_w             0.038711\n",
              "talk_time        0.021859\n",
              "three_g          0.023611\n",
              "touch_screen    -0.030411\n",
              "wifi             0.018785\n",
              "price_range      1.000000\n",
              "Name: price_range, dtype: float64"
            ]
          },
          "metadata": {},
          "execution_count": 8
        }
      ]
    },
    {
      "cell_type": "markdown",
      "source": [
        "# **SPLITTING**"
      ],
      "metadata": {
        "id": "LHivvgqpqNXU"
      }
    },
    {
      "cell_type": "markdown",
      "source": [
        "Data is split into train and test data sets"
      ],
      "metadata": {
        "id": "obMxu9erdua6"
      }
    },
    {
      "cell_type": "code",
      "source": [
        "mobileData1=mobileData.drop(columns=['price_range'])\n",
        "X=mobileData1.values\n",
        "y=mobileData['price_range'].values"
      ],
      "metadata": {
        "id": "RJ4EX15aqR5a"
      },
      "execution_count": 9,
      "outputs": []
    },
    {
      "cell_type": "code",
      "source": [
        "X_train,X_test,y_train,y_test=train_test_split(X,y,test_size=0.2,random_state=9)"
      ],
      "metadata": {
        "id": "I9iQCOhJuaTM"
      },
      "execution_count": 10,
      "outputs": []
    },
    {
      "cell_type": "code",
      "source": [
        "X_train.shape,X_test.shape"
      ],
      "metadata": {
        "colab": {
          "base_uri": "https://localhost:8080/",
          "height": 0
        },
        "id": "rp6Zt0dIuzq0",
        "outputId": "d5e141c2-fb0b-4f3f-b788-106070f73b5a"
      },
      "execution_count": 11,
      "outputs": [
        {
          "output_type": "execute_result",
          "data": {
            "text/plain": [
              "((1600, 20), (400, 20))"
            ]
          },
          "metadata": {},
          "execution_count": 11
        }
      ]
    },
    {
      "cell_type": "code",
      "source": [
        "X_train"
      ],
      "metadata": {
        "colab": {
          "base_uri": "https://localhost:8080/",
          "height": 0
        },
        "id": "-sMFRSudu48w",
        "outputId": "eb901704-e6cd-4e5c-cfdd-f80533447fdf"
      },
      "execution_count": 12,
      "outputs": [
        {
          "output_type": "execute_result",
          "data": {
            "text/plain": [
              "array([[1.836e+03, 0.000e+00, 1.100e+00, ..., 1.000e+00, 1.000e+00,\n",
              "        1.000e+00],\n",
              "       [1.783e+03, 0.000e+00, 2.900e+00, ..., 0.000e+00, 1.000e+00,\n",
              "        0.000e+00],\n",
              "       [1.745e+03, 0.000e+00, 1.500e+00, ..., 1.000e+00, 1.000e+00,\n",
              "        1.000e+00],\n",
              "       ...,\n",
              "       [9.550e+02, 0.000e+00, 5.000e-01, ..., 1.000e+00, 1.000e+00,\n",
              "        1.000e+00],\n",
              "       [8.690e+02, 1.000e+00, 1.000e+00, ..., 1.000e+00, 0.000e+00,\n",
              "        0.000e+00],\n",
              "       [1.809e+03, 1.000e+00, 1.700e+00, ..., 1.000e+00, 0.000e+00,\n",
              "        1.000e+00]])"
            ]
          },
          "metadata": {},
          "execution_count": 12
        }
      ]
    },
    {
      "cell_type": "code",
      "source": [
        "y_train"
      ],
      "metadata": {
        "colab": {
          "base_uri": "https://localhost:8080/",
          "height": 0
        },
        "id": "MZq6w8FKu450",
        "outputId": "6503a4dd-daba-4779-f9aa-0f241d545d7d"
      },
      "execution_count": 13,
      "outputs": [
        {
          "output_type": "execute_result",
          "data": {
            "text/plain": [
              "array([2, 1, 3, ..., 1, 2, 2])"
            ]
          },
          "metadata": {},
          "execution_count": 13
        }
      ]
    },
    {
      "cell_type": "code",
      "source": [
        "scaler=StandardScaler()\n",
        "X_train_scale=scaler.fit_transform(X_train)\n",
        "X_test_scale=scaler.transform(X_test)"
      ],
      "metadata": {
        "id": "xWsF0BLtyJ0W"
      },
      "execution_count": 14,
      "outputs": []
    },
    {
      "cell_type": "markdown",
      "source": [
        "# **Logistic Regression**"
      ],
      "metadata": {
        "id": "ZBgrzKrTyUiP"
      }
    },
    {
      "cell_type": "markdown",
      "source": [
        "We apply Logistic Regression on train dataset and predicted values for the test data set"
      ],
      "metadata": {
        "id": "60WZ9zRCebwm"
      }
    },
    {
      "cell_type": "code",
      "source": [
        "lr=LogisticRegression()\n",
        "lr.fit(X_train_scale,y_train)"
      ],
      "metadata": {
        "colab": {
          "base_uri": "https://localhost:8080/",
          "height": 0
        },
        "id": "44kifOC1yXhs",
        "outputId": "5959e7c9-09d1-4ad9-ae1e-1507f6089371"
      },
      "execution_count": 15,
      "outputs": [
        {
          "output_type": "execute_result",
          "data": {
            "text/plain": [
              "LogisticRegression()"
            ]
          },
          "metadata": {},
          "execution_count": 15
        }
      ]
    },
    {
      "cell_type": "code",
      "source": [
        "lr_pred=lr.predict(X_test_scale)\n",
        "lr_pred"
      ],
      "metadata": {
        "colab": {
          "base_uri": "https://localhost:8080/",
          "height": 0
        },
        "id": "AEZdq6iC2XCv",
        "outputId": "bef3f300-aec3-4e1d-fbb8-26c0e2284721"
      },
      "execution_count": 16,
      "outputs": [
        {
          "output_type": "execute_result",
          "data": {
            "text/plain": [
              "array([1, 0, 1, 3, 2, 2, 0, 0, 2, 3, 1, 0, 1, 0, 2, 1, 2, 2, 0, 3, 3, 1,\n",
              "       0, 2, 2, 2, 1, 3, 0, 1, 1, 1, 0, 1, 0, 1, 3, 1, 3, 3, 3, 3, 0, 0,\n",
              "       0, 2, 0, 3, 2, 3, 0, 2, 3, 3, 1, 0, 2, 2, 2, 3, 0, 1, 0, 0, 1, 1,\n",
              "       2, 3, 0, 0, 1, 3, 3, 3, 0, 1, 3, 2, 1, 0, 2, 0, 0, 1, 3, 0, 2, 0,\n",
              "       3, 0, 1, 1, 0, 3, 2, 3, 3, 1, 3, 3, 1, 1, 0, 0, 0, 3, 2, 3, 1, 2,\n",
              "       3, 2, 0, 1, 3, 0, 3, 2, 1, 0, 2, 2, 2, 3, 2, 2, 1, 2, 1, 3, 3, 1,\n",
              "       2, 0, 3, 0, 2, 0, 2, 1, 3, 3, 3, 2, 3, 0, 3, 0, 2, 2, 0, 3, 3, 1,\n",
              "       0, 1, 2, 3, 3, 3, 2, 1, 0, 3, 3, 2, 2, 1, 0, 2, 1, 2, 2, 2, 3, 1,\n",
              "       3, 3, 2, 2, 0, 0, 0, 2, 1, 2, 0, 3, 3, 2, 1, 1, 0, 1, 3, 2, 1, 0,\n",
              "       3, 3, 1, 2, 1, 2, 0, 3, 2, 3, 0, 1, 0, 0, 3, 3, 0, 1, 2, 0, 2, 0,\n",
              "       0, 3, 3, 2, 0, 3, 0, 0, 0, 3, 1, 1, 3, 1, 2, 2, 1, 1, 3, 1, 0, 2,\n",
              "       0, 0, 1, 1, 3, 3, 0, 1, 1, 3, 0, 3, 1, 2, 3, 2, 1, 1, 2, 0, 1, 0,\n",
              "       2, 1, 1, 0, 0, 0, 1, 2, 1, 0, 1, 1, 0, 2, 3, 2, 1, 0, 0, 2, 3, 3,\n",
              "       1, 1, 3, 1, 0, 0, 3, 3, 1, 1, 1, 0, 0, 3, 0, 1, 0, 3, 0, 2, 0, 1,\n",
              "       3, 0, 0, 1, 2, 3, 1, 2, 0, 1, 3, 1, 2, 3, 2, 3, 1, 1, 2, 2, 1, 2,\n",
              "       2, 3, 1, 2, 3, 3, 0, 2, 2, 0, 0, 2, 0, 1, 3, 2, 2, 1, 3, 0, 3, 2,\n",
              "       0, 0, 2, 0, 0, 1, 0, 1, 3, 0, 1, 2, 2, 1, 3, 2, 2, 3, 2, 2, 1, 0,\n",
              "       3, 1, 0, 3, 1, 0, 3, 2, 0, 0, 2, 1, 2, 2, 2, 3, 1, 0, 0, 2, 1, 3,\n",
              "       3, 1, 1, 2])"
            ]
          },
          "metadata": {},
          "execution_count": 16
        }
      ]
    },
    {
      "cell_type": "code",
      "source": [
        "lr_score=accuracy_score(lr_pred,y_test)\n",
        "print('Logistic Regression Accuracy',lr_score)\n",
        "print('Logistic Regression Confusion Matrix\\n',confusion_matrix(lr_pred,y_test))\n",
        "print('Logistic Regression Classification Report\\n',classification_report(lr_pred,y_test))"
      ],
      "metadata": {
        "colab": {
          "base_uri": "https://localhost:8080/",
          "height": 0
        },
        "id": "0PU88KUs3FRp",
        "outputId": "d2c3d368-3465-4689-9727-ec4b140529db"
      },
      "execution_count": 17,
      "outputs": [
        {
          "output_type": "stream",
          "name": "stdout",
          "text": [
            "Logistic Regression Accuracy 0.955\n",
            "Logistic Regression Confusion Matrix\n",
            " [[101   4   0   0]\n",
            " [  5  92   2   0]\n",
            " [  0   1  93   3]\n",
            " [  0   0   3  96]]\n",
            "Logistic Regression Classification Report\n",
            "               precision    recall  f1-score   support\n",
            "\n",
            "           0       0.95      0.96      0.96       105\n",
            "           1       0.95      0.93      0.94        99\n",
            "           2       0.95      0.96      0.95        97\n",
            "           3       0.97      0.97      0.97        99\n",
            "\n",
            "    accuracy                           0.95       400\n",
            "   macro avg       0.95      0.95      0.95       400\n",
            "weighted avg       0.95      0.95      0.95       400\n",
            "\n"
          ]
        }
      ]
    },
    {
      "cell_type": "markdown",
      "source": [
        "# **KNN**"
      ],
      "metadata": {
        "id": "sCh_37Co7FQ4"
      }
    },
    {
      "cell_type": "markdown",
      "source": [
        "We apply KNN on train dataset and predicted values for the test data set"
      ],
      "metadata": {
        "id": "9HInZ1QWkZ3d"
      }
    },
    {
      "cell_type": "code",
      "source": [
        "from sklearn import neighbors\n",
        "knn=KNeighborsClassifier(n_neighbors=50)\n",
        "knn.fit(X_train_scale,y_train)\n",
        "knn_pred=knn.predict(X_test_scale)\n",
        "knn_pred"
      ],
      "metadata": {
        "colab": {
          "base_uri": "https://localhost:8080/",
          "height": 0
        },
        "id": "5e2EPc4n7Jwv",
        "outputId": "c3d76ff1-5ad6-4feb-dec1-0f8886125695"
      },
      "execution_count": 18,
      "outputs": [
        {
          "output_type": "execute_result",
          "data": {
            "text/plain": [
              "array([0, 1, 2, 3, 2, 1, 0, 0, 2, 3, 0, 0, 0, 0, 2, 1, 0, 2, 0, 3, 3, 1,\n",
              "       0, 2, 1, 1, 0, 3, 0, 1, 0, 2, 0, 0, 0, 0, 3, 2, 3, 3, 3, 3, 0, 1,\n",
              "       0, 1, 0, 3, 3, 3, 0, 2, 3, 3, 1, 0, 2, 0, 2, 3, 0, 0, 1, 1, 1, 2,\n",
              "       2, 2, 0, 0, 0, 3, 3, 2, 0, 0, 2, 1, 0, 1, 1, 0, 0, 1, 3, 0, 3, 0,\n",
              "       3, 0, 1, 2, 0, 3, 2, 3, 2, 1, 3, 3, 2, 2, 2, 0, 0, 3, 2, 3, 0, 0,\n",
              "       2, 3, 0, 1, 3, 0, 2, 2, 1, 0, 2, 1, 3, 3, 2, 0, 2, 2, 2, 3, 3, 1,\n",
              "       2, 0, 3, 1, 2, 1, 2, 0, 2, 3, 3, 3, 3, 1, 2, 0, 2, 2, 0, 3, 2, 1,\n",
              "       0, 2, 2, 2, 1, 3, 2, 0, 0, 3, 3, 2, 3, 1, 0, 1, 1, 2, 1, 3, 3, 1,\n",
              "       2, 3, 2, 2, 0, 0, 0, 2, 1, 2, 1, 3, 3, 1, 1, 2, 0, 2, 3, 2, 2, 1,\n",
              "       3, 2, 1, 2, 0, 3, 0, 3, 2, 2, 0, 1, 0, 0, 2, 3, 0, 1, 2, 1, 2, 0,\n",
              "       0, 3, 3, 1, 0, 3, 0, 0, 1, 3, 2, 1, 3, 0, 2, 2, 0, 2, 2, 1, 0, 2,\n",
              "       0, 0, 0, 1, 3, 1, 0, 0, 1, 3, 1, 3, 1, 3, 3, 2, 0, 1, 3, 1, 2, 0,\n",
              "       2, 1, 3, 0, 1, 0, 2, 2, 0, 0, 0, 0, 0, 3, 3, 1, 1, 1, 0, 1, 3, 3,\n",
              "       0, 1, 3, 1, 0, 1, 3, 3, 1, 0, 1, 0, 0, 3, 0, 2, 0, 2, 0, 2, 0, 0,\n",
              "       2, 1, 0, 1, 1, 1, 1, 3, 0, 1, 3, 0, 2, 2, 1, 2, 0, 2, 2, 2, 1, 1,\n",
              "       1, 2, 1, 0, 3, 2, 0, 3, 1, 0, 0, 2, 0, 0, 3, 3, 2, 2, 3, 0, 3, 1,\n",
              "       0, 0, 2, 0, 0, 1, 0, 1, 3, 2, 3, 2, 2, 1, 3, 1, 2, 2, 2, 1, 2, 0,\n",
              "       3, 2, 0, 3, 2, 0, 3, 2, 0, 0, 2, 0, 3, 3, 1, 3, 2, 0, 0, 3, 1, 3,\n",
              "       2, 3, 1, 1])"
            ]
          },
          "metadata": {},
          "execution_count": 18
        }
      ]
    },
    {
      "cell_type": "code",
      "source": [
        "knn_score=accuracy_score(knn_pred,y_test)\n",
        "print('KNN Accuracy',knn_score)\n",
        "print('KNN Confusion Matrix\\n',confusion_matrix(knn_pred,y_test))\n",
        "print('KNN Classification Report\\n',classification_report(knn_pred,y_test))"
      ],
      "metadata": {
        "colab": {
          "base_uri": "https://localhost:8080/",
          "height": 0
        },
        "id": "ItpORqZv7YQR",
        "outputId": "3d4bbea9-023a-4f68-b29a-ef58d4ae6083"
      },
      "execution_count": 19,
      "outputs": [
        {
          "output_type": "stream",
          "name": "stdout",
          "text": [
            "KNN Accuracy 0.615\n",
            "KNN Confusion Matrix\n",
            " [[85 30  5  0]\n",
            " [19 40 24  3]\n",
            " [ 2 24 50 25]\n",
            " [ 0  3 19 71]]\n",
            "KNN Classification Report\n",
            "               precision    recall  f1-score   support\n",
            "\n",
            "           0       0.80      0.71      0.75       120\n",
            "           1       0.41      0.47      0.44        86\n",
            "           2       0.51      0.50      0.50       101\n",
            "           3       0.72      0.76      0.74        93\n",
            "\n",
            "    accuracy                           0.61       400\n",
            "   macro avg       0.61      0.61      0.61       400\n",
            "weighted avg       0.62      0.61      0.62       400\n",
            "\n"
          ]
        }
      ]
    },
    {
      "cell_type": "markdown",
      "source": [
        "# **SVM** kernel=linear"
      ],
      "metadata": {
        "id": "SDDsYiNl9u8L"
      }
    },
    {
      "cell_type": "markdown",
      "source": [
        "We apply SVM Classifier with kernel linear on train dataset and predicted values for the test data set"
      ],
      "metadata": {
        "id": "neOWcI26kozj"
      }
    },
    {
      "cell_type": "code",
      "source": [
        "svm_lr=svm.SVC(kernel='linear')\n",
        "svm_lr.fit(X_train_scale,y_train)\n",
        "svmlr_pred=svm_lr.predict(X_test_scale)\n",
        "svmlr_pred"
      ],
      "metadata": {
        "colab": {
          "base_uri": "https://localhost:8080/",
          "height": 0
        },
        "id": "h7Z6KGFO8thd",
        "outputId": "22ca2d72-0b96-41c6-d0ad-db7a76db34cf"
      },
      "execution_count": 20,
      "outputs": [
        {
          "output_type": "execute_result",
          "data": {
            "text/plain": [
              "array([1, 0, 1, 3, 2, 2, 0, 0, 2, 3, 1, 0, 1, 0, 2, 1, 2, 2, 0, 3, 3, 1,\n",
              "       0, 2, 2, 2, 1, 3, 0, 1, 1, 1, 0, 1, 0, 1, 3, 1, 3, 3, 3, 3, 0, 0,\n",
              "       0, 2, 0, 3, 2, 3, 0, 2, 3, 3, 1, 0, 2, 2, 3, 3, 0, 1, 0, 0, 1, 1,\n",
              "       2, 3, 0, 0, 1, 3, 3, 3, 0, 1, 3, 2, 1, 0, 2, 0, 0, 1, 3, 0, 2, 0,\n",
              "       3, 0, 1, 1, 0, 3, 1, 3, 3, 1, 3, 3, 1, 1, 0, 0, 0, 2, 2, 3, 1, 2,\n",
              "       3, 1, 0, 1, 3, 0, 3, 2, 1, 0, 2, 2, 2, 3, 2, 2, 1, 2, 1, 3, 3, 1,\n",
              "       2, 0, 3, 0, 2, 0, 2, 1, 3, 3, 3, 2, 3, 0, 3, 0, 2, 2, 0, 3, 3, 1,\n",
              "       0, 1, 2, 3, 3, 3, 2, 1, 0, 3, 3, 2, 2, 1, 0, 2, 1, 2, 2, 1, 3, 1,\n",
              "       3, 3, 2, 1, 0, 0, 0, 2, 1, 2, 0, 3, 3, 2, 1, 1, 0, 1, 3, 2, 1, 0,\n",
              "       3, 3, 1, 2, 1, 2, 0, 3, 2, 3, 0, 1, 0, 0, 3, 3, 0, 1, 2, 0, 2, 0,\n",
              "       0, 3, 3, 2, 0, 3, 0, 0, 0, 3, 1, 1, 3, 1, 2, 2, 1, 1, 3, 1, 0, 2,\n",
              "       0, 0, 0, 1, 3, 3, 0, 1, 1, 3, 0, 3, 1, 2, 3, 2, 1, 1, 2, 0, 1, 0,\n",
              "       2, 1, 1, 0, 0, 0, 1, 2, 1, 0, 1, 1, 0, 2, 3, 2, 1, 0, 0, 2, 3, 3,\n",
              "       1, 1, 3, 1, 0, 0, 3, 3, 1, 1, 1, 0, 0, 3, 0, 1, 0, 3, 0, 2, 0, 2,\n",
              "       3, 0, 0, 1, 2, 3, 1, 2, 0, 1, 3, 1, 2, 3, 2, 3, 1, 1, 2, 2, 1, 2,\n",
              "       2, 3, 1, 2, 3, 3, 0, 2, 2, 0, 0, 2, 0, 1, 3, 2, 2, 1, 3, 0, 3, 2,\n",
              "       0, 0, 2, 0, 0, 1, 0, 1, 3, 0, 1, 2, 2, 1, 3, 2, 2, 3, 2, 2, 1, 0,\n",
              "       3, 1, 0, 3, 1, 0, 3, 2, 0, 0, 2, 1, 2, 2, 2, 3, 1, 0, 0, 2, 1, 3,\n",
              "       3, 1, 1, 2])"
            ]
          },
          "metadata": {},
          "execution_count": 20
        }
      ]
    },
    {
      "cell_type": "code",
      "source": [
        "svmlr_score=accuracy_score(svmlr_pred,y_test)\n",
        "print('SVC_linear Accuracy',svmlr_score)\n",
        "print('SVC_linear confusion_matrix\\n',confusion_matrix(svmlr_pred,y_test))\n",
        "print('SVC_linear classification_report\\n', classification_report(svmlr_pred,y_test))\n"
      ],
      "metadata": {
        "colab": {
          "base_uri": "https://localhost:8080/",
          "height": 0
        },
        "id": "FG9MbGJHMMUQ",
        "outputId": "dba4232c-05f2-4014-9863-3422add5760b"
      },
      "execution_count": 21,
      "outputs": [
        {
          "output_type": "stream",
          "name": "stdout",
          "text": [
            "SVC_linear Accuracy 0.95\n",
            "SVC_linear confusion_matrix\n",
            " [[102   4   0   0]\n",
            " [  4  92   5   0]\n",
            " [  0   1  90   3]\n",
            " [  0   0   3  96]]\n",
            "SVC_linear classification_report\n",
            "               precision    recall  f1-score   support\n",
            "\n",
            "           0       0.96      0.96      0.96       106\n",
            "           1       0.95      0.91      0.93       101\n",
            "           2       0.92      0.96      0.94        94\n",
            "           3       0.97      0.97      0.97        99\n",
            "\n",
            "    accuracy                           0.95       400\n",
            "   macro avg       0.95      0.95      0.95       400\n",
            "weighted avg       0.95      0.95      0.95       400\n",
            "\n"
          ]
        }
      ]
    },
    {
      "cell_type": "markdown",
      "source": [
        "# **SVM kernel=rbf**"
      ],
      "metadata": {
        "id": "iYHRfApbm2Lz"
      }
    },
    {
      "cell_type": "markdown",
      "source": [
        "We apply SVM Classifier with kernel rbf on train dataset and predicted values for the test data set"
      ],
      "metadata": {
        "id": "BoeNSxbamp66"
      }
    },
    {
      "cell_type": "code",
      "source": [
        "svm_rbf=svm.SVC(kernel='rbf')\n",
        "svm_rbf.fit(X_train_scale,y_train)\n",
        "svmrbf_pred=svm_rbf.predict(X_test_scale)\n"
      ],
      "metadata": {
        "id": "iKGw-HeiMiYY"
      },
      "execution_count": 22,
      "outputs": []
    },
    {
      "cell_type": "code",
      "source": [
        "svmrbf_score=accuracy_score(svmrbf_pred,y_test)\n",
        "print('SVC kernel=rbf',svmrbf_score)\n",
        "print('SVC_rbf confusion_matrix\\n',confusion_matrix(svmrbf_pred,y_test))\n",
        "print('SVC_rbf classification_report\\n',classification_report(svmrbf_pred,y_test))"
      ],
      "metadata": {
        "colab": {
          "base_uri": "https://localhost:8080/",
          "height": 0
        },
        "id": "zKqyWZONMyOw",
        "outputId": "8f60ab59-29d9-4e31-bf8f-90bd52d99f26"
      },
      "execution_count": 23,
      "outputs": [
        {
          "output_type": "stream",
          "name": "stdout",
          "text": [
            "SVC kernel=rbf 0.84\n",
            "SVC_rbf confusion_matrix\n",
            " [[93 10  0  0]\n",
            " [13 75 15  0]\n",
            " [ 0 12 78  9]\n",
            " [ 0  0  5 90]]\n",
            "SVC_rbf classification_report\n",
            "               precision    recall  f1-score   support\n",
            "\n",
            "           0       0.88      0.90      0.89       103\n",
            "           1       0.77      0.73      0.75       103\n",
            "           2       0.80      0.79      0.79        99\n",
            "           3       0.91      0.95      0.93        95\n",
            "\n",
            "    accuracy                           0.84       400\n",
            "   macro avg       0.84      0.84      0.84       400\n",
            "weighted avg       0.84      0.84      0.84       400\n",
            "\n"
          ]
        }
      ]
    },
    {
      "cell_type": "markdown",
      "source": [
        "# **Best Model selection based on accuracy**\n",
        "\n",
        "\n",
        "\n",
        "\n"
      ],
      "metadata": {
        "id": "g7cEQi1WntMM"
      }
    },
    {
      "cell_type": "code",
      "source": [
        "Scores=[lr_score,svmlr_score,svmrbf_score,knn_score]\n",
        "plt.bar(['Log_Reg','SVC_lin','SVC_rbf','KNN'],Scores)\n",
        "plt.show()"
      ],
      "metadata": {
        "colab": {
          "base_uri": "https://localhost:8080/",
          "height": 270
        },
        "id": "8EMGUr-bn7J_",
        "outputId": "fba91ae1-7a06-4a56-d0e1-6eea7670e0c8"
      },
      "execution_count": 24,
      "outputs": [
        {
          "output_type": "display_data",
          "data": {
            "text/plain": [
              "<Figure size 432x288 with 1 Axes>"
            ],
            "image/png": "[encoded data removed]"
          },
          "metadata": {
            "needs_background": "light"
          }
        }
      ]
    },
    {
      "cell_type": "markdown",
      "source": [
        "***THE MODEL WITH THE BEST ACCURACY IS LOGISTIC REGRESSION ***"
      ],
      "metadata": {
        "id": "3tEOZWVL0DDh"
      }
    }
  ]
}