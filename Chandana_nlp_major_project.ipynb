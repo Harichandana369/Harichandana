{
  "nbformat": 4,
  "nbformat_minor": 0,
  "metadata": {
    "colab": {
      "name": "Chandana_nlp_major project",
      "provenance": [],
      "collapsed_sections": [],
      "toc_visible": true,
      "authorship_tag": "ABX9TyN3Lte56VxiE0M6nm4xncve"
    },
    "kernelspec": {
      "name": "python3",
      "display_name": "Python 3"
    },
    "language_info": {
      "name": "python"
    }
  },
  "cells": [
    {
      "cell_type": "markdown",
      "source": [
        "**Problem statement: Create a classification model to predict the sentiment** **either (Positive or Negative) based on Covid Tweets**"
      ],
      "metadata": {
        "id": "RnupG8sE4Z8q"
      }
    },
    {
      "cell_type": "code",
      "execution_count": 1,
      "metadata": {
        "id": "sXMHQQdbYI_B",
        "colab": {
          "base_uri": "https://localhost:8080/"
        },
        "outputId": "5b69f90c-9df8-477d-db1f-d7ea38ee8ccd"
      },
      "outputs": [
        {
          "output_type": "stream",
          "name": "stderr",
          "text": [
            "[nltk_data] Downloading package punkt to /root/nltk_data...\n",
            "[nltk_data]   Package punkt is already up-to-date!\n",
            "[nltk_data] Downloading package stopwords to /root/nltk_data...\n",
            "[nltk_data]   Package stopwords is already up-to-date!\n",
            "[nltk_data] Downloading package omw-1.4 to /root/nltk_data...\n",
            "[nltk_data]   Package omw-1.4 is already up-to-date!\n"
          ]
        },
        {
          "output_type": "execute_result",
          "data": {
            "text/plain": [
              "True"
            ]
          },
          "metadata": {},
          "execution_count": 1
        }
      ],
      "source": [
        "import pandas as pd\n",
        "import numpy as np\n",
        "import seaborn as sns\n",
        "import matplotlib.pyplot as plt\n",
        "import re\n",
        "import nltk\n",
        "nltk.download('punkt')\n",
        "nltk.download('stopwords')\n",
        "from nltk.corpus import stopwords\n",
        "from nltk import word_tokenize\n",
        "nltk.download('omw-1.4')"
      ]
    },
    {
      "cell_type": "markdown",
      "source": [
        "**1)Read the dataset with encoding parameter set to ‘latin1’**"
      ],
      "metadata": {
        "id": "c4sBmx-z5Atn"
      }
    },
    {
      "cell_type": "code",
      "source": [
        "data = pd.read_csv(\"Corona_NLP.csv\",encoding='latin1')\n"
      ],
      "metadata": {
        "id": "iEq76E8nau1t"
      },
      "execution_count": 2,
      "outputs": []
    },
    {
      "cell_type": "code",
      "source": [
        "df=pd.DataFrame(data)"
      ],
      "metadata": {
        "id": "EWulQbqtbbvv"
      },
      "execution_count": 3,
      "outputs": []
    },
    {
      "cell_type": "code",
      "source": [
        "plt.figure(figsize=(10,5))\n",
        "sns.countplot(x='Sentiment', data=df, order=['Extremely Negative', 'Negative', 'Neutral', 'Positive', 'Extremely Positive'], )\n"
      ],
      "metadata": {
        "id": "zyrJAjAVbobH",
        "colab": {
          "base_uri": "https://localhost:8080/",
          "height": 352
        },
        "outputId": "175474d6-e8b2-473d-bd81-012ddc545446"
      },
      "execution_count": 4,
      "outputs": [
        {
          "output_type": "execute_result",
          "data": {
            "text/plain": [
              "<matplotlib.axes._subplots.AxesSubplot at 0x7f75727aadd0>"
            ]
          },
          "metadata": {},
          "execution_count": 4
        },
        {
          "output_type": "display_data",
          "data": {
            "text/plain": [
              "<Figure size 720x360 with 1 Axes>"
            ],
            "image/png": "[encoded data removed]"
          },
          "metadata": {
            "needs_background": "light"
          }
        }
      ]
    },
    {
      "cell_type": "markdown",
      "source": [
        "**2)Remove handle null values (if any).**"
      ],
      "metadata": {
        "id": "wghp4BSE5Kzg"
      }
    },
    {
      "cell_type": "code",
      "source": [
        "df.info()"
      ],
      "metadata": {
        "id": "Kl8my3FxcBBx",
        "colab": {
          "base_uri": "https://localhost:8080/"
        },
        "outputId": "0fbab50d-cd06-416f-fe29-b59a6a8ade57"
      },
      "execution_count": 5,
      "outputs": [
        {
          "output_type": "stream",
          "name": "stdout",
          "text": [
            "<class 'pandas.core.frame.DataFrame'>\n",
            "RangeIndex: 41157 entries, 0 to 41156\n",
            "Data columns (total 6 columns):\n",
            " #   Column         Non-Null Count  Dtype \n",
            "---  ------         --------------  ----- \n",
            " 0   UserName       41157 non-null  int64 \n",
            " 1   ScreenName     41157 non-null  int64 \n",
            " 2   Location       32567 non-null  object\n",
            " 3   TweetAt        41157 non-null  object\n",
            " 4   OriginalTweet  41157 non-null  object\n",
            " 5   Sentiment      41157 non-null  object\n",
            "dtypes: int64(2), object(4)\n",
            "memory usage: 1.9+ MB\n"
          ]
        }
      ]
    },
    {
      "cell_type": "markdown",
      "source": [
        "**3)Preprocess the Covid tweets based on the following parameter:**       \n",
        "a) Tokenizing words                                                \n",
        "b) Convert words to lower case                                         \n",
        "c) Removing Punctuations                                                          \n",
        "d) Removing Stop words                                                           \n",
        "e) Stemming or lemmatizing the words"
      ],
      "metadata": {
        "id": "NeKhEaJ-5ODK"
      }
    },
    {
      "cell_type": "markdown",
      "source": [
        "**Removing Punctuations**"
      ],
      "metadata": {
        "id": "L5pfgusl5q4N"
      }
    },
    {
      "cell_type": "code",
      "source": [
        "reg = re.compile(\"(@[A-Za-z0-9]+)|(#[A-Za-z0-9]+)|([^0-9A-Za-z t])|(w+://S+)\")\n",
        "tweet = []\n",
        "for i in df[\"OriginalTweet\"]:\n",
        "  tweet.append(reg.sub(\" \", i))\n",
        "df = pd.concat([df, pd.DataFrame(tweet, columns=[\"ProcessedTweet\"])], axis=1, sort=False)"
      ],
      "metadata": {
        "id": "7o3ejy_ReQZy"
      },
      "execution_count": 6,
      "outputs": []
    },
    {
      "cell_type": "code",
      "source": [
        "df.head()\n"
      ],
      "metadata": {
        "id": "DphG7UNUejfZ",
        "colab": {
          "base_uri": "https://localhost:8080/",
          "height": 337
        },
        "outputId": "40b00f21-60ee-48a8-8464-a29375770f46"
      },
      "execution_count": 7,
      "outputs": [
        {
          "output_type": "execute_result",
          "data": {
            "text/plain": [
              "   UserName  ScreenName   Location     TweetAt  \\\n",
              "0      3799       48751     London  16-03-2020   \n",
              "1      3800       48752         UK  16-03-2020   \n",
              "2      3801       48753  Vagabonds  16-03-2020   \n",
              "3      3802       48754        NaN  16-03-2020   \n",
              "4      3803       48755        NaN  16-03-2020   \n",
              "\n",
              "                                       OriginalTweet           Sentiment  \\\n",
              "0  @MeNyrbie @Phil_Gahan @Chrisitv https://t.co/i...             Neutral   \n",
              "1  advice Talk to your neighbours family to excha...            Positive   \n",
              "2  Coronavirus Australia: Woolworths to give elde...            Positive   \n",
              "3  My food stock is not the only one which is emp...            Positive   \n",
              "4  Me, ready to go at supermarket during the #COV...  Extremely Negative   \n",
              "\n",
              "                                      ProcessedTweet  \n",
              "0      Gahan   https   t co iFz9FAn2Pa and https ...  \n",
              "1  advice Talk to your neighbours family to excha...  \n",
              "2  Coronavirus Australia  Woolworths to give elde...  \n",
              "3  My food stock is not the only one which is emp...  \n",
              "4  Me  ready to go at supermarket during the   ou...  "
            ],
            "text/html": [
              "\n",
              "  <div id=\"df-3642f1e9-8f94-4fa6-abf7-119b0b90f62b\">\n",
              "    <div class=\"colab-df-container\">\n",
              "      <div>\n",
              "<style scoped>\n",
              "    .dataframe tbody tr th:only-of-type {\n",
              "        vertical-align: middle;\n",
              "    }\n",
              "\n",
              "    .dataframe tbody tr th {\n",
              "        vertical-align: top;\n",
              "    }\n",
              "\n",
              "    .dataframe thead th {\n",
              "        text-align: right;\n",
              "    }\n",
              "</style>\n",
              "<table border=\"1\" class=\"dataframe\">\n",
              "  <thead>\n",
              "    <tr style=\"text-align: right;\">\n",
              "      <th></th>\n",
              "      <th>UserName</th>\n",
              "      <th>ScreenName</th>\n",
              "      <th>Location</th>\n",
              "      <th>TweetAt</th>\n",
              "      <th>OriginalTweet</th>\n",
              "      <th>Sentiment</th>\n",
              "      <th>ProcessedTweet</th>\n",
              "    </tr>\n",
              "  </thead>\n",
              "  <tbody>\n",
              "    <tr>\n",
              "      <th>0</th>\n",
              "      <td>3799</td>\n",
              "      <td>48751</td>\n",
              "      <td>London</td>\n",
              "      <td>16-03-2020</td>\n",
              "      <td>@MeNyrbie @Phil_Gahan @Chrisitv https://t.co/i...</td>\n",
              "      <td>Neutral</td>\n",
              "      <td>Gahan   https   t co iFz9FAn2Pa and https ...</td>\n",
              "    </tr>\n",
              "    <tr>\n",
              "      <th>1</th>\n",
              "      <td>3800</td>\n",
              "      <td>48752</td>\n",
              "      <td>UK</td>\n",
              "      <td>16-03-2020</td>\n",
              "      <td>advice Talk to your neighbours family to excha...</td>\n",
              "      <td>Positive</td>\n",
              "      <td>advice Talk to your neighbours family to excha...</td>\n",
              "    </tr>\n",
              "    <tr>\n",
              "      <th>2</th>\n",
              "      <td>3801</td>\n",
              "      <td>48753</td>\n",
              "      <td>Vagabonds</td>\n",
              "      <td>16-03-2020</td>\n",
              "      <td>Coronavirus Australia: Woolworths to give elde...</td>\n",
              "      <td>Positive</td>\n",
              "      <td>Coronavirus Australia  Woolworths to give elde...</td>\n",
              "    </tr>\n",
              "    <tr>\n",
              "      <th>3</th>\n",
              "      <td>3802</td>\n",
              "      <td>48754</td>\n",
              "      <td>NaN</td>\n",
              "      <td>16-03-2020</td>\n",
              "      <td>My food stock is not the only one which is emp...</td>\n",
              "      <td>Positive</td>\n",
              "      <td>My food stock is not the only one which is emp...</td>\n",
              "    </tr>\n",
              "    <tr>\n",
              "      <th>4</th>\n",
              "      <td>3803</td>\n",
              "      <td>48755</td>\n",
              "      <td>NaN</td>\n",
              "      <td>16-03-2020</td>\n",
              "      <td>Me, ready to go at supermarket during the #COV...</td>\n",
              "      <td>Extremely Negative</td>\n",
              "      <td>Me  ready to go at supermarket during the   ou...</td>\n",
              "    </tr>\n",
              "  </tbody>\n",
              "</table>\n",
              "</div>\n",
              "      <button class=\"colab-df-convert\" onclick=\"convertToInteractive('df-3642f1e9-8f94-4fa6-abf7-119b0b90f62b')\"\n",
              "              title=\"Convert this dataframe to an interactive table.\"\n",
              "              style=\"display:none;\">\n",
              "        \n",
              "  <svg xmlns=\"http://www.w3.org/2000/svg\" height=\"24px\"viewBox=\"0 0 24 24\"\n",
              "       width=\"24px\">\n",
              "    <path d=\"M0 0h24v24H0V0z\" fill=\"none\"/>\n",
              "    <path d=\"M18.56 5.44l.94 2.06.94-2.06 2.06-.94-2.06-.94-.94-2.06-.94 2.06-2.06.94zm-11 1L8.5 8.5l.94-2.06 2.06-.94-2.06-.94L8.5 2.5l-.94 2.06-2.06.94zm10 10l.94 2.06.94-2.06 2.06-.94-2.06-.94-.94-2.06-.94 2.06-2.06.94z\"/><path d=\"M17.41 7.96l-1.37-1.37c-.4-.4-.92-.59-1.43-.59-.52 0-1.04.2-1.43.59L10.3 9.45l-7.72 7.72c-.78.78-.78 2.05 0 2.83L4 21.41c.39.39.9.59 1.41.59.51 0 1.02-.2 1.41-.59l7.78-7.78 2.81-2.81c.8-.78.8-2.07 0-2.86zM5.41 20L4 18.59l7.72-7.72 1.47 1.35L5.41 20z\"/>\n",
              "  </svg>\n",
              "      </button>\n",
              "      \n",
              "  <style>\n",
              "    .colab-df-container {\n",
              "      display:flex;\n",
              "      flex-wrap:wrap;\n",
              "      gap: 12px;\n",
              "    }\n",
              "\n",
              "    .colab-df-convert {\n",
              "      background-color: #E8F0FE;\n",
              "      border: none;\n",
              "      border-radius: 50%;\n",
              "      cursor: pointer;\n",
              "      display: none;\n",
              "      fill: #1967D2;\n",
              "      height: 32px;\n",
              "      padding: 0 0 0 0;\n",
              "      width: 32px;\n",
              "    }\n",
              "\n",
              "    .colab-df-convert:hover {\n",
              "      background-color: #E2EBFA;\n",
              "      box-shadow: 0px 1px 2px rgba(60, 64, 67, 0.3), 0px 1px 3px 1px rgba(60, 64, 67, 0.15);\n",
              "      fill: #174EA6;\n",
              "    }\n",
              "\n",
              "    [theme=dark] .colab-df-convert {\n",
              "      background-color: #3B4455;\n",
              "      fill: #D2E3FC;\n",
              "    }\n",
              "\n",
              "    [theme=dark] .colab-df-convert:hover {\n",
              "      background-color: #434B5C;\n",
              "      box-shadow: 0px 1px 3px 1px rgba(0, 0, 0, 0.15);\n",
              "      filter: drop-shadow(0px 1px 2px rgba(0, 0, 0, 0.3));\n",
              "      fill: #FFFFFF;\n",
              "    }\n",
              "  </style>\n",
              "\n",
              "      <script>\n",
              "        const buttonEl =\n",
              "          document.querySelector('#df-3642f1e9-8f94-4fa6-abf7-119b0b90f62b button.colab-df-convert');\n",
              "        buttonEl.style.display =\n",
              "          google.colab.kernel.accessAllowed ? 'block' : 'none';\n",
              "\n",
              "        async function convertToInteractive(key) {\n",
              "          const element = document.querySelector('#df-3642f1e9-8f94-4fa6-abf7-119b0b90f62b');\n",
              "          const dataTable =\n",
              "            await google.colab.kernel.invokeFunction('convertToInteractive',\n",
              "                                                     [key], {});\n",
              "          if (!dataTable) return;\n",
              "\n",
              "          const docLinkHtml = 'Like what you see? Visit the ' +\n",
              "            '<a target=\"_blank\" href=https://colab.research.google.com/notebooks/data_table.ipynb>data table notebook</a>'\n",
              "            + ' to learn more about interactive tables.';\n",
              "          element.innerHTML = '';\n",
              "          dataTable['output_type'] = 'display_data';\n",
              "          await google.colab.output.renderOutput(dataTable, element);\n",
              "          const docLink = document.createElement('div');\n",
              "          docLink.innerHTML = docLinkHtml;\n",
              "          element.appendChild(docLink);\n",
              "        }\n",
              "      </script>\n",
              "    </div>\n",
              "  </div>\n",
              "  "
            ]
          },
          "metadata": {},
          "execution_count": 7
        }
      ]
    },
    {
      "cell_type": "markdown",
      "source": [
        "**Convert words to lower case**"
      ],
      "metadata": {
        "id": "xI1uBkOy5y_a"
      }
    },
    {
      "cell_type": "code",
      "source": [
        "df['ProcessedTweet']=[tweet.lower() for tweet in df['ProcessedTweet']]"
      ],
      "metadata": {
        "id": "GtPEP01CkGWA"
      },
      "execution_count": 8,
      "outputs": []
    },
    {
      "cell_type": "markdown",
      "source": [
        "**Removing Stop words**\n",
        "&\n",
        "\n",
        "\n",
        "\n",
        "**Tokenizing words**"
      ],
      "metadata": {
        "id": "969b21w_582L"
      }
    },
    {
      "cell_type": "code",
      "source": [
        "stop_words=stopwords.words('english')"
      ],
      "metadata": {
        "id": "7Nno7fR5EgFC"
      },
      "execution_count": 9,
      "outputs": []
    },
    {
      "cell_type": "code",
      "source": [
        "def remove_stopwords(tw):\n",
        "  tw_tokenised=word_tokenize(tw)\n",
        "  new_tw=\" \".join([i for i in tw_tokenised if i not in stop_words])\n",
        "  return new_tw\n",
        "\n",
        "df['ProcessedTweet']=[remove_stopwords(r) for r in df['ProcessedTweet']]"
      ],
      "metadata": {
        "id": "OohuIP5PEgBO"
      },
      "execution_count": 10,
      "outputs": []
    },
    {
      "cell_type": "code",
      "source": [
        "df['ProcessedTweet']"
      ],
      "metadata": {
        "id": "dQkZR7gHEf3_",
        "colab": {
          "base_uri": "https://localhost:8080/"
        },
        "outputId": "9fe834d1-6254-4d0a-ec6c-a979d2bdd76d"
      },
      "execution_count": 11,
      "outputs": [
        {
          "output_type": "execute_result",
          "data": {
            "text/plain": [
              "0        gahan https co ifz9fan2pa https co xx6ghgfzcc ...\n",
              "1        advice talk neighbours family exchange phone n...\n",
              "2        coronavirus australia woolworths give elderly ...\n",
              "3        food stock one empty please panic enough food ...\n",
              "4        ready go supermarket outbreak paranoid food st...\n",
              "                               ...                        \n",
              "41152    airline pilots offering stock supermarket shel...\n",
              "41153    response complaint provided citing covid 19 re...\n",
              "41154    know getting tough rationing toilet paper mart...\n",
              "41155             wrong smell hand sanitizer starting turn\n",
              "41156    well new used rift going 700 00 amazon rn alth...\n",
              "Name: ProcessedTweet, Length: 41157, dtype: object"
            ]
          },
          "metadata": {},
          "execution_count": 11
        }
      ]
    },
    {
      "cell_type": "markdown",
      "source": [
        " **Stemming or lemmatizing the words**"
      ],
      "metadata": {
        "id": "m4zkxmPF6JIL"
      }
    },
    {
      "cell_type": "code",
      "source": [
        "nltk.download('wordnet')\n",
        "from nltk.stem import WordNetLemmatizer\n",
        "from nltk.corpus import wordnet\n",
        "nltk.download('averaged_perceptron_tagger')"
      ],
      "metadata": {
        "id": "UEI5LfmMEfsR",
        "colab": {
          "base_uri": "https://localhost:8080/"
        },
        "outputId": "04b35bb4-6c82-464d-c56e-3417f787fa80"
      },
      "execution_count": 12,
      "outputs": [
        {
          "output_type": "stream",
          "name": "stderr",
          "text": [
            "[nltk_data] Downloading package wordnet to /root/nltk_data...\n",
            "[nltk_data]   Package wordnet is already up-to-date!\n",
            "[nltk_data] Downloading package averaged_perceptron_tagger to\n",
            "[nltk_data]     /root/nltk_data...\n",
            "[nltk_data]   Package averaged_perceptron_tagger is already up-to-\n",
            "[nltk_data]       date!\n"
          ]
        },
        {
          "output_type": "execute_result",
          "data": {
            "text/plain": [
              "True"
            ]
          },
          "metadata": {},
          "execution_count": 12
        }
      ]
    },
    {
      "cell_type": "code",
      "source": [
        "from nltk.corpus.reader.wordnet import WordNetError\n",
        "lemmatizer=WordNetLemmatizer()\n",
        "def nltk_tag_to_wordnet_tag(nltk_tag):\n",
        "  if nltk_tag.startswith('J'):\n",
        "    return wordnet.ADJ\n",
        "  elif nltk_tag.startswith('V'):\n",
        "    return wordnet.VERB\n",
        "  elif nltk_tag.startswith('N'):\n",
        "    return wordnet.NOUN\n",
        "  elif nltk_tag.startswith('R'):\n",
        "    return wordnet.ADV\n",
        "  else:\n",
        "    None\n",
        "\n",
        "\n",
        "def lemmatize_sentence(sentence):\n",
        "  nltk_tagged=nltk.pos_tag(nltk.word_tokenize(sentence))\n",
        "  word_net_tagged=map(lambda x:(x[0],nltk_tag_to_wordnet_tag(x[1])),nltk_tagged)\n",
        "  lemmatized_sentence=[]\n",
        "  for word,tag in word_net_tagged:\n",
        "    if tag is None:\n",
        "      lemmatized_sentence.append(word)\n",
        "    else:\n",
        "      lemmatized_sentence.append(lemmatizer.lemmatize(word,tag))\n",
        "  return \" \".join(lemmatized_sentence)\n"
      ],
      "metadata": {
        "id": "dmYSVGdNMXs6"
      },
      "execution_count": 13,
      "outputs": []
    },
    {
      "cell_type": "code",
      "source": [
        "df['ProcessedTweet']=df['ProcessedTweet'].apply(lambda x:lemmatize_sentence(x))"
      ],
      "metadata": {
        "id": "_q-2Wvw3MXkL"
      },
      "execution_count": 14,
      "outputs": []
    },
    {
      "cell_type": "code",
      "source": [
        "df['ProcessedTweet']"
      ],
      "metadata": {
        "id": "zypEoW87MXYc",
        "colab": {
          "base_uri": "https://localhost:8080/"
        },
        "outputId": "331cf313-9b27-45bb-cc21-daff72960864"
      },
      "execution_count": 15,
      "outputs": [
        {
          "output_type": "execute_result",
          "data": {
            "text/plain": [
              "0        gahan http co ifz9fan2pa http co xx6ghgfzcc ht...\n",
              "1        advice talk neighbours family exchange phone n...\n",
              "2        coronavirus australia woolworths give elderly ...\n",
              "3        food stock one empty please panic enough food ...\n",
              "4        ready go supermarket outbreak paranoid food st...\n",
              "                               ...                        \n",
              "41152    airline pilot offer stock supermarket shelf lo...\n",
              "41153    response complaint provide cite covid 19 relat...\n",
              "41154    know get tough rationing toilet paper martinsv...\n",
              "41155                wrong smell hand sanitizer start turn\n",
              "41156    well new use rift go 700 00 amazon rn although...\n",
              "Name: ProcessedTweet, Length: 41157, dtype: object"
            ]
          },
          "metadata": {},
          "execution_count": 15
        }
      ]
    },
    {
      "cell_type": "markdown",
      "source": [
        "**Convert the 'Extremely Positive' and 'Extremely Negative' Sentiments to 'Positive' and\n",
        "'Negative' sentiments respectively**\n"
      ],
      "metadata": {
        "id": "elNI2hcC7W0E"
      }
    },
    {
      "cell_type": "code",
      "source": [
        "df['Sentiment'].unique()"
      ],
      "metadata": {
        "id": "Mil3wRPi2AZT",
        "colab": {
          "base_uri": "https://localhost:8080/"
        },
        "outputId": "352ad990-80b1-4789-db53-8635be305e0c"
      },
      "execution_count": 16,
      "outputs": [
        {
          "output_type": "execute_result",
          "data": {
            "text/plain": [
              "array(['Neutral', 'Positive', 'Extremely Negative', 'Negative',\n",
              "       'Extremely Positive'], dtype=object)"
            ]
          },
          "metadata": {},
          "execution_count": 16
        }
      ]
    },
    {
      "cell_type": "code",
      "source": [
        "df['Sentiment']=df.Sentiment.map({'Neutral':1, 'Positive':2, 'Extremely Negative':0, 'Negative':0,\n",
        "       'Extremely Positive':2})"
      ],
      "metadata": {
        "id": "VCiWjW_m2NId"
      },
      "execution_count": 17,
      "outputs": []
    },
    {
      "cell_type": "code",
      "source": [
        "df['Sentiment'].head()"
      ],
      "metadata": {
        "id": "CM_ZvkqF22wV",
        "colab": {
          "base_uri": "https://localhost:8080/"
        },
        "outputId": "38224d01-ab3d-4223-c717-148687d8bd6a"
      },
      "execution_count": 18,
      "outputs": [
        {
          "output_type": "execute_result",
          "data": {
            "text/plain": [
              "0    1\n",
              "1    2\n",
              "2    2\n",
              "3    2\n",
              "4    0\n",
              "Name: Sentiment, dtype: int64"
            ]
          },
          "metadata": {},
          "execution_count": 18
        }
      ]
    },
    {
      "cell_type": "markdown",
      "source": [
        "**Transform the words into vectors**"
      ],
      "metadata": {
        "id": "AW0RrP2l6asi"
      }
    },
    {
      "cell_type": "code",
      "source": [
        "from sklearn.feature_extraction.text import TfidfVectorizer\n",
        "tfidf = TfidfVectorizer(max_features=3000)\n",
        "X=tfidf.fit_transform(df.ProcessedTweet).toarray()\n",
        "y=df['Sentiment'].values"
      ],
      "metadata": {
        "id": "H_pVh_M17-Fp"
      },
      "execution_count": 19,
      "outputs": []
    },
    {
      "cell_type": "markdown",
      "source": [
        "**Split data into training and test data.**"
      ],
      "metadata": {
        "id": "EhK0-ohb70dt"
      }
    },
    {
      "cell_type": "code",
      "source": [
        "from sklearn.model_selection import train_test_split\n",
        "X_train,X_test,y_train,y_test=train_test_split(X,y,test_size=0.2,random_state=9)"
      ],
      "metadata": {
        "id": "oG-XV77S796K"
      },
      "execution_count": 20,
      "outputs": []
    },
    {
      "cell_type": "code",
      "source": [
        "X_train.shape, X_test.shape"
      ],
      "metadata": {
        "id": "JG6wR-Na79qT",
        "colab": {
          "base_uri": "https://localhost:8080/"
        },
        "outputId": "e6e9d6ff-d21f-44af-c782-bf37efccbc92"
      },
      "execution_count": 21,
      "outputs": [
        {
          "output_type": "execute_result",
          "data": {
            "text/plain": [
              "((32925, 3000), (8232, 3000))"
            ]
          },
          "metadata": {},
          "execution_count": 21
        }
      ]
    },
    {
      "cell_type": "markdown",
      "source": [
        "7)Apply the following models on the training dataset and generate the predicted value for the testdataset                                                       \n",
        "a) Multinomial Naïve Bayes Classification                                                                   \n",
        "b) SVM Classification                                                              \n",
        "c) KNN Classification                                                            \n",
        "8)Predict the Sentiment for test data                                             \n",
        "9)Compute Confusion matrix and classification report for each of these models "
      ],
      "metadata": {
        "id": "471MoTCR7-e6"
      }
    },
    {
      "cell_type": "code",
      "source": [
        "from sklearn.metrics import accuracy_score,confusion_matrix,classification_report\n",
        "from sklearn.neighbors import KNeighborsClassifier\n",
        "from sklearn import svm\n",
        "from sklearn.naive_bayes import MultinomialNB"
      ],
      "metadata": {
        "id": "FTUb3a-GeuX9"
      },
      "execution_count": 22,
      "outputs": []
    },
    {
      "cell_type": "markdown",
      "source": [
        "**KNN Classification**"
      ],
      "metadata": {
        "id": "pxRJGQuj8i60"
      }
    },
    {
      "cell_type": "code",
      "source": [
        "knn=KNeighborsClassifier(n_neighbors=800)\n",
        "knn.fit(X_train,y_train)\n",
        "knn_pred=knn.predict(X_test)\n",
        "print(knn_pred)\n",
        "knn_score=accuracy_score(knn_pred,y_test)\n",
        "print('KNN Accuracy',knn_score)\n",
        "print('KNN Confusion Matrix\\n',confusion_matrix(knn_pred,y_test))\n",
        "print('KNN Classification Report\\n',classification_report(knn_pred,y_test))\n",
        "  "
      ],
      "metadata": {
        "id": "cYlNUQtWe2DK",
        "colab": {
          "base_uri": "https://localhost:8080/"
        },
        "outputId": "c70350de-4f39-4779-be79-153c04435ac8"
      },
      "execution_count": 23,
      "outputs": [
        {
          "output_type": "stream",
          "name": "stdout",
          "text": [
            "[2 2 2 ... 0 2 2]\n",
            "KNN Accuracy 0.625485908649174\n",
            "KNN Confusion Matrix\n",
            " [[1671  241  344]\n",
            " [ 224  495  189]\n",
            " [1242  843 2983]]\n",
            "KNN Classification Report\n",
            "               precision    recall  f1-score   support\n",
            "\n",
            "           0       0.53      0.74      0.62      2256\n",
            "           1       0.31      0.55      0.40       908\n",
            "           2       0.85      0.59      0.70      5068\n",
            "\n",
            "    accuracy                           0.63      8232\n",
            "   macro avg       0.56      0.62      0.57      8232\n",
            "weighted avg       0.70      0.63      0.64      8232\n",
            "\n"
          ]
        }
      ]
    },
    {
      "cell_type": "markdown",
      "source": [
        "**Multinomial Naïve Bayes Classification**"
      ],
      "metadata": {
        "id": "K0-m2iOj8mFF"
      }
    },
    {
      "cell_type": "code",
      "source": [
        "NBM=MultinomialNB()\n",
        "NBM.fit(X_train,y_train)\n",
        "NBM_pred=NBM.predict(X_test)\n",
        "print(NBM_pred)\n",
        "NBM_score=accuracy_score(NBM_pred,y_test)\n",
        "print('NBM Accuracy',NBM_score)\n",
        "print('NBM Confusion Matrix\\n',confusion_matrix(NBM_pred,y_test))\n",
        "print('NBM Classification Report\\n',classification_report(NBM_pred,y_test))\n",
        "  "
      ],
      "metadata": {
        "id": "SujwwnTEevo6",
        "colab": {
          "base_uri": "https://localhost:8080/"
        },
        "outputId": "02c54d49-86e9-4ed8-e2f3-6eb8a57bc5a7"
      },
      "execution_count": 24,
      "outputs": [
        {
          "output_type": "stream",
          "name": "stdout",
          "text": [
            "[2 2 2 ... 0 2 0]\n",
            "NBM Accuracy 0.6768707482993197\n",
            "NBM Confusion Matrix\n",
            " [[2239  398  456]\n",
            " [  51  321   48]\n",
            " [ 847  860 3012]]\n",
            "NBM Classification Report\n",
            "               precision    recall  f1-score   support\n",
            "\n",
            "           0       0.71      0.72      0.72      3093\n",
            "           1       0.20      0.76      0.32       420\n",
            "           2       0.86      0.64      0.73      4719\n",
            "\n",
            "    accuracy                           0.68      8232\n",
            "   macro avg       0.59      0.71      0.59      8232\n",
            "weighted avg       0.77      0.68      0.71      8232\n",
            "\n"
          ]
        }
      ]
    },
    {
      "cell_type": "markdown",
      "source": [
        "**SVM Classification**"
      ],
      "metadata": {
        "id": "2cJZbo5BBKMv"
      }
    },
    {
      "cell_type": "code",
      "source": [
        "from sklearn.svm import LinearSVC\n",
        "svm_lr=LinearSVC()\n",
        "svm_lr.fit(X_train,y_train)\n",
        "svmlr_pred=svm_lr.predict(X_test)\n",
        "svmlr_pred\n",
        "svmlr_score=accuracy_score(svmlr_pred,y_test)\n",
        "print('SVC_linear Accuracy',svmlr_score)\n",
        "print('SVC_linear confusion_matrix\\n',confusion_matrix(svmlr_pred,y_test))\n",
        "print('SVC_linear classification_report\\n', classification_report(svmlr_pred,y_test))\n"
      ],
      "metadata": {
        "colab": {
          "base_uri": "https://localhost:8080/"
        },
        "id": "-w1_0Uze8-0g",
        "outputId": "e2d9c8b3-5932-4f1c-87d8-93a299ad0ab4"
      },
      "execution_count": 26,
      "outputs": [
        {
          "output_type": "stream",
          "name": "stdout",
          "text": [
            "SVC_linear Accuracy 0.8130466472303207\n",
            "SVC_linear confusion_matrix\n",
            " [[2526  193  330]\n",
            " [ 209 1136  155]\n",
            " [ 402  250 3031]]\n",
            "SVC_linear classification_report\n",
            "               precision    recall  f1-score   support\n",
            "\n",
            "           0       0.81      0.83      0.82      3049\n",
            "           1       0.72      0.76      0.74      1500\n",
            "           2       0.86      0.82      0.84      3683\n",
            "\n",
            "    accuracy                           0.81      8232\n",
            "   macro avg       0.80      0.80      0.80      8232\n",
            "weighted avg       0.82      0.81      0.81      8232\n",
            "\n"
          ]
        }
      ]
    },
    {
      "cell_type": "markdown",
      "source": [
        "# **Best Model selection based on accuracy**"
      ],
      "metadata": {
        "id": "dtw1fF5J9Xht"
      }
    },
    {
      "cell_type": "code",
      "source": [
        "Scores=[svmlr_score,NBM_score,knn_score]\n",
        "plt.bar(['SVM_cL','NBM','KNN'],Scores)\n",
        "plt.show()"
      ],
      "metadata": {
        "colab": {
          "base_uri": "https://localhost:8080/",
          "height": 266
        },
        "id": "dDKYnE5-9BfO",
        "outputId": "1344f9d6-ba5a-4bd3-88ba-b570357275d6"
      },
      "execution_count": 27,
      "outputs": [
        {
          "output_type": "display_data",
          "data": {
            "text/plain": [
              "<Figure size 432x288 with 1 Axes>"
            ],
            "image/png": "[encoded data removed]"
          },
          "metadata": {
            "needs_background": "light"
          }
        }
      ]
    },
    {
      "cell_type": "markdown",
      "source": [
        "# **THE MODEL WITH THE BEST ACCURACY IS *SVM Classification* .** "
      ],
      "metadata": {
        "id": "MLxT7gQy94P4"
      }
    }
  ]
}